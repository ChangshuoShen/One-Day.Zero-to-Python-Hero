{
 "cells": [
  {
   "cell_type": "markdown",
   "id": "62ee52ef",
   "metadata": {
    "slideshow": {
     "slide_type": "slide"
    }
   },
   "source": [
    "# 7. Numpy入门\n",
    "\n",
    "* 7.0 Numpy的功能\n",
    "* 7.1 ndarray的创建\n",
    "* 7.2 ndarray的属性\n",
    "* 7.3 数据类型dtype及其操作\n",
    "* 7.4 向量化操作\n",
    "* 7.5 索引与数据选取和访问\n",
    "* 7.6 Numpy库支持的数学运算"
   ]
  },
  {
   "cell_type": "markdown",
   "id": "56e77907",
   "metadata": {
    "slideshow": {
     "slide_type": "slide"
    }
   },
   "source": [
    "## 7.0 Numpy 的功能\n",
    "\n",
    "Numpy（Numerical Python的缩写）是高性能**科学计算与数据分析**的基础包，提供了非常高效的基础数据结构和一系列矢量运算工具，使得数据分析的效率大大提升，同时便于与其他编程语言编写的模块进行集成。\n",
    "\n",
    "Numpy 中的基本数据类型为多维数组ndarray，可以完成向量和矩阵的基本操作。"
   ]
  },
  {
   "cell_type": "markdown",
   "id": "930b0bd2",
   "metadata": {
    "slideshow": {
     "slide_type": "subslide"
    }
   },
   "source": [
    "Numpy的特性有：\n",
    "* 矢量（向量）运算能力\n",
    "* 数组运算函数\n",
    "* 磁盘读写工具\n",
    "* 矩阵运算和线性代数工具\n",
    "* 与C、C++、Fortran等集成工具"
   ]
  },
  {
   "cell_type": "code",
   "execution_count": 1,
   "id": "a2ad7ef7",
   "metadata": {
    "slideshow": {
     "slide_type": "subslide"
    }
   },
   "outputs": [
    {
     "data": {
      "text/plain": [
       "(array([[1, 2, 3],\n",
       "        [4, 5, 6]]),\n",
       " array([[1, 1, 1],\n",
       "        [1, 1, 1]]),\n",
       " array([[2, 3, 4],\n",
       "        [5, 6, 7]]))"
      ]
     },
     "execution_count": 1,
     "metadata": {},
     "output_type": "execute_result"
    }
   ],
   "source": [
    "# 使用Numpy中的多维数组进行运算的例子\n",
    "import numpy as np\n",
    "a = np.arange(1,7).reshape((2,3))\n",
    "b = np.ones_like(a)\n",
    "a, b, a + b"
   ]
  },
  {
   "cell_type": "markdown",
   "id": "87739f79",
   "metadata": {
    "slideshow": {
     "slide_type": "slide"
    }
   },
   "source": [
    "## 7.1 多维数组 ndarray 的创建\n",
    "\n",
    "多维数组ndarray是一个快速而灵活的大数据集容器。创建多维数组和使用相关功能之前要引入numpy包。由于numpy定义了大量的函数，我们一般不使用from numpy import * 这种方法，以避免命名冲突。"
   ]
  },
  {
   "cell_type": "code",
   "execution_count": 1,
   "id": "835cf507",
   "metadata": {
    "slideshow": {
     "slide_type": "fragment"
    }
   },
   "outputs": [],
   "source": [
    "import numpy as np  # 命名惯例"
   ]
  },
  {
   "cell_type": "markdown",
   "id": "5ac7283e",
   "metadata": {
    "slideshow": {
     "slide_type": "subslide"
    }
   },
   "source": [
    "本节所有的代码都假定已经引入numpy，并按照命名的习惯简称为np。\n",
    "\n",
    "当然也可以用其他的别名，但遵循这个规范可以使得代码更容易读。\n",
    "\n",
    "数组可以使用任何序列来创建,通过调用numpy的array方法可以方便的建立一个多维数组。\n",
    "例如："
   ]
  },
  {
   "cell_type": "code",
   "execution_count": 3,
   "id": "99df97c7",
   "metadata": {
    "slideshow": {
     "slide_type": "subslide"
    }
   },
   "outputs": [
    {
     "data": {
      "text/plain": [
       "(array([1, 2, 3, 4, 5]), array([0, 1, 2, 3, 4]), array([5, 6, 7, 8, 9]))"
      ]
     },
     "execution_count": 3,
     "metadata": {},
     "output_type": "execute_result"
    }
   ],
   "source": [
    "arr1 = np.array([1,2,3,4,5])\n",
    "arr2 = np.array(range(5))\n",
    "arr3 = np.array((5,6,7,8,9))  # 注意参数为一个元组\n",
    "arr1, arr2, arr3"
   ]
  },
  {
   "cell_type": "markdown",
   "id": "54bf5975",
   "metadata": {
    "slideshow": {
     "slide_type": "subslide"
    }
   },
   "source": [
    "ndarray是一个同构的数据容器，所有的数据都是一个类型。\n",
    "\n",
    "以上创建的都是一维数组，当然ndarray可以创建多维的数组，这就需要使用嵌套的序列结构。"
   ]
  },
  {
   "cell_type": "code",
   "execution_count": 4,
   "id": "13cf3070",
   "metadata": {
    "slideshow": {
     "slide_type": "fragment"
    }
   },
   "outputs": [
    {
     "data": {
      "text/plain": [
       "array([[1, 2, 3, 4, 5],\n",
       "       [4, 5, 6, 7, 8]])"
      ]
     },
     "execution_count": 4,
     "metadata": {},
     "output_type": "execute_result"
    }
   ],
   "source": [
    "arr4=np.array([[1,2,3,4,5],[4,5,6,7,8]])\n",
    "arr4"
   ]
  },
  {
   "cell_type": "markdown",
   "id": "24d90002",
   "metadata": {
    "slideshow": {
     "slide_type": "subslide"
    }
   },
   "source": [
    "创建ndarray的几种选择：\n",
    "\n",
    "* 使用已有的序列创建\n",
    "\n",
    "* 使用已有的多维数组进行变形（reshape）\n",
    "\n",
    "* 使用numpy的数组创建函数创建规则矩阵\n",
    "\n",
    "* 使用已有的多维数组通过运算产生新的数组"
   ]
  },
  {
   "cell_type": "markdown",
   "id": "ec78f9c9",
   "metadata": {
    "slideshow": {
     "slide_type": "slide"
    }
   },
   "source": [
    "数组创建函数：\n",
    "\n",
    "* asarray  将对象转化为ndarray\n",
    "\n",
    "* arange  类似于range函数\n",
    "\n",
    "* ones, ones_like  生成全1数组\n",
    "\n",
    "* zeros, zeros_like  生成全0数组\n",
    "\n",
    "* eye, identity  生成单位阵"
   ]
  },
  {
   "cell_type": "code",
   "execution_count": 2,
   "id": "03629926",
   "metadata": {
    "slideshow": {
     "slide_type": "subslide"
    }
   },
   "outputs": [
    {
     "data": {
      "text/plain": [
       "array([[1, 2, 3, 4, 5],\n",
       "       [4, 5, 6, 7, 8]])"
      ]
     },
     "execution_count": 2,
     "metadata": {},
     "output_type": "execute_result"
    }
   ],
   "source": [
    "np.asarray([[1, 2, 3, 4, 5],[4, 5, 6, 7, 8]])"
   ]
  },
  {
   "cell_type": "code",
   "execution_count": 7,
   "id": "346a5a57",
   "metadata": {},
   "outputs": [
    {
     "name": "stdout",
     "output_type": "stream",
     "text": [
      "[[1. 0. 0.]\n",
      " [0. 1. 0.]\n",
      " [0. 0. 1.]] [[1. 0. 0. 0.]\n",
      " [0. 1. 0. 0.]\n",
      " [0. 0. 1. 0.]\n",
      " [0. 0. 0. 1.]]\n"
     ]
    },
    {
     "ename": "AttributeError",
     "evalue": "module 'numpy' has no attribute 'I'",
     "output_type": "error",
     "traceback": [
      "\u001b[0;31m---------------------------------------------------------------------------\u001b[0m",
      "\u001b[0;31mAttributeError\u001b[0m                            Traceback (most recent call last)",
      "Cell \u001b[0;32mIn[7], line 2\u001b[0m\n\u001b[1;32m      1\u001b[0m \u001b[38;5;28mprint\u001b[39m(np\u001b[38;5;241m.\u001b[39meye(\u001b[38;5;241m3\u001b[39m), np\u001b[38;5;241m.\u001b[39midentity(\u001b[38;5;241m4\u001b[39m))\n\u001b[0;32m----> 2\u001b[0m np\u001b[38;5;241m.\u001b[39mI((\u001b[38;5;241m1\u001b[39m, \u001b[38;5;241m2\u001b[39m))\n",
      "File \u001b[0;32m~/anaconda3/lib/python3.11/site-packages/numpy/__init__.py:311\u001b[0m, in \u001b[0;36m__getattr__\u001b[0;34m(attr)\u001b[0m\n\u001b[1;32m    308\u001b[0m     \u001b[38;5;28;01mfrom\u001b[39;00m \u001b[38;5;21;01m.\u001b[39;00m\u001b[38;5;21;01mtesting\u001b[39;00m \u001b[38;5;28;01mimport\u001b[39;00m Tester\n\u001b[1;32m    309\u001b[0m     \u001b[38;5;28;01mreturn\u001b[39;00m Tester\n\u001b[0;32m--> 311\u001b[0m \u001b[38;5;28;01mraise\u001b[39;00m \u001b[38;5;167;01mAttributeError\u001b[39;00m(\u001b[38;5;124m\"\u001b[39m\u001b[38;5;124mmodule \u001b[39m\u001b[38;5;132;01m{!r}\u001b[39;00m\u001b[38;5;124m has no attribute \u001b[39m\u001b[38;5;124m\"\u001b[39m\n\u001b[1;32m    312\u001b[0m                      \u001b[38;5;124m\"\u001b[39m\u001b[38;5;132;01m{!r}\u001b[39;00m\u001b[38;5;124m\"\u001b[39m\u001b[38;5;241m.\u001b[39mformat(\u001b[38;5;18m__name__\u001b[39m, attr))\n",
      "\u001b[0;31mAttributeError\u001b[0m: module 'numpy' has no attribute 'I'"
     ]
    }
   ],
   "source": [
    "print(np.eye(3), np.identity(4))\n",
    "np.I((1, 2))"
   ]
  },
  {
   "cell_type": "code",
   "execution_count": 10,
   "id": "6745b645",
   "metadata": {},
   "outputs": [],
   "source": [
    "# 1st = 1 数字开头包错的"
   ]
  },
  {
   "cell_type": "code",
   "execution_count": 6,
   "id": "88fd0836",
   "metadata": {
    "slideshow": {
     "slide_type": "subslide"
    }
   },
   "outputs": [
    {
     "data": {
      "text/plain": [
       "(array([0, 1, 2, 3, 4, 5, 6, 7, 8, 9]), array([1, 3, 5, 7, 9]))"
      ]
     },
     "execution_count": 6,
     "metadata": {},
     "output_type": "execute_result"
    }
   ],
   "source": [
    "np.arange(10), np.arange(1, 10, 2)"
   ]
  },
  {
   "cell_type": "code",
   "execution_count": 11,
   "id": "a3aec416",
   "metadata": {
    "slideshow": {
     "slide_type": "fragment"
    }
   },
   "outputs": [
    {
     "data": {
      "text/plain": [
       "array([0. , 0.2, 0.4, 0.6, 0.8, 1. , 1.2, 1.4, 1.6, 1.8, 2. , 2.2, 2.4])"
      ]
     },
     "execution_count": 11,
     "metadata": {},
     "output_type": "execute_result"
    }
   ],
   "source": [
    "np.arange(0, 2.5, 0.2)  # arange与range的一个区别在步长上"
   ]
  },
  {
   "cell_type": "code",
   "execution_count": 8,
   "id": "b226d7fe",
   "metadata": {
    "slideshow": {
     "slide_type": "subslide"
    }
   },
   "outputs": [
    {
     "data": {
      "text/plain": [
       "(array([[[1., 1.],\n",
       "         [1., 1.],\n",
       "         [1., 1.]],\n",
       " \n",
       "        [[1., 1.],\n",
       "         [1., 1.],\n",
       "         [1., 1.]]]),\n",
       " array([[1, 1, 1, 1, 1],\n",
       "        [1, 1, 1, 1, 1]]))"
      ]
     },
     "execution_count": 8,
     "metadata": {},
     "output_type": "execute_result"
    }
   ],
   "source": [
    "np.ones((2,3,2)), np.ones_like(arr4)  # _like指的是形状相同"
   ]
  },
  {
   "cell_type": "code",
   "execution_count": 9,
   "id": "1af40877",
   "metadata": {
    "slideshow": {
     "slide_type": "subslide"
    }
   },
   "outputs": [
    {
     "data": {
      "text/plain": [
       "(array([[0., 0., 0.],\n",
       "        [0., 0., 0.]]),\n",
       " array([0, 0, 0, 0, 0]))"
      ]
     },
     "execution_count": 9,
     "metadata": {},
     "output_type": "execute_result"
    }
   ],
   "source": [
    "np.zeros((2,3)), np.zeros_like(arr3)"
   ]
  },
  {
   "cell_type": "code",
   "execution_count": 10,
   "id": "3fc9449c",
   "metadata": {
    "slideshow": {
     "slide_type": "subslide"
    }
   },
   "outputs": [
    {
     "data": {
      "text/plain": [
       "(array([[1., 0., 0., 0.],\n",
       "        [0., 1., 0., 0.],\n",
       "        [0., 0., 1., 0.],\n",
       "        [0., 0., 0., 1.]]),\n",
       " array([[1., 0., 0., 0.],\n",
       "        [0., 1., 0., 0.],\n",
       "        [0., 0., 1., 0.],\n",
       "        [0., 0., 0., 1.]]))"
      ]
     },
     "execution_count": 10,
     "metadata": {},
     "output_type": "execute_result"
    }
   ],
   "source": [
    "np.eye(4), np.identity(4)  # 注意eye的发音"
   ]
  },
  {
   "cell_type": "code",
   "execution_count": null,
   "id": "ea37c359",
   "metadata": {
    "slideshow": {
     "slide_type": "fragment"
    }
   },
   "outputs": [],
   "source": []
  },
  {
   "cell_type": "markdown",
   "id": "97f1367b",
   "metadata": {
    "slideshow": {
     "slide_type": "slide"
    }
   },
   "source": [
    "### 更多特殊矩阵的创建\n",
    "\n",
    "* 等差序列，np.linspace，np.arange\n",
    "\n",
    "* 等比序列, np.logspace, \n",
    "\n",
    "* diag函数创建对角线为特定列表的矩阵或返回对角线列表"
   ]
  },
  {
   "cell_type": "code",
   "execution_count": 11,
   "id": "0d01a98c",
   "metadata": {
    "slideshow": {
     "slide_type": "subslide"
    }
   },
   "outputs": [
    {
     "name": "stdout",
     "output_type": "stream",
     "text": [
      "[0.  0.5 1.  1.5 2.  2.5 3.  3.5 4.  4.5 5. ]\n",
      "[1.  1.1 1.2 1.3 1.4 1.5 1.6 1.7 1.8 1.9]\n"
     ]
    }
   ],
   "source": [
    "print(np.linspace(0, 5, 11))  # 第三个参数为序列点的个数，默认包含终点\n",
    "print(np.arange(1, 2, 0.1))  # 第三个参数为步长，序列不包含终点，步长可以为浮点数"
   ]
  },
  {
   "cell_type": "code",
   "execution_count": 12,
   "id": "3ef50e2c",
   "metadata": {
    "slideshow": {
     "slide_type": "subslide"
    }
   },
   "outputs": [
    {
     "data": {
      "text/plain": [
       "array([1.e+01, 1.e+02, 1.e+03, 1.e+04, 1.e+05, 1.e+06, 1.e+07, 1.e+08,\n",
       "       1.e+09, 1.e+10])"
      ]
     },
     "execution_count": 12,
     "metadata": {},
     "output_type": "execute_result"
    }
   ],
   "source": [
    "np.logspace(1, 10, 10)  # 第三个参数为序列点的个数，默认包含终点"
   ]
  },
  {
   "cell_type": "code",
   "execution_count": 13,
   "id": "f50b08cc",
   "metadata": {
    "slideshow": {
     "slide_type": "fragment"
    }
   },
   "outputs": [
    {
     "data": {
      "text/plain": [
       "array([1.000e+00, 2.000e+00, 4.000e+00, 8.000e+00, 1.600e+01, 3.200e+01,\n",
       "       6.400e+01, 1.280e+02, 2.560e+02, 5.120e+02, 1.024e+03])"
      ]
     },
     "execution_count": 13,
     "metadata": {},
     "output_type": "execute_result"
    }
   ],
   "source": [
    "np.logspace(0, 10, num = 11, base = 2)  # num默认为50"
   ]
  },
  {
   "cell_type": "code",
   "execution_count": 14,
   "id": "fc789ba6",
   "metadata": {
    "slideshow": {
     "slide_type": "subslide"
    }
   },
   "outputs": [
    {
     "data": {
      "text/plain": [
       "array([[1, 0, 0, 0],\n",
       "       [0, 2, 0, 0],\n",
       "       [0, 0, 3, 0],\n",
       "       [0, 0, 0, 4]])"
      ]
     },
     "execution_count": 14,
     "metadata": {},
     "output_type": "execute_result"
    }
   ],
   "source": [
    "# np.diag 既可以用于创建对角线矩阵，也可以用来获取对角线元素\n",
    "x1 = np.diag([1, 2, 3, 4])  # 创建对角线矩阵\n",
    "x1"
   ]
  },
  {
   "cell_type": "code",
   "execution_count": 15,
   "id": "d5ce28bf",
   "metadata": {
    "slideshow": {
     "slide_type": "subslide"
    }
   },
   "outputs": [
    {
     "data": {
      "text/plain": [
       "array([[0, 0, 0, 0, 0],\n",
       "       [1, 0, 0, 0, 0],\n",
       "       [0, 2, 0, 0, 0],\n",
       "       [0, 0, 3, 0, 0],\n",
       "       [0, 0, 0, 4, 0]])"
      ]
     },
     "execution_count": 15,
     "metadata": {},
     "output_type": "execute_result"
    }
   ],
   "source": [
    "x2 = np.diag([1, 2, 3, 4], k= -1)  # 可以指定哪一条对角线\n",
    "x2"
   ]
  },
  {
   "cell_type": "code",
   "execution_count": 16,
   "id": "110fcc7a",
   "metadata": {
    "slideshow": {
     "slide_type": "subslide"
    }
   },
   "outputs": [
    {
     "name": "stdout",
     "output_type": "stream",
     "text": [
      "[[ 0  1  2  3  4]\n",
      " [ 5  6  7  8  9]\n",
      " [10 11 12 13 14]\n",
      " [15 16 17 18 19]\n",
      " [20 21 22 23 24]]\n"
     ]
    },
    {
     "data": {
      "text/plain": [
       "(array([ 0,  6, 12, 18, 24]), array([ 2,  8, 14]))"
      ]
     },
     "execution_count": 16,
     "metadata": {},
     "output_type": "execute_result"
    }
   ],
   "source": [
    "x1 = np.arange(25).reshape((5,5))\n",
    "print(x1)\n",
    "z1 = np.diag(x1)  # 获取对角线元素列表\n",
    "z2 = np.diag(x1, k = 2)\n",
    "z1, z2"
   ]
  },
  {
   "cell_type": "markdown",
   "id": "95c9f4e8",
   "metadata": {
    "slideshow": {
     "slide_type": "subslide"
    }
   },
   "source": [
    "### 练习2. 练习各种特殊矩阵的构建\n",
    "\n",
    "1. 创建从0.01到0.5步长为0.01的序列；\n",
    "\n",
    "2. 创建一个从1到2000，共有11个点的等比数列；\n",
    "\n",
    "3. 创建一个对角线矩阵，对角线内容为2,0,2,2"
   ]
  },
  {
   "cell_type": "code",
   "execution_count": 3,
   "id": "99017d35",
   "metadata": {
    "slideshow": {
     "slide_type": "fragment"
    }
   },
   "outputs": [
    {
     "name": "stdout",
     "output_type": "stream",
     "text": [
      "[0.01 0.02 0.03 0.04 0.05 0.06 0.07 0.08 0.09 0.1  0.11 0.12 0.13 0.14\n",
      " 0.15 0.16 0.17 0.18 0.19 0.2  0.21 0.22 0.23 0.24 0.25 0.26 0.27 0.28\n",
      " 0.29 0.3  0.31 0.32 0.33 0.34 0.35 0.36 0.37 0.38 0.39 0.4  0.41 0.42\n",
      " 0.43 0.44 0.45 0.46 0.47 0.48 0.49 0.5 ]\n"
     ]
    }
   ],
   "source": [
    "import numpy as np\n",
    "print(np.arange(0.01, 0.51, 0.01))\n",
    "print(np.logspace(1, np.log10(2000), 11))"
   ]
  },
  {
   "cell_type": "code",
   "execution_count": 7,
   "id": "fdb30a84",
   "metadata": {},
   "outputs": [
    {
     "data": {
      "text/plain": [
       "array([[0., 1., 1., 1.],\n",
       "       [1., 0., 1., 1.],\n",
       "       [1., 1., 0., 1.],\n",
       "       [1., 1., 1., 0.]])"
      ]
     },
     "execution_count": 7,
     "metadata": {},
     "output_type": "execute_result"
    }
   ],
   "source": [
    "# 4*4矩阵，对角\n",
    "array1 = np.ones((4, 4))\n",
    "for i in range(len(array1)):\n",
    "    array1[i, i] = 0\n",
    "array1\n",
    "\n"
   ]
  },
  {
   "cell_type": "code",
   "execution_count": 13,
   "id": "efd10f4f",
   "metadata": {},
   "outputs": [
    {
     "data": {
      "text/plain": [
       "(array([[ 1.        ,  1.73205081,  3.        ],\n",
       "        [ 5.19615242,  9.        , 15.58845727],\n",
       "        [27.        , 46.7653718 , 81.        ]]),\n",
       " array([[ 1.        ,  1.73205081,  3.        ],\n",
       "        [ 5.19615242,  9.        , 15.58845727],\n",
       "        [27.        , 46.7653718 , 81.        ]]),\n",
       " array([[ 1.        ,  1.75743865,  3.08859062],\n",
       "        [ 5.42800854,  9.53939201, 16.76489625],\n",
       "        [29.46327669, 51.7799013 , 91.        ]]))"
      ]
     },
     "execution_count": 13,
     "metadata": {},
     "output_type": "execute_result"
    }
   ],
   "source": [
    "np.logspace(0, 4, 9, base=3).reshape((3, 3)), np.logspace(0, np.log10(81), 9).reshape((3, 3)), np.logspace(0, 1, 9, base=91).reshape((3, 3))"
   ]
  },
  {
   "cell_type": "markdown",
   "id": "efc1cbef",
   "metadata": {
    "slideshow": {
     "slide_type": "slide"
    }
   },
   "source": [
    "## 7.2 ndarray的属性\n",
    "\n",
    "一个多维数组（multi-dimensional array, ndarray)的属性主要有shape（形状）、ndim（维度数量）、dtype（数据类型）。"
   ]
  },
  {
   "cell_type": "code",
   "execution_count": 17,
   "id": "e13fca0a",
   "metadata": {
    "slideshow": {
     "slide_type": "subslide"
    }
   },
   "outputs": [
    {
     "data": {
      "text/plain": [
       "(5,)"
      ]
     },
     "execution_count": 17,
     "metadata": {},
     "output_type": "execute_result"
    }
   ],
   "source": [
    "arr1.shape  # 注意这是一个元组"
   ]
  },
  {
   "cell_type": "markdown",
   "id": "fb174ed5",
   "metadata": {
    "slideshow": {
     "slide_type": "fragment"
    }
   },
   "source": [
    "**注意：**多维数组的shape属性总是返回一个元组。当数组只有一个维度时，返回只有一个元素的元组。上例中，不要认为返回值为(5,1)，因为数组是一维的，并不是5行1列。不要和矩阵弄混淆了。"
   ]
  },
  {
   "cell_type": "code",
   "execution_count": 18,
   "id": "0215151e",
   "metadata": {
    "slideshow": {
     "slide_type": "subslide"
    }
   },
   "outputs": [
    {
     "data": {
      "text/plain": [
       "1"
      ]
     },
     "execution_count": 18,
     "metadata": {},
     "output_type": "execute_result"
    }
   ],
   "source": [
    "arr1.ndim"
   ]
  },
  {
   "cell_type": "code",
   "execution_count": 19,
   "id": "120da3c3",
   "metadata": {
    "slideshow": {
     "slide_type": "fragment"
    }
   },
   "outputs": [
    {
     "data": {
      "text/plain": [
       "((2, 5), 2)"
      ]
     },
     "execution_count": 19,
     "metadata": {},
     "output_type": "execute_result"
    }
   ],
   "source": [
    "arr4.shape, arr4.ndim  # 与arr1对比一下"
   ]
  },
  {
   "cell_type": "code",
   "execution_count": 20,
   "id": "e1289f63",
   "metadata": {
    "slideshow": {
     "slide_type": "fragment"
    }
   },
   "outputs": [
    {
     "data": {
      "text/plain": [
       "dtype('int32')"
      ]
     },
     "execution_count": 20,
     "metadata": {},
     "output_type": "execute_result"
    }
   ],
   "source": [
    "arr1.dtype"
   ]
  },
  {
   "cell_type": "markdown",
   "id": "cabfd901",
   "metadata": {
    "slideshow": {
     "slide_type": "subslide"
    }
   },
   "source": [
    "通过改变shape属性，可以改变数组的形状。当然也可以通过别的方式改变数组的形状。"
   ]
  },
  {
   "cell_type": "code",
   "execution_count": 21,
   "id": "b1fbab5b",
   "metadata": {
    "slideshow": {
     "slide_type": "subslide"
    }
   },
   "outputs": [
    {
     "data": {
      "text/plain": [
       "array([[1, 2],\n",
       "       [3, 4],\n",
       "       [5, 4],\n",
       "       [5, 6],\n",
       "       [7, 8]])"
      ]
     },
     "execution_count": 21,
     "metadata": {},
     "output_type": "execute_result"
    }
   ],
   "source": [
    "arr4.shape=(5,2)  # arr4形状改变了\n",
    "arr4"
   ]
  },
  {
   "cell_type": "code",
   "execution_count": 22,
   "id": "87249f22",
   "metadata": {
    "slideshow": {
     "slide_type": "subslide"
    }
   },
   "outputs": [
    {
     "data": {
      "text/plain": [
       "(array([[1, 3, 5, 5, 7],\n",
       "        [2, 4, 4, 6, 8]]),\n",
       " array([[1, 3, 5, 5, 7],\n",
       "        [2, 4, 4, 6, 8]]))"
      ]
     },
     "execution_count": 22,
     "metadata": {},
     "output_type": "execute_result"
    }
   ],
   "source": [
    "arr4.T, arr4.transpose()  # 用转置的办法"
   ]
  },
  {
   "cell_type": "code",
   "execution_count": 23,
   "id": "d422e019",
   "metadata": {
    "slideshow": {
     "slide_type": "subslide"
    }
   },
   "outputs": [
    {
     "data": {
      "text/plain": [
       "array([[1, 2],\n",
       "       [3, 4],\n",
       "       [5, 4],\n",
       "       [5, 6],\n",
       "       [7, 8]])"
      ]
     },
     "execution_count": 23,
     "metadata": {},
     "output_type": "execute_result"
    }
   ],
   "source": [
    "arr4  # arr4本身形状没有变"
   ]
  },
  {
   "cell_type": "markdown",
   "id": "c5932319",
   "metadata": {
    "slideshow": {
     "slide_type": "subslide"
    }
   },
   "source": [
    "如果你不想要改变原对象的形状，只是想得到一个新的对象，可以使用reshape方法"
   ]
  },
  {
   "cell_type": "code",
   "execution_count": 24,
   "id": "f0ec66e2",
   "metadata": {
    "slideshow": {
     "slide_type": "subslide"
    }
   },
   "outputs": [
    {
     "data": {
      "text/plain": [
       "(array([[1, 2],\n",
       "        [3, 4],\n",
       "        [5, 4],\n",
       "        [5, 6],\n",
       "        [7, 8]]),\n",
       " array([[1, 2, 3, 4, 5],\n",
       "        [4, 5, 6, 7, 8]]))"
      ]
     },
     "execution_count": 24,
     "metadata": {},
     "output_type": "execute_result"
    }
   ],
   "source": [
    "arr4.reshape((5,2)), arr4.reshape((2,5)) # 注意参数形式"
   ]
  },
  {
   "cell_type": "markdown",
   "id": "9a8c91c5",
   "metadata": {
    "slideshow": {
     "slide_type": "subslide"
    }
   },
   "source": [
    "虽然我们可以直接修改shape和dtype属性，但是却不要直接修改dtype属性。\n",
    "\n",
    "不能修改ndim属性。"
   ]
  },
  {
   "cell_type": "code",
   "execution_count": 25,
   "id": "6b93d9f9",
   "metadata": {
    "slideshow": {
     "slide_type": "fragment"
    }
   },
   "outputs": [
    {
     "name": "stdout",
     "output_type": "stream",
     "text": [
      "int32\n"
     ]
    },
    {
     "data": {
      "text/plain": [
       "array([[1.4e-45, 2.8e-45],\n",
       "       [4.2e-45, 5.6e-45],\n",
       "       [7.0e-45, 5.6e-45],\n",
       "       [7.0e-45, 8.4e-45],\n",
       "       [9.8e-45, 1.1e-44]], dtype=float32)"
      ]
     },
     "execution_count": 25,
     "metadata": {},
     "output_type": "execute_result"
    }
   ],
   "source": [
    "print(arr4.dtype)\n",
    "arr4.dtype = np.float32\n",
    "arr4  # 这是你想要的结果吗？"
   ]
  },
  {
   "cell_type": "markdown",
   "id": "238cfe0f",
   "metadata": {
    "slideshow": {
     "slide_type": "subslide"
    }
   },
   "source": [
    "* 修改dtype属性会带来什么后果？\n",
    "\n",
    "  - 数据及其形式没有改变，解释的方式发生了改变\n",
    "\n",
    "* 如何修改数据类型？\n",
    "\n",
    "  - 使用astype方法"
   ]
  },
  {
   "cell_type": "code",
   "execution_count": 12,
   "id": "de5532e9",
   "metadata": {
    "slideshow": {
     "slide_type": "fragment"
    }
   },
   "outputs": [
    {
     "data": {
      "text/plain": [
       "array([[1., 2., 3., 4., 5.],\n",
       "       [4., 5., 6., 7., 8.]], dtype=float32)"
      ]
     },
     "execution_count": 12,
     "metadata": {},
     "output_type": "execute_result"
    }
   ],
   "source": [
    "arr4=np.array([[1,2,3,4,5],[4,5,6,7,8]])\n",
    "arr4.astype(np.float32)  # 得到一个新对象"
   ]
  },
  {
   "cell_type": "code",
   "execution_count": 13,
   "id": "43dc65b2",
   "metadata": {},
   "outputs": [
    {
     "data": {
      "text/plain": [
       "(array([[1, 1, 1, 1, 1, 1, 1],\n",
       "        [2, 2, 2, 2, 2, 2, 2],\n",
       "        [3, 3, 3, 3, 3, 3, 3]]),\n",
       " array([[1, 2, 3],\n",
       "        [1, 2, 3],\n",
       "        [1, 2, 3],\n",
       "        [1, 2, 3],\n",
       "        [1, 2, 3],\n",
       "        [1, 2, 3],\n",
       "        [1, 2, 3]]),\n",
       " array([[[1, 1, 1, 1, 1, 1, 1]],\n",
       " \n",
       "        [[2, 2, 2, 2, 2, 2, 2]],\n",
       " \n",
       "        [[3, 3, 3, 3, 3, 3, 3]]]))"
      ]
     },
     "execution_count": 13,
     "metadata": {},
     "output_type": "execute_result"
    }
   ],
   "source": [
    "l = []\n",
    "for i in range(1, 4):\n",
    "    l.append([i] * 7)\n",
    "arr = np.array(l)\n",
    "\n",
    "arr, arr.transpose(), arr.reshape((3, 1, 7))"
   ]
  },
  {
   "cell_type": "markdown",
   "id": "cfa8c9c5",
   "metadata": {
    "slideshow": {
     "slide_type": "slide"
    }
   },
   "source": [
    "###  ndarray的其他属性\n",
    "\n",
    "多维数组对象的其他属性还有：\n",
    "\n",
    "* size 大小，元素的总数\n",
    "\n",
    "* itemsize  每个元素占用字节数\n",
    "\n",
    "* nbytes  数组占用字节总数"
   ]
  },
  {
   "cell_type": "code",
   "execution_count": 14,
   "id": "c5c6f6f9",
   "metadata": {
    "slideshow": {
     "slide_type": "subslide"
    }
   },
   "outputs": [
    {
     "data": {
      "text/plain": [
       "(10, 8, 80)"
      ]
     },
     "execution_count": 14,
     "metadata": {},
     "output_type": "execute_result"
    }
   ],
   "source": [
    "arr4.size, arr4.itemsize, arr4.nbytes"
   ]
  },
  {
   "cell_type": "markdown",
   "id": "607e81b1",
   "metadata": {
    "slideshow": {
     "slide_type": "subslide"
    }
   },
   "source": [
    "### 练习3\n",
    "* 获取arr3的形状\n",
    "\n",
    "* 获取arr3的大小，占用的内存空间大小"
   ]
  },
  {
   "cell_type": "code",
   "execution_count": null,
   "id": "929a0d71",
   "metadata": {
    "slideshow": {
     "slide_type": "fragment"
    }
   },
   "outputs": [],
   "source": []
  },
  {
   "cell_type": "markdown",
   "id": "11b73e9c",
   "metadata": {
    "slideshow": {
     "slide_type": "slide"
    }
   },
   "source": [
    "## 7.3 数据类型dtype及其操作\n",
    "\n",
    "ndarray的数据类型dtype本身是一个特殊的对象，通过对dtype进行操作可以使得多维数组既能够满足数据同质性的要求，又能够灵活的应对各种数据场景，同时方便与低级计算语言对接。dtype本身是一个类，每个dtype对象也有自己的属性。"
   ]
  },
  {
   "cell_type": "code",
   "execution_count": 28,
   "id": "f111e89d",
   "metadata": {
    "slideshow": {
     "slide_type": "subslide"
    }
   },
   "outputs": [
    {
     "data": {
      "text/plain": [
       "(numpy.int32, '<i4', 4)"
      ]
     },
     "execution_count": 28,
     "metadata": {},
     "output_type": "execute_result"
    }
   ],
   "source": [
    "dt1 = arr1.dtype\n",
    "dt1.type, dt1.str, dt1.itemsize"
   ]
  },
  {
   "cell_type": "markdown",
   "id": "6644baa6",
   "metadata": {
    "slideshow": {
     "slide_type": "slide"
    }
   },
   "source": [
    "除了前面看到的int32,dtype还有以下这些类型：\n",
    "\n",
    "* int8,int16,int32,int64  有符号整型    （8、16、32、64 分别代表8位、16位、32位、64位）\n",
    "* uint8,uint16,uint32,uint64  无符号整型\n",
    "* float16,float32,float64,float128 浮点数\n"
   ]
  },
  {
   "cell_type": "markdown",
   "id": "68e5c6ab",
   "metadata": {
    "slideshow": {
     "slide_type": "slide"
    }
   },
   "source": [
    "* complex64, complex128, complex256  复数\n",
    "* bool  bool值\n",
    "* string_  字符串\n",
    "* unicode_  unicode字符串\n",
    "\n",
    "需要了解：一个字节为8位。"
   ]
  },
  {
   "cell_type": "code",
   "execution_count": 29,
   "id": "bdacaa85",
   "metadata": {
    "slideshow": {
     "slide_type": "subslide"
    }
   },
   "outputs": [
    {
     "data": {
      "text/plain": [
       "array([ 0,  1,  2,  3,  4,  5,  6,  7,  8,  9, 10, 11])"
      ]
     },
     "execution_count": 29,
     "metadata": {},
     "output_type": "execute_result"
    }
   ],
   "source": [
    "arr5 = np.arange(12)\n",
    "arr5"
   ]
  },
  {
   "cell_type": "code",
   "execution_count": 30,
   "id": "9ee37cdb",
   "metadata": {
    "slideshow": {
     "slide_type": "fragment"
    }
   },
   "outputs": [
    {
     "data": {
      "text/plain": [
       "dtype('int32')"
      ]
     },
     "execution_count": 30,
     "metadata": {},
     "output_type": "execute_result"
    }
   ],
   "source": [
    "arr5.dtype"
   ]
  },
  {
   "cell_type": "code",
   "execution_count": 31,
   "id": "c418774b",
   "metadata": {
    "slideshow": {
     "slide_type": "fragment"
    }
   },
   "outputs": [
    {
     "data": {
      "text/plain": [
       "array([ 0.,  1.,  2.,  3.,  4.,  5.,  6.,  7.,  8.,  9., 10., 11.],\n",
       "      dtype=float32)"
      ]
     },
     "execution_count": 31,
     "metadata": {},
     "output_type": "execute_result"
    }
   ],
   "source": [
    "arr5.astype(np.float32)"
   ]
  },
  {
   "cell_type": "markdown",
   "id": "416380ab",
   "metadata": {
    "slideshow": {
     "slide_type": "subslide"
    }
   },
   "source": [
    "在创建ndarray的时候，也可以指定dtype，否则由系统自动决定。"
   ]
  },
  {
   "cell_type": "code",
   "execution_count": 32,
   "id": "73050b0e",
   "metadata": {
    "slideshow": {
     "slide_type": "subslide"
    }
   },
   "outputs": [
    {
     "data": {
      "text/plain": [
       "array([[1., 2., 3., 4., 5.],\n",
       "       [4., 5., 6., 7., 8.]], dtype=float32)"
      ]
     },
     "execution_count": 32,
     "metadata": {},
     "output_type": "execute_result"
    }
   ],
   "source": [
    "arr6 = np.array([[1, 2, 3, 4, 5],[4, 5, 6, 7, 8]], dtype = np.float32)\n",
    "arr6"
   ]
  },
  {
   "cell_type": "code",
   "execution_count": 33,
   "id": "48edf03b",
   "metadata": {
    "slideshow": {
     "slide_type": "subslide"
    }
   },
   "outputs": [
    {
     "data": {
      "text/plain": [
       "array([[1., 2., 3., 4., 5.],\n",
       "       [4., 5., 6., 7., 8.]], dtype=float32)"
      ]
     },
     "execution_count": 33,
     "metadata": {},
     "output_type": "execute_result"
    }
   ],
   "source": [
    "arr7 = np.array([[1, 2, 3, 4, 5], [4, 5, 6, 7, 8]], dtype = 'f4')\n",
    "arr7"
   ]
  },
  {
   "cell_type": "markdown",
   "id": "e1325ab2",
   "metadata": {
    "slideshow": {
     "slide_type": "subslide"
    }
   },
   "source": [
    "可以从上面的两个例子中看到，使用np.float32与代码'f4'是等价的。不过，考虑到程序的可读性，不建议使用后者——即简写代码的形式。"
   ]
  },
  {
   "cell_type": "code",
   "execution_count": 34,
   "id": "5d9c75cb",
   "metadata": {
    "slideshow": {
     "slide_type": "subslide"
    }
   },
   "outputs": [
    {
     "data": {
      "text/plain": [
       "(array([b'Jack', b'John', b'Kate', b'Klein'], dtype='|S10'), dtype('S10'))"
      ]
     },
     "execution_count": 34,
     "metadata": {},
     "output_type": "execute_result"
    }
   ],
   "source": [
    "names = np.array(['Jack', 'John', 'Kate', 'Klein'], dtype = 'S10')  # 字节串类型\n",
    "names, names.dtype"
   ]
  },
  {
   "cell_type": "code",
   "execution_count": 35,
   "id": "b2f33052",
   "metadata": {
    "slideshow": {
     "slide_type": "subslide"
    }
   },
   "outputs": [
    {
     "data": {
      "text/plain": [
       "(array(['张三', '李四', '王五', '赵六'], dtype='<U2'), dtype('<U2'))"
      ]
     },
     "execution_count": 35,
     "metadata": {},
     "output_type": "execute_result"
    }
   ],
   "source": [
    "names2 = np.array(['张三', '李四', '王五', '赵六'], dtype = 'unicode_')  # unicode类型(对应于标准的字符串)，注意不能使用string类型\n",
    "names2, names2.dtype"
   ]
  },
  {
   "cell_type": "markdown",
   "id": "b36156de",
   "metadata": {
    "slideshow": {
     "slide_type": "subslide"
    }
   },
   "source": [
    "__再次强调__\n",
    "\n",
    "不能直接修改多维数组的dtype属性，会导致不可预料的结果。\n"
   ]
  },
  {
   "cell_type": "code",
   "execution_count": 36,
   "id": "67ac5a4b",
   "metadata": {
    "slideshow": {
     "slide_type": "subslide"
    }
   },
   "outputs": [
    {
     "data": {
      "text/plain": [
       "array(['\\U6b63614a\\x00\\U6f4a0000湨\\x00\\U6574614b\\x00\\U6c4b0000\\U006e6965'],\n",
       "      dtype='<U10')"
      ]
     },
     "execution_count": 36,
     "metadata": {},
     "output_type": "execute_result"
    }
   ],
   "source": [
    "\n",
    "bad_names = names.copy()\n",
    "bad_names.dtype = np.dtype('U10')\n",
    "bad_names"
   ]
  },
  {
   "cell_type": "code",
   "execution_count": 37,
   "id": "0e106763",
   "metadata": {
    "slideshow": {
     "slide_type": "subslide"
    }
   },
   "outputs": [
    {
     "data": {
      "text/plain": [
       "array(['Jack', 'John', 'Kate', 'Klein'], dtype='<U10')"
      ]
     },
     "execution_count": 37,
     "metadata": {},
     "output_type": "execute_result"
    }
   ],
   "source": [
    "# 改变数据类型不能直接修改dtype属性，只能通过astype函数得到一个新的ndarray\n",
    "names.astype(np.dtype('U10'))  # 正确做法"
   ]
  },
  {
   "cell_type": "code",
   "execution_count": 38,
   "id": "a601c9b1",
   "metadata": {
    "slideshow": {
     "slide_type": "subslide"
    }
   },
   "outputs": [
    {
     "data": {
      "text/plain": [
       "array([[1065353216, 1073741824, 1077936128, 1082130432, 1084227584],\n",
       "       [1082130432, 1084227584, 1086324736, 1088421888, 1090519040]])"
      ]
     },
     "execution_count": 38,
     "metadata": {},
     "output_type": "execute_result"
    }
   ],
   "source": [
    "# 另一个例子\n",
    "bad_arr = arr6.copy()\n",
    "bad_arr.dtype = np.dtype(np.int32)  # 危险！！！\n",
    "bad_arr"
   ]
  },
  {
   "cell_type": "markdown",
   "id": "e87400a1",
   "metadata": {
    "slideshow": {
     "slide_type": "slide"
    }
   },
   "source": [
    "## 7.4 向量化运算\n",
    "\n",
    "可以像对待一个数一样对多维数组进行常规的算术运算，运算会应用到每个数组元素。"
   ]
  },
  {
   "cell_type": "code",
   "execution_count": 39,
   "id": "d73209ae",
   "metadata": {
    "slideshow": {
     "slide_type": "subslide"
    }
   },
   "outputs": [
    {
     "name": "stdout",
     "output_type": "stream",
     "text": [
      "[1 2 3 4 5] [0 1 2 3 4]\n"
     ]
    },
    {
     "data": {
      "text/plain": [
       "array([1, 3, 5, 7, 9])"
      ]
     },
     "execution_count": 39,
     "metadata": {},
     "output_type": "execute_result"
    }
   ],
   "source": [
    "arr1 = np.array([1,2,3,4,5])\n",
    "arr2 = np.array(range(5))\n",
    "print(arr1, arr2)\n",
    "arr1 + arr2  # 注意与列表的加法进行区分"
   ]
  },
  {
   "cell_type": "code",
   "execution_count": 40,
   "id": "d79ee306",
   "metadata": {
    "slideshow": {
     "slide_type": "subslide"
    }
   },
   "outputs": [
    {
     "name": "stdout",
     "output_type": "stream",
     "text": [
      "[1 2 3 4 5]\n",
      "[5 6 7 8 9]\n"
     ]
    },
    {
     "data": {
      "text/plain": [
       "array([ 5, 12, 21, 32, 45])"
      ]
     },
     "execution_count": 40,
     "metadata": {},
     "output_type": "execute_result"
    }
   ],
   "source": [
    "arr3 = np.arange(5,10)\n",
    "print(arr1)\n",
    "print(arr3)\n",
    "arr1 * arr3"
   ]
  },
  {
   "cell_type": "code",
   "execution_count": 41,
   "id": "d50ef6f0",
   "metadata": {
    "slideshow": {
     "slide_type": "subslide"
    }
   },
   "outputs": [
    {
     "name": "stdout",
     "output_type": "stream",
     "text": [
      "[1 2 3 4 5]\n",
      "[5 6 7 8 9]\n"
     ]
    },
    {
     "data": {
      "text/plain": [
       "array([0.2       , 0.33333333, 0.42857143, 0.5       , 0.55555556])"
      ]
     },
     "execution_count": 41,
     "metadata": {},
     "output_type": "execute_result"
    }
   ],
   "source": [
    "print(arr1)\n",
    "print(arr3)\n",
    "arr1 / arr3"
   ]
  },
  {
   "cell_type": "markdown",
   "id": "b7dafa84",
   "metadata": {
    "slideshow": {
     "slide_type": "subslide"
    }
   },
   "source": [
    "numpy这种数组运算方式又称为向量化（矢量化）运算，通过这种方式可以避免使用循环对大批数据进行处理。这种编程方式也称为向量/矢量化编程方式。\n",
    "\n",
    "向量化编程的优点：\n",
    "\n",
    "* 程序代码简洁、可读性高；\n",
    "* 代码执行效率高（优化的矢量操作）。"
   ]
  },
  {
   "cell_type": "markdown",
   "id": "b36ccd3b",
   "metadata": {
    "slideshow": {
     "slide_type": "subslide"
    }
   },
   "source": [
    "如果其中一个操作变量为数值标量（scalar），则数组运算同样会应用到每个元素。这种特性称为广播。进一步推广，若两个数组的大小不同，也可以通过广播方式完成运算。"
   ]
  },
  {
   "cell_type": "code",
   "execution_count": 42,
   "id": "5b8914fa",
   "metadata": {
    "slideshow": {
     "slide_type": "subslide"
    }
   },
   "outputs": [
    {
     "name": "stdout",
     "output_type": "stream",
     "text": [
      "[1 2 3 4 5]\n"
     ]
    },
    {
     "data": {
      "text/plain": [
       "array([101, 102, 103, 104, 105])"
      ]
     },
     "execution_count": 42,
     "metadata": {},
     "output_type": "execute_result"
    }
   ],
   "source": [
    "print(arr1)\n",
    "arr1 + 100"
   ]
  },
  {
   "cell_type": "code",
   "execution_count": 43,
   "id": "98154c6f",
   "metadata": {
    "slideshow": {
     "slide_type": "subslide"
    }
   },
   "outputs": [
    {
     "name": "stdout",
     "output_type": "stream",
     "text": [
      "[1 2 3 4 5]\n"
     ]
    },
    {
     "data": {
      "text/plain": [
       "array([ 2,  4,  6,  8, 10])"
      ]
     },
     "execution_count": 43,
     "metadata": {},
     "output_type": "execute_result"
    }
   ],
   "source": [
    "print(arr1)\n",
    "arr1 * 2  # 注意和列表的操作区分开"
   ]
  },
  {
   "cell_type": "code",
   "execution_count": 15,
   "id": "12425a67",
   "metadata": {
    "slideshow": {
     "slide_type": "subslide"
    }
   },
   "outputs": [
    {
     "name": "stdout",
     "output_type": "stream",
     "text": [
      "[ 0  1  2  3  4  5  6  7  8  9 10 11 12 13 14 15 16 17 18 19]\n",
      "[[ 0  1  2  3]\n",
      " [ 4  5  6  7]\n",
      " [ 8  9 10 11]\n",
      " [12 13 14 15]\n",
      " [16 17 18 19]]\n"
     ]
    }
   ],
   "source": [
    "arr8 = np.arange(20)\n",
    "arr9 = arr8.reshape(5, 4)\n",
    "print(arr8)\n",
    "print(arr9)"
   ]
  },
  {
   "cell_type": "code",
   "execution_count": 16,
   "id": "49955a75",
   "metadata": {
    "slideshow": {
     "slide_type": "subslide"
    }
   },
   "outputs": [
    {
     "data": {
      "text/plain": [
       "array([[ 0. ,  0.5,  2. ,  1.5],\n",
       "       [ 4. ,  2.5,  6. ,  3.5],\n",
       "       [ 8. ,  4.5, 10. ,  5.5],\n",
       "       [12. ,  6.5, 14. ,  7.5],\n",
       "       [16. ,  8.5, 18. ,  9.5]])"
      ]
     },
     "execution_count": 16,
     "metadata": {},
     "output_type": "execute_result"
    }
   ],
   "source": [
    "arr10 = np.array([1,2,1,2])\n",
    "arr9 / arr10  # arr10被广播"
   ]
  },
  {
   "cell_type": "markdown",
   "id": "13b6eb64",
   "metadata": {
    "slideshow": {
     "slide_type": "subslide"
    }
   },
   "source": [
    "注意被广播的数组必须在大小上与大数组的**低维度**大小一致。\n",
    "\n",
    "一定要注意，是低维度保存一致，高纬度没用"
   ]
  },
  {
   "cell_type": "code",
   "execution_count": null,
   "id": "95e67de3",
   "metadata": {},
   "outputs": [],
   "source": []
  },
  {
   "cell_type": "code",
   "execution_count": 17,
   "id": "d2b33003",
   "metadata": {
    "slideshow": {
     "slide_type": "fragment"
    }
   },
   "outputs": [
    {
     "ename": "ValueError",
     "evalue": "operands could not be broadcast together with shapes (5,4) (2,) ",
     "output_type": "error",
     "traceback": [
      "\u001b[0;31m---------------------------------------------------------------------------\u001b[0m",
      "\u001b[0;31mValueError\u001b[0m                                Traceback (most recent call last)",
      "Cell \u001b[0;32mIn[17], line 2\u001b[0m\n\u001b[1;32m      1\u001b[0m a10 \u001b[38;5;241m=\u001b[39m np\u001b[38;5;241m.\u001b[39marray([\u001b[38;5;241m1\u001b[39m,\u001b[38;5;241m2\u001b[39m])\n\u001b[0;32m----> 2\u001b[0m arr9 \u001b[38;5;241m/\u001b[39m a10\n",
      "\u001b[0;31mValueError\u001b[0m: operands could not be broadcast together with shapes (5,4) (2,) "
     ]
    }
   ],
   "source": [
    "a10 = np.array([1,2])\n",
    "arr9 / a10  # 能否成功？"
   ]
  },
  {
   "cell_type": "markdown",
   "id": "b51aa5e0",
   "metadata": {
    "slideshow": {
     "slide_type": "subslide"
    }
   },
   "source": [
    "更一般的规则，两个数组A和B的形状如果是广播兼容的，假设用N表示数组A的形状，M表示数组B的形状，则在每个维度（axis = i）上，必须符合下面情况之一：\n",
    "\n",
    "* $N_i = M_i$\n",
    "* $ N_i = 1 $\n",
    "* $ M_i =1 $"
   ]
  },
  {
   "cell_type": "markdown",
   "id": "fdc15c8f",
   "metadata": {
    "slideshow": {
     "slide_type": "subslide"
    }
   },
   "source": [
    "### 多维数组的比较运算\n",
    "\n",
    "多维数组之间支持元素级比较运算，如果两个数组大小不一致，小数组需要经过广播之后再与大数组进行比较。注意与python列表的比较操作进行区分。\n",
    "\n",
    "* 数组比较结果为bool值构成的多维数组。\n",
    "\n",
    "* 两个数组尺寸不兼容时不能进行比较。\n"
   ]
  },
  {
   "cell_type": "code",
   "execution_count": 47,
   "id": "defc8dd5",
   "metadata": {
    "slideshow": {
     "slide_type": "fragment"
    }
   },
   "outputs": [
    {
     "data": {
      "text/plain": [
       "array([False, False, False,  True,  True,  True,  True,  True,  True])"
      ]
     },
     "execution_count": 47,
     "metadata": {},
     "output_type": "execute_result"
    }
   ],
   "source": [
    "a1 = np.arange(1,10)\n",
    "a2 = 3\n",
    "a1 > a2"
   ]
  },
  {
   "cell_type": "markdown",
   "id": "4a3ff826",
   "metadata": {
    "slideshow": {
     "slide_type": "subslide"
    }
   },
   "source": [
    "判断两个多维数组相等或不相等，不能简单的使用比较操作，因为比较操作返回的仍然是一个多维数组。\n",
    "\n",
    "可以使用np.all()与np.any()判断该结果数组是否全为True或者至少有一个为True.\n"
   ]
  },
  {
   "cell_type": "code",
   "execution_count": 48,
   "id": "6a179c2c",
   "metadata": {
    "slideshow": {
     "slide_type": "subslide"
    }
   },
   "outputs": [
    {
     "name": "stdout",
     "output_type": "stream",
     "text": [
      "True\n"
     ]
    }
   ],
   "source": [
    "a2 = np.arange(2,11) - 1\n",
    "if np.all(a1 == a2):  print(True)"
   ]
  },
  {
   "cell_type": "code",
   "execution_count": 49,
   "id": "d4f2ff75",
   "metadata": {
    "slideshow": {
     "slide_type": "subslide"
    }
   },
   "outputs": [],
   "source": [
    "# 如果我们看按行或按列比较的结果，该怎么做？\n",
    "# 提示：np.any还有一个参数axis\n"
   ]
  },
  {
   "cell_type": "markdown",
   "id": "8361588b",
   "metadata": {
    "slideshow": {
     "slide_type": "subslide"
    }
   },
   "source": [
    "* 浮点数多维数组的比较\n",
    "\n",
    "回顾一下，浮点数能否精确比较是否相等？\n",
    "\n",
    "np.allclose用于浮点数比较"
   ]
  },
  {
   "cell_type": "code",
   "execution_count": 50,
   "id": "85b9156c",
   "metadata": {
    "slideshow": {
     "slide_type": "subslide"
    }
   },
   "outputs": [
    {
     "name": "stdout",
     "output_type": "stream",
     "text": [
      "True\n"
     ]
    },
    {
     "data": {
      "text/plain": [
       "array([ True,  True, False])"
      ]
     },
     "execution_count": 50,
     "metadata": {},
     "output_type": "execute_result"
    }
   ],
   "source": [
    "test1 = np.array([1/2, 1/3, 1/2-1/3])\n",
    "test2 = np.array([0.5, 2/6, 1/6])\n",
    "print(np.allclose(test1,test2))\n",
    "test1 == test2"
   ]
  },
  {
   "cell_type": "markdown",
   "id": "ca42aa70",
   "metadata": {
    "slideshow": {
     "slide_type": "subslide"
    }
   },
   "source": [
    "是不是所有的运算都可以使用这种方式实现广播呢？我们来试试看。\n"
   ]
  },
  {
   "cell_type": "code",
   "execution_count": 51,
   "id": "26d07b33",
   "metadata": {
    "slideshow": {
     "slide_type": "fragment"
    }
   },
   "outputs": [],
   "source": [
    "import math\n",
    "#math.sin(arr1)\n",
    "#math.sqrt(arr1)"
   ]
  },
  {
   "cell_type": "markdown",
   "id": "37f66952",
   "metadata": {
    "slideshow": {
     "slide_type": "subslide"
    }
   },
   "source": [
    "如果我们需要将函数运算应用到所有元素，则我们需要特定的函数，称为ufuncs(universal functions,有人称之为通用函数)。\n",
    "\n",
    "Numpy库中包含了大多数常用数学函数的ufunc版本，如np.log, np.exp等等，并且Numpy对这些函数进行了优化使得它们具有更高的效率。"
   ]
  },
  {
   "cell_type": "code",
   "execution_count": 52,
   "id": "a8212581",
   "metadata": {
    "slideshow": {
     "slide_type": "fragment"
    }
   },
   "outputs": [
    {
     "data": {
      "text/plain": [
       "array([1.        , 1.41421356, 1.73205081, 2.        , 2.23606798])"
      ]
     },
     "execution_count": 52,
     "metadata": {},
     "output_type": "execute_result"
    }
   ],
   "source": [
    "np.sqrt(arr1)"
   ]
  },
  {
   "cell_type": "markdown",
   "id": "234d2b15",
   "metadata": {
    "slideshow": {
     "slide_type": "subslide"
    }
   },
   "source": [
    "### 练习4. 数组的矢量化运算\n",
    "\n",
    "1. 把数组的元素同乘以8；\n",
    "2. 计算两个数组的元素之差；\n",
    "3. 计算数组中的元素是否大于0；\n",
    "4. 将数组中的每个元素转换为其自然对数；\n",
    "5. 求数组中的每个元素的正弦函数值；"
   ]
  },
  {
   "cell_type": "code",
   "execution_count": 5,
   "id": "13c7f00a",
   "metadata": {
    "slideshow": {
     "slide_type": "fragment"
    }
   },
   "outputs": [
    {
     "data": {
      "text/plain": [
       "(array([ 8, 16, 24, 32]),\n",
       " array([-3, -1,  1,  3]),\n",
       " array([ True,  True,  True,  True]),\n",
       " array([0.        , 0.69314718, 1.09861229, 1.38629436]),\n",
       " array([ 0.84147098,  0.90929743,  0.14112001, -0.7568025 ]))"
      ]
     },
     "execution_count": 5,
     "metadata": {},
     "output_type": "execute_result"
    }
   ],
   "source": [
    "import numpy as np\n",
    "\n",
    "arr1 = np.arange(1, 5)\n",
    "arr2 = np.arange(4, 0, -1)\n",
    "\n",
    "arr1 * 8, arr1 - arr2, arr1 > 0, np.log(arr1), np.sin(arr1) # 注意bp.log的参数不能取0\n"
   ]
  },
  {
   "cell_type": "code",
   "execution_count": 7,
   "id": "b2aceec5",
   "metadata": {},
   "outputs": [
    {
     "data": {
      "text/plain": [
       "array([  -1.71828183,   -3.3890561 ,  -11.08553692,  -38.59815003,\n",
       "       -123.4131591 ])"
      ]
     },
     "execution_count": 7,
     "metadata": {},
     "output_type": "execute_result"
    }
   ],
   "source": [
    "a1 = np.array([1, 2, 3, 4, 5])\n",
    "\n",
    "np.power(a1, 2) - np.power(np.e, a1)"
   ]
  },
  {
   "cell_type": "markdown",
   "id": "7ec5a274",
   "metadata": {
    "slideshow": {
     "slide_type": "subslide"
    }
   },
   "source": [
    "### 布尔运算\n",
    "\n",
    "多维数组的布尔运算也是逐个元素进行的，得到一个布尔数组。"
   ]
  },
  {
   "cell_type": "code",
   "execution_count": 9,
   "id": "7747c1ff",
   "metadata": {
    "slideshow": {
     "slide_type": "fragment"
    }
   },
   "outputs": [
    {
     "data": {
      "text/plain": [
       "array([ True, False, False, False, False])"
      ]
     },
     "execution_count": 9,
     "metadata": {},
     "output_type": "execute_result"
    }
   ],
   "source": [
    "b1 = np.array([True, False, True, False, True])\n",
    "b2 = np.array([True, False, False, True, False])\n",
    "b1 & b2  # 布尔逻辑与操作"
   ]
  },
  {
   "cell_type": "code",
   "execution_count": 10,
   "id": "3da1b3a0",
   "metadata": {
    "slideshow": {
     "slide_type": "subslide"
    }
   },
   "outputs": [
    {
     "data": {
      "text/plain": [
       "array([ True, False,  True,  True,  True])"
      ]
     },
     "execution_count": 10,
     "metadata": {},
     "output_type": "execute_result"
    }
   ],
   "source": [
    "b1 | b2  # 布尔逻辑或操作"
   ]
  },
  {
   "cell_type": "code",
   "execution_count": 11,
   "id": "e47f389d",
   "metadata": {
    "slideshow": {
     "slide_type": "fragment"
    }
   },
   "outputs": [
    {
     "data": {
      "text/plain": [
       "array([False,  True, False,  True, False])"
      ]
     },
     "execution_count": 11,
     "metadata": {},
     "output_type": "execute_result"
    }
   ],
   "source": [
    "~b1  # 逻辑非操作"
   ]
  },
  {
   "cell_type": "code",
   "execution_count": 12,
   "id": "85369a65",
   "metadata": {
    "slideshow": {
     "slide_type": "subslide"
    }
   },
   "outputs": [
    {
     "data": {
      "text/plain": [
       "array([ True,  True, False, False, False])"
      ]
     },
     "execution_count": 12,
     "metadata": {},
     "output_type": "execute_result"
    }
   ],
   "source": [
    "# 注意不能直接使用 == 操作符比较两个多维数组是否相等\n",
    "b1 == b2"
   ]
  },
  {
   "cell_type": "code",
   "execution_count": 14,
   "id": "b1acef0d",
   "metadata": {
    "slideshow": {
     "slide_type": "fragment"
    }
   },
   "outputs": [
    {
     "data": {
      "text/plain": [
       "(False, False, False)"
      ]
     },
     "execution_count": 14,
     "metadata": {},
     "output_type": "execute_result"
    }
   ],
   "source": [
    "# 测试两个数组是否相等\n",
    "(b1 == b2).all(), np.all(b1 == b2), all(b1 == b2)"
   ]
  },
  {
   "cell_type": "markdown",
   "id": "5e55beaa",
   "metadata": {
    "slideshow": {
     "slide_type": "slide"
    }
   },
   "source": [
    "### 多维数组的集合运算\n",
    "\n",
    "多维数组也支持集合操作。但是，我们需要注意数组的集合操作返回的结果是经过排序的**数组**，而不是集合。"
   ]
  },
  {
   "cell_type": "code",
   "execution_count": 16,
   "id": "e63c7b2e",
   "metadata": {
    "slideshow": {
     "slide_type": "fragment"
    }
   },
   "outputs": [
    {
     "data": {
      "text/plain": [
       "array([False,  True, False, False,  True])"
      ]
     },
     "execution_count": 16,
     "metadata": {},
     "output_type": "execute_result"
    }
   ],
   "source": [
    "a1 = np.array([1,2,3,4,5])\n",
    "a2 = np.array([2,5])\n",
    "np.in1d(a1, a2)"
   ]
  },
  {
   "cell_type": "code",
   "execution_count": 17,
   "id": "60665b53",
   "metadata": {
    "slideshow": {
     "slide_type": "subslide"
    }
   },
   "outputs": [
    {
     "data": {
      "text/plain": [
       "array([ True,  True])"
      ]
     },
     "execution_count": 17,
     "metadata": {},
     "output_type": "execute_result"
    }
   ],
   "source": [
    "np.in1d(a2, a1)  # 与上面的结果对比"
   ]
  },
  {
   "cell_type": "code",
   "execution_count": 18,
   "id": "55380e4a",
   "metadata": {
    "slideshow": {
     "slide_type": "fragment"
    }
   },
   "outputs": [
    {
     "data": {
      "text/plain": [
       "array([1, 2, 3])"
      ]
     },
     "execution_count": 18,
     "metadata": {},
     "output_type": "execute_result"
    }
   ],
   "source": [
    "a3 = np.array([1, 2, 3, 2, 1])\n",
    "np.unique(a3)  # 注意得到的结果为一个多维数组"
   ]
  },
  {
   "cell_type": "code",
   "execution_count": 19,
   "id": "001b9661",
   "metadata": {
    "slideshow": {
     "slide_type": "subslide"
    }
   },
   "outputs": [
    {
     "data": {
      "text/plain": [
       "array([2])"
      ]
     },
     "execution_count": 19,
     "metadata": {},
     "output_type": "execute_result"
    }
   ],
   "source": [
    "np.intersect1d(a2, a3)"
   ]
  },
  {
   "cell_type": "code",
   "execution_count": 20,
   "id": "34097763",
   "metadata": {
    "slideshow": {
     "slide_type": "fragment"
    }
   },
   "outputs": [
    {
     "data": {
      "text/plain": [
       "array([1, 2, 3, 5])"
      ]
     },
     "execution_count": 20,
     "metadata": {},
     "output_type": "execute_result"
    }
   ],
   "source": [
    "np.union1d(a2, a3)"
   ]
  },
  {
   "cell_type": "code",
   "execution_count": 21,
   "id": "ccdb660d",
   "metadata": {
    "slideshow": {
     "slide_type": "fragment"
    }
   },
   "outputs": [
    {
     "data": {
      "text/plain": [
       "array([5])"
      ]
     },
     "execution_count": 21,
     "metadata": {},
     "output_type": "execute_result"
    }
   ],
   "source": [
    "np.setdiff1d(a2, a3)"
   ]
  },
  {
   "cell_type": "markdown",
   "id": "463741d1",
   "metadata": {
    "slideshow": {
     "slide_type": "subslide"
    }
   },
   "source": [
    "注意：不能将数组的集合操作与scalar构成的集合操作弄混淆。"
   ]
  },
  {
   "cell_type": "code",
   "execution_count": 64,
   "id": "fc108c61",
   "metadata": {
    "slideshow": {
     "slide_type": "fragment"
    }
   },
   "outputs": [
    {
     "data": {
      "text/plain": [
       "{5}"
      ]
     },
     "execution_count": 64,
     "metadata": {},
     "output_type": "execute_result"
    }
   ],
   "source": [
    "set(a2) - set(a3)  # 得到一个集合"
   ]
  },
  {
   "cell_type": "code",
   "execution_count": 23,
   "id": "1d447430",
   "metadata": {},
   "outputs": [
    {
     "data": {
      "text/plain": [
       "array([ 1,  7, 15, 25, 37, 51, 67, 85])"
      ]
     },
     "execution_count": 23,
     "metadata": {},
     "output_type": "execute_result"
    }
   ],
   "source": [
    "# 从1到100的数字x进行下面运算之后，哪些数字仍然在[1, 100]去区间上\n",
    "# 计算之后仍是整数，\n",
    "x = np.arange(0, 101)\n",
    "\n",
    "np.intersect1d(x**2 - 5 * x + 1, x)\n"
   ]
  },
  {
   "cell_type": "code",
   "execution_count": 25,
   "id": "31369c5a",
   "metadata": {},
   "outputs": [
    {
     "data": {
      "text/plain": [
       "array([ 1,  2,  3,  4,  5,  6,  7,  8,  9, 10, 11, 12])"
      ]
     },
     "execution_count": 25,
     "metadata": {},
     "output_type": "execute_result"
    }
   ],
   "source": [
    "# 高级索引Fancy Indexing, Fancy Indexing 是一种 NumPy 数组索引的方法\n",
    "# 允许你使用布尔数组（或整数数组）来选择数组的子集，注意两个数组的形状\n",
    "\n",
    "x = np.arange(1, 101)\n",
    "y = x ** 2 - 5 * x + 1\n",
    "x[y < 100]"
   ]
  },
  {
   "cell_type": "markdown",
   "id": "3486dfb6",
   "metadata": {
    "slideshow": {
     "slide_type": "slide"
    }
   },
   "source": [
    "## 7.5 索引与数据选取和访问\n",
    "\n",
    "创建了数据的容器之后，在对大批数据进行处理之前需要首先选择操作的数据范围，这就需要用到数据子集或区域的选择。从根本上说，由于numpy对数据的组织仅仅是采用维度和顺序来排列，因此数据子集的选取主要是通过下标（索引）来实现。"
   ]
  },
  {
   "cell_type": "markdown",
   "id": "75bf8fcd",
   "metadata": {
    "slideshow": {
     "slide_type": "subslide"
    }
   },
   "source": [
    "### 一维数组元素的索引和切片\n",
    "\n",
    "可以使用单一下标、下标区间来访问数组元素。"
   ]
  },
  {
   "cell_type": "code",
   "execution_count": 26,
   "id": "c1bc0bd6",
   "metadata": {
    "slideshow": {
     "slide_type": "fragment"
    }
   },
   "outputs": [
    {
     "data": {
      "text/plain": [
       "(3, 0, 5)"
      ]
     },
     "execution_count": 26,
     "metadata": {},
     "output_type": "execute_result"
    }
   ],
   "source": [
    "arr0 = np.arange(6)\n",
    "arr0[3], arr0[0], arr0[-1]"
   ]
  },
  {
   "cell_type": "markdown",
   "id": "136f6bc9",
   "metadata": {},
   "source": []
  },
  {
   "cell_type": "markdown",
   "id": "fc2918b7",
   "metadata": {
    "slideshow": {
     "slide_type": "fragment"
    }
   },
   "source": [
    "注意：ndarray数组下标索引从零开始。负数下标代表从尾部开始。"
   ]
  },
  {
   "cell_type": "markdown",
   "id": "0972ff8f",
   "metadata": {
    "slideshow": {
     "slide_type": "subslide"
    }
   },
   "source": [
    "可以使用切片语法返回一个区间内的数据，数组的切片操作也是下界包含，上界不包含。"
   ]
  },
  {
   "cell_type": "code",
   "execution_count": 27,
   "id": "1e29d95e",
   "metadata": {
    "slideshow": {
     "slide_type": "subslide"
    }
   },
   "outputs": [
    {
     "data": {
      "text/plain": [
       "(array([1, 2, 3, 4]), array([0, 1, 2]), array([2, 3, 4, 5]))"
      ]
     },
     "execution_count": 27,
     "metadata": {},
     "output_type": "execute_result"
    }
   ],
   "source": [
    "arr0[1:5], arr0[ :3], arr0[2: ]"
   ]
  },
  {
   "cell_type": "markdown",
   "id": "08aa6178",
   "metadata": {
    "slideshow": {
     "slide_type": "subslide"
    }
   },
   "source": [
    "下标索引的两侧区间的缺省值分别为0和数组长度。如果两侧区间都缺省，则得到数组整个视图。"
   ]
  },
  {
   "cell_type": "code",
   "execution_count": 28,
   "id": "6f54f1dc",
   "metadata": {
    "slideshow": {
     "slide_type": "fragment"
    }
   },
   "outputs": [
    {
     "data": {
      "text/plain": [
       "(array([0, 1, 2, 3, 4, 5]), array([0, 2, 4]))"
      ]
     },
     "execution_count": 28,
     "metadata": {},
     "output_type": "execute_result"
    }
   ],
   "source": [
    "arr0[:], arr0[::2]"
   ]
  },
  {
   "cell_type": "markdown",
   "id": "ca8efb11",
   "metadata": {
    "slideshow": {
     "slide_type": "subslide"
    }
   },
   "source": [
    "下标索引不一定是连续且递增的\n",
    "\n",
    "可以是多个不连续的下标值，当然也可以是递减的。\n",
    "\n",
    "相对列表更加灵活"
   ]
  },
  {
   "cell_type": "code",
   "execution_count": 29,
   "id": "ea6f3b0e",
   "metadata": {
    "slideshow": {
     "slide_type": "fragment"
    }
   },
   "outputs": [
    {
     "data": {
      "text/plain": [
       "array([1, 3])"
      ]
     },
     "execution_count": 29,
     "metadata": {},
     "output_type": "execute_result"
    }
   ],
   "source": [
    "arr0[[1,3]]  # 注意下标列表的写法，不能使用arr0[1,3]。"
   ]
  },
  {
   "cell_type": "code",
   "execution_count": 30,
   "id": "cfd7fd80",
   "metadata": {
    "slideshow": {
     "slide_type": "fragment"
    }
   },
   "outputs": [
    {
     "data": {
      "text/plain": [
       "(array([4, 2]), array([5, 4, 3, 2, 1, 0]))"
      ]
     },
     "execution_count": 30,
     "metadata": {},
     "output_type": "execute_result"
    }
   ],
   "source": [
    "arr0[4:1:-2], arr0[::-1]"
   ]
  },
  {
   "cell_type": "markdown",
   "id": "f3f534e9",
   "metadata": {
    "slideshow": {
     "slide_type": "slide"
    }
   },
   "source": [
    "### 高维数组的索引和切片\n",
    "\n",
    "对于高维数组来说，需要注意它有几个维度，就需要在几个维度上确定下标索引范围。"
   ]
  },
  {
   "cell_type": "code",
   "execution_count": 32,
   "id": "13e10fbf",
   "metadata": {
    "slideshow": {
     "slide_type": "subslide"
    }
   },
   "outputs": [
    {
     "data": {
      "text/plain": [
       "array([[ 0,  1,  2,  3,  4,  5,  6,  7],\n",
       "       [ 8,  9, 10, 11, 12, 13, 14, 15],\n",
       "       [16, 17, 18, 19, 20, 21, 22, 23]])"
      ]
     },
     "execution_count": 32,
     "metadata": {},
     "output_type": "execute_result"
    }
   ],
   "source": [
    "arr2d=np.arange(24)\n",
    "arr2d.shape=(3,8)\n",
    "arr2d"
   ]
  },
  {
   "cell_type": "markdown",
   "id": "a34ad763",
   "metadata": {
    "slideshow": {
     "slide_type": "subslide"
    }
   },
   "source": [
    "访问单个元素，有两种等价的方式。"
   ]
  },
  {
   "cell_type": "code",
   "execution_count": 33,
   "id": "53d81937",
   "metadata": {
    "slideshow": {
     "slide_type": "subslide"
    }
   },
   "outputs": [
    {
     "data": {
      "text/plain": [
       "(19, 19)"
      ]
     },
     "execution_count": 33,
     "metadata": {},
     "output_type": "execute_result"
    }
   ],
   "source": [
    "arr2d[2,3], arr2d[2][3] # 这两种都是可以的哈，但是注意列表只能第二种\n",
    "\n",
    "# 如果是使用多个\"[]\"则是逐层约减"
   ]
  },
  {
   "cell_type": "markdown",
   "id": "ee02ef21",
   "metadata": {
    "slideshow": {
     "slide_type": "subslide"
    }
   },
   "source": [
    "访问最高维度上(最外层)的数据。"
   ]
  },
  {
   "cell_type": "code",
   "execution_count": 72,
   "id": "b1e70270",
   "metadata": {
    "slideshow": {
     "slide_type": "fragment"
    }
   },
   "outputs": [
    {
     "data": {
      "text/plain": [
       "array([ 8,  9, 10, 11, 12, 13, 14, 15])"
      ]
     },
     "execution_count": 72,
     "metadata": {},
     "output_type": "execute_result"
    }
   ],
   "source": [
    "arr2d[1]"
   ]
  },
  {
   "cell_type": "markdown",
   "id": "61d2e945",
   "metadata": {
    "slideshow": {
     "slide_type": "subslide"
    }
   },
   "source": [
    "如果只有一个索引，则从最高维度取一个元素，也就是说比原数组低一个维度。"
   ]
  },
  {
   "cell_type": "markdown",
   "id": "2f06e432",
   "metadata": {
    "slideshow": {
     "slide_type": "fragment"
    }
   },
   "source": [
    "访问第二个维度，跨所有的第一维度。这时候需要两个下标。"
   ]
  },
  {
   "cell_type": "code",
   "execution_count": 73,
   "id": "a388ffe3",
   "metadata": {
    "slideshow": {
     "slide_type": "subslide"
    }
   },
   "outputs": [
    {
     "data": {
      "text/plain": [
       "array([ 1,  9, 17])"
      ]
     },
     "execution_count": 73,
     "metadata": {},
     "output_type": "execute_result"
    }
   ],
   "source": [
    "arr2d[:,1]"
   ]
  },
  {
   "cell_type": "markdown",
   "id": "014cbdc2",
   "metadata": {
    "slideshow": {
     "slide_type": "subslide"
    }
   },
   "source": [
    "高维数组也可以进行更为细致的切片。在最高维度上进行切片，低维度的元素可以看成一个整体。"
   ]
  },
  {
   "cell_type": "code",
   "execution_count": 34,
   "id": "dac7fd37",
   "metadata": {
    "slideshow": {
     "slide_type": "subslide"
    }
   },
   "outputs": [
    {
     "data": {
      "text/plain": [
       "array([[ 0,  1,  2,  3,  4,  5,  6,  7],\n",
       "       [ 8,  9, 10, 11, 12, 13, 14, 15]])"
      ]
     },
     "execution_count": 34,
     "metadata": {},
     "output_type": "execute_result"
    }
   ],
   "source": [
    "arr2d[:2]"
   ]
  },
  {
   "cell_type": "markdown",
   "id": "83489b5f",
   "metadata": {
    "slideshow": {
     "slide_type": "subslide"
    }
   },
   "source": [
    "在第二个维度上进行切片，第一个维度固定下标为1."
   ]
  },
  {
   "cell_type": "code",
   "execution_count": 35,
   "id": "1f3346c4",
   "metadata": {
    "slideshow": {
     "slide_type": "subslide"
    }
   },
   "outputs": [
    {
     "data": {
      "text/plain": [
       "array([8, 9])"
      ]
     },
     "execution_count": 35,
     "metadata": {},
     "output_type": "execute_result"
    }
   ],
   "source": [
    "arr2d[1,:2]"
   ]
  },
  {
   "cell_type": "markdown",
   "id": "b30d4552",
   "metadata": {
    "slideshow": {
     "slide_type": "fragment"
    }
   },
   "source": [
    "\n",
    "现在，让我们来试试更为复杂的切片。\n",
    "\n",
    "想一想，它们对应什么区域？\n"
   ]
  },
  {
   "cell_type": "code",
   "execution_count": 76,
   "id": "28d0a312",
   "metadata": {
    "slideshow": {
     "slide_type": "subslide"
    }
   },
   "outputs": [
    {
     "data": {
      "text/plain": [
       "array([[ 0,  1,  2],\n",
       "       [ 8,  9, 10]])"
      ]
     },
     "execution_count": 76,
     "metadata": {},
     "output_type": "execute_result"
    }
   ],
   "source": [
    "arr2d[:2,:3]"
   ]
  },
  {
   "cell_type": "code",
   "execution_count": 77,
   "id": "4764f965",
   "metadata": {
    "slideshow": {
     "slide_type": "fragment"
    }
   },
   "outputs": [
    {
     "data": {
      "text/plain": [
       "array([[ 0,  2,  4,  6],\n",
       "       [16, 18, 20, 22]])"
      ]
     },
     "execution_count": 77,
     "metadata": {},
     "output_type": "execute_result"
    }
   ],
   "source": [
    "arr2d[::2,::2]"
   ]
  },
  {
   "cell_type": "code",
   "execution_count": 78,
   "id": "e3736ced",
   "metadata": {
    "slideshow": {
     "slide_type": "subslide"
    }
   },
   "outputs": [
    {
     "data": {
      "text/plain": [
       "array([[ 7,  6,  5,  4,  3,  2,  1,  0],\n",
       "       [23, 22, 21, 20, 19, 18, 17, 16]])"
      ]
     },
     "execution_count": 78,
     "metadata": {},
     "output_type": "execute_result"
    }
   ],
   "source": [
    "arr2d[::2,::-1]"
   ]
  },
  {
   "cell_type": "markdown",
   "id": "f344dbd5",
   "metadata": {
    "slideshow": {
     "slide_type": "subslide"
    }
   },
   "source": [
    "对于某个数组，取出其中间的元素，所有的边界行或列除外。怎么做？\n",
    "\n",
    "是可以使用1:-1的哈"
   ]
  },
  {
   "cell_type": "code",
   "execution_count": 79,
   "id": "e8143d38",
   "metadata": {
    "slideshow": {
     "slide_type": "subslide"
    }
   },
   "outputs": [
    {
     "name": "stdout",
     "output_type": "stream",
     "text": [
      "[[ 0  1  2  3  4]\n",
      " [ 5  6  7  8  9]\n",
      " [10 11 12 13 14]\n",
      " [15 16 17 18 19]\n",
      " [20 21 22 23 24]]\n"
     ]
    },
    {
     "data": {
      "text/plain": [
       "array([[ 6,  7,  8],\n",
       "       [11, 12, 13],\n",
       "       [16, 17, 18]])"
      ]
     },
     "execution_count": 79,
     "metadata": {},
     "output_type": "execute_result"
    }
   ],
   "source": [
    "x1 = np.arange(25).reshape((5,5))\n",
    "print(x1)\n",
    "x1[1:-1, 1:-1]"
   ]
  },
  {
   "cell_type": "markdown",
   "id": "d612d735",
   "metadata": {
    "slideshow": {
     "slide_type": "subslide"
    }
   },
   "source": [
    "### 数组元素的修改\n",
    "\n",
    "对数组元素的修改很简单，只需要选取该元素或子集，然后赋值即可。"
   ]
  },
  {
   "cell_type": "code",
   "execution_count": 36,
   "id": "d4d59fec",
   "metadata": {
    "slideshow": {
     "slide_type": "subslide"
    }
   },
   "outputs": [
    {
     "data": {
      "text/plain": [
       "array([[ 0,  1,  2,  3,  4,  5,  6,  7],\n",
       "       [ 8,  9, 99, 11, 12, 13, 14, 15],\n",
       "       [16, 17, 18, 19, 20, 21, 22, 23]])"
      ]
     },
     "execution_count": 36,
     "metadata": {},
     "output_type": "execute_result"
    }
   ],
   "source": [
    "arr2d[1,2]=99\n",
    "arr2d"
   ]
  },
  {
   "cell_type": "code",
   "execution_count": 38,
   "id": "90850b32",
   "metadata": {
    "slideshow": {
     "slide_type": "fragment"
    }
   },
   "outputs": [
    {
     "data": {
      "text/plain": [
       "array([[  0, 888,   2,   3,   4,   5,   6,   7],\n",
       "       [  8, 888,  99,  11,  12,  13,  14,  15],\n",
       "       [ 16, 888,  18,  19,  20,  21,  22,  23]])"
      ]
     },
     "execution_count": 38,
     "metadata": {},
     "output_type": "execute_result"
    }
   ],
   "source": [
    "arr2d[:,1]=888\n",
    "arr2d\n",
    "\n",
    "# 这个时候是可以进行广播的哈"
   ]
  },
  {
   "cell_type": "markdown",
   "id": "9585d951",
   "metadata": {
    "slideshow": {
     "slide_type": "subslide"
    }
   },
   "source": [
    "可以发现，数组元素的赋值也是采用广播方式。在编程中需要特别小心。"
   ]
  },
  {
   "cell_type": "markdown",
   "id": "2dfc6bba",
   "metadata": {
    "slideshow": {
     "slide_type": "subslide"
    }
   },
   "source": [
    "小练习：在一个4行6列的矩阵中间，打一个洞，将其中所有的数清零。"
   ]
  },
  {
   "cell_type": "code",
   "execution_count": 40,
   "id": "fa32fdcd",
   "metadata": {
    "slideshow": {
     "slide_type": "subslide"
    }
   },
   "outputs": [
    {
     "name": "stdout",
     "output_type": "stream",
     "text": [
      "[[1. 1. 1. 1. 1. 1.]\n",
      " [1. 1. 1. 1. 1. 1.]\n",
      " [1. 1. 1. 1. 1. 1.]\n",
      " [1. 1. 1. 1. 1. 1.]]\n",
      "[[1. 1. 1. 1. 1. 1.]\n",
      " [1. 0. 0. 0. 0. 1.]\n",
      " [1. 0. 0. 0. 0. 1.]\n",
      " [1. 1. 1. 1. 1. 1.]]\n"
     ]
    }
   ],
   "source": [
    "arr12=np.ones((4,6))\n",
    "print(arr12)\n",
    "\n",
    "arr12[1: -1, 1: -1] = 0\n",
    "print(arr12)\n"
   ]
  },
  {
   "cell_type": "markdown",
   "id": "c1a09758",
   "metadata": {
    "slideshow": {
     "slide_type": "subslide"
    }
   },
   "source": [
    "### 练习5. 数组的索引和切片\n",
    "1. 取得数组某个位置的一个元素；\n",
    "2. 取得数组的最内层的某列元素；\n",
    "3. 取得数组的最外层的某列元素；\n",
    "4. 取得数组的某个范围的元素；\n",
    "5. 在数组中间隔取数；"
   ]
  },
  {
   "cell_type": "code",
   "execution_count": 46,
   "id": "61e12436",
   "metadata": {
    "slideshow": {
     "slide_type": "fragment"
    }
   },
   "outputs": [
    {
     "data": {
      "text/plain": [
       "array([[ 1.,  1.,  1.,  1.,  1.,  1.,  1.],\n",
       "       [ 1.,  0.,  1.,  2.,  3.,  4.,  1.],\n",
       "       [ 1.,  5.,  6.,  7.,  8.,  9.,  1.],\n",
       "       [ 1., 10., 11., 12., 13., 14.,  1.],\n",
       "       [ 1., 15., 16., 17., 18., 19.,  1.],\n",
       "       [ 1.,  1.,  1.,  1.,  1.,  1.,  1.]])"
      ]
     },
     "execution_count": 46,
     "metadata": {},
     "output_type": "execute_result"
    }
   ],
   "source": [
    "arr1 = np.arange(20)\n",
    "arr1.resize((4, 5))\n",
    "# arr1.reshape((4, 5))\n",
    "arr2 = np.ones((6, 7))\n",
    "arr2[1: -1, 1: -1] = arr1\n",
    "arr2"
   ]
  },
  {
   "cell_type": "code",
   "execution_count": 66,
   "id": "c59a09b4",
   "metadata": {},
   "outputs": [
    {
     "name": "stdout",
     "output_type": "stream",
     "text": [
      "126\n",
      "200\n",
      "50\n",
      "50\n",
      "[ 1  6 19 24]\n",
      "[[ 1  6]\n",
      " [19 24]]\n"
     ]
    }
   ],
   "source": [
    "arr1 = np.arange(1, 25)\n",
    "arr1.resize((4, 6))\n",
    "\n",
    "print(np.sum(arr1[2, :]) + np.sum(arr1[:, 2]) - arr1[2, 2])\n",
    "print(np.sum(arr1[0, :]) + np.sum(arr1[-1, :]) + np.sum(arr1[:, 0]) + np.sum(arr1[:, -1]) - sum([arr1[0, 0], arr1[-1, -1], arr1[0, -1], arr1[-1, 0]]))\n",
    "# 将中间置空是一个更好的方式哈\n",
    "print(arr1[0, 0] + arr1[0, -1]+ arr1[-1, 0] + arr1[-1, -1])\n",
    "# 使用：\n",
    "print(np.sum(arr1[::3, ::5]))\n",
    "\n",
    "print(arr1[[0, 0, -1, -1], [0, -1, 0, -1]]) # Fancy Indexing\n",
    "\n",
    "print(arr1[[0, -1], :][:, [0, -1]])"
   ]
  },
  {
   "cell_type": "markdown",
   "id": "c21565a5",
   "metadata": {
    "slideshow": {
     "slide_type": "fragment"
    }
   },
   "source": [
    "### 布尔型下标索引\n",
    "\n",
    "有时候我们希望对数组中满足一定条件的数据进行统一处理，这时候就会用到布尔型下标索引。\n"
   ]
  },
  {
   "cell_type": "code",
   "execution_count": 56,
   "id": "8a913e40",
   "metadata": {
    "slideshow": {
     "slide_type": "subslide"
    }
   },
   "outputs": [
    {
     "data": {
      "text/plain": [
       "array([[0.43933117, 0.51567337, 0.25782031, 0.81324979, 0.21431135],\n",
       "       [0.13640793, 0.55509863, 0.13664553, 0.67843216, 0.06509884],\n",
       "       [0.4523617 , 0.13201169, 0.96330607, 0.63204612, 0.70506267],\n",
       "       [0.86928347, 0.96278207, 0.34763381, 0.9046948 , 0.80666033]])"
      ]
     },
     "execution_count": 56,
     "metadata": {},
     "output_type": "execute_result"
    }
   ],
   "source": [
    "arr11=np.random.rand(4,5)\n",
    "arr11"
   ]
  },
  {
   "cell_type": "code",
   "execution_count": 57,
   "id": "939a6087",
   "metadata": {
    "slideshow": {
     "slide_type": "fragment"
    }
   },
   "outputs": [
    {
     "data": {
      "text/plain": [
       "array([[ True, False,  True, False,  True],\n",
       "       [ True, False,  True, False,  True],\n",
       "       [ True,  True, False, False, False],\n",
       "       [False, False,  True, False, False]])"
      ]
     },
     "execution_count": 57,
     "metadata": {},
     "output_type": "execute_result"
    }
   ],
   "source": [
    "cond = arr11<=0.5\n",
    "cond"
   ]
  },
  {
   "cell_type": "code",
   "execution_count": 58,
   "id": "9b45fcbc",
   "metadata": {
    "slideshow": {
     "slide_type": "subslide"
    }
   },
   "outputs": [
    {
     "data": {
      "text/plain": [
       "array([0.43933117, 0.25782031, 0.21431135, 0.13640793, 0.13664553,\n",
       "       0.06509884, 0.4523617 , 0.13201169, 0.34763381])"
      ]
     },
     "execution_count": 58,
     "metadata": {},
     "output_type": "execute_result"
    }
   ],
   "source": [
    "arr11[cond]"
   ]
  },
  {
   "cell_type": "code",
   "execution_count": 59,
   "id": "dae00654",
   "metadata": {
    "slideshow": {
     "slide_type": "subslide"
    }
   },
   "outputs": [
    {
     "data": {
      "text/plain": [
       "array([[0.        , 0.51567337, 0.        , 0.81324979, 0.        ],\n",
       "       [0.        , 0.55509863, 0.        , 0.67843216, 0.        ],\n",
       "       [0.        , 0.        , 0.96330607, 0.63204612, 0.70506267],\n",
       "       [0.86928347, 0.96278207, 0.        , 0.9046948 , 0.80666033]])"
      ]
     },
     "execution_count": 59,
     "metadata": {},
     "output_type": "execute_result"
    }
   ],
   "source": [
    "arr11[cond]=0\n",
    "arr11"
   ]
  },
  {
   "cell_type": "markdown",
   "id": "becb14bd",
   "metadata": {
    "slideshow": {
     "slide_type": "subslide"
    }
   },
   "source": [
    "如果有多个条件，可以使用复合条件表达式，但是需要注意的是需要使用 &和|来处理布尔数组."
   ]
  },
  {
   "cell_type": "code",
   "execution_count": 87,
   "id": "5f5c2f24",
   "metadata": {
    "slideshow": {
     "slide_type": "subslide"
    }
   },
   "outputs": [
    {
     "data": {
      "text/plain": [
       "array([[0.        , 1.        , 0.        , 0.        , 1.        ],\n",
       "       [1.        , 0.        , 0.97307453, 0.        , 0.89966946],\n",
       "       [1.        , 0.        , 0.        , 1.        , 0.        ],\n",
       "       [0.        , 0.90245367, 0.9602679 , 0.        , 0.        ]])"
      ]
     },
     "execution_count": 87,
     "metadata": {},
     "output_type": "execute_result"
    }
   ],
   "source": [
    "arr11[(arr11 < 0.8) & (arr11> 0.5)] = 1\n",
    "arr11"
   ]
  },
  {
   "cell_type": "markdown",
   "id": "9852132b",
   "metadata": {
    "slideshow": {
     "slide_type": "subslide"
    }
   },
   "source": [
    "小练习：有8行4列数据代表8轮出牌情况，4列数据分别对应黑桃、红桃、方块和草花，取出点数小于6点的所有出牌，将其改为零。"
   ]
  },
  {
   "cell_type": "code",
   "execution_count": 88,
   "id": "75be608b",
   "metadata": {
    "slideshow": {
     "slide_type": "subslide"
    }
   },
   "outputs": [
    {
     "data": {
      "text/plain": [
       "array([[ 7,  4,  4, 10],\n",
       "       [ 6,  3,  1, 10],\n",
       "       [ 4,  8,  9,  5],\n",
       "       [ 6,  5,  3,  2],\n",
       "       [ 8,  3,  7,  2],\n",
       "       [ 5,  9,  6,  1],\n",
       "       [ 6, 12, 10,  2],\n",
       "       [ 9, 11, 11,  2]])"
      ]
     },
     "execution_count": 88,
     "metadata": {},
     "output_type": "execute_result"
    }
   ],
   "source": [
    "import numpy as np\n",
    "arr13=np.random.randint(1,13,(8,4))\n",
    "arr13"
   ]
  },
  {
   "cell_type": "code",
   "execution_count": 89,
   "id": "4465fe39",
   "metadata": {
    "slideshow": {
     "slide_type": "subslide"
    }
   },
   "outputs": [
    {
     "data": {
      "text/plain": [
       "array([[ 7,  0,  0, 10],\n",
       "       [ 6,  0,  0, 10],\n",
       "       [ 0,  8,  9,  0],\n",
       "       [ 6,  0,  0,  0],\n",
       "       [ 8,  0,  7,  0],\n",
       "       [ 0,  9,  6,  0],\n",
       "       [ 6, 12, 10,  0],\n",
       "       [ 9, 11, 11,  0]])"
      ]
     },
     "execution_count": 89,
     "metadata": {},
     "output_type": "execute_result"
    }
   ],
   "source": [
    "cond1=arr13<6\n",
    "arr13[arr13<6]=0\n",
    "arr13"
   ]
  },
  {
   "cell_type": "markdown",
   "id": "e0fada96",
   "metadata": {
    "slideshow": {
     "slide_type": "subslide"
    }
   },
   "source": [
    "## 练习6. 布尔索引\n",
    "1. 生成一个4行5列的随机数数组，将其中小于0.5的元素清零；\n",
    "2. 生成一个5行4列的随机数数组，将其中大于0.6的元素设置为1，小于等于0.6的设置为-1."
   ]
  },
  {
   "cell_type": "code",
   "execution_count": 9,
   "id": "aad4a503",
   "metadata": {
    "slideshow": {
     "slide_type": "fragment"
    }
   },
   "outputs": [
    {
     "name": "stdout",
     "output_type": "stream",
     "text": [
      "[[0.         0.77600531 0.55095838 0.         0.52926578]\n",
      " [0.9568769  0.         0.         0.86294567 0.        ]\n",
      " [0.82509486 0.83613181 0.         0.         0.        ]\n",
      " [0.         0.66569338 0.         0.         0.9010131 ]]\n"
     ]
    },
    {
     "data": {
      "text/plain": [
       "array(0.79487876)"
      ]
     },
     "execution_count": 9,
     "metadata": {},
     "output_type": "execute_result"
    }
   ],
   "source": [
    "import numpy as np\n",
    "\n",
    "x = np.random.random((4, 5))\n",
    "x[x < 0.5] = 0\n",
    "print(x)\n",
    "\n",
    "y = np.random.random(())\n",
    "y"
   ]
  },
  {
   "cell_type": "code",
   "execution_count": 7,
   "id": "77bc684b",
   "metadata": {},
   "outputs": [
    {
     "data": {
      "text/plain": [
       "(array([[ -4,  12,  -9,  -5,  11,   3,   4,  -2],\n",
       "        [  8, -10,   9, -10, -10,   2, -10,   5],\n",
       "        [  4,  12,   3,  -8,  -1,   4,  -3,  10]]),\n",
       " -72,\n",
       " 87)"
      ]
     },
     "execution_count": 7,
     "metadata": {},
     "output_type": "execute_result"
    }
   ],
   "source": [
    "np.random.seed(100)\n",
    "\n",
    "x = np.random.randint(-12, 13, (3, 8))\n",
    "\n",
    "x, np.sum(x[x < 0]), np.sum(x[x > 0])"
   ]
  },
  {
   "cell_type": "markdown",
   "id": "c704cd4a",
   "metadata": {
    "slideshow": {
     "slide_type": "slide"
    }
   },
   "source": [
    "## 7.6 Numpy库支持的数学运算\n",
    "\n",
    "* Numpy库函数\n",
    "* linalg子库\n",
    "* random子库\n"
   ]
  },
  {
   "cell_type": "markdown",
   "id": "8b59ec2c",
   "metadata": {
    "slideshow": {
     "slide_type": "subslide"
    }
   },
   "source": [
    "### Numpy库中的数学运算函数\n",
    "\n",
    "Numpy中提供了一些通用函数，可以对多维数组中的数据执行元素级运算。常用的数学运算函数基本都包含在内。"
   ]
  },
  {
   "cell_type": "code",
   "execution_count": 90,
   "id": "d4bf3913",
   "metadata": {
    "slideshow": {
     "slide_type": "subslide"
    }
   },
   "outputs": [
    {
     "name": "stdout",
     "output_type": "stream",
     "text": [
      "[ 2.  4.  6.  8. 10.]\n"
     ]
    },
    {
     "data": {
      "text/plain": [
       "array([ 2.,  4.,  6.,  8., 10.])"
      ]
     },
     "execution_count": 90,
     "metadata": {},
     "output_type": "execute_result"
    }
   ],
   "source": [
    "arr1 = np.linspace(2,10,5)  # 最后一个参数是什么意思？还记得吗？\n",
    "print(arr1)\n",
    "arr1"
   ]
  },
  {
   "cell_type": "code",
   "execution_count": 91,
   "id": "31da8f33",
   "metadata": {
    "slideshow": {
     "slide_type": "fragment"
    }
   },
   "outputs": [
    {
     "data": {
      "text/plain": [
       "array([1.41421356, 2.        , 2.44948974, 2.82842712, 3.16227766])"
      ]
     },
     "execution_count": 91,
     "metadata": {},
     "output_type": "execute_result"
    }
   ],
   "source": [
    "np.sqrt(arr1)"
   ]
  },
  {
   "cell_type": "code",
   "execution_count": 92,
   "id": "a8ad2699",
   "metadata": {
    "slideshow": {
     "slide_type": "fragment"
    }
   },
   "outputs": [
    {
     "data": {
      "text/plain": [
       "array([  4.,  16.,  36.,  64., 100.])"
      ]
     },
     "execution_count": 92,
     "metadata": {},
     "output_type": "execute_result"
    }
   ],
   "source": [
    "np.square(arr1)"
   ]
  },
  {
   "cell_type": "code",
   "execution_count": 93,
   "id": "8404c36c",
   "metadata": {
    "slideshow": {
     "slide_type": "subslide"
    }
   },
   "outputs": [
    {
     "data": {
      "text/plain": [
       "array([7.38905610e+00, 5.45981500e+01, 4.03428793e+02, 2.98095799e+03,\n",
       "       2.20264658e+04])"
      ]
     },
     "execution_count": 93,
     "metadata": {},
     "output_type": "execute_result"
    }
   ],
   "source": [
    "np.exp(arr1)"
   ]
  },
  {
   "cell_type": "code",
   "execution_count": 94,
   "id": "1405e7c3",
   "metadata": {
    "slideshow": {
     "slide_type": "fragment"
    }
   },
   "outputs": [
    {
     "data": {
      "text/plain": [
       "array([0.69314718, 1.38629436, 1.79175947, 2.07944154, 2.30258509])"
      ]
     },
     "execution_count": 94,
     "metadata": {},
     "output_type": "execute_result"
    }
   ],
   "source": [
    "np.log(arr1)"
   ]
  },
  {
   "cell_type": "markdown",
   "id": "b328c121",
   "metadata": {
    "slideshow": {
     "slide_type": "slide"
    }
   },
   "source": [
    "其他的函数还有：\n",
    "* sign\n",
    "* ceil\n",
    "* floor\n",
    "* rint\n",
    "* isnan\n",
    "* isinf\n",
    "和大量的三角函数等等。"
   ]
  },
  {
   "cell_type": "markdown",
   "id": "710fa448",
   "metadata": {
    "slideshow": {
     "slide_type": "subslide"
    }
   },
   "source": [
    "几个常用的numpy函数：\n",
    "\n",
    "* np.maximum(x1, x2) : 逐个比较数组x1和x2的元素，返回较大的那个，组成新的数组。\n",
    "\n",
    "* np.minimum(x1, x2) : 返回两个数组中逐个比较最小的元素\n",
    "\n",
    "* np.where(cond, x1, x2) : 逐个根据条件返回x1或x2数组中对应元素"
   ]
  },
  {
   "cell_type": "code",
   "execution_count": 95,
   "id": "802d466c",
   "metadata": {
    "slideshow": {
     "slide_type": "subslide"
    }
   },
   "outputs": [
    {
     "data": {
      "text/plain": [
       "array([[0, 1, 2, 3, 4],\n",
       "       [0, 0, 0, 0, 0]])"
      ]
     },
     "execution_count": 95,
     "metadata": {},
     "output_type": "execute_result"
    }
   ],
   "source": [
    "a = np.arange(10).reshape((2,5))\n",
    "np.where(a < 5, a, 0)"
   ]
  },
  {
   "cell_type": "markdown",
   "id": "0fd5874b",
   "metadata": {
    "slideshow": {
     "slide_type": "subslide"
    }
   },
   "source": [
    "### Numpy库中的统计函数\n",
    "\n",
    "多维数组上还提供了一些统计函数可以对数组进行统计计算，由于统计方法大多数为聚合类方法，因此需要指定维度或轴，不指定则对所有数据进行聚合。\n",
    "\n",
    "注意分析参数axis的含义。"
   ]
  },
  {
   "cell_type": "code",
   "execution_count": 18,
   "id": "cc667ee5",
   "metadata": {
    "slideshow": {
     "slide_type": "subslide"
    }
   },
   "outputs": [
    {
     "data": {
      "text/plain": [
       "array([[9, 9, 4, 8],\n",
       "       [8, 1, 5, 3],\n",
       "       [6, 3, 3, 3],\n",
       "       [2, 1, 9, 5],\n",
       "       [1, 7, 3, 5],\n",
       "       [2, 6, 4, 5]])"
      ]
     },
     "execution_count": 18,
     "metadata": {},
     "output_type": "execute_result"
    }
   ],
   "source": [
    "import numpy.random as npr\n",
    "npr.seed(100)\n",
    "arr14=npr.randint(1,10,(6,4))\n",
    "arr14"
   ]
  },
  {
   "cell_type": "code",
   "execution_count": 2,
   "id": "653471a9",
   "metadata": {
    "slideshow": {
     "slide_type": "subslide"
    }
   },
   "outputs": [
    {
     "data": {
      "text/plain": [
       "112"
      ]
     },
     "execution_count": 2,
     "metadata": {},
     "output_type": "execute_result"
    }
   ],
   "source": [
    "arr14.sum()  # 未指定axis,求所有元素的和"
   ]
  },
  {
   "cell_type": "code",
   "execution_count": 3,
   "id": "c40504c0",
   "metadata": {
    "slideshow": {
     "slide_type": "subslide"
    }
   },
   "outputs": [
    {
     "data": {
      "text/plain": [
       "array([28, 27, 28, 29])"
      ]
     },
     "execution_count": 3,
     "metadata": {},
     "output_type": "execute_result"
    }
   ],
   "source": [
    "arr14.sum(axis=0)  # 对第一维求和"
   ]
  },
  {
   "cell_type": "code",
   "execution_count": 4,
   "id": "34bf85f0",
   "metadata": {
    "slideshow": {
     "slide_type": "subslide"
    }
   },
   "outputs": [
    {
     "data": {
      "text/plain": [
       "array([30, 17, 15, 17, 16, 17])"
      ]
     },
     "execution_count": 4,
     "metadata": {},
     "output_type": "execute_result"
    }
   ],
   "source": [
    "arr14.sum(axis=1)  # 对第二维求和"
   ]
  },
  {
   "cell_type": "code",
   "execution_count": 5,
   "id": "9a18564c",
   "metadata": {
    "slideshow": {
     "slide_type": "subslide"
    }
   },
   "outputs": [
    {
     "data": {
      "text/plain": [
       "array([7.5 , 4.25, 3.75, 4.25, 4.  , 4.25])"
      ]
     },
     "execution_count": 5,
     "metadata": {},
     "output_type": "execute_result"
    }
   ],
   "source": [
    "arr14.mean(axis=1)"
   ]
  },
  {
   "cell_type": "markdown",
   "id": "769cea33",
   "metadata": {
    "slideshow": {
     "slide_type": "subslide"
    }
   },
   "source": [
    "sum和mean等这类统计方法除了可以作为对象的方法进行调用，也可以作为numpy的函数调用。"
   ]
  },
  {
   "cell_type": "code",
   "execution_count": 7,
   "id": "039831e6",
   "metadata": {
    "slideshow": {
     "slide_type": "subslide"
    }
   },
   "outputs": [
    {
     "data": {
      "text/plain": [
       "array([28, 27, 28, 29])"
      ]
     },
     "execution_count": 7,
     "metadata": {},
     "output_type": "execute_result"
    }
   ],
   "source": [
    "import numpy as np\n",
    "\n",
    "np.sum(arr14,axis=0)"
   ]
  },
  {
   "cell_type": "code",
   "execution_count": 102,
   "id": "47c8312c",
   "metadata": {
    "slideshow": {
     "slide_type": "subslide"
    }
   },
   "outputs": [
    {
     "data": {
      "text/plain": [
       "array([7.5 , 4.25, 3.75, 4.25, 4.  , 4.25])"
      ]
     },
     "execution_count": 102,
     "metadata": {},
     "output_type": "execute_result"
    }
   ],
   "source": [
    "np.mean(arr14,axis=1)"
   ]
  },
  {
   "cell_type": "markdown",
   "id": "e801f5f6",
   "metadata": {
    "slideshow": {
     "slide_type": "subslide"
    }
   },
   "source": [
    "### 思考与尝试\n",
    "\n",
    "若我们对一个6层7行8列的数组进行求和， 设置axis = 1，则结果是一个什么样的数组？"
   ]
  },
  {
   "cell_type": "code",
   "execution_count": 19,
   "id": "a602e13f",
   "metadata": {
    "slideshow": {
     "slide_type": "fragment"
    }
   },
   "outputs": [
    {
     "data": {
      "text/plain": [
       "(6, 8)"
      ]
     },
     "execution_count": 19,
     "metadata": {},
     "output_type": "execute_result"
    }
   ],
   "source": [
    "my_array = np.arange(6 * 7 * 8).reshape((6, 7, 8))\n",
    "# 对哪里进行求和就是对该维度进行压缩\n",
    "my_array.sum(axis = 1).shape"
   ]
  },
  {
   "cell_type": "markdown",
   "id": "1689f6e7",
   "metadata": {
    "slideshow": {
     "slide_type": "subslide"
    }
   },
   "source": [
    "数组统计方法汇总：\n",
    "* sum  求和\n",
    "* mean  均值\n",
    "* std  标准差\n",
    "* var  方差"
   ]
  },
  {
   "cell_type": "markdown",
   "id": "ed1298c5",
   "metadata": {
    "slideshow": {
     "slide_type": "subslide"
    }
   },
   "source": [
    "* min  最小值\n",
    "* max 最大值\n",
    "* argmin  最小值的下标索引\n",
    "* argmax  最大值的下标索引"
   ]
  },
  {
   "cell_type": "markdown",
   "id": "5174c558",
   "metadata": {
    "slideshow": {
     "slide_type": "subslide"
    }
   },
   "source": [
    "### 练习7. 找出一个数组中的最大元素\n",
    "1. 找到数组中的最大元素；\n",
    "2. 找到数组每行的最大元素；\n",
    "3. 找到数组每列的最大元素。\n",
    "4. 定位第四行中最大元素的位置"
   ]
  },
  {
   "cell_type": "code",
   "execution_count": 18,
   "id": "53d4ac70",
   "metadata": {
    "slideshow": {
     "slide_type": "fragment"
    }
   },
   "outputs": [
    {
     "data": {
      "text/plain": [
       "(23,\n",
       " array([[12, 13, 14, 15],\n",
       "        [16, 17, 18, 19],\n",
       "        [20, 21, 22, 23]]),\n",
       " array([[ 8,  9, 10, 11],\n",
       "        [20, 21, 22, 23]]),\n",
       " array([[ 3,  7, 11],\n",
       "        [15, 19, 23]]),\n",
       " array([3, 3]))"
      ]
     },
     "execution_count": 18,
     "metadata": {},
     "output_type": "execute_result"
    }
   ],
   "source": [
    "x = np.arange(24).reshape((2, 3, 4))\n",
    "np.max(x), np.max(x, axis=0), np.max(x, axis=1), np.max(x, axis=2), np.argmax(x[:, 2, :], axis=1)"
   ]
  },
  {
   "cell_type": "markdown",
   "id": "daa3fe3d",
   "metadata": {
    "slideshow": {
     "slide_type": "subslide"
    }
   },
   "source": [
    "### linalg子库与线性代数运算\n",
    "\n",
    "linalg（linear algebra）顾名思义支持线性代数相关运算。除了少数的函数外，大多数线性代数的函数均在linalg库中。"
   ]
  },
  {
   "cell_type": "markdown",
   "id": "df6d9693",
   "metadata": {
    "slideshow": {
     "slide_type": "subslide"
    }
   },
   "source": [
    "矩阵运算\n",
    "\n",
    "* dot 向量乘法\n",
    "* eig 特征值和特征向量\n",
    "* inv 逆矩阵\n",
    "* trace 对角线元素和\n",
    "* det 矩阵行列式"
   ]
  },
  {
   "cell_type": "code",
   "execution_count": 19,
   "id": "79a0ac50",
   "metadata": {
    "slideshow": {
     "slide_type": "subslide"
    }
   },
   "outputs": [
    {
     "data": {
      "text/plain": [
       "(array([[1., 1.],\n",
       "        [7., 7.]]),\n",
       " array([[1., 1.],\n",
       "        [7., 7.]]))"
      ]
     },
     "execution_count": 19,
     "metadata": {},
     "output_type": "execute_result"
    }
   ],
   "source": [
    "a = np.array([[1, 0], [3, 4]])\n",
    "b = np.ones((2,2))\n",
    "a.dot(b), np.dot(a, b)"
   ]
  },
  {
   "cell_type": "code",
   "execution_count": 20,
   "id": "78b6dbdc",
   "metadata": {
    "slideshow": {
     "slide_type": "subslide"
    }
   },
   "outputs": [
    {
     "data": {
      "text/plain": [
       "5"
      ]
     },
     "execution_count": 20,
     "metadata": {},
     "output_type": "execute_result"
    }
   ],
   "source": [
    "np.trace(a)"
   ]
  },
  {
   "cell_type": "code",
   "execution_count": 21,
   "id": "70fe069e",
   "metadata": {
    "slideshow": {
     "slide_type": "subslide"
    }
   },
   "outputs": [
    {
     "data": {
      "text/plain": [
       "(array([4., 1.]),\n",
       " array([[ 0.        ,  0.70710678],\n",
       "        [ 1.        , -0.70710678]]))"
      ]
     },
     "execution_count": 21,
     "metadata": {},
     "output_type": "execute_result"
    }
   ],
   "source": [
    "from numpy.linalg import inv,eig,det\n",
    "eig(a) # 特征值和特征向量"
   ]
  },
  {
   "cell_type": "code",
   "execution_count": 107,
   "id": "d8ff4999",
   "metadata": {
    "slideshow": {
     "slide_type": "subslide"
    }
   },
   "outputs": [
    {
     "data": {
      "text/plain": [
       "(array([[ 1.  ,  0.  ],\n",
       "        [-0.75,  0.25]]),\n",
       " 4.0)"
      ]
     },
     "execution_count": 107,
     "metadata": {},
     "output_type": "execute_result"
    }
   ],
   "source": [
    "inv(a), det(a)  # 求逆，求行列式值"
   ]
  },
  {
   "cell_type": "code",
   "execution_count": 22,
   "id": "82e8ad32",
   "metadata": {
    "slideshow": {
     "slide_type": "subslide"
    }
   },
   "outputs": [
    {
     "data": {
      "text/plain": [
       "(array([[-0.31622777, -0.9486833 ],\n",
       "        [-0.9486833 ,  0.31622777]]),\n",
       " array([[-3.16227766, -3.79473319],\n",
       "        [ 0.        ,  1.26491106]]))"
      ]
     },
     "execution_count": 22,
     "metadata": {},
     "output_type": "execute_result"
    }
   ],
   "source": [
    "from numpy.linalg import qr, svd, solve\n",
    "qr(a)  # qr分解"
   ]
  },
  {
   "cell_type": "code",
   "execution_count": 23,
   "id": "f605fc1c",
   "metadata": {
    "slideshow": {
     "slide_type": "subslide"
    }
   },
   "outputs": [
    {
     "data": {
      "text/plain": [
       "(array([[-0.12218326, -0.99250756],\n",
       "        [-0.99250756,  0.12218326]]),\n",
       " array([5.03679629, 0.7941556 ]),\n",
       " array([[-0.61541221, -0.78820544],\n",
       "        [-0.78820544,  0.61541221]]))"
      ]
     },
     "execution_count": 23,
     "metadata": {},
     "output_type": "execute_result"
    }
   ],
   "source": [
    "svd(a)  # svd分解"
   ]
  },
  {
   "cell_type": "code",
   "execution_count": 24,
   "id": "ac65c167",
   "metadata": {
    "slideshow": {
     "slide_type": "subslide"
    }
   },
   "outputs": [
    {
     "data": {
      "text/plain": [
       "array([ 5., -2.])"
      ]
     },
     "execution_count": 24,
     "metadata": {},
     "output_type": "execute_result"
    }
   ],
   "source": [
    "b = np.array([5., 7.])\n",
    "x = solve(a, b)  # 解方程\n",
    "x"
   ]
  },
  {
   "cell_type": "code",
   "execution_count": 25,
   "id": "a9601184",
   "metadata": {
    "slideshow": {
     "slide_type": "subslide"
    }
   },
   "outputs": [
    {
     "data": {
      "text/plain": [
       "True"
      ]
     },
     "execution_count": 25,
     "metadata": {},
     "output_type": "execute_result"
    }
   ],
   "source": [
    "np.allclose(np.dot(a,x), b)  # check if the solution is right"
   ]
  },
  {
   "cell_type": "code",
   "execution_count": 38,
   "id": "c75efc21",
   "metadata": {},
   "outputs": [
    {
     "data": {
      "text/plain": [
       "((4,),\n",
       " (4,),\n",
       " array([[ 1.42754931, -0.84157954,  0.31605208, -0.20667185,  0.85013318,\n",
       "         -1.54548318],\n",
       "        [-1.58071179,  0.58922469, -1.193076  ,  0.87254454,  0.42287428,\n",
       "          0.88914427],\n",
       "        [ 1.20125228, -0.73254257,  0.96041264, -1.30206695,  0.77149685,\n",
       "         -0.89855226],\n",
       "        [-1.88998278,  1.05827527,  0.64970672, -0.42084685,  0.81478286,\n",
       "         -0.21193521]]))"
      ]
     },
     "execution_count": 38,
     "metadata": {},
     "output_type": "execute_result"
    }
   ],
   "source": [
    "npr.seed(200)\n",
    "x = npr.random((4,6))\n",
    "miu = np.mean(x, axis=1)\n",
    "s = np.std(x, axis=1)\n",
    "miu.shape, s.shape, (x - miu.reshape(-1, 1)) / s.reshape(-1, 1)"
   ]
  },
  {
   "cell_type": "code",
   "execution_count": 112,
   "id": "b0c1e8c8",
   "metadata": {
    "slideshow": {
     "slide_type": "subslide"
    }
   },
   "outputs": [
    {
     "data": {
      "text/plain": [
       "array([False, False])"
      ]
     },
     "execution_count": 112,
     "metadata": {},
     "output_type": "execute_result"
    }
   ],
   "source": [
    "# 与上面的做法进行比较\n",
    "np.dot(a,x) == b  # why?"
   ]
  },
  {
   "cell_type": "code",
   "execution_count": 113,
   "id": "69a361cd",
   "metadata": {
    "slideshow": {
     "slide_type": "fragment"
    }
   },
   "outputs": [],
   "source": [
    "npr.seed(200)\n",
    "x = npr.random((4,6))\n",
    "#标准化"
   ]
  },
  {
   "cell_type": "markdown",
   "id": "d3f2ada0",
   "metadata": {
    "slideshow": {
     "slide_type": "subslide"
    }
   },
   "source": [
    "### random 子库\n",
    "\n",
    "random子库主要是随机数生成和随机样本生成库。\n"
   ]
  },
  {
   "cell_type": "code",
   "execution_count": 39,
   "id": "20d2ec2b",
   "metadata": {
    "slideshow": {
     "slide_type": "subslide"
    }
   },
   "outputs": [],
   "source": [
    "import numpy.random as npr  # 我们常用npr作为这个子库的简称"
   ]
  },
  {
   "cell_type": "code",
   "execution_count": 43,
   "id": "f221c8fb",
   "metadata": {
    "slideshow": {
     "slide_type": "fragment"
    }
   },
   "outputs": [
    {
     "data": {
      "text/plain": [
       "(array([[0.5507979 , 0.70814782],\n",
       "        [0.29090474, 0.51082761],\n",
       "        [0.89294695, 0.89629309]]),\n",
       " 0.12558531046383625)"
      ]
     },
     "execution_count": 43,
     "metadata": {},
     "output_type": "execute_result"
    }
   ],
   "source": [
    "npr.seed(3)  # 指定一个随机种子\n",
    "npr.rand(3,2), npr.rand()  # 生成(0,1)上的均匀分布随机数"
   ]
  },
  {
   "cell_type": "code",
   "execution_count": 116,
   "id": "a2808eda",
   "metadata": {
    "slideshow": {
     "slide_type": "subslide"
    }
   },
   "outputs": [
    {
     "data": {
      "text/plain": [
       "array([[ 0.44122749, -0.33087015,  2.43077119, -0.25209213],\n",
       "       [ 0.10960984,  1.58248112, -0.9092324 , -0.59163666],\n",
       "       [ 0.18760323, -0.32986996, -1.19276461, -0.20487651]])"
      ]
     },
     "execution_count": 116,
     "metadata": {},
     "output_type": "execute_result"
    }
   ],
   "source": [
    "npr.seed(5)  # 随机种子相同时，生成的随机序列将同步\n",
    "npr.randn(3,4)  # 生成标准正态分布随机数"
   ]
  },
  {
   "cell_type": "markdown",
   "id": "7897bbca",
   "metadata": {
    "slideshow": {
     "slide_type": "fragment"
    }
   },
   "source": [
    "一些最常用的随机数\n",
    "* rand(d0,d1,...,dn) 产生均匀分布随机数\n",
    "* randn(d0,d1,...,,dn) 产生标准正态分布随机数\n",
    "* randint(low[,high,size]) 产生随机整数，在区间[low,high)\n",
    "* random([size]) 与rand作用相同，只是参数传递方式不同"
   ]
  },
  {
   "cell_type": "markdown",
   "id": "393528d5",
   "metadata": {
    "slideshow": {
     "slide_type": "slide"
    }
   },
   "source": [
    "常用的一些分布\n",
    "* beta(a,b[,size])\n",
    "* binomial(n,p[,size])\n",
    "* exponential([scale,size])\n",
    "* gamma(shape[,scale,size])\n",
    "* logistic([loc,scale,size])\n",
    "* normal([loc,scale,size])"
   ]
  },
  {
   "cell_type": "markdown",
   "id": "aa6795c3",
   "metadata": {
    "slideshow": {
     "slide_type": "subslide"
    }
   },
   "source": [
    "与rand和randn不同，大多数的随机数生成函数都有至少一个参数，数组的形状需要使用元组来传递。"
   ]
  },
  {
   "cell_type": "code",
   "execution_count": 54,
   "id": "5b2aa60b",
   "metadata": {
    "slideshow": {
     "slide_type": "subslide"
    }
   },
   "outputs": [
    {
     "data": {
      "text/plain": [
       "array([[0.0538438 , 0.54782332, 0.28385127, 0.18093581],\n",
       "       [0.24574092, 0.74589456, 0.20289599, 0.10009672],\n",
       "       [0.10383409, 0.20287057, 0.61448609, 0.18766016]])"
      ]
     },
     "execution_count": 54,
     "metadata": {},
     "output_type": "execute_result"
    }
   ],
   "source": [
    "#npr.beta(2, 3, 3, 4) # wrong\n",
    "npr.seed(200)\n",
    "npr.beta(2, 3, (3, 4))"
   ]
  },
  {
   "cell_type": "code",
   "execution_count": 60,
   "id": "5aa42eca",
   "metadata": {
    "slideshow": {
     "slide_type": "subslide"
    }
   },
   "outputs": [
    {
     "data": {
      "text/plain": [
       "array([[-1.45094825,  1.91095313,  0.71187915, -0.24773829,  0.36146623],\n",
       "       [-0.03294967, -0.22134672,  0.47725678, -0.69193937,  0.79200593]])"
      ]
     },
     "execution_count": 60,
     "metadata": {},
     "output_type": "execute_result"
    }
   ],
   "source": [
    "npr.seed(200)\n",
    "npr.normal(0, 1, (2, 5))"
   ]
  }
 ],
 "metadata": {
  "celltoolbar": "幻灯片",
  "kernelspec": {
   "display_name": "Python 3 (ipykernel)",
   "language": "python",
   "name": "python3"
  },
  "language_info": {
   "codemirror_mode": {
    "name": "ipython",
    "version": 3
   },
   "file_extension": ".py",
   "mimetype": "text/x-python",
   "name": "python",
   "nbconvert_exporter": "python",
   "pygments_lexer": "ipython3",
   "version": "3.11.5"
  }
 },
 "nbformat": 4,
 "nbformat_minor": 5
}
