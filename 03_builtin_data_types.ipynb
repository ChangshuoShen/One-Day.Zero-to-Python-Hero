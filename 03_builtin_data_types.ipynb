{
 "cells": [
  {
   "cell_type": "markdown",
   "metadata": {
    "slideshow": {
     "slide_type": "slide"
    }
   },
   "source": [
    "# 3. 内置数据类型\n",
    "\n",
    "* Python中不同数据类型对应于不同的类\n",
    "\n",
    "* 不同数据类型支持不同的运算和操作\n",
    "\n",
    "* 学习数据类型主要是掌握它们的操作方法"
   ]
  },
  {
   "cell_type": "markdown",
   "metadata": {
    "slideshow": {
     "slide_type": "subslide"
    }
   },
   "source": [
    "简单数据类型\n",
    "\n",
    "* 数值数据：主要用于运算\n",
    "<ul>\n",
    "    <li>整数 int</li>\n",
    "    <li>浮点数 float</li>\n",
    "    <li>复数 complex</li>\n",
    "    <li>布尔值 bool</li>\n",
    "</ul>\n",
    "* 字符串 str：主要用于文本处理"
   ]
  },
  {
   "cell_type": "markdown",
   "metadata": {
    "slideshow": {
     "slide_type": "slide"
    }
   },
   "source": [
    "## 3.1 int数据类型\n",
    "\n",
    "* 整数类型没有上限\n",
    "* 数字默认为十进制\n",
    "* 不同进制使用不同前缀表示"
   ]
  },
  {
   "cell_type": "code",
   "execution_count": null,
   "metadata": {
    "slideshow": {
     "slide_type": "subslide"
    }
   },
   "outputs": [
    {
     "name": "stdout",
     "output_type": "stream",
     "text": [
      "<class 'int'>\n",
      "<class 'float'>\n"
     ]
    }
   ],
   "source": [
    "print(type(123))  # 整数类型，没有小数点之后的部分\n",
    "print(type(123.0))  # 浮点数\n",
    "# 123.0可以简写为123."
   ]
  },
  {
   "cell_type": "code",
   "execution_count": 1,
   "metadata": {
    "slideshow": {
     "slide_type": "subslide"
    }
   },
   "outputs": [
    {
     "data": {
      "text/plain": [
       "(123, 83, 291, 10)"
      ]
     },
     "execution_count": 1,
     "metadata": {},
     "output_type": "execute_result"
    }
   ],
   "source": [
    "a1 = 123  # decimal\n",
    "a2 = 0o123  # octal\n",
    "a3 = 0x123  # hexadecimal\n",
    "a4 = 0b1010  # binary\n",
    "(a1, a2, a3, a4)"
   ]
  },
  {
   "cell_type": "code",
   "execution_count": 2,
   "metadata": {
    "slideshow": {
     "slide_type": "fragment"
    }
   },
   "outputs": [
    {
     "data": {
      "text/plain": [
       "(123456, 12345678, 87654321)"
      ]
     },
     "execution_count": 2,
     "metadata": {},
     "output_type": "execute_result"
    }
   ],
   "source": [
    "# 对于长数字\n",
    "# 可以在数字之间使用下划线来提高数字的可读性。能不能使用空格分隔？注意这一点\n",
    "123_456, 1234_5678, 876_54_321"
   ]
  },
  {
   "cell_type": "markdown",
   "metadata": {
    "slideshow": {
     "slide_type": "subslide"
    }
   },
   "source": [
    "### 整数的运算\n",
    "\n",
    "* 整数的算术运算支持加、减、乘、除、乘方（幂运算）、整除、求余数等\n",
    "* 若操作数为整数，则除了除法外，运算结果都是整数类型\n",
    "* 整数之间的除法运算结果为浮点数（难道这不是常识吗？为什么值得提？）\n",
    "* 整数和浮点数类型混合运算，运算结果为浮点数类型"
   ]
  },
  {
   "cell_type": "code",
   "execution_count": 3,
   "metadata": {
    "slideshow": {
     "slide_type": "subslide"
    }
   },
   "outputs": [
    {
     "data": {
      "text/plain": [
       "(579, 333, 56088, 2.0)"
      ]
     },
     "execution_count": 3,
     "metadata": {},
     "output_type": "execute_result"
    }
   ],
   "source": [
    "123 + 456, 456 - 123, 123 * 456, 246/123"
   ]
  },
  {
   "cell_type": "code",
   "execution_count": 3,
   "metadata": {
    "slideshow": {
     "slide_type": "fragment"
    }
   },
   "outputs": [
    {
     "data": {
      "text/plain": [
       "\"\\n----> 4 123**1230.\\n\\nOverflowError: (34, 'Numerical result out of range')\\n\""
      ]
     },
     "execution_count": 3,
     "metadata": {},
     "output_type": "execute_result"
    }
   ],
   "source": [
    "123**2, 123**3, 123**4\n",
    "# 123**123会输出一个整数，再python中可以无限大\n",
    "# 但是如果使用123**1230. 这个表达式会返回一个浮点数，会溢出\n",
    "# 123**1230.\n",
    "'''\n",
    "----> 4 123**1230.\n",
    "\n",
    "OverflowError: (34, 'Numerical result out of range')\n",
    "'''"
   ]
  },
  {
   "cell_type": "code",
   "execution_count": 3,
   "metadata": {
    "slideshow": {
     "slide_type": "subslide"
    }
   },
   "outputs": [
    {
     "data": {
      "text/plain": [
       "(2, 1, (2, 1))"
      ]
     },
     "execution_count": 3,
     "metadata": {},
     "output_type": "execute_result"
    }
   ],
   "source": [
    "9 // 4, 9 % 4, divmod(9,4) # 求整数商，求余数，同时求整数商和余数"
   ]
  },
  {
   "cell_type": "markdown",
   "metadata": {
    "slideshow": {
     "slide_type": "subslide"
    }
   },
   "source": [
    "求模/求余运算在正数上比较容易理解，负数处理容易出错，需要谨慎处理。"
   ]
  },
  {
   "cell_type": "code",
   "execution_count": 4,
   "metadata": {
    "slideshow": {
     "slide_type": "subslide"
    }
   },
   "outputs": [
    {
     "name": "stdout",
     "output_type": "stream",
     "text": [
      "(2, 1) (-3, 3) (-3, -3) (2, -1)\n",
      "1 3 -3 -1\n"
     ]
    }
   ],
   "source": [
    "print(divmod(9,4), divmod(-9,4), divmod(9,-4), divmod(-9,-4))  # \n",
    "print(9 % 4, -9 % 4, 9 % -4, -9 % -4)"
   ]
  },
  {
   "cell_type": "code",
   "execution_count": 5,
   "metadata": {
    "slideshow": {
     "slide_type": "subslide"
    }
   },
   "outputs": [
    {
     "data": {
      "text/plain": [
       "(2, -3, -3, 2)"
      ]
     },
     "execution_count": 5,
     "metadata": {},
     "output_type": "execute_result"
    }
   ],
   "source": [
    "import math\n",
    "# python中求模操作的具体解释\n",
    "# 求模时，整数商的计算规则为向下求整\n",
    "math.floor(9/4),math.floor(-9/4),math.floor(9/-4),math.floor(-9/-4)"
   ]
  },
  {
   "cell_type": "markdown",
   "metadata": {
    "slideshow": {
     "slide_type": "subslide"
    }
   },
   "source": [
    "取整方法\n",
    "\n",
    "* int 丢弃小数求整\n",
    "* round 四舍五入求整\n",
    "* floor 向下求整\n",
    "* ceil 向上求整\n",
    "* 注意：他们都不一样哈，但是任意两个都有恰好相等的float情况"
   ]
  },
  {
   "cell_type": "code",
   "execution_count": 6,
   "metadata": {
    "slideshow": {
     "slide_type": "subslide"
    }
   },
   "outputs": [
    {
     "data": {
      "text/plain": [
       "(3, -3, 3, -3, 3, -4, 4, -3)"
      ]
     },
     "execution_count": 6,
     "metadata": {},
     "output_type": "execute_result"
    }
   ],
   "source": [
    "x1 = 3.21\n",
    "int(x1),int(-x1),round(x1),round(-x1),math.floor(x1),math.floor(-x1),math.ceil(x1),math.ceil(-x1)"
   ]
  },
  {
   "cell_type": "code",
   "execution_count": 7,
   "metadata": {
    "slideshow": {
     "slide_type": "subslide"
    }
   },
   "outputs": [
    {
     "data": {
      "text/plain": [
       "(6, -6, 7, -7, 6, -7, 7, -6)"
      ]
     },
     "execution_count": 7,
     "metadata": {},
     "output_type": "execute_result"
    }
   ],
   "source": [
    "x2 = 6.78\n",
    "int(x2),int(-x2),round(x2),round(-x2),math.floor(x2),math.floor(-x2),math.ceil(x2),math.ceil(-x2)"
   ]
  },
  {
   "cell_type": "code",
   "execution_count": 3,
   "metadata": {},
   "outputs": [
    {
     "data": {
      "text/plain": [
       "-4"
      ]
     },
     "execution_count": 3,
     "metadata": {},
     "output_type": "execute_result"
    }
   ],
   "source": [
    "import math\n",
    "\n",
    "a = -3.1\n",
    "math.floor(a)"
   ]
  },
  {
   "cell_type": "code",
   "execution_count": 6,
   "metadata": {},
   "outputs": [
    {
     "data": {
      "text/plain": [
       "3.141593"
      ]
     },
     "execution_count": 6,
     "metadata": {},
     "output_type": "execute_result"
    }
   ],
   "source": [
    "import math\n",
    "# print(math.p(roundi)\n",
    "round(math.pi * 1000000) / 1000000\n",
    "# round()``"
   ]
  },
  {
   "cell_type": "code",
   "execution_count": 9,
   "metadata": {},
   "outputs": [
    {
     "data": {
      "text/plain": [
       "4253529586500"
      ]
     },
     "execution_count": 9,
     "metadata": {},
     "output_type": "execute_result"
    }
   ],
   "source": [
    "x = 3.2 ** 25\n",
    "round(x / 100) * 100"
   ]
  },
  {
   "cell_type": "code",
   "execution_count": 11,
   "metadata": {},
   "outputs": [
    {
     "data": {
      "text/plain": [
       "4253529586500.0"
      ]
     },
     "execution_count": 11,
     "metadata": {},
     "output_type": "execute_result"
    }
   ],
   "source": [
    "3.2 ** 25 // 100 * 100"
   ]
  },
  {
   "cell_type": "markdown",
   "metadata": {
    "slideshow": {
     "slide_type": "slide"
    }
   },
   "source": [
    "## 3.2 float浮点类型\n",
    "\n",
    "* 浮点类型表示实数\n",
    "* 浮点数有精度限制\n",
    "* 浮点数有上下限\n",
    "* 浮点数运算有误差！！"
   ]
  },
  {
   "cell_type": "code",
   "execution_count": 8,
   "metadata": {
    "slideshow": {
     "slide_type": "subslide"
    }
   },
   "outputs": [
    {
     "data": {
      "text/plain": [
       "(float, float, float, float, float)"
      ]
     },
     "execution_count": 8,
     "metadata": {},
     "output_type": "execute_result"
    }
   ],
   "source": [
    "type(0.123),type(4.56),type(789.0),type(1.),type(2.)"
   ]
  },
  {
   "cell_type": "code",
   "execution_count": 9,
   "metadata": {
    "slideshow": {
     "slide_type": "subslide"
    }
   },
   "outputs": [
    {
     "data": {
      "text/plain": [
       "(int, tuple, float, float, int)"
      ]
     },
     "execution_count": 9,
     "metadata": {},
     "output_type": "execute_result"
    }
   ],
   "source": [
    "# 逗号，句点，分号都不可乱点\n",
    "x1 = 2\n",
    "x2 = 2,\n",
    "x3 = 2.\n",
    "x4 = .2\n",
    "x5 = 2;\n",
    "type(x1), type(x2), type(x3), type(x4), type(x5)"
   ]
  },
  {
   "cell_type": "markdown",
   "metadata": {
    "slideshow": {
     "slide_type": "subslide"
    }
   },
   "source": [
    "句点的几种含义\n",
    "\n",
    "* 小数点，用于分隔整数部分和小数部分\n",
    "\n",
    "* 对象的成员/属性访问操作符，用于隔开对象及其成员名"
   ]
  },
  {
   "cell_type": "code",
   "execution_count": 10,
   "metadata": {
    "slideshow": {
     "slide_type": "subslide"
    }
   },
   "outputs": [
    {
     "data": {
      "text/plain": [
       "True"
      ]
     },
     "execution_count": 10,
     "metadata": {},
     "output_type": "execute_result"
    }
   ],
   "source": [
    "2..is_integer()  # 注意句点的不同含义"
   ]
  },
  {
   "cell_type": "code",
   "execution_count": 11,
   "metadata": {
    "slideshow": {
     "slide_type": "subslide"
    }
   },
   "outputs": [
    {
     "data": {
      "text/plain": [
       "(1.2e+34, 5.6e-78)"
      ]
     },
     "execution_count": 11,
     "metadata": {},
     "output_type": "execute_result"
    }
   ],
   "source": [
    "1.2e34, 5.6e-78  # 科学计数法"
   ]
  },
  {
   "cell_type": "code",
   "execution_count": 10,
   "metadata": {
    "slideshow": {
     "slide_type": "subslide"
    }
   },
   "outputs": [
    {
     "name": "stdout",
     "output_type": "stream",
     "text": [
      "ALLOW_THREADS\t AxisError\t BUFSIZE\t CLIP\t ComplexWarning\t DataSource\t ERR_CALL\t ERR_DEFAULT\t ERR_IGNORE\t \n",
      "ERR_LOG\t ERR_PRINT\t ERR_RAISE\t ERR_WARN\t FLOATING_POINT_SUPPORT\t FPE_DIVIDEBYZERO\t FPE_INVALID\t FPE_OVERFLOW\t FPE_UNDERFLOW\t \n",
      "False_\t Inf\t Infinity\t MAXDIMS\t MAY_SHARE_BOUNDS\t MAY_SHARE_EXACT\t ModuleDeprecationWarning\t NAN\t NINF\t \n",
      "NZERO\t NaN\t PINF\t PZERO\t RAISE\t RankWarning\t SHIFT_DIVIDEBYZERO\t SHIFT_INVALID\t SHIFT_OVERFLOW\t \n",
      "SHIFT_UNDERFLOW\t ScalarType\t TooHardError\t True_\t UFUNC_BUFSIZE_DEFAULT\t UFUNC_PYVALS_NAME\t VisibleDeprecationWarning\t WRAP\t absolute\t \n",
      "add\t add_docstring\t add_newdoc\t add_newdoc_ufunc\t all\t allclose\t alltrue\t amax\t amin\t \n",
      "angle\t any\t append\t apply_along_axis\t apply_over_axes\t arange\t arccos\t arccosh\t arcsin\t \n",
      "arcsinh\t arctan\t arctan2\t arctanh\t argmax\t argmin\t argpartition\t argsort\t argwhere\t \n",
      "around\t array\t array2string\t array_equal\t array_equiv\t array_repr\t array_split\t array_str\t asanyarray\t \n",
      "asarray\t asarray_chkfinite\t ascontiguousarray\t asfarray\t asfortranarray\t asmatrix\t atleast_1d\t atleast_2d\t atleast_3d\t \n",
      "average\t bartlett\t base_repr\t binary_repr\t bincount\t bitwise_and\t bitwise_not\t bitwise_or\t bitwise_xor\t \n",
      "blackman\t block\t bmat\t bool_\t broadcast\t broadcast_arrays\t broadcast_shapes\t broadcast_to\t busday_count\t \n",
      "busday_offset\t busdaycalendar\t byte\t byte_bounds\t bytes_\t c_\t can_cast\t cast\t cbrt\t \n",
      "cdouble\t ceil\t cfloat\t char\t character\t chararray\t choose\t clip\t clongdouble\t \n",
      "clongfloat\t column_stack\t common_type\t compare_chararrays\t complex128\t complex256\t complex64\t complex_\t complexfloating\t \n",
      "compress\t concatenate\t conj\t conjugate\t convolve\t copy\t copysign\t copyto\t corrcoef\t \n",
      "correlate\t cos\t cosh\t count_nonzero\t cov\t cross\t csingle\t ctypeslib\t cumprod\t \n",
      "cumproduct\t cumsum\t datetime64\t datetime_as_string\t datetime_data\t deg2rad\t degrees\t delete\t deprecate\t \n",
      "deprecate_with_doc\t diag\t diag_indices\t diag_indices_from\t diagflat\t diagonal\t diff\t digitize\t disp\t \n",
      "divide\t divmod\t dot\t double\t dsplit\t dstack\t dtype\t e\t ediff1d\t \n",
      "einsum\t einsum_path\t emath\t empty\t empty_like\t equal\t errstate\t euler_gamma\t exceptions\t \n",
      "exp\t exp2\t expand_dims\t expm1\t extract\t eye\t fabs\t fastCopyAndTranspose\t fft\t \n",
      "fill_diagonal\t find_common_type\t finfo\t fix\t flatiter\t flatnonzero\t flexible\t flip\t fliplr\t \n",
      "flipud\t float128\t float16\t float32\t float64\t float_\t float_power\t floating\t floor\t \n",
      "floor_divide\t fmax\t fmin\t fmod\t format_float_positional\t format_float_scientific\t format_parser\t frexp\t from_dlpack\t \n",
      "frombuffer\t fromfile\t fromfunction\t fromiter\t frompyfunc\t fromregex\t fromstring\t full\t full_like\t \n",
      "gcd\t generic\t genfromtxt\t geomspace\t get_array_wrap\t get_include\t get_printoptions\t getbufsize\t geterr\t \n",
      "geterrcall\t geterrobj\t gradient\t greater\t greater_equal\t half\t hamming\t hanning\t heaviside\t \n",
      "histogram\t histogram2d\t histogram_bin_edges\t histogramdd\t hsplit\t hstack\t hypot\t i0\t identity\t \n",
      "iinfo\t imag\t in1d\t index_exp\t indices\t inexact\t inf\t info\t infty\t \n",
      "inner\t insert\t int16\t int32\t int64\t int8\t int_\t intc\t integer\t \n",
      "interp\t intersect1d\t intp\t invert\t is_busday\t isclose\t iscomplex\t iscomplexobj\t isfinite\t \n",
      "isfortran\t isin\t isinf\t isnan\t isnat\t isneginf\t isposinf\t isreal\t isrealobj\t \n",
      "isscalar\t issctype\t issubclass_\t issubdtype\t issubsctype\t iterable\t ix_\t kaiser\t kron\t \n",
      "lcm\t ldexp\t left_shift\t less\t less_equal\t lexsort\t linalg\t linspace\t little_endian\t \n",
      "load\t loadtxt\t log\t log10\t log1p\t log2\t logaddexp\t logaddexp2\t logical_and\t \n",
      "logical_not\t logical_or\t logical_xor\t logspace\t longcomplex\t longdouble\t longfloat\t longlong\t lookfor\t \n",
      "ma\t mask_indices\t mat\t matmul\t matrix\t maximum\t maximum_sctype\t may_share_memory\t mean\t \n",
      "median\t memmap\t meshgrid\t mgrid\t min_scalar_type\t minimum\t mintypecode\t mod\t modf\t \n",
      "moveaxis\t msort\t multiply\t nan\t nan_to_num\t nanargmax\t nanargmin\t nancumprod\t nancumsum\t \n",
      "nanmax\t nanmean\t nanmedian\t nanmin\t nanpercentile\t nanprod\t nanquantile\t nanstd\t nansum\t \n",
      "nanvar\t nbytes\t ndarray\t ndenumerate\t ndim\t ndindex\t nditer\t negative\t nested_iters\t \n",
      "newaxis\t nextafter\t nonzero\t not_equal\t number\t numpy\t obj2sctype\t object_\t ogrid\t \n",
      "ones\t ones_like\t outer\t packbits\t pad\t pandas\t partition\t percentile\t pi\t \n",
      "piecewise\t place\t poly\t poly1d\t polyadd\t polyder\t polydiv\t polyfit\t polyint\t \n",
      "polymul\t polysub\t polyval\t positive\t power\t printoptions\t prod\t product\t promote_types\t \n",
      "ptp\t put\t put_along_axis\t putmask\t quantile\t r_\t rad2deg\t radians\t random\t \n",
      "ravel\t ravel_multi_index\t real\t real_if_close\t rec\t recarray\t recfromcsv\t recfromtxt\t reciprocal\t \n",
      "record\t remainder\t repeat\t require\t reshape\t resize\t result_type\t right_shift\t rint\t \n",
      "roll\t rollaxis\t roots\t rot90\t round_\t row_stack\t s_\t safe_eval\t save\t \n",
      "savetxt\t savez\t savez_compressed\t sctype2char\t sctypeDict\t sctypes\t searchsorted\t select\t set_numeric_ops\t \n",
      "set_printoptions\t set_string_function\t setbufsize\t setdiff1d\t seterr\t seterrcall\t seterrobj\t setxor1d\t shape\t \n",
      "shares_memory\t short\t show_config\t show_runtime\t sign\t signbit\t signedinteger\t sin\t sinc\t \n",
      "single\t singlecomplex\t sinh\t size\t sometrue\t sort\t sort_complex\t source\t spacing\t \n",
      "split\t sqrt\t square\t squeeze\t stack\t std\t str_\t string_\t subtract\t \n",
      "sum\t swapaxes\t take\t take_along_axis\t tan\t tanh\t tensordot\t tile\t timedelta64\t \n",
      "trace\t tracemalloc_domain\t transpose\t trapz\t tri\t tril\t tril_indices\t tril_indices_from\t trim_zeros\t \n",
      "triu\t triu_indices\t triu_indices_from\t true_divide\t trunc\t typecodes\t typename\t ubyte\t ufunc\t \n",
      "uint\t uint16\t uint32\t uint64\t uint8\t uintc\t uintp\t ulonglong\t unicode_\t \n",
      "union1d\t unique\t unpackbits\t unravel_index\t unsignedinteger\t unwrap\t ushort\t vander\t var\t \n",
      "vdot\t vectorize\t void\t vsplit\t vstack\t where\t who\t zeros\t zeros_like\t \n",
      "\n"
     ]
    }
   ],
   "source": [
    "#注意科学计数法的错误写法\n",
    "#1.1 e34\n",
    "#1.1e 34\n",
    "#1.1e3.0\n",
    "# 这里必须要连接起来，不能有空格\n",
    "from numpy import *\n",
    "import pandas\n",
    "%who\n"
   ]
  },
  {
   "cell_type": "markdown",
   "metadata": {
    "slideshow": {
     "slide_type": "subslide"
    }
   },
   "source": [
    "### 浮点数的特性\n",
    "\n",
    "* 有界，存储和表示有界\n",
    "\n",
    "* 精度限制\n",
    "\n",
    "* 运算存在误差"
   ]
  },
  {
   "cell_type": "code",
   "execution_count": 13,
   "metadata": {
    "slideshow": {
     "slide_type": "subslide"
    }
   },
   "outputs": [
    {
     "name": "stdout",
     "output_type": "stream",
     "text": [
      "309\n"
     ]
    }
   ],
   "source": [
    "# 探测正浮点数的边界\n",
    "import math\n",
    "x1 = 1.0; n=0\n",
    "while not math.isinf(x1):\n",
    "    x1 = x1*10.0\n",
    "    n += 1\n",
    "print(n)"
   ]
  },
  {
   "cell_type": "code",
   "execution_count": null,
   "metadata": {},
   "outputs": [],
   "source": []
  },
  {
   "cell_type": "code",
   "execution_count": 14,
   "metadata": {
    "slideshow": {
     "slide_type": "subslide"
    }
   },
   "outputs": [
    {
     "data": {
      "text/plain": [
       "(1.7e+308, inf, inf)"
      ]
     },
     "execution_count": 14,
     "metadata": {},
     "output_type": "execute_result"
    }
   ],
   "source": [
    "1.7e308, 1.8e308, 1.7e309  # 超过一定数值之后，浮点数不再能够进行区分"
   ]
  },
  {
   "cell_type": "code",
   "execution_count": 15,
   "metadata": {
    "slideshow": {
     "slide_type": "subslide"
    }
   },
   "outputs": [
    {
     "name": "stdout",
     "output_type": "stream",
     "text": [
      "324\n"
     ]
    }
   ],
   "source": [
    "#  探测正无穷小\n",
    "x1 = 1.0; n=0\n",
    "while x1:  # When will this loop end?\n",
    "    x1 = x1/10.0\n",
    "    n += 1\n",
    "print(n)"
   ]
  },
  {
   "cell_type": "markdown",
   "metadata": {
    "slideshow": {
     "slide_type": "subslide"
    }
   },
   "source": [
    "眼睛睁大点\n",
    "\n",
    "注意系统没有给任何提示或警告"
   ]
  },
  {
   "cell_type": "code",
   "execution_count": 16,
   "metadata": {
    "slideshow": {
     "slide_type": "fragment"
    }
   },
   "outputs": [
    {
     "data": {
      "text/plain": [
       "(5e-324, 1e-323, True)"
      ]
     },
     "execution_count": 16,
     "metadata": {},
     "output_type": "execute_result"
    }
   ],
   "source": [
    "3e-324, 1.2e-323, 8e322 == 8e522"
   ]
  },
  {
   "cell_type": "markdown",
   "metadata": {
    "slideshow": {
     "slide_type": "subslide"
    }
   },
   "source": [
    "浮点数超限之后会发生什么？"
   ]
  },
  {
   "cell_type": "code",
   "execution_count": 5,
   "metadata": {
    "slideshow": {
     "slide_type": "subslide"
    }
   },
   "outputs": [
    {
     "data": {
      "text/plain": [
       "True"
      ]
     },
     "execution_count": 5,
     "metadata": {},
     "output_type": "execute_result"
    }
   ],
   "source": [
    "5e321*30 == 8e333*21  # really?"
   ]
  },
  {
   "cell_type": "code",
   "execution_count": 7,
   "metadata": {
    "slideshow": {
     "slide_type": "fragment"
    }
   },
   "outputs": [
    {
     "data": {
      "text/plain": [
       "False"
      ]
     },
     "execution_count": 7,
     "metadata": {},
     "output_type": "execute_result"
    }
   ],
   "source": [
    "8e333 - 8e333 == 0"
   ]
  },
  {
   "cell_type": "code",
   "execution_count": 4,
   "metadata": {},
   "outputs": [
    {
     "name": "stdout",
     "output_type": "stream",
     "text": [
      "False\n",
      "True\n",
      "inf\n"
     ]
    }
   ],
   "source": [
    "import numpy as np\n",
    "# nan: not a number\n",
    "print(np.nan == np.nan)\n",
    "print(np.inf == np.inf)\n",
    "print(float('inf'))\n"
   ]
  },
  {
   "cell_type": "markdown",
   "metadata": {
    "slideshow": {
     "slide_type": "subslide"
    }
   },
   "source": [
    "这是由于在浮点数上存在一系列规则"
   ]
  },
  {
   "cell_type": "code",
   "execution_count": 4,
   "metadata": {
    "slideshow": {
     "slide_type": "subslide"
    }
   },
   "outputs": [
    {
     "data": {
      "text/plain": [
       "(inf, nan, inf, nan)"
      ]
     },
     "execution_count": 4,
     "metadata": {},
     "output_type": "execute_result"
    }
   ],
   "source": [
    "float('inf') + float('inf'), float('inf') - float('inf'), float('inf') * float('inf'), float('inf') / float('inf')\n",
    "# 注意：inf - inf, inf / inf 是无法进行计算的，就像0/0无法计算"
   ]
  },
  {
   "cell_type": "code",
   "execution_count": 7,
   "metadata": {
    "slideshow": {
     "slide_type": "subslide"
    }
   },
   "outputs": [
    {
     "data": {
      "text/plain": [
       "(inf, inf, inf, inf)"
      ]
     },
     "execution_count": 7,
     "metadata": {},
     "output_type": "execute_result"
    }
   ],
   "source": [
    "float('inf') + 3e302, float('inf') - 3e302, float('inf') * 3e-302, float('inf') / 3e-302\n",
    "# 只要和inf进行计算的不是inf而是一个确定的数值，都没用，全是inf"
   ]
  },
  {
   "cell_type": "code",
   "execution_count": 10,
   "metadata": {
    "slideshow": {
     "slide_type": "subslide"
    }
   },
   "outputs": [
    {
     "name": "stdout",
     "output_type": "stream",
     "text": [
      "True False\n"
     ]
    }
   ],
   "source": [
    "print(float('inf')*3 == float('inf'), float('nan') == float('nan'))\n",
    "# print(float('inf') / 0)这个返回divisionerror而不是inf"
   ]
  },
  {
   "cell_type": "code",
   "execution_count": 11,
   "metadata": {
    "slideshow": {
     "slide_type": "subslide"
    }
   },
   "outputs": [
    {
     "data": {
      "text/plain": [
       "inf"
      ]
     },
     "execution_count": 11,
     "metadata": {},
     "output_type": "execute_result"
    }
   ],
   "source": [
    "# 猜猜看，以下表达式的返回值会是多少？\n",
    "5e308 * 3e-306"
   ]
  },
  {
   "cell_type": "code",
   "execution_count": 6,
   "metadata": {
    "slideshow": {
     "slide_type": "subslide"
    }
   },
   "outputs": [
    {
     "data": {
      "text/plain": [
       "(inf, inf, nan, nan)"
      ]
     },
     "execution_count": 6,
     "metadata": {},
     "output_type": "execute_result"
    }
   ],
   "source": [
    "# 特殊浮点数的表示和生成\n",
    "float('inf'), float('Infinity'), float('NaN'), float('nan')"
   ]
  },
  {
   "cell_type": "markdown",
   "metadata": {
    "slideshow": {
     "slide_type": "subslide"
    }
   },
   "source": [
    "inf和nan小结\n",
    "* inf加减乘除任何一个实数结果都是Inf\n",
    "* inf与inf相加、相乘都是inf\n",
    "* inf减去或者除以inf,结果为nan\n",
    "* __inf与inf相等__（注意这条规则）\n",
    "* nan与任何数计算结果都是nan\n",
    "* __nan不等于nan__"
   ]
  },
  {
   "cell_type": "markdown",
   "metadata": {
    "slideshow": {
     "slide_type": "slide"
    }
   },
   "source": [
    "### 浮点数的幽灵\n",
    "\n",
    "由于计算机存储和计算的局限性，浮点数的运算只能精确到一定程度，因此会产生一定误差。误差虽然小，但是足以产生逻辑错误，必须在编程时小心处理，尤其是比较操作。浮点数运算有误差！"
   ]
  },
  {
   "cell_type": "code",
   "execution_count": 18,
   "metadata": {
    "slideshow": {
     "slide_type": "subslide"
    }
   },
   "outputs": [
    {
     "name": "stdout",
     "output_type": "stream",
     "text": [
      "not equal\n"
     ]
    }
   ],
   "source": [
    "if 1/2+1/3-5/6==0:\n",
    "    print('equal')\n",
    "else:\n",
    "    print('not equal')"
   ]
  },
  {
   "cell_type": "code",
   "execution_count": 22,
   "metadata": {
    "slideshow": {
     "slide_type": "subslide"
    }
   },
   "outputs": [
    {
     "name": "stdout",
     "output_type": "stream",
     "text": [
      "equal\n"
     ]
    }
   ],
   "source": [
    "if 1/3-5/6+1/2==0:\n",
    "    print('equal')\n",
    "else:\n",
    "    print('not equal')"
   ]
  },
  {
   "cell_type": "markdown",
   "metadata": {
    "slideshow": {
     "slide_type": "subslide"
    }
   },
   "source": [
    "有时候你的程序运行正常，只是你幸运。然而幸运并不是每次都会出席。只有逻辑上正确才不需要幸运的帮忙。\n",
    "\n",
    "思考：既然浮点数存在运算误差，该如何修改上述代码？"
   ]
  },
  {
   "cell_type": "code",
   "execution_count": 14,
   "metadata": {
    "slideshow": {
     "slide_type": "subslide"
    }
   },
   "outputs": [
    {
     "data": {
      "text/plain": [
       "True"
      ]
     },
     "execution_count": 14,
     "metadata": {},
     "output_type": "execute_result"
    }
   ],
   "source": [
    "# python3.5之后math库中函数isclose可以用于解决这个问题\n",
    "import math\n",
    "math.isclose(1/2+1/3, 5/6, abs_tol=1e-16)"
   ]
  },
  {
   "cell_type": "markdown",
   "metadata": {
    "slideshow": {
     "slide_type": "subslide"
    }
   },
   "source": [
    "在金融计算等领域即便是一点很小的误差也可能会蔓延形成较大的误差。在需要高精度的处理场合，可以使用decimal模块来处理。"
   ]
  },
  {
   "cell_type": "code",
   "execution_count": 19,
   "metadata": {
    "slideshow": {
     "slide_type": "subslide"
    }
   },
   "outputs": [
    {
     "name": "stdout",
     "output_type": "stream",
     "text": [
      "0.30000000000000004\n",
      "0.3\n"
     ]
    }
   ],
   "source": [
    "print(0.1 + 0.2)\n",
    "from decimal import Decimal\n",
    "x1 = Decimal('0.1')  # Caution, passing float using str\n",
    "x2 = Decimal('0.2')  # Caution\n",
    "print(x1 + x2)\n",
    "# 注意，传入的是字符串或者表达起来无误差的项，否则在传参的过程中就出现误差了"
   ]
  },
  {
   "cell_type": "code",
   "execution_count": 31,
   "metadata": {
    "slideshow": {
     "slide_type": "subslide"
    }
   },
   "outputs": [],
   "source": [
    "# 下面的代码用来判断1/n - 1/(n+1)是否比1/n**2大，哪里存在错误？\n",
    "def compare1(n):\n",
    "    if 1/n - 1/(n+1) >= 1 / (n*n): return True\n"
   ]
  },
  {
   "cell_type": "code",
   "execution_count": 30,
   "metadata": {
    "slideshow": {
     "slide_type": "subslide"
    }
   },
   "outputs": [],
   "source": [
    "# 下面的代码用来比较两个非常大的数的运算结果,哪里存在错误？\n",
    "def compare2(x, y):\n",
    "    if x * y / x < y + 1: return True\n"
   ]
  },
  {
   "cell_type": "markdown",
   "metadata": {
    "slideshow": {
     "slide_type": "subslide"
    }
   },
   "source": [
    "### 数值类型对象的关系运算\n",
    "\n",
    "* 关系运算，即比较运算，返回bool值表示比较结果。包括的运算符号有\n",
    "\n",
    "< (小于), <= (小于或等于), > (大于)， >= (大于或等于)，== (等于)， != (不等于)\n",
    "\n",
    "注意：两个符号合成的运算中间不能用空格断开。不等于运算不能使用(<>)\n"
   ]
  },
  {
   "cell_type": "code",
   "execution_count": 20,
   "metadata": {
    "slideshow": {
     "slide_type": "subslide"
    }
   },
   "outputs": [
    {
     "data": {
      "text/plain": [
       "(True, False, True)"
      ]
     },
     "execution_count": 20,
     "metadata": {},
     "output_type": "execute_result"
    }
   ],
   "source": [
    "32> 5, 1.25 < 1.25, 1.25 == 1.25"
   ]
  },
  {
   "cell_type": "code",
   "execution_count": 21,
   "metadata": {},
   "outputs": [
    {
     "data": {
      "text/plain": [
       "(2, 1, 3)"
      ]
     },
     "execution_count": 21,
     "metadata": {},
     "output_type": "execute_result"
    }
   ],
   "source": [
    "# <<，>>是二进制位移\n",
    "# & 按位与\n",
    "# ^ 按位异或\n",
    "# | 按位或\n",
    "2 & 3, 2 ^ 3, 2 | 3"
   ]
  },
  {
   "cell_type": "markdown",
   "metadata": {
    "slideshow": {
     "slide_type": "slide"
    }
   },
   "source": [
    "## 3.3 complex复数\n",
    "\n",
    "当数值字面量含有j或J时，python自动创建complex对象实例。\n",
    "注意：在数值和j之间不能有乘号。"
   ]
  },
  {
   "cell_type": "code",
   "execution_count": 24,
   "metadata": {
    "slideshow": {
     "slide_type": "subslide"
    }
   },
   "outputs": [
    {
     "data": {
      "text/plain": [
       "((1+2j), (3-4j))"
      ]
     },
     "execution_count": 24,
     "metadata": {},
     "output_type": "execute_result"
    }
   ],
   "source": [
    "1+2j, 3-4j"
   ]
  },
  {
   "cell_type": "code",
   "execution_count": 17,
   "metadata": {
    "slideshow": {
     "slide_type": "subslide"
    }
   },
   "outputs": [
    {
     "name": "stdout",
     "output_type": "stream",
     "text": [
      "<class 'complex'>\n"
     ]
    }
   ],
   "source": [
    "print(type(5+6j))"
   ]
  },
  {
   "cell_type": "markdown",
   "metadata": {
    "slideshow": {
     "slide_type": "subslide"
    }
   },
   "source": [
    "复数之间支持加减乘除和乘法等各种数学运算。复数的数学运算函数可以在cmath模块中找到。"
   ]
  },
  {
   "cell_type": "code",
   "execution_count": 26,
   "metadata": {
    "slideshow": {
     "slide_type": "subslide"
    }
   },
   "outputs": [
    {
     "data": {
      "text/plain": [
       "(1.0, 2.0)"
      ]
     },
     "execution_count": 26,
     "metadata": {},
     "output_type": "execute_result"
    }
   ],
   "source": [
    "c1 = 1+2j\n",
    "c1.real,c1.imag"
   ]
  },
  {
   "cell_type": "markdown",
   "metadata": {
    "slideshow": {
     "slide_type": "subslide"
    }
   },
   "source": [
    "可以访问复数对象的real和imag属性得到复数的实部和虚部。"
   ]
  },
  {
   "cell_type": "markdown",
   "metadata": {
    "slideshow": {
     "slide_type": "slide"
    }
   },
   "source": [
    "## 3.4 bool类型\n",
    "\n",
    "bool类型有两个值，分别为\n",
    "* 逻辑值'真' True\n",
    "* 逻辑值'假' False\n",
    "* 注意是大写\n",
    "\n",
    "\n",
    "bool数据的逻辑运算结果为bool类型。"
   ]
  },
  {
   "cell_type": "code",
   "execution_count": 27,
   "metadata": {
    "slideshow": {
     "slide_type": "subslide"
    }
   },
   "outputs": [
    {
     "data": {
      "text/plain": [
       "(True, False)"
      ]
     },
     "execution_count": 27,
     "metadata": {},
     "output_type": "execute_result"
    }
   ],
   "source": [
    "True, False"
   ]
  },
  {
   "cell_type": "code",
   "execution_count": 28,
   "metadata": {
    "slideshow": {
     "slide_type": "subslide"
    }
   },
   "outputs": [
    {
     "data": {
      "text/plain": [
       "(True, False)"
      ]
     },
     "execution_count": 28,
     "metadata": {},
     "output_type": "execute_result"
    }
   ],
   "source": [
    "1<2, 3>4"
   ]
  },
  {
   "cell_type": "code",
   "execution_count": 22,
   "metadata": {
    "slideshow": {
     "slide_type": "subslide"
    }
   },
   "outputs": [
    {
     "data": {
      "text/plain": [
       "(True, True, True, True)"
      ]
     },
     "execution_count": 22,
     "metadata": {},
     "output_type": "execute_result"
    }
   ],
   "source": [
    "# 可以使用bool创建布尔对象，注意结果可能跟你想的不一样\n",
    "bool(3<4), bool(2==2.0), bool('False'), bool('True')\n",
    "# 注意，只要是非空字符串都是True"
   ]
  },
  {
   "cell_type": "markdown",
   "metadata": {
    "slideshow": {
     "slide_type": "subslide"
    }
   },
   "source": [
    "比较运算支持连写的形式。"
   ]
  },
  {
   "cell_type": "code",
   "execution_count": 23,
   "metadata": {
    "slideshow": {
     "slide_type": "fragment"
    }
   },
   "outputs": [
    {
     "name": "stdout",
     "output_type": "stream",
     "text": [
      "True\n",
      "True\n"
     ]
    }
   ],
   "source": [
    "print(1 < 5 < 8 > 2)  # 仔细想一想这个表达式的含义，比较运算连写时是否存在运算优先级问题？\n",
    "# 注意，上面这个是：\n",
    "# 也就是说：并没优先级问题，其实就是省略了中间的operand出想多次\n",
    "print(1 < 5 and 5 < 8 and 8 > 2)"
   ]
  },
  {
   "cell_type": "markdown",
   "metadata": {
    "slideshow": {
     "slide_type": "subslide"
    }
   },
   "source": [
    "### 逻辑运算\n",
    "\n",
    "* and 逻辑与\n",
    "* or 逻辑或\n",
    "* not 逻辑非\n",
    "\n",
    "* 注意：python中的逻辑运算对应的都是英文哈，没有&& ||这些，而&, |表示的是位运算\n",
    "* 运算优先级：not > and > or"
   ]
  },
  {
   "cell_type": "code",
   "execution_count": 30,
   "metadata": {
    "slideshow": {
     "slide_type": "subslide"
    }
   },
   "outputs": [
    {
     "data": {
      "text/plain": [
       "(True, False, True)"
      ]
     },
     "execution_count": 30,
     "metadata": {},
     "output_type": "execute_result"
    }
   ],
   "source": [
    "True and True, True and False, True or False"
   ]
  },
  {
   "cell_type": "code",
   "execution_count": 31,
   "metadata": {
    "slideshow": {
     "slide_type": "subslide"
    }
   },
   "outputs": [
    {
     "data": {
      "text/plain": [
       "True"
      ]
     },
     "execution_count": 31,
     "metadata": {},
     "output_type": "execute_result"
    }
   ],
   "source": [
    "not -1 or True "
   ]
  },
  {
   "cell_type": "code",
   "execution_count": 32,
   "metadata": {
    "slideshow": {
     "slide_type": "subslide"
    }
   },
   "outputs": [
    {
     "data": {
      "text/plain": [
       "True"
      ]
     },
     "execution_count": 32,
     "metadata": {},
     "output_type": "execute_result"
    }
   ],
   "source": [
    "not 1<2 and 3>4 or 5<6"
   ]
  },
  {
   "cell_type": "markdown",
   "metadata": {
    "slideshow": {
     "slide_type": "subslide"
    }
   },
   "source": [
    "当参与逻辑运算的只有bool值时，运算结果为bool值。\n",
    "\n",
    "不过，逻辑运算不仅仅局限于bool值之间。\n",
    "\n",
    "当有多种类型数据参与逻辑运算时，运算结果可能是bool值，也可能是其他数据类型。"
   ]
  },
  {
   "cell_type": "markdown",
   "metadata": {
    "slideshow": {
     "slide_type": "subslide"
    }
   },
   "source": [
    "先猜一猜以下逻辑运算的结果是什么？\n",
    "\n",
    "1 or 2\n",
    "\n",
    "2 or 1\n",
    "\n",
    "3.5 or 4.25"
   ]
  },
  {
   "cell_type": "markdown",
   "metadata": {
    "slideshow": {
     "slide_type": "subslide"
    }
   },
   "source": [
    "先猜一猜：\n",
    "\n",
    "* 一种可能性：返回True, False\n",
    "* 另一种可能性：or运算用max(), and运算用min()\n",
    "* 会不会有其他可能性呢？\n",
    "\n",
    "我们先来看看系统实际运行结果"
   ]
  },
  {
   "cell_type": "code",
   "execution_count": 5,
   "metadata": {
    "slideshow": {
     "slide_type": "subslide"
    }
   },
   "outputs": [
    {
     "data": {
      "text/plain": [
       "(1, 2, 4.25)"
      ]
     },
     "execution_count": 5,
     "metadata": {},
     "output_type": "execute_result"
    }
   ],
   "source": [
    "1 or 2, 2 or 1, 3.5 and 4.25  # 为什么？\n",
    "# or会偷懒，如果前面的有了一个True的值，直接就返回该值，而不会再往后判断\n",
    "# and会在遇到False短路，如果全都是非False的值，就返回最后一个"
   ]
  },
  {
   "cell_type": "markdown",
   "metadata": {
    "slideshow": {
     "slide_type": "slide"
    }
   },
   "source": [
    "### 短路计算规则\n",
    "\n",
    "and和or采用短路计算法则。总是避免多余的计算。结果的逻辑值一旦确定，则不再计算表达式的剩余部分。\n",
    "\n",
    "比如： 2 or 3 or 0.由于是or运算，执行到第一个操作数，即可判断表达式为真，因此运算结果为2."
   ]
  },
  {
   "cell_type": "code",
   "execution_count": 34,
   "metadata": {
    "slideshow": {
     "slide_type": "subslide"
    }
   },
   "outputs": [
    {
     "data": {
      "text/plain": [
       "2"
      ]
     },
     "execution_count": 34,
     "metadata": {},
     "output_type": "execute_result"
    }
   ],
   "source": [
    "2 or 3 or 0"
   ]
  },
  {
   "cell_type": "code",
   "execution_count": 7,
   "metadata": {
    "slideshow": {
     "slide_type": "subslide"
    }
   },
   "outputs": [
    {
     "data": {
      "text/plain": [
       "('ok', None, None)"
      ]
     },
     "execution_count": 7,
     "metadata": {},
     "output_type": "execute_result"
    }
   ],
   "source": [
    "import numpy as np\n",
    "# 运用短路计算规则进行赋值\n",
    "a = None; b = 'ok'; c = np.nan # 把a改成5试试看\n",
    "x = a or b or c\n",
    "y = a and b and c # 这里返回None\n",
    "z = c and b and a # 这里返回的是None而不是nan哈\n",
    "x, y, z"
   ]
  },
  {
   "cell_type": "markdown",
   "metadata": {
    "slideshow": {
     "slide_type": "subslide"
    }
   },
   "source": [
    "bool值参与数学运算\n",
    "\n",
    "既然整数、浮点数等都可以参与逻辑运算，那么bool值能否参与加减乘除等数学运算呢？"
   ]
  },
  {
   "cell_type": "code",
   "execution_count": 30,
   "metadata": {
    "slideshow": {
     "slide_type": "subslide"
    }
   },
   "outputs": [
    {
     "name": "stdout",
     "output_type": "stream",
     "text": [
      "0\n",
      "1\n"
     ]
    },
    {
     "data": {
      "text/plain": [
       "9"
      ]
     },
     "execution_count": 30,
     "metadata": {},
     "output_type": "execute_result"
    }
   ],
   "source": [
    "x1 = 2; x2 = 11\n",
    "print(int(x2 < x1))\n",
    "print(int(x2 > x1))\n",
    "(x2 - x1) * (x2 > x1)"
   ]
  },
  {
   "cell_type": "markdown",
   "metadata": {
    "slideshow": {
     "slide_type": "subslide"
    }
   },
   "source": [
    "巧妙的使用bool值的这个特性，可以让代码变得更加简洁易懂。若需要计算$(x_2 - x_1)^+$的时候，上面的表达式极为简洁易懂。"
   ]
  },
  {
   "cell_type": "markdown",
   "metadata": {
    "slideshow": {
     "slide_type": "subslide"
    }
   },
   "source": [
    "## 运算优先级\n",
    "\n",
    "当一个表达式中存在多个运算时，运算的先后顺序由运算的优先级决定。如果要改变运算的优先级，可以使用小括号。"
   ]
  },
  {
   "cell_type": "code",
   "execution_count": 11,
   "metadata": {
    "slideshow": {
     "slide_type": "subslide"
    }
   },
   "outputs": [
    {
     "data": {
      "text/plain": [
       "(7, 9)"
      ]
     },
     "execution_count": 11,
     "metadata": {},
     "output_type": "execute_result"
    }
   ],
   "source": [
    "1 + 2 * 3, (1 + 2) * 3"
   ]
  },
  {
   "cell_type": "markdown",
   "metadata": {
    "slideshow": {
     "slide_type": "subslide"
    }
   },
   "source": [
    "### 运算优先级的一般规则\n",
    "\n",
    "算术运算 > 关系运算 > 测试运算 > 逻辑运算\n",
    "\n",
    "其中测试运算如in, not in, is, is not"
   ]
  },
  {
   "cell_type": "code",
   "execution_count": 12,
   "metadata": {
    "slideshow": {
     "slide_type": "fragment"
    }
   },
   "outputs": [
    {
     "data": {
      "text/plain": [
       "False"
      ]
     },
     "execution_count": 12,
     "metadata": {},
     "output_type": "execute_result"
    }
   ],
   "source": [
    "1 + 3 < 2 and 2 * 3 < 5"
   ]
  },
  {
   "cell_type": "markdown",
   "metadata": {
    "slideshow": {
     "slide_type": "slide"
    }
   },
   "source": [
    "## 3.5 数据转换\n",
    "\n",
    "* 自动转换\n",
    "* 强制转换"
   ]
  },
  {
   "cell_type": "markdown",
   "metadata": {
    "slideshow": {
     "slide_type": "subslide"
    }
   },
   "source": [
    "自动转换（隐式转换）是在当运算数不满足运算符的要求时，自动将运算数转换为所需要的类型。上面的例子中实际上我们已经多次见到。\n",
    "\n",
    "如整数与浮点数运算，会将整数转换为浮点数再进行运算，bool值参与数学运算，会将True转换为1，False转换为0.\n",
    "\n",
    "若转换不能自动进行，则会报错。"
   ]
  },
  {
   "cell_type": "code",
   "execution_count": 36,
   "metadata": {
    "slideshow": {
     "slide_type": "subslide"
    }
   },
   "outputs": [
    {
     "data": {
      "text/plain": [
       "(127.56, 124)"
      ]
     },
     "execution_count": 36,
     "metadata": {},
     "output_type": "execute_result"
    }
   ],
   "source": [
    "123 + 4.56, 123 + True"
   ]
  },
  {
   "cell_type": "code",
   "execution_count": 11,
   "metadata": {
    "slideshow": {
     "slide_type": "subslide"
    }
   },
   "outputs": [],
   "source": [
    "# \"123\"+56"
   ]
  },
  {
   "cell_type": "markdown",
   "metadata": {
    "slideshow": {
     "slide_type": "subslide"
    }
   },
   "source": [
    "有时候会出现一些特殊的情况，看起来不能进行的运算反而没有报错。实际上，这是运算符重载。"
   ]
  },
  {
   "cell_type": "code",
   "execution_count": 38,
   "metadata": {
    "slideshow": {
     "slide_type": "fragment"
    }
   },
   "outputs": [
    {
     "data": {
      "text/plain": [
       "'123123123123'"
      ]
     },
     "execution_count": 38,
     "metadata": {},
     "output_type": "execute_result"
    }
   ],
   "source": [
    "\"123\" * 4"
   ]
  },
  {
   "cell_type": "markdown",
   "metadata": {
    "slideshow": {
     "slide_type": "subslide"
    }
   },
   "source": [
    "数据强制转换\n",
    "\n",
    "当需要某种特定数据类型时，或者自动转换无法达到特定目的时，可以采用强制转换。一般是使用对应数据类型的构造函数来处理。"
   ]
  },
  {
   "cell_type": "markdown",
   "metadata": {
    "slideshow": {
     "slide_type": "subslide"
    }
   },
   "source": [
    "相应的构造函数有：\n",
    "* int() 整数类型\n",
    "* float() 浮点数类型\n",
    "* bool() bool类型\n",
    "* complex() 复数类型"
   ]
  },
  {
   "cell_type": "code",
   "execution_count": 39,
   "metadata": {
    "slideshow": {
     "slide_type": "subslide"
    }
   },
   "outputs": [
    {
     "data": {
      "text/plain": [
       "(492, 12.3, (1+2j))"
      ]
     },
     "execution_count": 39,
     "metadata": {},
     "output_type": "execute_result"
    }
   ],
   "source": [
    "int('123')*4, float('12.3'), complex('1+2j')"
   ]
  },
  {
   "cell_type": "markdown",
   "metadata": {
    "slideshow": {
     "slide_type": "subslide"
    }
   },
   "source": [
    "若强制转换无法完成，则会提示错误ValueError.\n",
    "\n",
    "若强制转换导致溢出，会提示错误OverflowError. 由于整数无上限，在转换为浮点数时有可能导致溢出。"
   ]
  },
  {
   "cell_type": "code",
   "execution_count": 15,
   "metadata": {
    "slideshow": {
     "slide_type": "subslide"
    }
   },
   "outputs": [],
   "source": [
    "#int('123xy')\n",
    "#10**500 + 10**100"
   ]
  },
  {
   "cell_type": "markdown",
   "metadata": {
    "slideshow": {
     "slide_type": "slide"
    }
   },
   "source": [
    "## 3.6 str字符串数据类型\n",
    "\n",
    "* 字符串是一个有序的字符列表\n",
    "* python中没有独立的字符类型，字符可以视为长度为1的字符串\n",
    "* str对象属于不可变对象"
   ]
  },
  {
   "cell_type": "code",
   "execution_count": 41,
   "metadata": {
    "slideshow": {
     "slide_type": "subslide"
    }
   },
   "outputs": [
    {
     "data": {
      "text/plain": [
       "('abc', '123', str)"
      ]
     },
     "execution_count": 41,
     "metadata": {},
     "output_type": "execute_result"
    }
   ],
   "source": [
    "\"abc\",'123',type('xyz')"
   ]
  },
  {
   "cell_type": "markdown",
   "metadata": {
    "slideshow": {
     "slide_type": "subslide"
    }
   },
   "source": [
    "字符串定界符\n",
    "\n",
    "* 三种定界符定义的字符串没有本质差异\n",
    "* 单引号定界符内可以包含双引号\n",
    "* 双引号定界符内可以包含单引号\n",
    "* 三引号定界符内可以包含回车符：可以直接换行，然后保存时会保存\\n"
   ]
  },
  {
   "cell_type": "code",
   "execution_count": 42,
   "metadata": {
    "slideshow": {
     "slide_type": "subslide"
    }
   },
   "outputs": [
    {
     "data": {
      "text/plain": [
       "(True, True)"
      ]
     },
     "execution_count": 42,
     "metadata": {},
     "output_type": "execute_result"
    }
   ],
   "source": [
    "'123'==\"123\", \"abc\"=='''abc'''"
   ]
  },
  {
   "cell_type": "code",
   "execution_count": 43,
   "metadata": {
    "slideshow": {
     "slide_type": "subslide"
    }
   },
   "outputs": [
    {
     "data": {
      "text/plain": [
       "(True, True)"
      ]
     },
     "execution_count": 43,
     "metadata": {},
     "output_type": "execute_result"
    }
   ],
   "source": [
    "'123' is \"123\", \"abc\" is '''abc'''"
   ]
  },
  {
   "cell_type": "code",
   "execution_count": 33,
   "metadata": {
    "slideshow": {
     "slide_type": "subslide"
    }
   },
   "outputs": [
    {
     "name": "stdout",
     "output_type": "stream",
     "text": [
      "moon\n",
      "wall\n",
      "dog\n",
      "\n"
     ]
    }
   ],
   "source": [
    "a = '''moon\n",
    "wall\n",
    "dog\n",
    "'''\n",
    "print(a)"
   ]
  },
  {
   "cell_type": "markdown",
   "metadata": {
    "slideshow": {
     "slide_type": "subslide"
    }
   },
   "source": [
    "字符串编码\n",
    "\n",
    "* Python3默认字符采用16位unicode编码\n",
    "* 可以使用字符串先导符‘u’指定unicode字符串\n",
    "* 使用ord()可以获取字符的unicode码\n",
    "* 使用chr()可以获得unicode码对应的字符"
   ]
  },
  {
   "cell_type": "markdown",
   "metadata": {
    "slideshow": {
     "slide_type": "subslide"
    }
   },
   "source": [
    "小游戏：考考你的识字水平。"
   ]
  },
  {
   "cell_type": "code",
   "execution_count": 45,
   "metadata": {
    "slideshow": {
     "slide_type": "subslide"
    }
   },
   "outputs": [
    {
     "name": "stdout",
     "output_type": "stream",
     "text": [
      "㺖 㺗 㺘 㺙 㺚 㺛 㺜 㺝 㺞 㺟 㺠 㺡 㺢 㺣 㺤 㺥 㺦 㺧 㺨 㺩 㺪 㺫 㺬 㺭 㺮 㺯 㺰 㺱 㺲 㺳 㺴 㺵 㺶 㺷 㺸 㺹 㺺 㺻 㺼 㺽 㺾 㺿 㻀 㻁 㻂 㻃 㻄 㻅 㻆 㻇 㻈 㻉 㻊 㻋 㻌 㻍 㻎 㻏 㻐 㻑 㻒 㻓 㻔 㻕 㻖 㻗 㻘 㻙 㻚 㻛 㻜 㻝 㻞 㻟 㻠 㻡 㻢 㻣 "
     ]
    }
   ],
   "source": [
    "for i in range(16022,16100):\n",
    "    print(chr(i),end=' ')"
   ]
  },
  {
   "cell_type": "code",
   "execution_count": 46,
   "metadata": {
    "slideshow": {
     "slide_type": "subslide"
    }
   },
   "outputs": [
    {
     "name": "stdout",
     "output_type": "stream",
     "text": [
      "23398 20064\n"
     ]
    }
   ],
   "source": [
    "print(ord('学'),ord('习'))"
   ]
  },
  {
   "cell_type": "markdown",
   "metadata": {
    "slideshow": {
     "slide_type": "subslide"
    }
   },
   "source": [
    "### 字符串转义字符\n",
    "\n",
    "* 特殊字符尤其是一系列不可见字符可以使用转义字符表示。转义字符以反斜杠'\\'开始。\n",
    "* 当字符串中含有反斜杠时，该字符必须被转义。\n",
    "* 当字符串中含有字符串定界符时，该字符必须被转义。"
   ]
  },
  {
   "cell_type": "code",
   "execution_count": 47,
   "metadata": {
    "slideshow": {
     "slide_type": "subslide"
    }
   },
   "outputs": [
    {
     "name": "stdout",
     "output_type": "stream",
     "text": [
      "nothing to escape he said, 'it's ok' a\tb\tc\t\n"
     ]
    }
   ],
   "source": [
    "s1 = \"nothing to escape\"\n",
    "s2 = 'he said, \\'it\\'s ok\\''\n",
    "s3 = 'a\\tb\\tc\\t'\n",
    "print(s1,s2,s3)"
   ]
  },
  {
   "cell_type": "code",
   "execution_count": 48,
   "metadata": {
    "slideshow": {
     "slide_type": "subslide"
    }
   },
   "outputs": [
    {
     "name": "stdout",
     "output_type": "stream",
     "text": [
      "no one \\ is here\n"
     ]
    }
   ],
   "source": [
    "s4 = \"no one \\\\ is here\"\n",
    "print(s4)"
   ]
  },
  {
   "cell_type": "markdown",
   "metadata": {
    "slideshow": {
     "slide_type": "subslide"
    }
   },
   "source": [
    "常见特殊符号的转义字符\n",
    "\n",
    "* \\n 换行\n",
    "* \\t 水平制表符\n",
    "* \\v 垂直制表符\n",
    "* \\ooo 八进制字符（ooo代表三位八进制数）\n",
    "* \\xHH 十六进制字符（HH代表两位十六进制数）\n",
    "* \\uHHHH unicode字符"
   ]
  },
  {
   "cell_type": "markdown",
   "metadata": {
    "slideshow": {
     "slide_type": "subslide"
    }
   },
   "source": [
    "* 如果字符串的定界符为单引号，则字符串中的双引号不需要转义。\n",
    "* 如果字符串的定界符为双引号，则字符串中的单引号不需要转义。\n",
    "* 如果字符串的定界符为三引号，则单引号、双引号和回车符不需要转义。\n"
   ]
  },
  {
   "cell_type": "code",
   "execution_count": 49,
   "metadata": {
    "slideshow": {
     "slide_type": "subslide"
    }
   },
   "outputs": [
    {
     "data": {
      "text/plain": [
       "(\"it's ok\", 'the \"good\" apple', '\\nit\\'s ok\\nthe \"good\" time never ends\\n')"
      ]
     },
     "execution_count": 49,
     "metadata": {},
     "output_type": "execute_result"
    }
   ],
   "source": [
    "s5 = \"it's ok\"\n",
    "s6 = 'the \"good\" apple'\n",
    "s7 ='''\n",
    "it's ok\n",
    "the \"good\" time never ends\n",
    "'''\n",
    "s5,s6,s7"
   ]
  },
  {
   "cell_type": "markdown",
   "metadata": {
    "slideshow": {
     "slide_type": "subslide"
    }
   },
   "source": [
    "### 原生字符串\n",
    "\n",
    "字符串之前使用__先导符r或者R__，代表字符串为原生字符，其中的字符不需要转义。\n",
    "\n",
    "除非其中含有字符串定界符（需要转义）。\n",
    "\n",
    "所以说，re正则表达式中pattern总是使用r''其实就是表示是一个原生字符串"
   ]
  },
  {
   "cell_type": "code",
   "execution_count": 12,
   "metadata": {
    "slideshow": {
     "slide_type": "subslide"
    }
   },
   "outputs": [
    {
     "data": {
      "text/plain": [
       "('\\\\t\\\\r\\\\n都是特殊字符', '换行符为\\\\n')"
      ]
     },
     "execution_count": 12,
     "metadata": {},
     "output_type": "execute_result"
    }
   ],
   "source": [
    "s5 = r\"\\t\\r\\n都是特殊字符\"\n",
    "s6 = R'换行符为\\n'\n",
    "s5,s6"
   ]
  },
  {
   "cell_type": "markdown",
   "metadata": {
    "slideshow": {
     "slide_type": "subslide"
    }
   },
   "source": [
    "可以使用转义符号加字符的unicode编码表示字符。\n",
    "\n",
    "比如ascii码字符的编码范围为0-127"
   ]
  },
  {
   "cell_type": "code",
   "execution_count": 51,
   "metadata": {
    "slideshow": {
     "slide_type": "subslide"
    }
   },
   "outputs": [
    {
     "data": {
      "text/plain": [
       "('abc', 'ABC')"
      ]
     },
     "execution_count": 51,
     "metadata": {},
     "output_type": "execute_result"
    }
   ],
   "source": [
    "s7 = '\\x61\\x62\\x63'\n",
    "s8 = '\\u0041\\u0042\\u0043'\n",
    "s7,s8"
   ]
  },
  {
   "cell_type": "code",
   "execution_count": 52,
   "metadata": {
    "slideshow": {
     "slide_type": "subslide"
    }
   },
   "outputs": [
    {
     "data": {
      "text/plain": [
       "('?', 'A')"
      ]
     },
     "execution_count": 52,
     "metadata": {},
     "output_type": "execute_result"
    }
   ],
   "source": [
    "'\\077','\\101' # 八进制，使用三位八进制数代表一个ascii码字符"
   ]
  },
  {
   "cell_type": "markdown",
   "metadata": {
    "slideshow": {
     "slide_type": "subslide"
    }
   },
   "source": [
    "如果不符合上述转义字符的形式，则系统会自动将其转换为最合理的一个猜测。"
   ]
  },
  {
   "cell_type": "code",
   "execution_count": 35,
   "metadata": {
    "slideshow": {
     "slide_type": "fragment"
    }
   },
   "outputs": [
    {
     "data": {
      "text/plain": [
       "('\\\\98', '\\x81')"
      ]
     },
     "execution_count": 35,
     "metadata": {},
     "output_type": "execute_result"
    }
   ],
   "source": [
    "'\\98','\\201'"
   ]
  },
  {
   "cell_type": "code",
   "execution_count": 27,
   "metadata": {
    "slideshow": {
     "slide_type": "subslide"
    }
   },
   "outputs": [
    {
     "data": {
      "text/plain": [
       "('\\x06', '6', 'ƶ', 6, 54, 438)"
      ]
     },
     "execution_count": 27,
     "metadata": {},
     "output_type": "execute_result"
    }
   ],
   "source": [
    "'\\6', '\\66', '\\666', ord('\\6'), ord('\\66'), ord('\\666')"
   ]
  },
  {
   "cell_type": "markdown",
   "metadata": {
    "slideshow": {
     "slide_type": "subslide"
    }
   },
   "source": [
    "### str对象的属性和方法\n",
    "\n",
    "* 字符串的处理大多可以通过str对象提供的方法完成。\n",
    "* 方法1.调用对象的方法\n",
    "* 方法2.调用str类的方法\n"
   ]
  },
  {
   "cell_type": "code",
   "execution_count": 37,
   "metadata": {
    "slideshow": {
     "slide_type": "subslide"
    }
   },
   "outputs": [
    {
     "data": {
      "text/plain": [
       "('THE LOST ISLAND', 'the lost island', 'The Lost Island')"
      ]
     },
     "execution_count": 37,
     "metadata": {},
     "output_type": "execute_result"
    }
   ],
   "source": [
    "s9 = 'the lost island'\n",
    "s9.upper(),s9.lower(),s9.title()\n",
    "# 可以直接调用对象的方法    "
   ]
  },
  {
   "cell_type": "code",
   "execution_count": 38,
   "metadata": {
    "slideshow": {
     "slide_type": "subslide"
    }
   },
   "outputs": [
    {
     "data": {
      "text/plain": [
       "('THE LOST ISLAND', 'the lost island', 'The Lost Island')"
      ]
     },
     "execution_count": 38,
     "metadata": {},
     "output_type": "execute_result"
    }
   ],
   "source": [
    "str.upper(s9),str.lower(s9),str.title(s9)\n",
    "# 这里是调用str类的方法，将处理对喜作为参数"
   ]
  },
  {
   "cell_type": "markdown",
   "metadata": {
    "slideshow": {
     "slide_type": "subslide"
    }
   },
   "source": [
    "str类的常用方法（参见第15章）\n",
    "\n",
    "* 判断字符串类型，如str.isalpha()判断是否全为字母字符\n",
    "* 大小写转换，如str.lower()将所有字母转换为小写\n",
    "* 字符串清理，如str.strip()去除两边的空白字符（或其他指定字符）\n",
    "* 字符串测试，如str.startswith()判断是否以某个前缀开头\n",
    "* 字符串拆分与合并，如str.split()按指定字符切分字符串"
   ]
  },
  {
   "cell_type": "markdown",
   "metadata": {
    "slideshow": {
     "slide_type": "subslide"
    }
   },
   "source": [
    "除了字符串对象的方法以外，很多功能也可以通过序列的访问操作实现。\n"
   ]
  },
  {
   "cell_type": "code",
   "execution_count": 56,
   "metadata": {
    "slideshow": {
     "slide_type": "subslide"
    }
   },
   "outputs": [
    {
     "data": {
      "text/plain": [
       "('t', 'd')"
      ]
     },
     "execution_count": 56,
     "metadata": {},
     "output_type": "execute_result"
    }
   ],
   "source": [
    "s9[0], s9[-1]  # 字符串的首尾字符"
   ]
  },
  {
   "cell_type": "code",
   "execution_count": 57,
   "metadata": {
    "slideshow": {
     "slide_type": "subslide"
    }
   },
   "outputs": [
    {
     "data": {
      "text/plain": [
       "15"
      ]
     },
     "execution_count": 57,
     "metadata": {},
     "output_type": "execute_result"
    }
   ],
   "source": [
    "len(s9) # 字符串的长度"
   ]
  },
  {
   "cell_type": "markdown",
   "metadata": {
    "slideshow": {
     "slide_type": "fragment"
    }
   },
   "source": [
    "注意：由于字符串为不可变对象，所以任何试图改变字符串内元素的指令都会导致一个错误。\n",
    "\n",
    "因此，字符串的方法返回的字符串都是一个新的字符串对象，而不会修改原对象\n",
    "\n",
    "字符串方法都是返回新串"
   ]
  },
  {
   "cell_type": "code",
   "execution_count": 58,
   "metadata": {
    "slideshow": {
     "slide_type": "subslide"
    }
   },
   "outputs": [],
   "source": [
    "#s9[3] = '3'"
   ]
  },
  {
   "cell_type": "markdown",
   "metadata": {
    "slideshow": {
     "slide_type": "subslide"
    }
   },
   "source": [
    "### 字符串的格式化\n",
    "\n",
    "* 使用str.format函数\n",
    "* 使用字符串的format方法"
   ]
  },
  {
   "cell_type": "code",
   "execution_count": 9,
   "metadata": {
    "slideshow": {
     "slide_type": "subslide"
    }
   },
   "outputs": [
    {
     "data": {
      "text/plain": [
       "('3.4 \\t的长度为5', '\\t')"
      ]
     },
     "execution_count": 9,
     "metadata": {},
     "output_type": "execute_result"
    }
   ],
   "source": [
    "x = '3.4 \\11'\n",
    "'{0}的长度为{1}'.format(x, len(x)), '\\11'"
   ]
  },
  {
   "cell_type": "code",
   "execution_count": 39,
   "metadata": {
    "slideshow": {
     "slide_type": "subslide"
    }
   },
   "outputs": [
    {
     "data": {
      "text/plain": [
       "('   3.140', ' 3.140  ', '3.140   ', '   3.140')"
      ]
     },
     "execution_count": 39,
     "metadata": {},
     "output_type": "execute_result"
    }
   ],
   "source": [
    "y = 3.14\n",
    "# {0: 8.3f}这里0表示的是对应参数序号，有时可能一个参数对应两个位置\n",
    "str.format('{0:8.3f}',y), str.format('{0:^8.3f}',y), str.format('{0:<8.3f}',y),str.format('{0:>8.3f}',y)"
   ]
  },
  {
   "cell_type": "code",
   "execution_count": 16,
   "metadata": {
    "slideshow": {
     "slide_type": "fragment"
    }
   },
   "outputs": [
    {
     "data": {
      "text/plain": [
       "'10:30:29'"
      ]
     },
     "execution_count": 16,
     "metadata": {},
     "output_type": "execute_result"
    }
   ],
   "source": [
    "# 当不指明对应参数序号时，按照默认顺序\n",
    "'{}:{}:{}'.format(10,30,29)"
   ]
  },
  {
   "cell_type": "markdown",
   "metadata": {
    "slideshow": {
     "slide_type": "subslide"
    }
   },
   "source": [
    "### 字符串变量替换\n",
    "\n",
    "在Python3.6之后支持在字符串中进行变量替换。在字符串定界符前面使用前导符f表示，字符串中以花括号嵌入的变量将用变量值进行替换。"
   ]
  },
  {
   "cell_type": "code",
   "execution_count": 25,
   "metadata": {},
   "outputs": [
    {
     "name": "stdout",
     "output_type": "stream",
     "text": [
      "True\n",
      "6\n"
     ]
    }
   ],
   "source": [
    "print('520' in str(3**100))\n",
    "print(str(3**100).find('520'))"
   ]
  },
  {
   "cell_type": "code",
   "execution_count": 25,
   "metadata": {
    "slideshow": {
     "slide_type": "subslide"
    }
   },
   "outputs": [
    {
     "data": {
      "text/plain": [
       "'2022-2-22'"
      ]
     },
     "execution_count": 25,
     "metadata": {},
     "output_type": "execute_result"
    }
   ],
   "source": [
    "year, month, day = 2022, 2, 22\n",
    "x = f'{year}-{month}-{day}'\n",
    "x"
   ]
  },
  {
   "cell_type": "markdown",
   "metadata": {
    "slideshow": {
     "slide_type": "subslide"
    }
   },
   "source": [
    "### 字符串的编码转换\n",
    "\n",
    "* 同一个字符可以有多种不同编码方式\n",
    "* 不同编码方式下，同一个字符的编码可以不同\n",
    "* 字节串是字符串的低级表示"
   ]
  },
  {
   "cell_type": "code",
   "execution_count": 43,
   "metadata": {
    "slideshow": {
     "slide_type": "subslide"
    }
   },
   "outputs": [
    {
     "name": "stdout",
     "output_type": "stream",
     "text": [
      "b'\\xd6\\xd8\\xb4\\xf3' b'\\xe9\\x87\\x8d\\xe5\\xa4\\xa7'\n"
     ]
    }
   ],
   "source": [
    "s10 = \"重大\"\n",
    "s11 = s10.encode(encoding='GBK')  # 编码为一个字节码串\n",
    "s12 = s10.encode(encoding='utf-8')\n",
    "print(s11, s12)"
   ]
  },
  {
   "cell_type": "code",
   "execution_count": 60,
   "metadata": {
    "slideshow": {
     "slide_type": "subslide"
    }
   },
   "outputs": [
    {
     "name": "stdout",
     "output_type": "stream",
     "text": [
      "重大\n"
     ]
    }
   ],
   "source": [
    "s12 = s11.decode(encoding='GBK')\n",
    "print(s12)"
   ]
  },
  {
   "cell_type": "markdown",
   "metadata": {
    "slideshow": {
     "slide_type": "subslide"
    }
   },
   "source": [
    "还记得s11采用的编码方式是GBK，如果我们要对它进行解码"
   ]
  },
  {
   "cell_type": "code",
   "execution_count": 61,
   "metadata": {
    "slideshow": {
     "slide_type": "fragment"
    }
   },
   "outputs": [],
   "source": [
    "#s11.decode() # 默认编解码方式为utf-8"
   ]
  },
  {
   "cell_type": "code",
   "execution_count": 44,
   "metadata": {
    "slideshow": {
     "slide_type": "subslide"
    }
   },
   "outputs": [
    {
     "data": {
      "text/plain": [
       "b'\\xe9\\x87\\x8d\\xe5\\xa4\\xa7'"
      ]
     },
     "execution_count": 44,
     "metadata": {},
     "output_type": "execute_result"
    }
   ],
   "source": [
    "s11 = s10.encode(en)\n",
    "# 如果不指定encoding=~~~则使用utf-8进行编码\n",
    "s11"
   ]
  },
  {
   "cell_type": "code",
   "execution_count": 63,
   "metadata": {
    "slideshow": {
     "slide_type": "subslide"
    }
   },
   "outputs": [
    {
     "data": {
      "text/plain": [
       "'重大'"
      ]
     },
     "execution_count": 63,
     "metadata": {},
     "output_type": "execute_result"
    }
   ],
   "source": [
    "s11.decode(encoding='uf-8') "
   ]
  },
  {
   "cell_type": "markdown",
   "metadata": {
    "slideshow": {
     "slide_type": "subslide"
    }
   },
   "source": [
    "字符串 --encode--> 字节码\n",
    "\n",
    "字节码 --decode--> 字符串"
   ]
  },
  {
   "cell_type": "code",
   "execution_count": 3,
   "metadata": {},
   "outputs": [
    {
     "name": "stdout",
     "output_type": "stream",
     "text": [
      "84 84\n"
     ]
    }
   ],
   "source": [
    "str1 = str(7 ** 100)\n",
    "i = str1.rfind('1')\n",
    "j = str1.rindex('1')\n",
    "print(i, j)"
   ]
  },
  {
   "cell_type": "code",
   "execution_count": 15,
   "metadata": {},
   "outputs": [
    {
     "name": "stdout",
     "output_type": "stream",
     "text": [
      "84\n",
      "84\n"
     ]
    }
   ],
   "source": [
    "for char, index in zip(str1[::-1], range(len(str1)-1, -1, -1)):\n",
    "    if char == '1':\n",
    "        print(index)\n",
    "        break\n",
    "\n",
    "l = list(str1)\n",
    "l.reverse()\n",
    "for i in range(len(l)):\n",
    "    if l[i] == '1':\n",
    "        print(len(l) - 1 - i)\n",
    "        break"
   ]
  }
 ],
 "metadata": {
  "anaconda-cloud": {},
  "celltoolbar": "幻灯片",
  "kernelspec": {
   "display_name": "Python 3 (ipykernel)",
   "language": "python",
   "name": "python3"
  },
  "language_info": {
   "codemirror_mode": {
    "name": "ipython",
    "version": 3
   },
   "file_extension": ".py",
   "mimetype": "text/x-python",
   "name": "python",
   "nbconvert_exporter": "python",
   "pygments_lexer": "ipython3",
   "version": "3.11.5"
  }
 },
 "nbformat": 4,
 "nbformat_minor": 2
}
