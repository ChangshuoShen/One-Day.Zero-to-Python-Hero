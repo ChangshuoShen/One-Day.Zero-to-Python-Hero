{
 "cells": [
  {
   "cell_type": "markdown",
   "metadata": {
    "slideshow": {
     "slide_type": "slide"
    }
   },
   "source": [
    "# 6. 类与对象\n",
    "\n",
    "* 类的定义\n",
    "* 属性\n",
    "* 方法\n",
    "* 继承"
   ]
  },
  {
   "cell_type": "markdown",
   "metadata": {
    "slideshow": {
     "slide_type": "subslide"
    }
   },
   "source": [
    "类是一个数据结构，是创建对象的模板。\n",
    "\n",
    "类由数据和方法构成，是一类事物的共同属性和共同行为的抽象。\n",
    "\n",
    "对象是类的实例。创建对象的过程又被称为实例化。"
   ]
  },
  {
   "cell_type": "markdown",
   "metadata": {
    "slideshow": {
     "slide_type": "subslide"
    }
   },
   "source": [
    "## 例子：字典的加法操作\n",
    "\n",
    "我们知道字典(dict)是不支持加法操作的，因为合并两个字典时相同键对应的值如何处理没有明确。\n"
   ]
  },
  {
   "cell_type": "code",
   "execution_count": 1,
   "metadata": {
    "slideshow": {
     "slide_type": "subslide"
    }
   },
   "outputs": [
    {
     "name": "stdout",
     "output_type": "stream",
     "text": [
      "{'a': 1, 'b': 2, 'c': 2, 'd': 3} {'c': 1, 'd': 3, 'e': 2, 'f': 4}\n"
     ]
    },
    {
     "ename": "TypeError",
     "evalue": "unsupported operand type(s) for +: 'dict' and 'dict'",
     "output_type": "error",
     "traceback": [
      "\u001b[0;31m---------------------------------------------------------------------------\u001b[0m",
      "\u001b[0;31mTypeError\u001b[0m                                 Traceback (most recent call last)",
      "Cell \u001b[0;32mIn[1], line 4\u001b[0m\n\u001b[1;32m      2\u001b[0m cnt_2 \u001b[38;5;241m=\u001b[39m \u001b[38;5;28mdict\u001b[39m(\u001b[38;5;28mzip\u001b[39m(\u001b[38;5;28mlist\u001b[39m(\u001b[38;5;124m'\u001b[39m\u001b[38;5;124mcdef\u001b[39m\u001b[38;5;124m'\u001b[39m), [\u001b[38;5;241m1\u001b[39m,\u001b[38;5;241m3\u001b[39m,\u001b[38;5;241m2\u001b[39m,\u001b[38;5;241m4\u001b[39m]))\n\u001b[1;32m      3\u001b[0m \u001b[38;5;28mprint\u001b[39m(cnt_1, cnt_2)\n\u001b[0;32m----> 4\u001b[0m cnt_1 \u001b[38;5;241m+\u001b[39m cnt_2\n",
      "\u001b[0;31mTypeError\u001b[0m: unsupported operand type(s) for +: 'dict' and 'dict'"
     ]
    }
   ],
   "source": [
    "cnt_1 = dict([('a',1), ('b',2), ('c',2), ('d',3)])\n",
    "cnt_2 = dict(zip(list('cdef'), [1,3,2,4]))\n",
    "print(cnt_1, cnt_2)\n",
    "cnt_1 + cnt_2  # error"
   ]
  },
  {
   "cell_type": "markdown",
   "metadata": {
    "slideshow": {
     "slide_type": "subslide"
    }
   },
   "source": [
    "现在，我们来考虑一个应用场景。\n",
    "\n",
    "如果两个字典作为计数器使用，分别放的是两次计数的结果，我们希望两个字典合并时将每个键对应的值进行累加。\n",
    "\n",
    "这个时候我们需要的是一个跟字典相似的数据结构，但又可以支持我们需要的加法操作。"
   ]
  },
  {
   "cell_type": "code",
   "execution_count": 5,
   "metadata": {
    "slideshow": {
     "slide_type": "subslide"
    }
   },
   "outputs": [
    {
     "data": {
      "text/plain": [
       "{'a': 1, 'b': 2, 'c': 3, 'd': 6, 'e': 2, 'f': 4}"
      ]
     },
     "execution_count": 5,
     "metadata": {},
     "output_type": "execute_result"
    }
   ],
   "source": [
    "class Addible_Dict(dict):  # 以dict为基类创建一个新的类，继承dict对象中已经实现的各种values & methods.\n",
    "    def __add__(self, b):  # 定义一个方法，规定加法操作符如何解释\n",
    "        '''\n",
    "            注意，这个地方使用'__add__'直接就标识了'+'\n",
    "        '''\n",
    "        a = self.copy()\n",
    "        for k in b:\n",
    "            a[k] = a.get(k, 0) + b[k]\n",
    "        return a\n",
    "cnt1 = Addible_Dict(cnt_1)  # 创建一个类的实例\n",
    "cnt2 = Addible_Dict(cnt_2)\n",
    "cnt1 + cnt2"
   ]
  },
  {
   "cell_type": "markdown",
   "metadata": {
    "slideshow": {
     "slide_type": "subslide"
    }
   },
   "source": [
    "从这里我们看到了什么？\n",
    "\n",
    "* 我们创建了一个与dict类各方面都相同的类，但是它又具有自己的独特方法。\n",
    "\n",
    "* 我们创建的类可以使用dict类的所有操作，访问接口与dict类完全相同。\n",
    "\n",
    "* 我们创建这个类时，并没有重写dict类，我们要做的仅仅是定义一个新的方法。\n",
    "\n",
    "* 我们并不了解dict类的具体实现细节，我们也不需要知道\n",
    "\n",
    "类的继承\n"
   ]
  },
  {
   "cell_type": "markdown",
   "metadata": {
    "slideshow": {
     "slide_type": "slide"
    }
   },
   "source": [
    "## 6.1 类的定义\n",
    "\n",
    "类使用class语句定义。\n",
    "\n",
    "语法：`class 类名(基类):`\n",
    "\n",
    "类名后的括号中是基类(父类/母类)的名字，而不是参数。"
   ]
  },
  {
   "cell_type": "code",
   "execution_count": 2,
   "metadata": {
    "slideshow": {
     "slide_type": "subslide"
    }
   },
   "outputs": [
    {
     "name": "stdout",
     "output_type": "stream",
     "text": [
      "Variable   Type    Data/Info\n",
      "----------------------------\n",
      "Lamp_v1    type    <class '__main__.Lamp_v1'>\n",
      "cnt_1      dict    n=4\n",
      "cnt_2      dict    n=4\n"
     ]
    }
   ],
   "source": [
    "class Lamp_v1:  # 定义一个类\n",
    "    def __init__(self, status = 'off',name = 'desk'):  # 在创建类的实例时调用此方法，属性有默认值\n",
    "        self.status = status\n",
    "        self.name = name\n",
    "    def switch(self):\n",
    "        if self.status == 'on': self.status = 'off'  # if语句的语句块如果只有一行，可以紧接冒号后面\n",
    "        else: self.status = 'on'\n",
    "    def show(self):\n",
    "        print('Lamp ' + self.name + ' is ' + self.status)\n",
    "''' \n",
    "self 是 Python 中用于指代对象自身的一个特殊参数，它在类的方法中起着非常重要的作用\n",
    "在类的方法中，self 必须作为第一个参数传递，用于引用对象自身\n",
    "当调用类的方法时，Python 会自动将对象传递给 self 参数\n",
    "'''\n",
    "\n",
    "''' \n",
    "注意self只是一个名字，关键是位置参数，比如说class中调用了：\n",
    "    def hello(a):\n",
    "        print(a.name)\n",
    "这样也是可以的，这个时候a就是self，他只是一个名字\n",
    "'''\n",
    "%whos"
   ]
  },
  {
   "cell_type": "markdown",
   "metadata": {
    "slideshow": {
     "slide_type": "subslide"
    }
   },
   "source": [
    "定义一个类之后，系统没有任何输出。是不是定义不成功呢？\n",
    "\n",
    "其实不是。\n",
    "\n",
    "定义一个类之后，系统会生成一个类对象。\n",
    "\n",
    "实例化过程"
   ]
  },
  {
   "cell_type": "code",
   "execution_count": 7,
   "metadata": {
    "slideshow": {
     "slide_type": "subslide"
    }
   },
   "outputs": [
    {
     "name": "stdout",
     "output_type": "stream",
     "text": [
      "<class '__main__.Lamp_v1'> <class 'type'> 46240528\n"
     ]
    }
   ],
   "source": [
    "print(Lamp_v1, type(Lamp_v1), id(Lamp_v1))  # 定义了类之后，会生成一个类对象"
   ]
  },
  {
   "cell_type": "code",
   "execution_count": 3,
   "metadata": {
    "slideshow": {
     "slide_type": "fragment"
    }
   },
   "outputs": [
    {
     "data": {
      "text/plain": [
       "'off'"
      ]
     },
     "execution_count": 3,
     "metadata": {},
     "output_type": "execute_result"
    }
   ],
   "source": [
    "# Lamp_v1.status  # 只是，我们还不能访问属性status\n",
    "# 需要创建一个实例，才可以开始使用\n",
    "v1 = Lamp_v1()\n",
    "v1.status"
   ]
  },
  {
   "cell_type": "markdown",
   "metadata": {
    "slideshow": {
     "slide_type": "subslide"
    }
   },
   "source": [
    "<h4>类的实例化过程</h4>\n",
    "\n",
    "定义类时实际上定义了一个数据结构的模板。\n",
    "\n",
    "创建类的实例时，Python会以类为模板生成一个对象，然后将该对象绑定到左端变量（赋值语句中）。\n",
    "\n",
    "用模板生产实例对象的过程称为实例化。我们要使用一个类，必须要将类实例化。"
   ]
  },
  {
   "cell_type": "code",
   "execution_count": 12,
   "metadata": {
    "slideshow": {
     "slide_type": "subslide"
    }
   },
   "outputs": [
    {
     "name": "stdout",
     "output_type": "stream",
     "text": [
      "<__main__.Lamp_v1 object at 0x7abc582543d0> <class '__main__.Lamp_v1'> 134949351277520\n"
     ]
    }
   ],
   "source": [
    "p = Lamp_v1()  # 创建类的实例，会生成一个实例对象，这里的p1是一个实例\n",
    "print(p,type(p),id(p))"
   ]
  },
  {
   "cell_type": "code",
   "execution_count": 7,
   "metadata": {
    "slideshow": {
     "slide_type": "fragment"
    }
   },
   "outputs": [
    {
     "name": "stdout",
     "output_type": "stream",
     "text": [
      "off\n",
      "Lamp desk is off\n"
     ]
    }
   ],
   "source": [
    "# 实例化之后我们可以访问实例属性和方法了\n",
    "print(p.status)\n",
    "p.show()"
   ]
  },
  {
   "cell_type": "markdown",
   "metadata": {
    "slideshow": {
     "slide_type": "subslide"
    }
   },
   "source": [
    "创建类的实例时使用的语句与函数调用极其相似，这是因为类是可调用对象（callable）。\n",
    "\n",
    "内置的类如int, str, bool, complex, list等都可以像函数一样调用创建一个实例对象。为简化起见，我们也经常将其称之为函数，把创建的实例对象视为函数返回值。\n",
    "\n",
    "对于任何实例，都可以使用type函数获取其对应的类型。"
   ]
  },
  {
   "cell_type": "code",
   "execution_count": 8,
   "metadata": {
    "slideshow": {
     "slide_type": "fragment"
    }
   },
   "outputs": [
    {
     "name": "stdout",
     "output_type": "stream",
     "text": [
      "<class 'type'> <class 'int'> 140733160526760\n"
     ]
    }
   ],
   "source": [
    "x = int(5.25)\n",
    "print(type(int), type(x),id(x))  # 注意到int的类型并不是function"
   ]
  },
  {
   "cell_type": "markdown",
   "metadata": {
    "slideshow": {
     "slide_type": "slide"
    }
   },
   "source": [
    "## 6.2 类的结构\n",
    "* 成员（属性）\n",
    "* 方法\n",
    "\n",
    "如果没有夫类/基类，默认继承object\n",
    "\n",
    "我们再重新看一遍这个类的定义。它是如何组织数据和方法的呢？"
   ]
  },
  {
   "cell_type": "code",
   "execution_count": 2,
   "metadata": {
    "slideshow": {
     "slide_type": "subslide"
    }
   },
   "outputs": [],
   "source": [
    "class Lamp_v1:\n",
    "    def __init__(self, status = 'off',name = 'desk'):  # 在创建类的实例时调用此方法，属性有默认值\n",
    "        self.status = status\n",
    "        self.name = name\n",
    "    def switch(self):\n",
    "        if self.status == 'on': self.status = 'off'  # if语句的语句块如果只有一行，可以紧接冒号后面\n",
    "        else: self.status = 'on'\n",
    "    def show(self):\n",
    "        print('Lamp ' + self.name + ' is ' + self.status)"
   ]
  },
  {
   "cell_type": "markdown",
   "metadata": {
    "slideshow": {
     "slide_type": "subslide"
    }
   },
   "source": [
    "在Lamp_v1中定义的self.status和self.name为实例属性，在类的方法代码中可以使用self.status和self.name访问，其中self是系统调用时传递过来的实例引用。\n",
    "\n",
    "在类代码外，只能通过类的实例对象才能访问实例属性。\n",
    "\n",
    "switch()和show()为方法。\n",
    "\n",
    "init方法为特殊方法，注意它的开头和结尾都是两个下划线。init方法由系统在创建对象实例时自动调用。\n",
    "\n",
    "系统先创建一个实例对象，然后把实例的引用self（**私底下**）传递给init方法，进行初始化。"
   ]
  },
  {
   "cell_type": "code",
   "execution_count": 3,
   "metadata": {
    "slideshow": {
     "slide_type": "subslide"
    }
   },
   "outputs": [
    {
     "name": "stdout",
     "output_type": "stream",
     "text": [
      "Lamp table is on\n",
      "Lamp table is off\n"
     ]
    }
   ],
   "source": [
    "p1 = Lamp_v1(status = 'on', name = 'table')  # 第一个参数到哪里去了？\n",
    "p1.show()  # 注意：不需要我们给它提供参数，传了参数反而出错\n",
    "p1.switch()\n",
    "p1.show()"
   ]
  },
  {
   "cell_type": "code",
   "execution_count": 4,
   "metadata": {
    "slideshow": {
     "slide_type": "subslide"
    }
   },
   "outputs": [
    {
     "data": {
      "text/plain": [
       "('off', 'table')"
      ]
     },
     "execution_count": 4,
     "metadata": {},
     "output_type": "execute_result"
    }
   ],
   "source": [
    "# 在类代码外访问类的属性和方法\n",
    "p1.status, p1.name"
   ]
  },
  {
   "cell_type": "markdown",
   "metadata": {
    "slideshow": {
     "slide_type": "subslide"
    }
   },
   "source": [
    "* 实例属性的依附性\n",
    "\n",
    "实例属性依附于具体对象，因此必须在创建实例之后才能访问，当实例消亡之后，实例属性也就不存在了。"
   ]
  },
  {
   "cell_type": "markdown",
   "metadata": {
    "slideshow": {
     "slide_type": "subslide"
    }
   },
   "source": [
    "<h4>访问实例属性和方法的两种情形</h4>\n",
    "\n",
    "* 类定义代码内： 使用self引用\n",
    "\n",
    "* 类定义代码外： 使用实例对象引用\n",
    "\n",
    "注意：实例属性不是局部变量，也不是全局变量。实例属性只能通过实例对象来访问。\n",
    "\n",
    "* 与局部变量不同，实例属性在类定义代码外仍然存在，并且可以访问；\n",
    "\n",
    "* 与全局变量不同，实例属性不能独立存在，依托于特定实例对象。"
   ]
  },
  {
   "cell_type": "markdown",
   "metadata": {
    "slideshow": {
     "slide_type": "subslide"
    }
   },
   "source": [
    "通过Lamp_v1我们定义一类灯，它只能开关，而不能调整亮度。如果我们需要一类能调整亮度的灯，怎么办呢？"
   ]
  },
  {
   "cell_type": "markdown",
   "metadata": {
    "slideshow": {
     "slide_type": "slide"
    }
   },
   "source": [
    "## 6.3 继承\n",
    "\n",
    "在一个类的基础上，可以派生出新的类，派生类继承基类所有的属性和方法。"
   ]
  },
  {
   "cell_type": "code",
   "execution_count": 5,
   "metadata": {
    "slideshow": {
     "slide_type": "subslide"
    }
   },
   "outputs": [],
   "source": [
    "class Lamp_v2(Lamp_v1):  # 从基类Lamp_v1派生\n",
    "    def __init__(self, status = 'off',name = 'desk', bright = 1):\n",
    "        Lamp_v1.__init__(self, status, name)  # 调用基类的初始化函数\n",
    "        # self.status, self.name = status, name  # 直接初始化\n",
    "        # 注意一般都是使用父类的初始化方法，在此基础上再加上一些个性化方法，\n",
    "        self.bright = bright  # 派生类的新属性\n",
    "    def show(self):  # 派生类对原有方法进行修改\n",
    "        print('Lamp ' + self.name + ' is ' + self.status + ' with rightness: ' + str(self.bright))\n",
    "        # 这个时候会替换原有的这种方法\n",
    "    def turn_up(self, up = 1):\n",
    "        self.bright += up  # 派生类的新方法"
   ]
  },
  {
   "cell_type": "markdown",
   "metadata": {
    "slideshow": {
     "slide_type": "subslide"
    }
   },
   "source": [
    "注意：以上代码初始化的过程中，我们使用了基类的初始化函数。这样做的好处是可以保证派生类与基类对象的行为一致性。\n",
    "\n",
    "如果派生类并没有新增属性，而且也不改变基类的初始化方式，则不需要重写init方法。此时，创建实例时，会自动调用基类的初始化方法。\n",
    "\n",
    "我们来看看派生类的行为是什么样的。"
   ]
  },
  {
   "cell_type": "code",
   "execution_count": 6,
   "metadata": {
    "slideshow": {
     "slide_type": "subslide"
    }
   },
   "outputs": [
    {
     "name": "stdout",
     "output_type": "stream",
     "text": [
      "Lamp table is on with brightness: 10\n",
      "Lamp table is on with brightness: 20\n",
      "Lamp table is off with brightness: 20\n"
     ]
    }
   ],
   "source": [
    "p2 = Lamp_v2('on', 'table', 10)\n",
    "p2.show()\n",
    "p2.turn_up(10)\n",
    "p2.show()\n",
    "p2.switch()\n",
    "p2.show()"
   ]
  },
  {
   "cell_type": "markdown",
   "metadata": {
    "slideshow": {
     "slide_type": "subslide"
    }
   },
   "source": [
    "我们来看看刚才定义的几个方法：\n",
    "\n",
    "* show, 与基类的行为不同，这是派生类重新定义的；\n",
    "\n",
    "* turn_up，基类中没有，这是派生类新增的；\n",
    "\n",
    "* switch，与基类行为相同，这是派生类继承的。"
   ]
  },
  {
   "cell_type": "markdown",
   "metadata": {
    "slideshow": {
     "slide_type": "subslide"
    }
   },
   "source": [
    "接下去，我们再构造一类三色灯，灯光颜色可以在三种颜色中轮流切换。"
   ]
  },
  {
   "cell_type": "code",
   "execution_count": 10,
   "metadata": {
    "slideshow": {
     "slide_type": "subslide"
    }
   },
   "outputs": [],
   "source": [
    "# 首字母大写一般表示一个类\n",
    "# 全部大写一般表示一个常数\n",
    "class Lamp_v3(Lamp_v2):\n",
    "    colors = ['white', 'yellow', 'red']  # 这是一个类属性，下文将介绍\n",
    "    # 不依附于任何实例存在，只是依附于类存在\n",
    "    def __init__(self, status = 'on',name = 'desk', bright = 1, color = 0):\n",
    "        Lamp_v2.__init__(self, status, name, bright)  # 调用基类的初始化函数\n",
    "        self.color = color  # 派生类的新属性\n",
    "    def show(self):  # 派生类对原有方法进行修改\n",
    "        print('Lamp ' + self.name + ' is ' + self.status + ' with brightness: ' + str(self.bright) + ' color ' + Lamp_v3.colors[self.color])\n",
    "    def change_color(self):\n",
    "        self.color = (self.color + 1) % 3  # 派生类的新方法"
   ]
  },
  {
   "cell_type": "code",
   "execution_count": 14,
   "metadata": {
    "slideshow": {
     "slide_type": "subslide"
    }
   },
   "outputs": [
    {
     "name": "stdout",
     "output_type": "stream",
     "text": [
      "Lamp desk is on with brightness: 1 color white\n",
      "Lamp desk is on with brightness: 1\n",
      "Lamp desk is off with brightness: 21 color yellow\n",
      "Lamp desk is off with brightness: 22 color red\n"
     ]
    }
   ],
   "source": [
    "p3 = Lamp_v3()\n",
    "p3.show()\n",
    "# 如果想要调用基类的方法，直接用类名调用对应方法，但是不括号中需要使用实例，仍然是依赖势力\n",
    "# 所以说，类的继承对方法不是覆盖，而是优先级不同罢了\n",
    "Lamp_v2.show(p3)\n",
    "\n",
    "p3.switch()  #  从祖父类继承的方法\n",
    "p3.change_color()\n",
    "p3.turn_up(20)  # 从父类继承的方法\n",
    "p3.show()\n",
    "\n",
    "p3.change_color()\n",
    "p3.turn_up(1)\n",
    "p3.show()"
   ]
  },
  {
   "cell_type": "markdown",
   "metadata": {
    "slideshow": {
     "slide_type": "subslide"
    }
   },
   "source": [
    "<h4>关于派生类的小结</h4>\n",
    "\n",
    "* 若派生类行为与基类完全一致，什么都不需要做；\n",
    "\n",
    "* 若派生类与基类具有相似操作，但不完全相同，在派生类定义中重新定义该方法；重定义过程中还可以调用父方法\n",
    "\n",
    "注意这个过程不是一个覆盖的过程，而是一个优先级的情况，优先从现在的类中进行寻找，而后再往夫类，祖父类\n",
    "```\n",
    "class Lamp_v2(Lamp_v1):  # 从基类Lamp_v1派生\n",
    "    def __init__(self, status = 'off',name = 'desk', bright = 1):\n",
    "        Lamp_v1.__init__(self, status, name)  # 调用基类的初始化函数\n",
    "        # self.status, self.name = status, name  # 直接初始化\n",
    "        # 注意一般都是使用父类的初始化方法，在此基础上再加上一些个性化方法，\n",
    "        self.bright = bright  # 派生类的新属性\n",
    "```\n",
    "* 若派生类的某个操作在基类中找不到相似行为，在派生类定义中新增一个方法。"
   ]
  },
  {
   "cell_type": "markdown",
   "metadata": {
    "slideshow": {
     "slide_type": "subslide"
    }
   },
   "source": [
    "## 类定义的常见错误\n",
    "\n",
    "* 错误的使用了def而不是class\n",
    "\n",
    "* 错误的以为类后面的括号中为形参\n",
    "\n",
    "* 类定义中的函数没有缩进，注意python都是根据缩进分坑的\n",
    "\n",
    "* 漏掉了类的实例方法第一个参数"
   ]
  },
  {
   "cell_type": "code",
   "execution_count": 16,
   "metadata": {
    "slideshow": {
     "slide_type": "subslide"
    }
   },
   "outputs": [],
   "source": [
    "def BadCode(x):  # 检查是否是class， 是否把基类与形参混淆了\n",
    "    def tell(a, b):  # 检查第一个参数\n",
    "        print(a, b)\n",
    "#b1 = BadCode()\n",
    "#b1.tell(3, 5)"
   ]
  },
  {
   "cell_type": "markdown",
   "metadata": {
    "slideshow": {
     "slide_type": "subslide"
    }
   },
   "source": [
    "#### 继承的例子\n",
    "\n",
    "字典的一种重要用途是统计分类，但是在实践中程序员经常遇到一个问题，即字典在统计第一次遇到的元素时必须进行初始化，不然系统会报错，提示不存在该键。因此，能够设置默认值的字典会带来很多便利。\n",
    "\n",
    "下面的代码统计一个字符串中，每个字符出现的所有位置（序号）。"
   ]
  },
  {
   "cell_type": "code",
   "execution_count": 17,
   "metadata": {
    "slideshow": {
     "slide_type": "subslide"
    }
   },
   "outputs": [
    {
     "name": "stdout",
     "output_type": "stream",
     "text": [
      "defaultdict(<class 'list'>, {'t': [0, 4, 24, 28, 37, 40, 46, 61, 72], 'h': [1, 21, 38, 43], 'e': [2, 7, 15, 33, 48, 55, 70], 'i': [5, 13, 17, 60], 'm': [6], 'o': [9, 22, 29, 44, 64, 73, 74, 77], 'f': [10, 14], 'l': [12, 56, 66, 76], 's': [18, 20, 31, 42, 49, 50, 54], 'r': [23, 45], 'p': [32], 'n': [34, 47, 78], 'd': [35, 67], 'b': [52, 69], 'y': [57], 'w': [63], 'u': [65], 'g': [79]})\n"
     ]
    },
    {
     "data": {
      "text/plain": [
       "False"
      ]
     },
     "execution_count": 17,
     "metadata": {},
     "output_type": "execute_result"
    }
   ],
   "source": [
    "from collections import defaultdict\n",
    "line = 'The time of life is short ; to spend that shortness basely, it would be too long .'\n",
    "reader = defaultdict(list)  # 用list作为工厂来创建默认值\n",
    "# defaultdict需要传入一个可调用对象，初始化对应该可调用对象的空值，如果是int那初始时刻就是0\n",
    "for index,v in enumerate(line.lower()):\n",
    "    if 'a' < v < 'z': reader[v].append(index)  # 注意：为什么可以直接使用append方法？\n",
    "print(reader)\n",
    "' ' in reader"
   ]
  },
  {
   "cell_type": "code",
   "execution_count": 21,
   "metadata": {},
   "outputs": [
    {
     "name": "stdout",
     "output_type": "stream",
     "text": [
      "defaultdict(<function <lambda> at 0x7f7f0ab31da0>, {'t': defaultdict(<class 'int'>, {'h': 2, 'i': 1, ' ': 3, 'o': 2, 'n': 1}), 'h': defaultdict(<class 'int'>, {'e': 1, 'o': 2, 'a': 1}), 'e': defaultdict(<class 'int'>, {' ': 4, 'n': 1, 's': 1, 'l': 1}), 'i': defaultdict(<class 'int'>, {'m': 1, 'f': 1, 's': 1, 't': 1}), 'm': defaultdict(<class 'int'>, {'e': 1}), 'o': defaultdict(<class 'int'>, {'f': 1, 'r': 2, ' ': 2, 'u': 1, 'o': 1, 'n': 1}), 'f': defaultdict(<class 'int'>, {' ': 1, 'e': 1}), 'l': defaultdict(<class 'int'>, {'i': 1, 'y': 1, 'd': 1, 'o': 1}), 's': defaultdict(<class 'int'>, {' ': 2, 'h': 2, 'p': 1, 's': 1, 'e': 1}), 'r': defaultdict(<class 'int'>, {'t': 2}), 'p': defaultdict(<class 'int'>, {'e': 1}), 'n': defaultdict(<class 'int'>, {'d': 1, 'e': 1, 'g': 1}), 'd': defaultdict(<class 'int'>, {' ': 2}), 'a': defaultdict(<class 'int'>, {'t': 1, 's': 1}), 'b': defaultdict(<class 'int'>, {'a': 1, 'e': 1}), 'y': defaultdict(<class 'int'>, {',': 1}), 'w': defaultdict(<class 'int'>, {'o': 1}), 'u': defaultdict(<class 'int'>, {'l': 1}), 'g': defaultdict(<class 'int'>, {' ': 1})})\n"
     ]
    }
   ],
   "source": [
    "from collections import defaultdict\n",
    "line = 'The time of life is short ; to spend that shortness basely, it would be too long .'\n",
    "reader = defaultdict(lambda: defaultdict(int))  # 用list作为工厂来创建默认值\n",
    "# 单纯用一个defaultdict不是一个可调用对象，所以使用匿名函数使其callable\n",
    "# defaultdict需要传入一个可调用对象，初始化对应该可调用对象的空值，如果是int那初始时刻就是0\n",
    "for index,v in enumerate(line.lower()[: -1]):\n",
    "    if 'a' <= v <= 'z': reader[v][line.lower()[index + 1]] += 1  # 注意：为什么可以直接使用append方法？\n",
    "print(reader)"
   ]
  },
  {
   "cell_type": "code",
   "execution_count": 18,
   "metadata": {
    "slideshow": {
     "slide_type": "subslide"
    }
   },
   "outputs": [
    {
     "data": {
      "text/plain": [
       "((collections.defaultdict, dict, object), (dict,))"
      ]
     },
     "execution_count": 18,
     "metadata": {},
     "output_type": "execute_result"
    }
   ],
   "source": [
    "defaultdict.__mro__, defaultdict.__bases__ # 可以看到defaultdict的基类为dict"
   ]
  },
  {
   "cell_type": "code",
   "execution_count": 19,
   "metadata": {
    "slideshow": {
     "slide_type": "subslide"
    }
   },
   "outputs": [
    {
     "name": "stdout",
     "output_type": "stream",
     "text": [
      "['__class__', '__class_getitem__', '__contains__', '__copy__', '__delattr__', '__delitem__', '__dir__', '__doc__', '__eq__', '__format__', '__ge__', '__getattribute__', '__getitem__', '__getstate__', '__gt__', '__hash__', '__init__', '__init_subclass__', '__ior__', '__iter__', '__le__', '__len__', '__lt__', '__missing__', '__ne__', '__new__', '__or__', '__reduce__', '__reduce_ex__', '__repr__', '__reversed__', '__ror__', '__setattr__', '__setitem__', '__sizeof__', '__str__', '__subclasshook__', 'clear', 'copy', 'default_factory', 'fromkeys', 'get', 'items', 'keys', 'pop', 'popitem', 'setdefault', 'update', 'values']\n"
     ]
    }
   ],
   "source": [
    "print(dir(defaultdict))  # 与dict对比"
   ]
  },
  {
   "cell_type": "code",
   "execution_count": 24,
   "metadata": {
    "slideshow": {
     "slide_type": "fragment"
    }
   },
   "outputs": [
    {
     "name": "stdout",
     "output_type": "stream",
     "text": [
      "['__class__', '__class_getitem__', '__contains__', '__delattr__', '__delitem__', '__dir__', '__doc__', '__eq__', '__format__', '__ge__', '__getattribute__', '__getitem__', '__getstate__', '__gt__', '__hash__', '__init__', '__init_subclass__', '__ior__', '__iter__', '__le__', '__len__', '__lt__', '__ne__', '__new__', '__or__', '__reduce__', '__reduce_ex__', '__repr__', '__reversed__', '__ror__', '__setattr__', '__setitem__', '__sizeof__', '__str__', '__subclasshook__', 'clear', 'copy', 'fromkeys', 'get', 'items', 'keys', 'pop', 'popitem', 'setdefault', 'update', 'values']\n",
      "{'__missing__', '__copy__', 'default_factory'}\n",
      "set()\n"
     ]
    }
   ],
   "source": [
    "print(dir(dict))\n",
    "print(set(dir(defaultdict)) - set(dir(dict)))\n",
    "print(set(dir(dict)) - set(dir(defaultdict)))"
   ]
  },
  {
   "cell_type": "markdown",
   "metadata": {
    "slideshow": {
     "slide_type": "fragment"
    }
   },
   "source": [
    "通过继承dict类，defaultdict类拥有了字典的所有方法和属性，通过定义若干新的方法（__missing__, __default_factory__）实现了初始值的默认设置，又使得defaultdict拥有比基类更便利的使用特征。"
   ]
  },
  {
   "cell_type": "markdown",
   "metadata": {
    "slideshow": {
     "slide_type": "slide"
    }
   },
   "source": [
    "## 6.4 类的属性详解\n",
    "\n",
    "类的属性指的是描述类的特征的数据成员。\n",
    "\n",
    "类的属性只能通过类对象或实例对象进行访问。\n",
    "\n",
    "类的属性分为实例属性和类属性。实例属性只有在实例化之后才能访问。"
   ]
  },
  {
   "cell_type": "code",
   "execution_count": 34,
   "metadata": {
    "slideshow": {
     "slide_type": "subslide"
    }
   },
   "outputs": [],
   "source": [
    "class Student:\n",
    "    def __init__(self, name, age):\n",
    "        self.name = name\n",
    "        self.age = age\n",
    "    def grow(self):\n",
    "        self.title = 'mr'  # 在类方法中可以增加属性，但是不建议\n",
    "        # 必须执行之后才可以调用，所以不建议\n",
    "        self.age +=1\n",
    "    def say_hello(self):\n",
    "        print('Hello, I am ' + self.name, 'and I am '+ str(self.age) + ' years old.')"
   ]
  },
  {
   "cell_type": "code",
   "execution_count": 33,
   "metadata": {
    "slideshow": {
     "slide_type": "subslide"
    }
   },
   "outputs": [
    {
     "ename": "AttributeError",
     "evalue": "type object 'Student' has no attribute 'name'",
     "output_type": "error",
     "traceback": [
      "\u001b[0;31m---------------------------------------------------------------------------\u001b[0m",
      "\u001b[0;31mAttributeError\u001b[0m                            Traceback (most recent call last)",
      "Cell \u001b[0;32mIn[33], line 1\u001b[0m\n\u001b[0;32m----> 1\u001b[0m Student\u001b[38;5;241m.\u001b[39mname\n",
      "\u001b[0;31mAttributeError\u001b[0m: type object 'Student' has no attribute 'name'"
     ]
    }
   ],
   "source": [
    "Student.name  #  name和age都是实例属性，不可以通过类对象来访问"
   ]
  },
  {
   "cell_type": "code",
   "execution_count": 35,
   "metadata": {},
   "outputs": [],
   "source": [
    "class Weird(dict, Lamp_v3):\n",
    "    def __init__(self):\n",
    "        print('hello')\n",
    "        \n",
    "# python支持多重继承，如果有重复的方法，优先级从左到右进行查找"
   ]
  },
  {
   "cell_type": "markdown",
   "metadata": {
    "slideshow": {
     "slide_type": "subslide"
    }
   },
   "source": [
    "在创建类实例时，init方法会被调用，此时该实例中属性name和age被定义。在此之后在该实例的方法中可以通过self访问这两个属性，也可以通过类的实例直接访问这两个属性。"
   ]
  },
  {
   "cell_type": "markdown",
   "metadata": {},
   "source": []
  },
  {
   "cell_type": "code",
   "execution_count": 37,
   "metadata": {
    "slideshow": {
     "slide_type": "subslide"
    }
   },
   "outputs": [
    {
     "name": "stdout",
     "output_type": "stream",
     "text": [
      "Hello, I am John and I am 18 years old.\n",
      "Hello, I am Mary and I am 19 years old.\n"
     ]
    }
   ],
   "source": [
    "s1 = Student('John', 18)\n",
    "s2 = Student('Mary', 19)\n",
    "s1.say_hello()\n",
    "s2.say_hello()"
   ]
  },
  {
   "cell_type": "code",
   "execution_count": 38,
   "metadata": {
    "slideshow": {
     "slide_type": "subslide"
    }
   },
   "outputs": [],
   "source": [
    "#s1.title  # error! why?"
   ]
  },
  {
   "cell_type": "code",
   "execution_count": 39,
   "metadata": {
    "slideshow": {
     "slide_type": "fragment"
    }
   },
   "outputs": [
    {
     "data": {
      "text/plain": [
       "'mr'"
      ]
     },
     "execution_count": 39,
     "metadata": {},
     "output_type": "execute_result"
    }
   ],
   "source": [
    "s1.grow()\n",
    "s1.title  # why is this correct?"
   ]
  },
  {
   "cell_type": "code",
   "execution_count": 41,
   "metadata": {
    "slideshow": {
     "slide_type": "subslide"
    }
   },
   "outputs": [
    {
     "data": {
      "text/plain": [
       "{'name': 'John', 'age': 19, 'title': 'mr'}"
      ]
     },
     "execution_count": 41,
     "metadata": {},
     "output_type": "execute_result"
    }
   ],
   "source": [
    "s1.__dict__  # want to see more\n",
    "# 这是一个属性字典"
   ]
  },
  {
   "cell_type": "code",
   "execution_count": 44,
   "metadata": {
    "slideshow": {
     "slide_type": "subslide"
    }
   },
   "outputs": [
    {
     "data": {
      "text/plain": [
       "{'name': 'John', 'age': 19, 'title': 'mr', 'virtual_age': 20, 'univ': 'USTC'}"
      ]
     },
     "execution_count": 44,
     "metadata": {},
     "output_type": "execute_result"
    }
   ],
   "source": [
    "s1.virtual_age = s1.age + 1  # 创建一个新的实例属性\n",
    "# 注意这是可行的，所以本来就继承了一部分的dict，就像定义函数中的关键字参数也得是继承的字典\n",
    "s1.__dict__['univ'] = 'USTC'  # 直接修改实例的属性字典\n",
    "s1.__dict__"
   ]
  },
  {
   "cell_type": "markdown",
   "metadata": {
    "slideshow": {
     "slide_type": "subslide"
    }
   },
   "source": [
    "#### Python中创建实例属性的灵活性\n",
    "\n",
    "* 实例属性可以在初始化时创建\n",
    "\n",
    "* 实例属性可以在调用实例方法时，由方法创建（不建议）\n",
    "\n",
    "* 实例属性可以通过实例直接创建\n",
    "\n",
    "* 实例属性可以通过修改实例的属性字典进行增加、删除或修改"
   ]
  },
  {
   "cell_type": "markdown",
   "metadata": {
    "slideshow": {
     "slide_type": "slide"
    }
   },
   "source": [
    "### 实例对象的属性与局部变量\n",
    "\n",
    "实例变量需要通过self来引用。在实例的生存期内，实例变量可以通过类的实例访问，也可以在实例的方法中通过self访问。\n",
    "\n",
    "而局部变量只在定义它的方法中可见，在类代码的其他部分是不可见的，也无法通过类的实例从类的外部访问。"
   ]
  },
  {
   "cell_type": "code",
   "execution_count": 45,
   "metadata": {
    "slideshow": {
     "slide_type": "subslide"
    }
   },
   "outputs": [],
   "source": [
    "class Student2:\n",
    "    def __init__(self, name, age):\n",
    "        self.name = name # 前面的self.name是一个实例属性，但是后面的name就是一个局部变量\n",
    "        self.age = age\n",
    "    def grow(self):\n",
    "        age = 18  # 注意： 这个变量既不是类变量，也不是实例变量\n",
    "        print('I am '+ str(age) + ' years old.')"
   ]
  },
  {
   "cell_type": "code",
   "execution_count": 29,
   "metadata": {
    "slideshow": {
     "slide_type": "subslide"
    }
   },
   "outputs": [
    {
     "name": "stdout",
     "output_type": "stream",
     "text": [
      "I am 18 years old.\n",
      "the value of age is  10\n"
     ]
    }
   ],
   "source": [
    "s2 = Student2('Tom',10)\n",
    "s2.grow()\n",
    "print('the value of age is ', s2.age)\n",
    "#print(Student2.age)"
   ]
  },
  {
   "cell_type": "markdown",
   "metadata": {
    "slideshow": {
     "slide_type": "slide"
    }
   },
   "source": [
    "### 实例属性与类属性\n",
    "\n",
    "在类中也可以定义类（静态）属性，它不属于特定实例，而是所有实例共享同一个副本。\n",
    "\n",
    "类（静态）属性既可以通过类对象访问，也可以（不建议）通过实例对象访问。\n",
    "\n",
    "即便没有定义任何实例对象，类属性依然存在。"
   ]
  },
  {
   "cell_type": "markdown",
   "metadata": {
    "slideshow": {
     "slide_type": "subslide"
    }
   },
   "source": [
    "访问静态属性可能犯的两种错误\n",
    "\n",
    "* 访问静态属性的第一种错误\n",
    "\n",
    "误用实例访问类属性。只有实例中不存在同名属性时，通过实例读取的才是类属性。\n"
   ]
  },
  {
   "cell_type": "code",
   "execution_count": 47,
   "metadata": {
    "slideshow": {
     "slide_type": "subslide"
    }
   },
   "outputs": [],
   "source": [
    "class Student3:\n",
    "    cnt = 5  # 这是类属性\n",
    "    def __init__(self, name):\n",
    "        self.name =  name\n",
    "    def show(self):\n",
    "        print('cnt:', self.cnt)\n",
    "    def arrive(self):\n",
    "        # print(self.cnt)\n",
    "        self.cnt +=1  # 这是实例属性"
   ]
  },
  {
   "cell_type": "code",
   "execution_count": 48,
   "metadata": {
    "slideshow": {
     "slide_type": "subslide"
    }
   },
   "outputs": [
    {
     "name": "stdout",
     "output_type": "stream",
     "text": [
      "cnt: 5\n"
     ]
    },
    {
     "data": {
      "text/plain": [
       "(6, 5)"
      ]
     },
     "execution_count": 48,
     "metadata": {},
     "output_type": "execute_result"
    }
   ],
   "source": [
    "s3 = Student3('Tot')\n",
    "s3.show()\n",
    "s3.arrive()\n",
    "s3.cnt, Student3.cnt  # 为什么这时读取的cnt属性是类属性？"
   ]
  },
  {
   "cell_type": "code",
   "execution_count": 32,
   "metadata": {
    "slideshow": {
     "slide_type": "subslide"
    }
   },
   "outputs": [
    {
     "data": {
      "text/plain": [
       "(8, 5)"
      ]
     },
     "execution_count": 32,
     "metadata": {},
     "output_type": "execute_result"
    }
   ],
   "source": [
    "s3.arrive()\n",
    "s3.arrive()\n",
    "s3.arrive()\n",
    "s3.cnt, Student3.cnt  # 为什么这两个cnt属性值并不相同？"
   ]
  },
  {
   "cell_type": "code",
   "execution_count": 49,
   "metadata": {
    "slideshow": {
     "slide_type": "subslide"
    }
   },
   "outputs": [],
   "source": [
    "class Light:\n",
    "    cnt = 1\n",
    "    def __init__(self, name):\n",
    "        self.name = name\n",
    "    def show(self):\n",
    "        print(self.cnt)\n",
    "    def tell(self):\n",
    "        print(Light.cnt)"
   ]
  },
  {
   "cell_type": "code",
   "execution_count": 55,
   "metadata": {
    "slideshow": {
     "slide_type": "subslide"
    }
   },
   "outputs": [
    {
     "name": "stdout",
     "output_type": "stream",
     "text": [
      "1\n",
      "6\n",
      "1\n",
      "None None\n"
     ]
    }
   ],
   "source": [
    "t1 = Light('geek')\n",
    "print(t1.cnt)\n",
    "t1.cnt = t1.cnt + 5  # what happened?\n",
    "print(t1.show(), t1.tell())  # why?"
   ]
  },
  {
   "cell_type": "markdown",
   "metadata": {
    "slideshow": {
     "slide_type": "subslide"
    }
   },
   "source": [
    "* 访问静态属性的第二种错误\n",
    "\n",
    "误把类属性当成局部变量"
   ]
  },
  {
   "cell_type": "code",
   "execution_count": 1,
   "metadata": {
    "slideshow": {
     "slide_type": "subslide"
    }
   },
   "outputs": [],
   "source": [
    "class Student4:\n",
    "    cnt = 5\n",
    "    def __init__(self, name):\n",
    "        self.name =  name\n",
    "    def show(self):\n",
    "        print('cnt:', cnt)\n",
    "        pass\n",
    "    def arrive(self):\n",
    "        self.cnt +=1\n",
    "        pass"
   ]
  },
  {
   "cell_type": "code",
   "execution_count": 2,
   "metadata": {
    "slideshow": {
     "slide_type": "subslide"
    }
   },
   "outputs": [],
   "source": [
    "s4 = Student4('Jack')\n",
    "s4.arrive()"
   ]
  },
  {
   "cell_type": "code",
   "execution_count": 3,
   "metadata": {
    "slideshow": {
     "slide_type": "fragment"
    }
   },
   "outputs": [
    {
     "data": {
      "text/plain": [
       "(6, 5)"
      ]
     },
     "execution_count": 3,
     "metadata": {},
     "output_type": "execute_result"
    }
   ],
   "source": [
    "s4.cnt, Student4.cnt"
   ]
  },
  {
   "cell_type": "code",
   "execution_count": 38,
   "metadata": {
    "slideshow": {
     "slide_type": "subslide"
    }
   },
   "outputs": [],
   "source": [
    "#s4.show()  # error! why?"
   ]
  },
  {
   "cell_type": "code",
   "execution_count": 39,
   "metadata": {
    "slideshow": {
     "slide_type": "fragment"
    }
   },
   "outputs": [],
   "source": [
    "#s4.arrive() # error ! why?"
   ]
  },
  {
   "cell_type": "markdown",
   "metadata": {
    "slideshow": {
     "slide_type": "subslide"
    }
   },
   "source": [
    "### 小结：\n",
    "\n",
    "在类代码中初始化的类(静态)属性与类实例属性和局部变量不同。\n",
    "\n",
    "类(静态)属性可以通过类名读取和修改\n",
    "\n",
    "通过实例名不能对类静态属性进行修改，反而会生成了一个同名的实例属性。"
   ]
  },
  {
   "cell_type": "markdown",
   "metadata": {
    "slideshow": {
     "slide_type": "subslide"
    }
   },
   "source": [
    "* 访问和修改类（静态）属性的正确方法"
   ]
  },
  {
   "cell_type": "code",
   "execution_count": 40,
   "metadata": {
    "slideshow": {
     "slide_type": "subslide"
    }
   },
   "outputs": [],
   "source": [
    "class Student5:\n",
    "    cnt = 0\n",
    "    def __init__(self, name):\n",
    "        self.name =  name   # 使用self访问实例属性\n",
    "    def arrive(self):\n",
    "        Student5.cnt +=1  # 使用类名访问类属性"
   ]
  },
  {
   "cell_type": "code",
   "execution_count": 41,
   "metadata": {
    "slideshow": {
     "slide_type": "subslide"
    }
   },
   "outputs": [
    {
     "data": {
      "text/plain": [
       "0"
      ]
     },
     "execution_count": 41,
     "metadata": {},
     "output_type": "execute_result"
    }
   ],
   "source": [
    "Student5.cnt"
   ]
  },
  {
   "cell_type": "code",
   "execution_count": 42,
   "metadata": {
    "slideshow": {
     "slide_type": "subslide"
    }
   },
   "outputs": [
    {
     "data": {
      "text/plain": [
       "0"
      ]
     },
     "execution_count": 42,
     "metadata": {},
     "output_type": "execute_result"
    }
   ],
   "source": [
    "s5 = Student5('Right')\n",
    "#print(s5.cnt)  # 不建议通过实例访问类属性，虽然结果相同\n",
    "Student5.cnt"
   ]
  },
  {
   "cell_type": "code",
   "execution_count": 43,
   "metadata": {
    "slideshow": {
     "slide_type": "subslide"
    }
   },
   "outputs": [
    {
     "data": {
      "text/plain": [
       "1"
      ]
     },
     "execution_count": 43,
     "metadata": {},
     "output_type": "execute_result"
    }
   ],
   "source": [
    "s5.arrive()\n",
    "#print(s5.cnt)  # 不建议通过实例访问类属性，虽然结果相同\n",
    "Student5.cnt"
   ]
  },
  {
   "cell_type": "markdown",
   "metadata": {
    "slideshow": {
     "slide_type": "slide"
    }
   },
   "source": [
    "### 私有属性和公有属性\n",
    "\n",
    "Python中没有public和private关键字进行访问控制。\n",
    "\n",
    "通常约定以两个下划线开头，但是不以两个下划线结尾的属性为私有属性。\n",
    "\n",
    "从类的外部不能直接访问私有属性，只能在类的内部访问或者通过类的方法访问。"
   ]
  },
  {
   "cell_type": "code",
   "execution_count": 68,
   "metadata": {
    "slideshow": {
     "slide_type": "subslide"
    }
   },
   "outputs": [],
   "source": [
    "class Person:\n",
    "    __age = 30\n",
    "    def __init__(): pass\n",
    "    def get_age():\n",
    "        if Person.__age >=50: print('old')\n",
    "        else: print('young')"
   ]
  },
  {
   "cell_type": "code",
   "execution_count": 70,
   "metadata": {
    "slideshow": {
     "slide_type": "subslide"
    }
   },
   "outputs": [
    {
     "name": "stdout",
     "output_type": "stream",
     "text": [
      "young\n"
     ]
    },
    {
     "data": {
      "text/plain": [
       "(None,)"
      ]
     },
     "execution_count": 70,
     "metadata": {},
     "output_type": "execute_result"
    }
   ],
   "source": [
    "Person.get_age(),"
   ]
  },
  {
   "cell_type": "code",
   "execution_count": 46,
   "metadata": {
    "slideshow": {
     "slide_type": "fragment"
    }
   },
   "outputs": [],
   "source": [
    "#Person.__age  # error! why?"
   ]
  },
  {
   "cell_type": "code",
   "execution_count": 47,
   "metadata": {
    "slideshow": {
     "slide_type": "subslide"
    }
   },
   "outputs": [],
   "source": [
    "class Person2:\n",
    "    def __init__(self,age):\n",
    "        self.__age = age\n",
    "    def get_age(self):\n",
    "        if self.__age >=50: print('old')\n",
    "        else: print('young')"
   ]
  },
  {
   "cell_type": "code",
   "execution_count": 48,
   "metadata": {
    "slideshow": {
     "slide_type": "subslide"
    }
   },
   "outputs": [
    {
     "name": "stdout",
     "output_type": "stream",
     "text": [
      "old\n"
     ]
    }
   ],
   "source": [
    "p2 = Person2(60)\n",
    "p2.get_age()"
   ]
  },
  {
   "cell_type": "code",
   "execution_count": 72,
   "metadata": {
    "slideshow": {
     "slide_type": "fragment"
    }
   },
   "outputs": [],
   "source": [
    "# p2.__age  # error"
   ]
  },
  {
   "cell_type": "code",
   "execution_count": 78,
   "metadata": {
    "slideshow": {
     "slide_type": "subslide"
    }
   },
   "outputs": [],
   "source": [
    "import random\n",
    "class Walker:\n",
    "    def __init__(self, pos = 0):\n",
    "        self.pos = pos\n",
    "    def move(self):\n",
    "        self.pos += 1"
   ]
  },
  {
   "cell_type": "code",
   "execution_count": 79,
   "metadata": {
    "slideshow": {
     "slide_type": "subslide"
    }
   },
   "outputs": [
    {
     "name": "stdout",
     "output_type": "stream",
     "text": [
      "0\n",
      "1\n"
     ]
    }
   ],
   "source": [
    "w1 = Walker()\n",
    "print(w1.pos)\n",
    "w1.move()\n",
    "print(w1.pos)"
   ]
  },
  {
   "cell_type": "markdown",
   "metadata": {
    "slideshow": {
     "slide_type": "subslide"
    }
   },
   "source": [
    "实例方法中的第一个参数为self，用来传递调用方法的实例对象的引用。解释器会自动将该引用传递给类的方法。"
   ]
  },
  {
   "cell_type": "code",
   "execution_count": 52,
   "metadata": {
    "slideshow": {
     "slide_type": "fragment"
    }
   },
   "outputs": [],
   "source": [
    "#Walker.move()  # 如果使用类调用时则会出错，因为缺乏实例对象的引用"
   ]
  },
  {
   "cell_type": "markdown",
   "metadata": {
    "slideshow": {
     "slide_type": "slide"
    }
   },
   "source": [
    "## 私有方法\n",
    "\n",
    "同样，Python中没有public, private这样的关键字区分公有和私有属性，而是通过命名进行区分。\n",
    "\n",
    "以两个下划线开头，但不以两个下划线结尾的方法为私有方法。\n",
    "\n",
    "私有方法只能在对象内部访问，不能从对象外部访问。"
   ]
  },
  {
   "cell_type": "code",
   "execution_count": 80,
   "metadata": {
    "slideshow": {
     "slide_type": "subslide"
    }
   },
   "outputs": [],
   "source": [
    "class Officer:\n",
    "    def __init__(self, rank):\n",
    "        self.rank = rank\n",
    "    # 这是一个私有方法\n",
    "    def __talk(self, msg):\n",
    "        print(msg['content'])\n",
    "    def talk(self, msg):\n",
    "        if self.rank > msg['rank']:\n",
    "            self.__talk(msg)"
   ]
  },
  {
   "cell_type": "code",
   "execution_count": 83,
   "metadata": {
    "slideshow": {
     "slide_type": "subslide"
    }
   },
   "outputs": [
    {
     "name": "stdout",
     "output_type": "stream",
     "text": [
      "alert: everything is fine\n"
     ]
    },
    {
     "data": {
      "text/plain": [
       "({'rank': 6},\n",
       " ['_Officer__talk',\n",
       "  '__class__',\n",
       "  '__delattr__',\n",
       "  '__dict__',\n",
       "  '__dir__',\n",
       "  '__doc__',\n",
       "  '__eq__',\n",
       "  '__format__',\n",
       "  '__ge__',\n",
       "  '__getattribute__',\n",
       "  '__getstate__',\n",
       "  '__gt__',\n",
       "  '__hash__',\n",
       "  '__init__',\n",
       "  '__init_subclass__',\n",
       "  '__le__',\n",
       "  '__lt__',\n",
       "  '__module__',\n",
       "  '__ne__',\n",
       "  '__new__',\n",
       "  '__reduce__',\n",
       "  '__reduce_ex__',\n",
       "  '__repr__',\n",
       "  '__setattr__',\n",
       "  '__sizeof__',\n",
       "  '__str__',\n",
       "  '__subclasshook__',\n",
       "  '__weakref__',\n",
       "  'rank',\n",
       "  'talk'])"
      ]
     },
     "execution_count": 83,
     "metadata": {},
     "output_type": "execute_result"
    }
   ],
   "source": [
    "r1 = Officer(rank = 6)\n",
    "msg1 = {'rank':8, 'content': 'alert: danger is close'}\n",
    "msg2 = {'rank':3, 'content': 'alert: everything is fine'}\n",
    "#r1.__talk(msg1)  # cannot access from outside\n",
    "r1.talk(msg1)\n",
    "r1.talk(msg2)\n",
    "r1.__dict__, dir(r1)"
   ]
  },
  {
   "cell_type": "markdown",
   "metadata": {
    "slideshow": {
     "slide_type": "slide"
    }
   },
   "source": [
    "### 静态方法 staticmethod\n",
    "\n",
    "当我们不需要和类属性和类的实例进行交互时，可以定义静态方法。\n",
    "\n",
    "静态方法使用@staticmethod装饰。装饰之后，类对象的引用不会传递给该方法。\n",
    "\n",
    "这样定义之后，直接使用类名就可以调用该方法了"
   ]
  },
  {
   "cell_type": "code",
   "execution_count": 85,
   "metadata": {
    "slideshow": {
     "slide_type": "subslide"
    }
   },
   "outputs": [],
   "source": [
    "class Meter_Converter:\n",
    "    @staticmethod\n",
    "    def m2c(meter):\n",
    "        cm = meter * 100\n",
    "        return cm"
   ]
  },
  {
   "cell_type": "code",
   "execution_count": 88,
   "metadata": {
    "slideshow": {
     "slide_type": "subslide"
    }
   },
   "outputs": [
    {
     "data": {
      "text/plain": [
       "(252.99999999999997, function)"
      ]
     },
     "execution_count": 88,
     "metadata": {},
     "output_type": "execute_result"
    }
   ],
   "source": [
    "# 直接就是一个function\n",
    "\n",
    "Meter_Converter.m2c(2.53), type(Meter_Converter.m2c)"
   ]
  },
  {
   "cell_type": "code",
   "execution_count": 57,
   "metadata": {
    "slideshow": {
     "slide_type": "fragment"
    }
   },
   "outputs": [
    {
     "data": {
      "text/plain": [
       "<function __main__.Meter_Converter.m2c(meter)>"
      ]
     },
     "execution_count": 57,
     "metadata": {},
     "output_type": "execute_result"
    }
   ],
   "source": [
    "Meter_Converter.m2c  # 注意它是function"
   ]
  },
  {
   "cell_type": "markdown",
   "metadata": {
    "slideshow": {
     "slide_type": "slide"
    }
   },
   "source": [
    "### 类方法 classmethod\n",
    "\n",
    "类方法不对任何类的实例进行操作，但可以访问类的属性。\n",
    "\n",
    "类方法使用@classmethod装饰。装饰之后，第一个参数为类对象的引用。"
   ]
  },
  {
   "cell_type": "code",
   "execution_count": 89,
   "metadata": {
    "slideshow": {
     "slide_type": "subslide"
    }
   },
   "outputs": [],
   "source": [
    "class Reporter:\n",
    "    classname = 'reporter'\n",
    "    def __init__(self, name):\n",
    "        self.name = name\n",
    "    def show(self):\n",
    "        print('I am '+ self.name)\n",
    "    @classmethod\n",
    "    def who_am_i(cls):  # 注意：传递的不是实例对象的引用\n",
    "        print(cls, id(cls))\n",
    "        print('I am '+ cls.classname)"
   ]
  },
  {
   "cell_type": "code",
   "execution_count": null,
   "metadata": {},
   "outputs": [],
   "source": []
  },
  {
   "cell_type": "code",
   "execution_count": null,
   "metadata": {},
   "outputs": [],
   "source": []
  },
  {
   "cell_type": "code",
   "execution_count": 90,
   "metadata": {
    "slideshow": {
     "slide_type": "subslide"
    }
   },
   "outputs": [
    {
     "name": "stdout",
     "output_type": "stream",
     "text": [
      "<class '__main__.Reporter'> 55400480\n",
      "I am reporter\n"
     ]
    }
   ],
   "source": [
    "Reporter.who_am_i()"
   ]
  },
  {
   "cell_type": "code",
   "execution_count": 60,
   "metadata": {
    "slideshow": {
     "slide_type": "fragment"
    }
   },
   "outputs": [
    {
     "data": {
      "text/plain": [
       "<bound method Reporter.who_am_i of <class '__main__.Reporter'>>"
      ]
     },
     "execution_count": 60,
     "metadata": {},
     "output_type": "execute_result"
    }
   ],
   "source": [
    "Reporter.who_am_i  # 注意这是一个方法"
   ]
  },
  {
   "cell_type": "code",
   "execution_count": 61,
   "metadata": {
    "slideshow": {
     "slide_type": "subslide"
    }
   },
   "outputs": [
    {
     "name": "stdout",
     "output_type": "stream",
     "text": [
      "I am William\n"
     ]
    }
   ],
   "source": [
    "r1 =  Reporter('William')\n",
    "r1.show()"
   ]
  },
  {
   "cell_type": "markdown",
   "metadata": {
    "slideshow": {
     "slide_type": "slide"
    }
   },
   "source": [
    "## 6.6 类的特殊属性与特殊方法\n",
    "\n",
    "### 类的特殊属性\n",
    "\n",
    "以双下划线开始和结束的属性为特殊属性。\n",
    "\n",
    "类class对象的特殊属性与实例instance对象的特殊属性访问渠道不同。"
   ]
  },
  {
   "cell_type": "code",
   "execution_count": 93,
   "metadata": {
    "slideshow": {
     "slide_type": "subslide"
    }
   },
   "outputs": [],
   "source": [
    "class Shape:\n",
    "    cnt = 0\n",
    "    # 初始化方法，是系统直接调用的特殊方法\n",
    "    def __init__(self, name):\n",
    "        self.name = name\n",
    "        self.area = 1\n",
    "    def get_area(self):\n",
    "        return self.area"
   ]
  },
  {
   "cell_type": "code",
   "execution_count": 92,
   "metadata": {
    "slideshow": {
     "slide_type": "subslide"
    }
   },
   "outputs": [
    {
     "data": {
      "text/plain": [
       "mappingproxy({'__module__': '__main__',\n",
       "              'cnt': 0,\n",
       "              '__init__': <function __main__.Shape.__init__(self, name)>,\n",
       "              'get_area': <function __main__.Shape.get_area(self)>,\n",
       "              '__dict__': <attribute '__dict__' of 'Shape' objects>,\n",
       "              '__weakref__': <attribute '__weakref__' of 'Shape' objects>,\n",
       "              '__doc__': None})"
      ]
     },
     "execution_count": 92,
     "metadata": {},
     "output_type": "execute_result"
    }
   ],
   "source": [
    "Shape.__dict__  # 类对象的属性字典，注意类的属性和类的方法都在这个字典里"
   ]
  },
  {
   "cell_type": "code",
   "execution_count": 94,
   "metadata": {
    "slideshow": {
     "slide_type": "subslide"
    }
   },
   "outputs": [
    {
     "data": {
      "text/plain": [
       "{'name': 'circle', 'area': 1}"
      ]
     },
     "execution_count": 94,
     "metadata": {},
     "output_type": "execute_result"
    }
   ],
   "source": [
    "s1 = Shape('circle')\n",
    "s1.__dict__  # 实例对象的属性字典，这里的属性都是实例属性"
   ]
  },
  {
   "cell_type": "code",
   "execution_count": 95,
   "metadata": {
    "slideshow": {
     "slide_type": "subslide"
    }
   },
   "outputs": [],
   "source": [
    "class Circle(Shape):\n",
    "    def __init__(self, d = 2):\n",
    "        import math\n",
    "        Shape.__init__(self, name = 'circle')\n",
    "        self.diameter = d\n",
    "        self.area = math.pi / 4 * d ** 2"
   ]
  },
  {
   "cell_type": "code",
   "execution_count": 96,
   "metadata": {
    "slideshow": {
     "slide_type": "subslide"
    }
   },
   "outputs": [
    {
     "data": {
      "text/plain": [
       "mappingproxy({'__module__': '__main__',\n",
       "              '__init__': <function __main__.Circle.__init__(self, d=2)>,\n",
       "              '__doc__': None})"
      ]
     },
     "execution_count": 96,
     "metadata": {},
     "output_type": "execute_result"
    }
   ],
   "source": [
    "Circle.__dict__  # 派生类对象的属性字典，三不包含基类的方法和属性"
   ]
  },
  {
   "cell_type": "code",
   "execution_count": 67,
   "metadata": {
    "slideshow": {
     "slide_type": "subslide"
    }
   },
   "outputs": [
    {
     "data": {
      "text/plain": [
       "0"
      ]
     },
     "execution_count": 67,
     "metadata": {},
     "output_type": "execute_result"
    }
   ],
   "source": [
    "Circle.cnt  # 虽然属性字典里没有，但可以访问父类的属性"
   ]
  },
  {
   "cell_type": "code",
   "execution_count": 98,
   "metadata": {
    "slideshow": {
     "slide_type": "subslide"
    }
   },
   "outputs": [
    {
     "data": {
      "text/plain": [
       "{'name': 'circle', 'area': 12.566370614359172, 'diameter': 4}"
      ]
     },
     "execution_count": 98,
     "metadata": {},
     "output_type": "execute_result"
    }
   ],
   "source": [
    "c1 = Circle(4)\n",
    "c1.__dict__  #  实例对象的属性字典"
   ]
  },
  {
   "cell_type": "markdown",
   "metadata": {
    "slideshow": {
     "slide_type": "subslide"
    }
   },
   "source": [
    "- 常见特殊属性\n",
    "    * class 所属类\n",
    "    * bases 基类元组\n",
    "    * base 基类\n",
    "    * name 名称\n",
    "    * mro = method resolution order"
   ]
  },
  {
   "cell_type": "code",
   "execution_count": 69,
   "metadata": {
    "slideshow": {
     "slide_type": "subslide"
    }
   },
   "outputs": [
    {
     "name": "stdout",
     "output_type": "stream",
     "text": [
      "实例所属类 <class '__main__.Circle'>\n",
      "基类元组 (<class '__main__.Shape'>,)\n",
      "基类 <class '__main__.Shape'>\n",
      "类的名称 Circle\n",
      "方法查找顺序 (<class '__main__.Circle'>, <class '__main__.Shape'>, <class 'object'>)\n"
     ]
    }
   ],
   "source": [
    "print('实例所属类', c1.__class__)\n",
    "print('基类元组', Circle.__bases__)\n",
    "print('基类', Circle.__base__)\n",
    "print('类的名称', Circle.__name__)\n",
    "print('方法查找顺序', Circle.__mro__)"
   ]
  },
  {
   "cell_type": "markdown",
   "metadata": {
    "slideshow": {
     "slide_type": "slide"
    }
   },
   "source": [
    "### dict属性的使用\n",
    "\n",
    "dict属性可以视为是一个外挂，小心！\n",
    "\n",
    "可以使用dict属性完成类成员的访问和修改"
   ]
  },
  {
   "cell_type": "code",
   "execution_count": 99,
   "metadata": {
    "slideshow": {
     "slide_type": "subslide"
    }
   },
   "outputs": [
    {
     "name": "stdout",
     "output_type": "stream",
     "text": [
      "10 12.566370614359172\n"
     ]
    },
    {
     "data": {
      "text/plain": [
       "10"
      ]
     },
     "execution_count": 99,
     "metadata": {},
     "output_type": "execute_result"
    }
   ],
   "source": [
    "c1.__dict__['diameter'] = 10\n",
    "print(c1.__dict__['diameter'], c1.__dict__['area'])  # of course, they do not match\n",
    "c1.diameter"
   ]
  },
  {
   "cell_type": "code",
   "execution_count": 71,
   "metadata": {
    "slideshow": {
     "slide_type": "subslide"
    }
   },
   "outputs": [
    {
     "name": "stdout",
     "output_type": "stream",
     "text": [
      "{'name': 'circle', 'area': 12.566370614359172}\n"
     ]
    }
   ],
   "source": [
    "del c1.__dict__['diameter']  # the attribute is gone\n",
    "print(c1.__dict__)\n",
    "#c1.diameter"
   ]
  },
  {
   "cell_type": "code",
   "execution_count": 72,
   "metadata": {
    "slideshow": {
     "slide_type": "subslide"
    }
   },
   "outputs": [
    {
     "name": "stdout",
     "output_type": "stream",
     "text": [
      "red\n",
      "{'name': 'circle', 'area': 12.566370614359172, 'color': 'red'}\n"
     ]
    }
   ],
   "source": [
    "c1.__dict__['color'] = 'red'  # 通过修改dict属性字典增加一个自定义属性\n",
    "print(c1.color)\n",
    "print(c1.__dict__)"
   ]
  },
  {
   "cell_type": "markdown",
   "metadata": {
    "slideshow": {
     "slide_type": "subslide"
    }
   },
   "source": [
    "小结：使用``__dict__``属性，可以\n",
    "\n",
    "* 增加实例属性\n",
    "\n",
    "* 删除实例属性\n",
    "\n",
    "* 修改实例属性值"
   ]
  },
  {
   "cell_type": "markdown",
   "metadata": {
    "slideshow": {
     "slide_type": "subslide"
    }
   },
   "source": [
    "从以上过程可以看到，Python允许在类的定义外增加对象的属性。\n",
    "\n",
    "自定义属性，即类的定义体中不存在的属性。\n",
    "\n",
    "* 优点：自由，灵活\n",
    "\n",
    "* 缺点：不在定义体中，难以追溯，不可预料的对象属性和行为\n",
    "\n",
    "**有没有办法可以避免用户自定义属性？**（高级技巧：拦截对于类成员的访问）"
   ]
  },
  {
   "cell_type": "markdown",
   "metadata": {
    "slideshow": {
     "slide_type": "slide"
    }
   },
   "source": [
    "### 类的特殊方法\n",
    "\n",
    "类中的特殊方法以双下划线开头和结尾，例如：\n",
    "\n",
    "* new方法，在创建对象时调用，返回当前对象的一个实例\n",
    "* 构造方法init，创建完对象之后，对实例进行初始化\n",
    "* 析构方法del，实现销毁实例对象时需要进行的收尾工作。"
   ]
  },
  {
   "cell_type": "markdown",
   "metadata": {
    "slideshow": {
     "slide_type": "subslide"
    }
   },
   "source": [
    "类的特殊方法通常与某种通用操作或运算相关联，如下标化和python的内置函数，当使用内置函数操作时，系统会首先查找该类中对应的特殊方法。\n",
    "\n",
    "对应于内置函数的特殊方法有：len, repr, str, bytes, format, bool, hash, dir等。"
   ]
  },
  {
   "cell_type": "code",
   "execution_count": 73,
   "metadata": {
    "slideshow": {
     "slide_type": "subslide"
    }
   },
   "outputs": [
    {
     "data": {
      "text/plain": [
       "'1+2+3+4+5'"
      ]
     },
     "execution_count": 73,
     "metadata": {},
     "output_type": "execute_result"
    }
   ],
   "source": [
    "class Items:\n",
    "    def __init__(self, *it):\n",
    "        self.content = it\n",
    "    def __str__(self):\n",
    "        return '+'.join([str(i) for i in self.content])\n",
    "i1 = Items(1, 2, 3, 4, 5)\n",
    "str(i1)"
   ]
  },
  {
   "cell_type": "markdown",
   "metadata": {
    "slideshow": {
     "slide_type": "subslide"
    }
   },
   "source": [
    "上面的例子重写了str函数，当使用内置函数str操作该对象时，会调用该对象的str方法。\n",
    "\n",
    "下面的例子重写了repr函数。"
   ]
  },
  {
   "cell_type": "code",
   "execution_count": 74,
   "metadata": {
    "slideshow": {
     "slide_type": "subslide"
    }
   },
   "outputs": [],
   "source": [
    "class My_Dict:\n",
    "    def __init__(self, **kwargs):\n",
    "        self.content = kwargs\n",
    "    def __repr__(self):\n",
    "        f = lambda k,v: '{0}->{1}'.format(k,v) \n",
    "        k2v = [f(k,v) for (k,v) in self.content.items()]\n",
    "        return ', '.join(k2v)"
   ]
  },
  {
   "cell_type": "code",
   "execution_count": 75,
   "metadata": {
    "slideshow": {
     "slide_type": "subslide"
    }
   },
   "outputs": [
    {
     "name": "stdout",
     "output_type": "stream",
     "text": [
      "apple->red, banana->yellow, pear->white\n",
      "apple->red, banana->yellow, pear->white\n",
      "{'apple': 'red', 'banana': 'yellow', 'pear': 'white'}\n",
      "{'apple': 'red', 'banana': 'yellow', 'pear': 'white'}\n"
     ]
    }
   ],
   "source": [
    "m1 = My_Dict(apple=  'red', banana = 'yellow', pear = 'white')\n",
    "print(repr(m1))\n",
    "print(str(m1))\n",
    "# 与字典的原生repr方法比较\n",
    "d1 = dict(apple=  'red', banana = 'yellow', pear = 'white')\n",
    "print(repr(d1))\n",
    "print(str(d1))"
   ]
  },
  {
   "cell_type": "code",
   "execution_count": 76,
   "metadata": {
    "slideshow": {
     "slide_type": "subslide"
    }
   },
   "outputs": [
    {
     "name": "stdout",
     "output_type": "stream",
     "text": [
      "Help on built-in function repr in module builtins:\n",
      "\n",
      "repr(obj, /)\n",
      "    Return the canonical string representation of the object.\n",
      "    \n",
      "    For many object types, including most builtins, eval(repr(obj)) == obj.\n",
      "\n"
     ]
    }
   ],
   "source": [
    "help(repr)"
   ]
  },
  {
   "cell_type": "markdown",
   "metadata": {
    "slideshow": {
     "slide_type": "subslide"
    }
   },
   "source": [
    "可以发现：\n",
    "\n",
    "内置对象的repr定义遵循一个规则： eval(repr(obj)) == obj."
   ]
  },
  {
   "cell_type": "markdown",
   "metadata": {
    "slideshow": {
     "slide_type": "slide"
    }
   },
   "source": [
    "### 运算符与运算的特殊方法\n",
    "\n",
    "python中的运算符实际上也是通过调用对象的特殊方法实现的。如比较运算、算术运算、按位运算。\n",
    "\n",
    "通过重写各运算符对应的特殊方法可以实现运算符的重载。"
   ]
  },
  {
   "cell_type": "code",
   "execution_count": 77,
   "metadata": {
    "slideshow": {
     "slide_type": "subslide"
    }
   },
   "outputs": [],
   "source": [
    "class MyList:\n",
    "    def __init__(self, *data):  self.content = data\n",
    "    def __len__(self):  return len(self.content)  # 重写了len函数\n",
    "    def __add__(self, b):  # 重写了加法\n",
    "        k = len(b) if len(b) < len(self) else len(self)\n",
    "        content = [self.content[i] + b.content[i] for i in range(k)]\n",
    "        return MyList(*content)  # note *content means multiple variables instead of one"
   ]
  },
  {
   "cell_type": "code",
   "execution_count": 78,
   "metadata": {
    "slideshow": {
     "slide_type": "subslide"
    }
   },
   "outputs": [
    {
     "name": "stdout",
     "output_type": "stream",
     "text": [
      "(6, 9, 12, 6)\n"
     ]
    }
   ],
   "source": [
    "m2 = MyList(1, 2, 3, 4, 5)\n",
    "m3 = MyList(5, 7, 9, 2)\n",
    "print((m2 + m3).content)"
   ]
  },
  {
   "cell_type": "markdown",
   "metadata": {
    "slideshow": {
     "slide_type": "subslide"
    }
   },
   "source": [
    "<h4>重载</h4>\n",
    "\n",
    "通过重写对象的运算符函数可以实现运算符重载，即运算函数针对一种新的对象会执行一种新的操作，相当于方法的重载。\n",
    "\n",
    "如加法本来定义在数值对象上，对于列表对象，重写add方法，就实现了加法运算符在列表对象上执行不同的操作。"
   ]
  },
  {
   "cell_type": "code",
   "execution_count": 83,
   "metadata": {
    "slideshow": {
     "slide_type": "subslide"
    }
   },
   "outputs": [],
   "source": [
    "class Addible_Dict(dict):\n",
    "    def __add__(self, b):\n",
    "        c = self.copy()\n",
    "        for i in b:\n",
    "            c[i] = c.get(i, 0) + b[i]\n",
    "        return c"
   ]
  },
  {
   "cell_type": "code",
   "execution_count": 84,
   "metadata": {
    "slideshow": {
     "slide_type": "subslide"
    }
   },
   "outputs": [
    {
     "data": {
      "text/plain": [
       "{'a': 203, 'b': 104, 'c': 6, 'd': 300}"
      ]
     },
     "execution_count": 84,
     "metadata": {},
     "output_type": "execute_result"
    }
   ],
   "source": [
    "ad1 = Addible_Dict(a = 3, b = 4, c = 6)\n",
    "ad2 = Addible_Dict(b = 100, a = 200, d = 300)\n",
    "ad1 + ad2"
   ]
  },
  {
   "cell_type": "markdown",
   "metadata": {
    "slideshow": {
     "slide_type": "subslide"
    }
   },
   "source": [
    "常见运算符对应的方法：\n",
    "\n",
    "``+, -, *, /``  对应于 add, sub, mul, truediv\n",
    "\n",
    "``//, %`` 对应于 floordiv, mod\n",
    "\n",
    "``<, <=, ==, >=`` 对应于lt, le, eq, ge\n",
    "\n",
    "``[index], in ``对应于getitem, contains\n",
    "\n",
    "`x.y`  对应于getattribute（当属性不存在时调用getattr）, setattr, delattr"
   ]
  },
  {
   "cell_type": "code",
   "execution_count": 81,
   "metadata": {
    "slideshow": {
     "slide_type": "subslide"
    }
   },
   "outputs": [],
   "source": [
    "class Book(dict):\n",
    "    def __getattr__(self, name):\n",
    "        return self.get(name)\n",
    "    def __setattr__(self, name, value):\n",
    "        self[name] = value"
   ]
  },
  {
   "cell_type": "code",
   "execution_count": 82,
   "metadata": {
    "slideshow": {
     "slide_type": "notes"
    }
   },
   "outputs": [
    {
     "name": "stdout",
     "output_type": "stream",
     "text": [
      "{'good': 1, 'bad': 2}\n",
      "1\n"
     ]
    },
    {
     "data": {
      "text/plain": [
       "{'good': 1, 'bad': 2, 'ok': 3}"
      ]
     },
     "execution_count": 82,
     "metadata": {},
     "output_type": "execute_result"
    }
   ],
   "source": [
    "b = Book(good = 1, bad = 2)\n",
    "print(b)\n",
    "b.ok = 3\n",
    "print(b.good)\n",
    "b"
   ]
  },
  {
   "cell_type": "markdown",
   "metadata": {
    "slideshow": {
     "slide_type": "subslide"
    }
   },
   "source": [
    "挑战：\n",
    "\n",
    "创建一个字典类，能够实现字典的乘法。原则：对应键的值相乘，若无对应的键，则结果设置为1."
   ]
  },
  {
   "cell_type": "code",
   "execution_count": 8,
   "metadata": {
    "slideshow": {
     "slide_type": "fragment"
    }
   },
   "outputs": [
    {
     "name": "stdout",
     "output_type": "stream",
     "text": [
      "multiply: \n",
      "{'b': 15, 'a': 2, 'd': 7, 'c': 24}\n"
     ]
    }
   ],
   "source": [
    "class Multiplicative_Dict1(dict):\n",
    "    \n",
    "    def __mul__(self, other):\n",
    "        result = Multiplicative_Dict1()\n",
    "        # 使用集合操作取用全部key\n",
    "        common_key = set(self.keys()) & set(other.keys())\n",
    "        private_key = set(self.keys()) ^ set(other.keys())\n",
    "        # print(\"common_key: \", common_key)\n",
    "        # print(\"private_key: \", private_key)\n",
    "        for key in common_key:\n",
    "            result[key] = self[key] * other[key]\n",
    "        for key in private_key:\n",
    "            result[key] = 1\n",
    "        return result\n",
    "\n",
    "\n",
    "\n",
    "\n",
    "\n",
    "dict11 = Multiplicative_Dict1({'a': 2, 'b': 3, 'c': 4})\n",
    "dict12 = Multiplicative_Dict1({'b': 5, 'c': 6, 'd': 7})\n",
    "\n",
    "# print('multiply_1: ')\n",
    "# print(dict11 * dict12)\n",
    "\n",
    "\n",
    "class Multiplicative_Dict(dict):\n",
    "    def __mul__(self, other):\n",
    "        result = Multiplicative_Dict()\n",
    "        # 使用集合操作获取所有的key\n",
    "        all_key = set(self.keys()) | set(other.keys())\n",
    "        for key in all_key:\n",
    "            value1 = self.get(key, 1)\n",
    "            value2 = other.get(key, 1)\n",
    "            result[key] = value1 * value2\n",
    "        return result\n",
    "dict21 = Multiplicative_Dict({'a': 2, 'b': 3, 'c': 4})\n",
    "dict22 = Multiplicative_Dict({'b': 5, 'c': 6, 'd': 7})\n",
    "print('multiply: ')\n",
    "print(dict21 * dict22)"
   ]
  }
 ],
 "metadata": {
  "anaconda-cloud": {},
  "celltoolbar": "幻灯片",
  "kernelspec": {
   "display_name": "Python 3 (ipykernel)",
   "language": "python",
   "name": "python3"
  },
  "language_info": {
   "codemirror_mode": {
    "name": "ipython",
    "version": 3
   },
   "file_extension": ".py",
   "mimetype": "text/x-python",
   "name": "python",
   "nbconvert_exporter": "python",
   "pygments_lexer": "ipython3",
   "version": "3.11.5"
  }
 },
 "nbformat": 4,
 "nbformat_minor": 2
}
