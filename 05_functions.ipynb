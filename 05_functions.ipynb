{
 "cells": [
  {
   "cell_type": "markdown",
   "metadata": {
    "slideshow": {
     "slide_type": "slide"
    }
   },
   "source": [
    "# 5. 函数\n",
    "\n",
    "<h4>什么是函数</h4>\n",
    "\n",
    "* 函数是一块可以重复执行的代码。\n",
    "\n",
    "<h4>为什么要使用函数？</h4>\n",
    "\n",
    "* 任务分解和分工\n",
    "* 代码复用\n",
    "* 结构化程序设计"
   ]
  },
  {
   "cell_type": "markdown",
   "metadata": {
    "slideshow": {
     "slide_type": "subslide"
    }
   },
   "source": [
    "<h3>函数类型</h3>\n",
    "\n",
    "* 内置函数\n",
    "* 标准库函数\n",
    "* 第三方库函数\n",
    "* 自定义函数"
   ]
  },
  {
   "cell_type": "markdown",
   "metadata": {
    "slideshow": {
     "slide_type": "slide"
    }
   },
   "source": [
    "## 5.1 函数定义与调用\n",
    "\n",
    "函数必须声明/定义之后才能使用。\n",
    "\n",
    "函数声明包含函数名称和参数表，这个部分又被称作函数签名。\n",
    "\n",
    "函数体的第一部分，由三个引号括起来的字符串为函数的文档字符串(docstring)。"
   ]
  },
  {
   "cell_type": "code",
   "execution_count": 1,
   "metadata": {
    "slideshow": {
     "slide_type": "subslide"
    }
   },
   "outputs": [
    {
     "data": {
      "text/plain": [
       "0.7"
      ]
     },
     "execution_count": 1,
     "metadata": {},
     "output_type": "execute_result"
    }
   ],
   "source": [
    "def my_max(a, b):\n",
    "    '''The prob of either event occurs'''\n",
    "    return a + b - a * b\n",
    "my_max(0.4, 0.5)"
   ]
  },
  {
   "cell_type": "markdown",
   "metadata": {
    "slideshow": {
     "slide_type": "subslide"
    }
   },
   "source": [
    "\n",
    "定义函数之后，通过函数对象的属性```__doc__```可以访问函数的docstring"
   ]
  },
  {
   "cell_type": "code",
   "execution_count": 2,
   "metadata": {
    "slideshow": {
     "slide_type": "fragment"
    }
   },
   "outputs": [
    {
     "data": {
      "text/plain": [
       "'The prob of either event occurs'"
      ]
     },
     "execution_count": 2,
     "metadata": {},
     "output_type": "execute_result"
    }
   ],
   "source": [
    "my_max.__doc__"
   ]
  },
  {
   "cell_type": "markdown",
   "metadata": {
    "slideshow": {
     "slide_type": "subslide"
    }
   },
   "source": [
    "利用函数文档字符串可以自动化生成帮助文档，使得帮助文档与代码更紧密的组织在一起。\n",
    "\n",
    "编写Python函数时最好在代码中加入文档字符串。当我们使用help(func)时，系统会显示文档字符串。"
   ]
  },
  {
   "cell_type": "code",
   "execution_count": 3,
   "metadata": {
    "slideshow": {
     "slide_type": "subslide"
    }
   },
   "outputs": [
    {
     "data": {
      "text/plain": [
       "0.18"
      ]
     },
     "execution_count": 3,
     "metadata": {},
     "output_type": "execute_result"
    }
   ],
   "source": [
    "def my_min(a, b):\n",
    "    '''\n",
    "    The prob of both events occur.\n",
    "    parameters: a, b = the prob of event A, B, respectively\n",
    "    '''\n",
    "    return a*b\n",
    "my_min(0.3, 0.6)"
   ]
  },
  {
   "cell_type": "code",
   "execution_count": 4,
   "metadata": {
    "slideshow": {
     "slide_type": "subslide"
    }
   },
   "outputs": [
    {
     "name": "stdout",
     "output_type": "stream",
     "text": [
      "\u001b[0;31mSignature:\u001b[0m \u001b[0mmy_min\u001b[0m\u001b[0;34m(\u001b[0m\u001b[0ma\u001b[0m\u001b[0;34m,\u001b[0m \u001b[0mb\u001b[0m\u001b[0;34m)\u001b[0m\u001b[0;34m\u001b[0m\u001b[0;34m\u001b[0m\u001b[0m\n",
      "\u001b[0;31mDocstring:\u001b[0m\n",
      "The prob of both events occur.\n",
      "parameters: a, b = the prob of event A, B, respectively\n",
      "\u001b[0;31mFile:\u001b[0m      /tmp/ipykernel_4593/715744611.py\n",
      "\u001b[0;31mType:\u001b[0m      function"
     ]
    }
   ],
   "source": [
    "my_min?"
   ]
  },
  {
   "cell_type": "code",
   "execution_count": 5,
   "metadata": {
    "slideshow": {
     "slide_type": "subslide"
    }
   },
   "outputs": [],
   "source": [
    "# 最简单的函数定义\n",
    "def do_nothing_return_nothing():\n",
    "    pass  # 什么都不做\n",
    "# 思考：什么时候会用到这样的函数定义？"
   ]
  },
  {
   "cell_type": "code",
   "execution_count": 6,
   "metadata": {
    "slideshow": {
     "slide_type": "fragment"
    }
   },
   "outputs": [],
   "source": [
    "do_nothing_return_nothing()"
   ]
  },
  {
   "cell_type": "markdown",
   "metadata": {
    "slideshow": {
     "slide_type": "subslide"
    }
   },
   "source": [
    "函数声明和调用注意事项：\n",
    "\n",
    "* 先声明后使用\n",
    "* 调用函数时，必须将参数放在函数名后的小括号内，不论是否有参数\n",
    "* 若调用时传递给函数的参数与函数定义不符，则会导致错误。"
   ]
  },
  {
   "cell_type": "code",
   "execution_count": 7,
   "metadata": {
    "slideshow": {
     "slide_type": "subslide"
    }
   },
   "outputs": [],
   "source": [
    "#my_min()\n",
    "#my_min(2)\n",
    "#my_min(3, 4, 5)"
   ]
  },
  {
   "cell_type": "markdown",
   "metadata": {
    "slideshow": {
     "slide_type": "slide"
    }
   },
   "source": [
    "## 5.2 函数调用与参数传递\n",
    "\n",
    "函数定义时声明了一组参数，调用时需要将实际数值恰当的传递给函数，函数才能得到预期结果。"
   ]
  },
  {
   "cell_type": "markdown",
   "metadata": {
    "slideshow": {
     "slide_type": "slide"
    }
   },
   "source": [
    "### 形式参数与实际参数\n",
    "\n",
    "* 形式参数：函数定义时声明的参数名称。\n",
    "\n",
    "* 实际参数：函数调用时传递的实际参数。"
   ]
  },
  {
   "cell_type": "code",
   "execution_count": 8,
   "metadata": {
    "slideshow": {
     "slide_type": "subslide"
    }
   },
   "outputs": [],
   "source": [
    "def odds(a, b):\n",
    "    return (a + 0.5) / (b + 0.5)"
   ]
  },
  {
   "cell_type": "markdown",
   "metadata": {
    "slideshow": {
     "slide_type": "subslide"
    }
   },
   "source": [
    "注意观察下面在调用函数时，传递给a和b的参数值分别是什么？"
   ]
  },
  {
   "cell_type": "code",
   "execution_count": 9,
   "metadata": {
    "slideshow": {
     "slide_type": "fragment"
    }
   },
   "outputs": [
    {
     "data": {
      "text/plain": [
       "(0.5555555555555556, 1.8)"
      ]
     },
     "execution_count": 9,
     "metadata": {},
     "output_type": "execute_result"
    }
   ],
   "source": [
    "odds(2,4),odds(4,2)"
   ]
  },
  {
   "cell_type": "code",
   "execution_count": 7,
   "metadata": {
    "slideshow": {
     "slide_type": "subslide"
    }
   },
   "outputs": [
    {
     "data": {
      "text/plain": [
       "1"
      ]
     },
     "execution_count": 7,
     "metadata": {},
     "output_type": "execute_result"
    }
   ],
   "source": [
    "# 函数小练习：定义一个函数 test(a, b)\n",
    "# 1. 如果 a>b 返回1, 否则返回0\n",
    "# 2. 如果 a>b 返回a, 否则返回b\n",
    "def test1(a, b):\n",
    "    return 1 if a > b else 0\n",
    "\n",
    "\n",
    "test1(1, 0)\n"
   ]
  },
  {
   "cell_type": "markdown",
   "metadata": {
    "slideshow": {
     "slide_type": "slide"
    }
   },
   "source": [
    "### 参数传递方式（调用时）\n",
    "\n",
    "* 位置参数：调用时不指定对应的形式参数名称，默认按位置顺序将实参传递给形式参数。\n",
    "\n",
    "* 命名参数：调用时按名称传递实际参数，也称为关键字参数。此时，实参传递顺序可以与形参声明顺序不同。"
   ]
  },
  {
   "cell_type": "code",
   "execution_count": 11,
   "metadata": {
    "slideshow": {
     "slide_type": "subslide"
    }
   },
   "outputs": [],
   "source": [
    "def follower(a, b, c):\n",
    "    return a - b - c"
   ]
  },
  {
   "cell_type": "markdown",
   "metadata": {
    "slideshow": {
     "slide_type": "subslide"
    }
   },
   "source": [
    "如果采用命名参数来传递参数，调用时命名实参顺序是任意的。观察下面两个表达式的结果是一致的。"
   ]
  },
  {
   "cell_type": "code",
   "execution_count": 12,
   "metadata": {
    "slideshow": {
     "slide_type": "fragment"
    }
   },
   "outputs": [
    {
     "data": {
      "text/plain": [
       "(3, 3)"
      ]
     },
     "execution_count": 12,
     "metadata": {},
     "output_type": "execute_result"
    }
   ],
   "source": [
    "follower(a = 21, b = 15, c = 3), follower(b = 15, a = 21, c = 3)"
   ]
  },
  {
   "cell_type": "markdown",
   "metadata": {
    "slideshow": {
     "slide_type": "subslide"
    }
   },
   "source": [
    "这两种调用方式与下面的位置参数传递方式是一致的。"
   ]
  },
  {
   "cell_type": "code",
   "execution_count": 13,
   "metadata": {
    "slideshow": {
     "slide_type": "fragment"
    }
   },
   "outputs": [
    {
     "data": {
      "text/plain": [
       "3"
      ]
     },
     "execution_count": 13,
     "metadata": {},
     "output_type": "execute_result"
    }
   ],
   "source": [
    "follower(21, 15, 3)"
   ]
  },
  {
   "cell_type": "markdown",
   "metadata": {
    "slideshow": {
     "slide_type": "subslide"
    }
   },
   "source": [
    "下面的代码看起来也很像是命名参数传递，但结果为什么就不一样呢？"
   ]
  },
  {
   "cell_type": "code",
   "execution_count": 14,
   "metadata": {
    "slideshow": {
     "slide_type": "fragment"
    }
   },
   "outputs": [
    {
     "data": {
      "text/plain": [
       "(3, -9)"
      ]
     },
     "execution_count": 14,
     "metadata": {},
     "output_type": "execute_result"
    }
   ],
   "source": [
    "a, b, c = 21, 15, 3\n",
    "# 下面函数调用时，没有=号就不是命名参数\n",
    "follower(a, b, c), follower(b, a, c)"
   ]
  },
  {
   "cell_type": "markdown",
   "metadata": {
    "slideshow": {
     "slide_type": "subslide"
    }
   },
   "source": [
    "注意：使用命名参数时，__必须使用 key = value 的形式。__\n",
    "\n",
    "函数的形式参数是怎么命名的，我们可以查看函数签名。"
   ]
  },
  {
   "cell_type": "markdown",
   "metadata": {
    "slideshow": {
     "slide_type": "subslide"
    }
   },
   "source": [
    "<h4> 位置和命名参数混合传递</h4>\n",
    "\n",
    "当位置参数与命名参数同时存在时，位置参数必须在最前面。"
   ]
  },
  {
   "cell_type": "code",
   "execution_count": 15,
   "metadata": {
    "slideshow": {
     "slide_type": "subslide"
    }
   },
   "outputs": [
    {
     "name": "stdout",
     "output_type": "stream",
     "text": [
      "3\n",
      "5\n"
     ]
    }
   ],
   "source": [
    "def follower(a, b, c):\n",
    "    return a - b - c\n",
    "print(follower(10, 5, c = 2)) \n",
    "print(follower(10, c = 3, b = 2))\n",
    "# print(follower(a = 3, 10, c = 2))  #error"
   ]
  },
  {
   "cell_type": "code",
   "execution_count": 16,
   "metadata": {
    "slideshow": {
     "slide_type": "subslide"
    }
   },
   "outputs": [],
   "source": [
    "def add_by_rule(a, b):\n",
    "    if b > 0: return a + b\n",
    "    else: return a - b\n",
    "# which one is good?\n",
    "#add_by_rule(a = 5, -1)\n",
    "#add_by_rule(5, b = -2)\n",
    "#add_by_rule(5, a = -3)"
   ]
  },
  {
   "cell_type": "markdown",
   "metadata": {
    "slideshow": {
     "slide_type": "subslide"
    }
   },
   "source": [
    "#### 小结：几种典型的错误调用方式\n",
    "\n",
    "* 关键字参数在位置参数之前\n",
    "\n",
    "* 位置参数缺少\n",
    "\n",
    "* 位置参数多余\n",
    "\n",
    "* 位置参数与关键字参数传递的为同一个参数"
   ]
  },
  {
   "cell_type": "code",
   "execution_count": 17,
   "metadata": {
    "slideshow": {
     "slide_type": "subslide"
    }
   },
   "outputs": [
    {
     "name": "stdout",
     "output_type": "stream",
     "text": [
      "5\n",
      "2\n"
     ]
    }
   ],
   "source": [
    "def lower(a, b):\n",
    "    return a if a < b else b\n",
    "print(lower(10, 5)) \n",
    "print(lower(10, b = 2))\n",
    "#print(lower(a = 10, 2))  # 关键字参数在位置参数之前\n",
    "#print(lower(10))  # 位置参数缺少\n",
    "#print(lower(3, 10, 2))  #位置参数多余\n",
    "#print(lower(10, a = 2))  # 位置参数与关键字参数重复传递"
   ]
  },
  {
   "cell_type": "markdown",
   "metadata": {
    "slideshow": {
     "slide_type": "subslide"
    }
   },
   "source": [
    "<h4>可选参数与参数默认值</h4>\n",
    "\n",
    "可以在定义函数时声明某些参数为可选参数并为其赋默认值。\n",
    "\n",
    "函数中的默认值只计算一次，因此**不要使用可变对象作为默认值**，除非你已经充分理解这么做的后果。\n",
    "\n",
    "注意：默认参数必须放置在参数表的最后"
   ]
  },
  {
   "cell_type": "code",
   "execution_count": 18,
   "metadata": {
    "slideshow": {
     "slide_type": "subslide"
    }
   },
   "outputs": [
    {
     "data": {
      "text/plain": [
       "('12', '3+4')"
      ]
     },
     "execution_count": 18,
     "metadata": {},
     "output_type": "execute_result"
    }
   ],
   "source": [
    "def my_join(a, b, sep = ''):\n",
    "    return a + sep + b\n",
    "my_join('1','2'), my_join('3', '4', '+')"
   ]
  },
  {
   "cell_type": "code",
   "execution_count": 19,
   "metadata": {
    "slideshow": {
     "slide_type": "subslide"
    }
   },
   "outputs": [
    {
     "data": {
      "text/plain": [
       "(-2, 8)"
      ]
     },
     "execution_count": 19,
     "metadata": {},
     "output_type": "execute_result"
    }
   ],
   "source": [
    "def add_minus(a, b, flag = True):\n",
    "    return a + b if flag else a - b\n",
    "add_minus(3, 5, False), add_minus(3, 5)"
   ]
  },
  {
   "cell_type": "code",
   "execution_count": 20,
   "metadata": {
    "slideshow": {
     "slide_type": "subslide"
    }
   },
   "outputs": [
    {
     "name": "stdout",
     "output_type": "stream",
     "text": [
      "['a']\n",
      "['a', 'a']\n",
      "['a']\n",
      "['a', 'a', 'a']\n"
     ]
    }
   ],
   "source": [
    "# 自己摸索，不做考试要求\n",
    "def risky_act(a, b = []):\n",
    "    b.append(a)\n",
    "    return b\n",
    "print(risky_act('a'))\n",
    "print(risky_act('a'))  # 注意默认参数已经初始化过了\n",
    "print(risky_act('a', []))\n",
    "print(risky_act('a'))"
   ]
  },
  {
   "cell_type": "code",
   "execution_count": 21,
   "metadata": {
    "slideshow": {
     "slide_type": "subslide"
    }
   },
   "outputs": [],
   "source": [
    "# 可选参数必须在形参表的什么位置？为什么？\n",
    "# 先猜一猜然后再试一试\n",
    "#def missing_a(a = 2, b, c): pass\n",
    "#def missing_b(a, b = 2, c): pass\n",
    "#def missing_c(a, b, c = 2): pass"
   ]
  },
  {
   "cell_type": "markdown",
   "metadata": {
    "slideshow": {
     "slide_type": "subslide"
    }
   },
   "source": [
    "<h4> 可变数量参数</h4>\n",
    "\n",
    "* 使用元组收集所有的位置参数，声明 \\*prmt\n",
    "    * 就像之前说的，*val是一个可变长的元素，可以接受任意个数的元素\n",
    "\n",
    "* 使用字典收集所有的关键字（命名）参数，声明 \\*\\*prmt2\n",
    "    * 这个就是用于传递字典，也就是所谓的关键字参数"
   ]
  },
  {
   "cell_type": "code",
   "execution_count": 8,
   "metadata": {
    "slideshow": {
     "slide_type": "subslide"
    }
   },
   "outputs": [
    {
     "name": "stdout",
     "output_type": "stream",
     "text": [
      "val: (3, 4, 5)\n",
      "optional: {'c': -1, 'd': -2, 'val': -6}\n"
     ]
    },
    {
     "data": {
      "text/plain": [
       "6"
      ]
     },
     "execution_count": 8,
     "metadata": {},
     "output_type": "execute_result"
    }
   ],
   "source": [
    "def my_add(a, b, *val, **optional):\n",
    "    '''\n",
    "    注意这个地方：*val用于接收所有的额外的values，会以tuple的格式进行存储，防止在函数执行过程中修改参数\n",
    "    **optinoal是用于接受所有的‘键值对’，存储在一个字典中，是当中在\n",
    "    '''\n",
    "    print('val:', val)\n",
    "    print('optional:', optional)\n",
    "    # print(val, optional)\n",
    "    my_sum = a + b\n",
    "    for v in val:\n",
    "        my_sum += v\n",
    "    for k in optional:\n",
    "        my_sum += optional[k]\n",
    "    return my_sum\n",
    "my_add(1, 2, 3, 4, 5, c = -1, d= -2, val=-6)  # 为什么是这个结果？\n",
    "# 注意，如果后面再加入val=0之类的赋值语句会加入dict"
   ]
  },
  {
   "cell_type": "markdown",
   "metadata": {
    "slideshow": {
     "slide_type": "subslide"
    }
   },
   "source": [
    "使用元组收集所有的多余的位置参数，声明*prmt\n",
    "\n",
    "使用dict收集所有多余的关键字参数，声明**optional，注意需要是前面的；形参列表中没有指定的参数"
   ]
  },
  {
   "cell_type": "markdown",
   "metadata": {
    "slideshow": {
     "slide_type": "subslide"
    }
   },
   "source": [
    "* \\*prmt参数和\\*\\*prmt2参数必须在形参列表的最后位置\n",
    "* \\*\\*prmt2参数必须在\\*prmt参数的后面\n",
    "* 含有一个\\*的参数只能有一个\n",
    "* 含有两个\\*的参数只能有一个\n",
    "\n",
    "为啥？ 解释\n",
    "\n",
    "不然就不知道如何分配了，两个都是可变长度的"
   ]
  },
  {
   "cell_type": "code",
   "execution_count": 13,
   "metadata": {
    "slideshow": {
     "slide_type": "subslide"
    }
   },
   "outputs": [
    {
     "name": "stdout",
     "output_type": "stream",
     "text": [
      "a: 1, b: 2, val: (3,), optional: {}\n",
      "a\"1, b:(2, 3), c:5, d:{}\n"
     ]
    }
   ],
   "source": [
    "# def a_func(a, b, **c, *d):  #  error\n",
    "#    pass\n",
    "''' \n",
    "    SyntaxError: arguments cannot follow var-keyword argument\n",
    "'''\n",
    "# def b_func(a, b, *c, *d):  #  error\n",
    "#   pass\n",
    "''' \n",
    "    SyntaxError: * argument may appear only once\n",
    "'''\n",
    "def a_func(a, b=1, *val, **optional):\n",
    "    print(f'a: {a}, b: {b}, val: {val}, optional: {optional}')\n",
    "a_func(1, 2, 3)\n",
    "\n",
    "def b_func(a, *b, c=1, **d):\n",
    "    print(f'a\"{a}, b:{b}, c:{c}, d:{d}')\n",
    "b_func(1, 2, 3, c=5)"
   ]
  },
  {
   "cell_type": "markdown",
   "metadata": {
    "slideshow": {
     "slide_type": "subslide"
    }
   },
   "source": [
    "### 思考与探索：\n",
    "\n",
    "可选参数，\\*prmt参数，\\*\\*prmt，必须位于形参列表的最后位置\n",
    "\n",
    "\\*\\*prmt的必须在\\*prmt后面\n",
    "\n",
    "那么\\*prmt的与可选参数之间的关系是怎样的？与\\*\\*prmt的参数之间关系是怎样的？"
   ]
  },
  {
   "cell_type": "code",
   "execution_count": 25,
   "metadata": {
    "slideshow": {
     "slide_type": "subslide"
    }
   },
   "outputs": [],
   "source": [
    "# 试一试，看看哪些是可行的？哪种方式最好？为什么？\n",
    "#def test_optional_a(a, b = 1, *c, **d): pass\n",
    "#def test_optional_b(a, *c, b = 1, **d): pass   \n",
    "#def test_optional_c(a, *c, **d, b = 1): pass   # 这种直接就不可行了"
   ]
  },
  {
   "cell_type": "markdown",
   "metadata": {
    "slideshow": {
     "slide_type": "subslide"
    }
   },
   "source": [
    "### 如何理解函数传递过程\n",
    "\n",
    "建立测试函数，通过不同的传递方式传递参数，查看函数得到的参数内容，理解函数参数传递方式和过程，这是最便捷的学习方法。\n",
    "\n",
    "例如："
   ]
  },
  {
   "cell_type": "code",
   "execution_count": 1,
   "metadata": {
    "slideshow": {
     "slide_type": "subslide"
    }
   },
   "outputs": [
    {
     "name": "stdout",
     "output_type": "stream",
     "text": [
      "b = (5, 6)\t d = {'e': 5, 'f': 6}\n"
     ]
    }
   ],
   "source": [
    "# 检查传递的参数内容\n",
    "def test_function(a, *b, c=1, **d): print(f'b = {b}\\t d = {d}')\n",
    "test_function(3, 5, 6, e=5, f = 6, c = 3)"
   ]
  },
  {
   "cell_type": "markdown",
   "metadata": {
    "slideshow": {
     "slide_type": "slide"
    }
   },
   "source": [
    "## 5.3 函数返回值\n",
    "\n",
    "函数使用 return 语句返回值，并结束函数返回调用函数的程序。\n",
    "\n",
    "return语句可以出现在函数任何位置，一旦执行，函数其他的语句将不再执行。"
   ]
  },
  {
   "cell_type": "code",
   "execution_count": 14,
   "metadata": {
    "slideshow": {
     "slide_type": "subslide"
    }
   },
   "outputs": [
    {
     "data": {
      "text/plain": [
       "2.083333333333333"
      ]
     },
     "execution_count": 14,
     "metadata": {},
     "output_type": "execute_result"
    }
   ],
   "source": [
    "def harmonic_sum(n):\n",
    "    s = 0\n",
    "    for i in range(1,n):\n",
    "        s += 1/i\n",
    "    return s\n",
    "harmonic_sum(5)"
   ]
  },
  {
   "cell_type": "code",
   "execution_count": 22,
   "metadata": {
    "slideshow": {
     "slide_type": "subslide"
    }
   },
   "outputs": [],
   "source": [
    "def ill_function(n):\n",
    "    return\n",
    "    s = 0  # 这个语句永远不会执行\n",
    "    123\n",
    "    kuukkvi,这个地方甚至不需要注释,解释性语言不会报错,但是不能使用中文符号\n"
   ]
  },
  {
   "cell_type": "markdown",
   "metadata": {
    "slideshow": {
     "slide_type": "subslide"
    }
   },
   "source": [
    "### return语句的几种情形\n",
    "\n",
    "* 函数中有若干return语句，只有一个执行了\n",
    "* 函数中有若干return语句，直到函数结束都没有执行"
   ]
  },
  {
   "cell_type": "code",
   "execution_count": 24,
   "metadata": {
    "slideshow": {
     "slide_type": "subslide"
    }
   },
   "outputs": [],
   "source": [
    "def is_even(a):\n",
    "    if a%2 == 0:\n",
    "        return True"
   ]
  },
  {
   "cell_type": "markdown",
   "metadata": {
    "slideshow": {
     "slide_type": "subslide"
    }
   },
   "source": [
    "以上定义的函数，下面的调用返回值是多少呢？"
   ]
  },
  {
   "cell_type": "code",
   "execution_count": 28,
   "metadata": {
    "slideshow": {
     "slide_type": "fragment"
    }
   },
   "outputs": [
    {
     "name": "stdout",
     "output_type": "stream",
     "text": [
      "None\n"
     ]
    }
   ],
   "source": [
    "print(is_even(3)) # 使用print强行转换为str"
   ]
  },
  {
   "cell_type": "code",
   "execution_count": 30,
   "metadata": {
    "slideshow": {
     "slide_type": "fragment"
    }
   },
   "outputs": [
    {
     "name": "stdout",
     "output_type": "stream",
     "text": [
      "None\n"
     ]
    }
   ],
   "source": [
    "# 看不见，好吧，把它打印出来\n",
    "print(is_even(5))  # 如果函数中的return并没有执行，则函数返回值为空值None"
   ]
  },
  {
   "cell_type": "markdown",
   "metadata": {
    "slideshow": {
     "slide_type": "subslide"
    }
   },
   "source": [
    "下面的函数中有多个return语句，分析一下函数的返回值。"
   ]
  },
  {
   "cell_type": "code",
   "execution_count": 29,
   "metadata": {
    "slideshow": {
     "slide_type": "subslide"
    }
   },
   "outputs": [],
   "source": [
    "def is_prime(n):\n",
    "    if n < 2: return False\n",
    "    k = int(n ** 0.5) + 1\n",
    "    for i in range(2, k):\n",
    "        if n % i == 0: return False\n",
    "    return True\n",
    "\n",
    "# 函数最后没有return和没有return None是一样的"
   ]
  },
  {
   "cell_type": "code",
   "execution_count": 32,
   "metadata": {
    "slideshow": {
     "slide_type": "fragment"
    }
   },
   "outputs": [
    {
     "data": {
      "text/plain": [
       "True"
      ]
     },
     "execution_count": 32,
     "metadata": {},
     "output_type": "execute_result"
    }
   ],
   "source": [
    "is_prime(31)"
   ]
  },
  {
   "cell_type": "code",
   "execution_count": 33,
   "metadata": {
    "slideshow": {
     "slide_type": "subslide"
    }
   },
   "outputs": [
    {
     "name": "stdout",
     "output_type": "stream",
     "text": [
      "2 3 5 7 11 13 17 19 23 29 31 37 41 43 47 53 59 61 67 71 73 79 83 89 97 "
     ]
    }
   ],
   "source": [
    "for i in range(100):\n",
    "    if is_prime(i): print(i, end = ' ')"
   ]
  },
  {
   "cell_type": "markdown",
   "metadata": {
    "slideshow": {
     "slide_type": "subslide"
    }
   },
   "source": [
    "函数返回值为None的情况小结：\n",
    "\n",
    "* 函数无return语句\n",
    "* return语句未执行\n",
    "* return后无返回值表达式，返回的也是None\n",
    "\n",
    "有的函数是原地操作，此时不返回，print的话会打印None"
   ]
  },
  {
   "cell_type": "markdown",
   "metadata": {
    "slideshow": {
     "slide_type": "subslide"
    }
   },
   "source": [
    "<h4>函数返回值的经验规律</h4>\n",
    "\n",
    "一般来说，如果函数对调用对象进行了操作，则不返回值，即返回None.'原地操作'\n",
    "\n",
    "如列表的append, extend, remove, insert, sort等方法（函数）都是不返回值。当然pop操作是一个例外，因为它有一个特殊的需求。"
   ]
  },
  {
   "cell_type": "markdown",
   "metadata": {
    "slideshow": {
     "slide_type": "subslide"
    }
   },
   "source": [
    "### 函数对象引用作为返回值\n",
    "\n",
    "函数在Python中也是对象，可以赋值给其他变量，也可以作为参数传递给其他对象。当然，既然函数是对象，也可以作为其他函数的返回值。"
   ]
  },
  {
   "cell_type": "code",
   "execution_count": 30,
   "metadata": {
    "slideshow": {
     "slide_type": "subslide"
    }
   },
   "outputs": [
    {
     "data": {
      "text/plain": [
       "(builtin_function_or_method, builtin_function_or_method)"
      ]
     },
     "execution_count": 30,
     "metadata": {},
     "output_type": "execute_result"
    }
   ],
   "source": [
    "f = sum; g = max\n",
    "type(f), type(g)"
   ]
  },
  {
   "cell_type": "code",
   "execution_count": 35,
   "metadata": {
    "slideshow": {
     "slide_type": "subslide"
    }
   },
   "outputs": [
    {
     "data": {
      "text/plain": [
       "(1368, 789)"
      ]
     },
     "execution_count": 35,
     "metadata": {},
     "output_type": "execute_result"
    }
   ],
   "source": [
    "f([123, 456, 789]), g([123, 456, 789])"
   ]
  },
  {
   "cell_type": "markdown",
   "metadata": {
    "slideshow": {
     "slide_type": "subslide"
    }
   },
   "source": [
    "以下定义一个函数，它可以根据传入的函数不同，执行不同的操作。"
   ]
  },
  {
   "cell_type": "code",
   "execution_count": 31,
   "metadata": {
    "slideshow": {
     "slide_type": "fragment"
    }
   },
   "outputs": [
    {
     "data": {
      "text/plain": [
       "(28, 8)"
      ]
     },
     "execution_count": 31,
     "metadata": {},
     "output_type": "execute_result"
    }
   ],
   "source": [
    "def aggr(f,numbers):\n",
    "    return f(numbers)\n",
    "numbers = [2, 7, 1, 8, 2, 8]\n",
    "aggr(f,numbers), aggr(g, numbers)\n",
    "# 注意，此处f需要是一个builtin-function需要是可调用的函数或方法"
   ]
  },
  {
   "cell_type": "markdown",
   "metadata": {
    "slideshow": {
     "slide_type": "subslide"
    }
   },
   "source": [
    "下面的列子演示了如何将函数对象作为值返回。"
   ]
  },
  {
   "cell_type": "code",
   "execution_count": 37,
   "metadata": {
    "slideshow": {
     "slide_type": "subslide"
    }
   },
   "outputs": [
    {
     "data": {
      "text/plain": [
       "5"
      ]
     },
     "execution_count": 37,
     "metadata": {},
     "output_type": "execute_result"
    }
   ],
   "source": [
    "def choose_your_command(s):\n",
    "    if s == 1:\n",
    "        return sum\n",
    "    elif s == 2:\n",
    "        return min\n",
    "    else:\n",
    "        return max\n",
    "choose_your_command(3)([2, 3, 5])"
   ]
  },
  {
   "cell_type": "markdown",
   "metadata": {
    "slideshow": {
     "slide_type": "slide"
    }
   },
   "source": [
    "## 5.4 变量作用域\n",
    "\n",
    "* 局部变量，在函数和类中声明的变量，只能在声明的函数和类中访问。\n",
    "* 全局变量，在函数和类之外声明的变量，全局可见。"
   ]
  },
  {
   "cell_type": "markdown",
   "metadata": {
    "slideshow": {
     "slide_type": "subslide"
    }
   },
   "source": [
    "比较下面两段代码。"
   ]
  },
  {
   "cell_type": "code",
   "execution_count": 41,
   "metadata": {
    "slideshow": {
     "slide_type": "subslide"
    }
   },
   "outputs": [
    {
     "name": "stdout",
     "output_type": "stream",
     "text": [
      "5.1 9.1\n",
      "5.1 4.2\n"
     ]
    }
   ],
   "source": [
    "v1, v2 = 3.1, 4.2\n",
    "def func():\n",
    "    global v1\n",
    "    v2 = v1 + 6\n",
    "    v1 = v1 + 2\n",
    "    # 在这个地方，是根据语句v1 + 6创建一个新对象，并将该对象和局部变量v2进行绑定\n",
    "    print(v1, v2)\n",
    "func()\n",
    "# 在函数之外，v2并没有改变，因为函数内部只是执行临时的局部变量，函数调用结束会返回\n",
    "''' \n",
    "在Python中，如果在一个函数内部使用了一个变量，并且希望修改它的值，Python会将其视为局部变量。\n",
    "因此，在你的例子中，当你在函数 func() 中尝试执行 v1 = v1 + 2 时，\n",
    "Python会认为 v1 是一个局部变量，但在此之前并没有为 v1 进行声明或者初始化。\n",
    "\n",
    "这导致了UnboundLocalError异常。\n",
    "Python试图在局部作用域中找到 v1，但在执行 v1 = v1 + 2 之前，它并没有在局部作用域中找到 v1 的声明。\n",
    "\n",
    "需要使用global进行声明\n",
    "\n",
    "'''\n",
    "\n",
    "print(v1,v2)\n",
    "\n",
    "\n"
   ]
  },
  {
   "cell_type": "markdown",
   "metadata": {},
   "source": [
    "命名空间（Namespace）是指在程序中用于存放变量名和其对应对象之间关联关系的结构。它可以理解为一个映射（mapping），将变量名映射到其所代表的对象上。\n",
    "\n",
    "在Python中，命名空间是一个映射（字典），其中键是变量名，值是与之关联的对象。Python中的命名空间可以分为以下几种类型：\n",
    "\n",
    "1. **全局命名空间（Global Namespace）**：在模块级别定义的变量名存在于全局命名空间中。这些变量对于整个模块都是可见的，可以在模块的任何地方被访问。\n",
    "\n",
    "2. **局部命名空间（Local Namespace）**：在函数内部定义的变量名存在于局部命名空间中。这些变量只在函数内部可见，函数外部无法直接访问。\n",
    "\n",
    "3. **内置命名空间（Built-in Namespace）**：包含了内置函数和内置异常的命名空间。这些函数和异常可以在Python解释器的任何地方被访问，无需导入任何模块。\n",
    "\n",
    "命名空间的作用是确保变量名的唯一性，并且提供了在程序中进行变量名查找和绑定的机制。当程序中引用一个变量名时，Python会：\n",
    "1. 首先在局部命名空间中查找\n",
    "2. 然后是全局命名空间\n",
    "3. 最后是内置命名空间\n",
    "\n",
    "如果在任何一个命名空间中找到了对应的变量名，Python就会停止搜索并绑定该变量名；如果在所有的命名空间中都找不到对应的变量名，则会引发 NameError 异常。"
   ]
  },
  {
   "cell_type": "code",
   "execution_count": 39,
   "metadata": {
    "slideshow": {
     "slide_type": "subslide"
    }
   },
   "outputs": [
    {
     "name": "stdout",
     "output_type": "stream",
     "text": [
      "5 11\n",
      "3.1 4.2\n"
     ]
    }
   ],
   "source": [
    "v1, v2 = 3.1, 4.2\n",
    "def func():\n",
    "    v1 = 5\n",
    "    v2 = v1 + 6\n",
    "    print(v1, v2)\n",
    "func()\n",
    "print(v1,v2)"
   ]
  },
  {
   "cell_type": "markdown",
   "metadata": {
    "slideshow": {
     "slide_type": "subslide"
    }
   },
   "source": [
    "* 凡是在函数内定义的变量，只能在函数内访问。\n",
    "* 在函数内可以访问函数外的全局变量。\n",
    "* 当函数内定义的变量与函数外的变量同名时，局部变量优先被访问。\n",
    "* 函数内无法修改全局变量。"
   ]
  },
  {
   "cell_type": "code",
   "execution_count": null,
   "metadata": {},
   "outputs": [],
   "source": []
  },
  {
   "cell_type": "markdown",
   "metadata": {
    "slideshow": {
     "slide_type": "subslide"
    }
   },
   "source": [
    "注意：当函数中试图修改全局变量时，实际上函数会创建一个局部变量，该变量会在函数运行结束时销毁。"
   ]
  },
  {
   "cell_type": "code",
   "execution_count": 40,
   "metadata": {
    "slideshow": {
     "slide_type": "subslide"
    }
   },
   "outputs": [
    {
     "name": "stdout",
     "output_type": "stream",
     "text": [
      "11 6\n",
      "3 6\n"
     ]
    }
   ],
   "source": [
    "i, s = 3, 6\n",
    "def get_k(k):\n",
    "    if k < s:\n",
    "        k = s\n",
    "    i = k + 5\n",
    "    print(i, s)\n",
    "    return k\n",
    "get_k(4)\n",
    "print(i, s)"
   ]
  },
  {
   "cell_type": "markdown",
   "metadata": {
    "slideshow": {
     "slide_type": "subslide"
    }
   },
   "source": [
    "### global语句\n",
    "\n",
    "有时，我们想要在函数中修改一个外部变量。但一般我们不赞成这样做，为什么？\n",
    "\n",
    "如果希望在函数中修改全局变量，需要使用global语句声明。"
   ]
  },
  {
   "cell_type": "code",
   "execution_count": 41,
   "metadata": {
    "slideshow": {
     "slide_type": "subslide"
    }
   },
   "outputs": [
    {
     "name": "stdout",
     "output_type": "stream",
     "text": [
      "6\n"
     ]
    }
   ],
   "source": [
    "n = 5\n",
    "def arrive():\n",
    "    global n\n",
    "    n += 1\n",
    "arrive()\n",
    "print(n)"
   ]
  },
  {
   "cell_type": "markdown",
   "metadata": {
    "slideshow": {
     "slide_type": "slide"
    }
   },
   "source": [
    "## 5.5 匿名函数\n",
    "\n",
    "匿名函数使用lambda语句生成，是一种特殊的函数定义方式。\n",
    "\n",
    "* 匿名函数定义方法\n",
    "\n",
    "lambda关键字之后紧跟形参(列表)，冒号后为函数返回值。"
   ]
  },
  {
   "cell_type": "code",
   "execution_count": 42,
   "metadata": {
    "slideshow": {
     "slide_type": "subslide"
    }
   },
   "outputs": [
    {
     "name": "stdout",
     "output_type": "stream",
     "text": [
      "<function <lambda> at 0x7fa3f14ca2a0>\n"
     ]
    },
    {
     "data": {
      "text/plain": [
       "'J'"
      ]
     },
     "execution_count": 42,
     "metadata": {},
     "output_type": "execute_result"
    }
   ],
   "source": [
    "get_initial = lambda x : x[0]\n",
    "print(get_initial)\n",
    "get_initial('Jack')"
   ]
  },
  {
   "cell_type": "markdown",
   "metadata": {
    "slideshow": {
     "slide_type": "subslide"
    }
   },
   "source": [
    "<h4> 匿名函数的应用场合 </h4>\n",
    "\n",
    "* 需要函数对象作为参数；\n",
    "* 函数比较简单；\n",
    "* 函数仅仅使用一次，函数本身是为重复调用而设计的，如果仅仅使用一次，只需要使用lambda创建匿名函数即可"
   ]
  },
  {
   "cell_type": "code",
   "execution_count": 47,
   "metadata": {
    "slideshow": {
     "slide_type": "subslide"
    }
   },
   "outputs": [
    {
     "name": "stdout",
     "output_type": "stream",
     "text": [
      "<class 'map'>\n"
     ]
    },
    {
     "data": {
      "text/plain": [
       "(<map at 0x7fa3f1f14130>, ['J', 'A', 'M', 'T'], '可以使用list将map这个可迭代对象进行展开')"
      ]
     },
     "execution_count": 47,
     "metadata": {},
     "output_type": "execute_result"
    }
   ],
   "source": [
    "print(map)\n",
    "heads = map(get_initial, ['Jack', 'Alice', 'Mike', 'Tom'])\n",
    "heads, list(heads),'可以使用list将map这个可迭代对象进行展开'"
   ]
  },
  {
   "cell_type": "code",
   "execution_count": 44,
   "metadata": {
    "slideshow": {
     "slide_type": "subslide"
    }
   },
   "outputs": [
    {
     "data": {
      "text/plain": [
       "['k', 'e', 'e', 'm']"
      ]
     },
     "execution_count": 44,
     "metadata": {},
     "output_type": "execute_result"
    }
   ],
   "source": [
    "tails = map(lambda x:x[-1], ['Jack', 'Alice', 'Mike', 'Tom'])\n",
    "list(tails)"
   ]
  },
  {
   "cell_type": "markdown",
   "metadata": {
    "slideshow": {
     "slide_type": "subslide"
    }
   },
   "source": [
    "匿名函数在数据分析实践中大量使用，很多的数据处理函数需要一个函数作为参数。注意练习一些常用操作的匿名函数写法。如筛选函数。"
   ]
  },
  {
   "cell_type": "code",
   "execution_count": 48,
   "metadata": {
    "slideshow": {
     "slide_type": "subslide"
    }
   },
   "outputs": [
    {
     "data": {
      "text/plain": [
       "(<filter at 0x7fa3f1f23610>, [1, 2, 3])"
      ]
     },
     "execution_count": 48,
     "metadata": {},
     "output_type": "execute_result"
    }
   ],
   "source": [
    "f = lambda x: x > 0\n",
    "filter(f, [1, 2, 0, -1]), list(filter(f, [1, -1, 2, -2, 3, -3]))"
   ]
  },
  {
   "cell_type": "markdown",
   "metadata": {
    "slideshow": {
     "slide_type": "slide"
    }
   },
   "source": [
    "## 5.6 函数式编程\n",
    "\n",
    "函数式编程着眼于数据上的一系列操作，每个操作完成从原始数据到结果的映射，即函数。通过对原始数据应用一系列函数达到运算结果。"
   ]
  },
  {
   "cell_type": "markdown",
   "metadata": {},
   "source": []
  },
  {
   "cell_type": "markdown",
   "metadata": {
    "slideshow": {
     "slide_type": "subslide"
    }
   },
   "source": [
    "### 函数式编程工具\n",
    "\n",
    "map(), filter(), reduce(), 匿名函数\n",
    "\n",
    "\n",
    "* map() 函数用于将一个函数应用于可迭代对象（如列表、元组等）的每个元素，返回一个将该函数应用于每个元素后的结果组成的迭代器\n",
    "* filter() 函数用于筛选可迭代对象中的元素，返回一个由使函数返回值为 True 的元素组成的迭代器\n",
    "* reduce() 函数用于对可迭代对象中的元素进行累积操作，其行为类似于累积操作符（+=）"
   ]
  },
  {
   "cell_type": "code",
   "execution_count": 46,
   "metadata": {
    "slideshow": {
     "slide_type": "subslide"
    }
   },
   "outputs": [
    {
     "data": {
      "text/plain": [
       "[1, 2, 3, 4, 5, 6, 7, 8, 9, 10]"
      ]
     },
     "execution_count": 46,
     "metadata": {},
     "output_type": "execute_result"
    }
   ],
   "source": [
    "def add_2(n):\n",
    "    return n//10 + n%10\n",
    "a = map(add_2, range(10,20))\n",
    "list(a)"
   ]
  },
  {
   "cell_type": "code",
   "execution_count": 1,
   "metadata": {},
   "outputs": [
    {
     "data": {
      "text/plain": [
       "[1, 2, 3, 1]"
      ]
     },
     "execution_count": 1,
     "metadata": {},
     "output_type": "execute_result"
    }
   ],
   "source": [
    "a = [1, 2, 3]\n",
    "a += [1]\n",
    "a"
   ]
  },
  {
   "cell_type": "code",
   "execution_count": null,
   "metadata": {},
   "outputs": [],
   "source": []
  },
  {
   "cell_type": "code",
   "execution_count": 47,
   "metadata": {
    "slideshow": {
     "slide_type": "subslide"
    }
   },
   "outputs": [
    {
     "data": {
      "text/plain": [
       "[32, 12]"
      ]
     },
     "execution_count": 47,
     "metadata": {},
     "output_type": "execute_result"
    }
   ],
   "source": [
    "def is_even(n):\n",
    "    return n%2 == 0\n",
    "b = filter(is_even, [23, 32, 12, 21, 35, 53])\n",
    "list(b)"
   ]
  },
  {
   "cell_type": "code",
   "execution_count": 51,
   "metadata": {
    "slideshow": {
     "slide_type": "subslide"
    }
   },
   "outputs": [
    {
     "data": {
      "text/plain": [
       "53"
      ]
     },
     "execution_count": 51,
     "metadata": {},
     "output_type": "execute_result"
    }
   ],
   "source": [
    "def bigger(x,y):\n",
    "    return x if x>y else y\n",
    "from functools import reduce\n",
    "c = reduce(bigger, [23, 32, 12, 21, 35, 53])\n",
    "c"
   ]
  },
  {
   "cell_type": "markdown",
   "metadata": {
    "slideshow": {
     "slide_type": "subslide"
    }
   },
   "source": [
    "<h4>reduce详解</h4>\n",
    "\n",
    "reduce是一个约简函数工具，它的每次操作将前一次操作的结果与下一个操作数进行约简，得到一个结果。这个过程一直持续到只剩一个操作数。\n",
    "\n",
    "reduce需要的约简函数接收两个参数，第一个参数对应于上一次约简的结果，第二个参数对应于下一个操作数。"
   ]
  },
  {
   "cell_type": "markdown",
   "metadata": {
    "slideshow": {
     "slide_type": "subslide"
    }
   },
   "source": [
    "#### 函数式编程举例\n",
    "\n",
    "1. 数据转换。对于一个数据序列，将所有奇数的符号反转，偶数的符号不变。\n",
    "\n",
    "2. 汇总统计。计算原整数序列的（十进制）数字之和。\n",
    "\n",
    "3. 筛选并转换。将原数据序列中的所有5的倍数筛选出来，将这些数除以5."
   ]
  },
  {
   "cell_type": "code",
   "execution_count": 49,
   "metadata": {
    "slideshow": {
     "slide_type": "subslide"
    }
   },
   "outputs": [
    {
     "name": "stdout",
     "output_type": "stream",
     "text": [
      "[-21, -35, 2, 804, 500, 312, -65]\n"
     ]
    }
   ],
   "source": [
    "raw_data = [21, 35, 2, 804, 500, 312, 65]\n",
    "data1 = map(lambda x: x * (1 - 2* (x%2==1)), raw_data)\n",
    "print(list(data1))"
   ]
  },
  {
   "cell_type": "code",
   "execution_count": 50,
   "metadata": {
    "slideshow": {
     "slide_type": "subslide"
    }
   },
   "outputs": [
    {
     "name": "stdout",
     "output_type": "stream",
     "text": [
      "[21, -35, 2, -804, 500, -312, 65]\n"
     ]
    }
   ],
   "source": [
    "# 思考：如果是将所有奇数索引的数据符号反转，怎么处理？\n",
    "data1_2 = map(lambda x: x[1] * (1 - 2* (x[0]%2==1)), enumerate(raw_data))\n",
    "print(list(data1_2))"
   ]
  },
  {
   "cell_type": "code",
   "execution_count": 51,
   "metadata": {
    "slideshow": {
     "slide_type": "subslide"
    }
   },
   "outputs": [
    {
     "name": "stdout",
     "output_type": "stream",
     "text": [
      "47\n"
     ]
    }
   ],
   "source": [
    "data2 = reduce(lambda x,y: x + y, map(lambda x:sum([int(i) for i in str(x)]), raw_data))\n",
    "print(data2)"
   ]
  },
  {
   "cell_type": "code",
   "execution_count": 52,
   "metadata": {
    "slideshow": {
     "slide_type": "subslide"
    }
   },
   "outputs": [
    {
     "name": "stdout",
     "output_type": "stream",
     "text": [
      "[7.0, 100.0, 13.0]\n"
     ]
    }
   ],
   "source": [
    "data3 = map(lambda x: x/5, filter(lambda x: x%5 == 0, raw_data))\n",
    "print(list(data3))"
   ]
  },
  {
   "cell_type": "markdown",
   "metadata": {
    "slideshow": {
     "slide_type": "subslide"
    }
   },
   "source": [
    "稍微困难一点的例子：\n",
    "\n",
    "计算这样的级数的前n项和$S_n = a_1 - a_2 + a_3 - a_4 + a_5 - ...$\n",
    "\n",
    "如何使用reduce来求？\n",
    "\n",
    "需要注意reduce是将两个值约简为一个值的链式反应，当链式反应的类型取决于值或位置时，需要想办法解决。\n",
    "\n",
    "* 方法1：构造递归表达式。注意到$S_n = a_1 - a_2 + a_3 - a_4 + a_5 - ... = a_1 - (a_2 - (a_3 - (a_4 - ...)))$，约简过程从内向外。"
   ]
  },
  {
   "cell_type": "code",
   "execution_count": 53,
   "metadata": {
    "slideshow": {
     "slide_type": "subslide"
    }
   },
   "outputs": [
    {
     "data": {
      "text/plain": [
       "5"
      ]
     },
     "execution_count": 53,
     "metadata": {},
     "output_type": "execute_result"
    }
   ],
   "source": [
    "from functools import reduce\n",
    "data4 = [1, 2, 3, 5, 8, 13, 21, 33, 54]\n",
    "n = 5\n",
    "array = data4[:n]  # first n items\n",
    "reduce(lambda a, b: b - a, array[::-1])"
   ]
  },
  {
   "cell_type": "markdown",
   "metadata": {
    "slideshow": {
     "slide_type": "subslide"
    }
   },
   "source": [
    "* 方法2：将偶数项先乘以-1，则链式反应可以从前向后进行，操作为求和。\n",
    "* 方法3：跟踪每一项的位置，定义一个链式反应函数，使得反应与值的位置对应起来。\n",
    "\n",
    "注意到reduce约简的过程中，第一个参数始终是前一次约简的结果，而第二个参数对应于即将参与约简的值。我们有多种方式来指向第二个值，特别是如果需要位置信息的时候，我们可以用位置信息作为参数。"
   ]
  },
  {
   "cell_type": "code",
   "execution_count": 64,
   "metadata": {
    "slideshow": {
     "slide_type": "subslide"
    }
   },
   "outputs": [
    {
     "data": {
      "text/plain": [
       "5"
      ]
     },
     "execution_count": 64,
     "metadata": {},
     "output_type": "execute_result"
    }
   ],
   "source": [
    "data4 = [1, 2, 3, 5, 8, 13, 21, 33, 54]\n",
    "n = 5\n",
    "array = data4[:n]  # first n items\n",
    "reduce(lambda a, i: a + array[i] * (1 if i%2==0 else -1), [0] + list(range(len(array))))  # 注意我们添加了第0次约简的结果0"
   ]
  },
  {
   "cell_type": "markdown",
   "metadata": {
    "slideshow": {
     "slide_type": "subslide"
    }
   },
   "source": [
    "* 方法4：在reduce的过程中，使用元组。\n",
    "\n",
    "reduce的逻辑只限定了每次都是将两个参数约简为一个返回值，但并没有说返回值不可以是元组。\n",
    "\n",
    "使用元组，我们可以很容易同时跟踪数据的位置和对应的值。"
   ]
  },
  {
   "cell_type": "code",
   "execution_count": 55,
   "metadata": {
    "slideshow": {
     "slide_type": "subslide"
    }
   },
   "outputs": [
    {
     "data": {
      "text/plain": [
       "(5, 5)"
      ]
     },
     "execution_count": 55,
     "metadata": {},
     "output_type": "execute_result"
    }
   ],
   "source": [
    "data4 = [1, 2, 3, 5, 8, 13, 21, 33, 54]\n",
    "n = 5\n",
    "xarray = [(i, data4[i]) for i in range(n)]  # first n items\n",
    "reduce(lambda a, b: (b[0] + 1, a[1] + b[1]) if b[0]%2 == 0 else (b[0] + 1, (a[1] - b[1])), xarray)  # b[0]+1可以用任何值替代"
   ]
  },
  {
   "cell_type": "code",
   "execution_count": 56,
   "metadata": {
    "slideshow": {
     "slide_type": "subslide"
    }
   },
   "outputs": [
    {
     "data": {
      "text/plain": [
       "(0, 5)"
      ]
     },
     "execution_count": 56,
     "metadata": {},
     "output_type": "execute_result"
    }
   ],
   "source": [
    "data4 = [1, 2, 3, 5, 8, 13, 21, 33, 54]\n",
    "n = 5\n",
    "array = data4[:n]\n",
    "reduce(lambda a, b: (0, a[1] + b[1]) if b[0]%2 == 0 else (0, (a[1] - b[1])), enumerate(array))  # 如果你会用enumerate，问题更简单一些"
   ]
  },
  {
   "cell_type": "code",
   "execution_count": 57,
   "metadata": {
    "slideshow": {
     "slide_type": "subslide"
    }
   },
   "outputs": [
    {
     "data": {
      "text/plain": [
       "(0, 5)"
      ]
     },
     "execution_count": 57,
     "metadata": {},
     "output_type": "execute_result"
    }
   ],
   "source": [
    "from functools import reduce\n",
    "data4 = [1, 2, 3, 5, 8, 13, 21, 33, 54]\n",
    "n = 5\n",
    "array = data4[:n]\n",
    "reduce(lambda a, b: (0, a[1] + b[1]*(1-2*(b[0]%2 == 1))) , enumerate(array))  # 如果你会用bool值进行计算，更简洁一些"
   ]
  },
  {
   "cell_type": "code",
   "execution_count": 4,
   "metadata": {},
   "outputs": [
    {
     "data": {
      "text/plain": [
       "(2.3316970066970066,\n",
       " \" \\nNameError: name 'reduce' is not defined\\n需要使用from functools import reduce\\n\")"
      ]
     },
     "execution_count": 4,
     "metadata": {},
     "output_type": "execute_result"
    }
   ],
   "source": [
    "from functools import reduce\n",
    "\n",
    "data4 = [1, 2, 3, 5, 8, 13, 21, 33, 54]\n",
    "tmp = [1/x for x in data4]\n",
    "sum= reduce(lambda x, y: x + y, tmp)\n",
    "sum,\\\n",
    "''' \n",
    "NameError: name 'reduce' is not defined\n",
    "需要使用from functools import reduce\n",
    "'''"
   ]
  },
  {
   "cell_type": "markdown",
   "metadata": {
    "slideshow": {
     "slide_type": "subslide"
    }
   },
   "source": [
    "### 函数作为参数传递\n",
    "\n",
    "注意到以上代码有一个共同特点，函数作为参数。类似的还有如sorted函数。"
   ]
  },
  {
   "cell_type": "code",
   "execution_count": 58,
   "metadata": {
    "slideshow": {
     "slide_type": "subslide"
    }
   },
   "outputs": [
    {
     "data": {
      "text/plain": [
       "['b', 'd', 'a', 'c', 'e']"
      ]
     },
     "execution_count": 58,
     "metadata": {},
     "output_type": "execute_result"
    }
   ],
   "source": [
    "k = list('abcde'); v = [3, 1, 4, 1, 5]\n",
    "d = dict(zip(k,v))\n",
    "sorted(d, key = lambda x:d[x])"
   ]
  },
  {
   "cell_type": "markdown",
   "metadata": {
    "slideshow": {
     "slide_type": "slide"
    }
   },
   "source": [
    "## 5.7 递归函数\n",
    "\n",
    "Python允许在函数中调用函数本身，即递归调用。\n",
    "\n",
    "递归调用与数学归纳法相对应，代码可以比较简洁。"
   ]
  },
  {
   "cell_type": "code",
   "execution_count": 59,
   "metadata": {
    "slideshow": {
     "slide_type": "subslide"
    }
   },
   "outputs": [],
   "source": [
    "def fibo(n):\n",
    "    if n <= 2: return 1\n",
    "    return fibo(n-1) + fibo(n-2)"
   ]
  },
  {
   "cell_type": "code",
   "execution_count": 60,
   "metadata": {
    "slideshow": {
     "slide_type": "subslide"
    }
   },
   "outputs": [
    {
     "data": {
      "text/plain": [
       "55"
      ]
     },
     "execution_count": 60,
     "metadata": {},
     "output_type": "execute_result"
    }
   ],
   "source": [
    "fibo(10)"
   ]
  },
  {
   "cell_type": "markdown",
   "metadata": {
    "slideshow": {
     "slide_type": "subslide"
    }
   },
   "source": [
    "如非必要，尽量避免使用递归函数。\n",
    "\n",
    "主要原因在于递归函数的实现机制消耗了大量内存，影响程序性能。"
   ]
  },
  {
   "cell_type": "markdown",
   "metadata": {
    "slideshow": {
     "slide_type": "slide"
    }
   },
   "source": [
    "## 5.8 拓展内容（了解即可，不作为考试内容）\n",
    "\n",
    "* 指定函数参数传递方式\n",
    "\n",
    "* 在函数定义中添加更多注解"
   ]
  },
  {
   "cell_type": "markdown",
   "metadata": {
    "slideshow": {
     "slide_type": "subslide"
    }
   },
   "source": [
    "* 指定函数参数的传递方式\n",
    "\n",
    "如果我们希望有些参数只能用位置参数方式传递，有些只能用关键字参数方式传递，则可以在函数定义中用'/'和'\\*'。\n",
    "\n",
    "'/'之前的参数只能用位置参数方式传递实参，'\\*'之后的参数只能用关键字参数方式传递。"
   ]
  },
  {
   "cell_type": "code",
   "execution_count": 61,
   "metadata": {
    "slideshow": {
     "slide_type": "subslide"
    }
   },
   "outputs": [],
   "source": [
    "def func_test(pos1, pos2, /, pos_or_kwd, *, kwd1, kwd2): pass\n",
    "#试一试各种不同的调用方式\n",
    "#func_test(pos1 = 2)\n",
    "#func_test(1, 2, pos_or_kwd = 3)"
   ]
  },
  {
   "cell_type": "markdown",
   "metadata": {
    "slideshow": {
     "slide_type": "subslide"
    }
   },
   "source": [
    "* 在函数定义中添加更多注解\n",
    "\n",
    "在参数后面紧接冒号和注释，表明参数类型\n",
    "\n",
    "在函数参数表后紧接'->'和注释，表明返回值类型\n",
    "\n",
    "注解部分并不起实质性作用（至少目前是这样的）。"
   ]
  },
  {
   "cell_type": "code",
   "execution_count": 62,
   "metadata": {
    "slideshow": {
     "slide_type": "subslide"
    }
   },
   "outputs": [
    {
     "data": {
      "text/plain": [
       "'a-b-c-d'"
      ]
     },
     "execution_count": 62,
     "metadata": {},
     "output_type": "execute_result"
    }
   ],
   "source": [
    "def concated(a : list, sep: str = '-') -> str:\n",
    "    return sep.join(a)\n",
    "concated(['a','b','c','d'])"
   ]
  }
 ],
 "metadata": {
  "anaconda-cloud": {},
  "celltoolbar": "幻灯片",
  "kernelspec": {
   "display_name": "Python 3 (ipykernel)",
   "language": "python",
   "name": "python3"
  },
  "language_info": {
   "codemirror_mode": {
    "name": "ipython",
    "version": 3
   },
   "file_extension": ".py",
   "mimetype": "text/x-python",
   "name": "python",
   "nbconvert_exporter": "python",
   "pygments_lexer": "ipython3",
   "version": "3.11.5"
  }
 },
 "nbformat": 4,
 "nbformat_minor": 2
}
