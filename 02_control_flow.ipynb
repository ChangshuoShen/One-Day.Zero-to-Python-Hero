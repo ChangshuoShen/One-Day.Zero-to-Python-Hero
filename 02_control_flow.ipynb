{
 "cells": [
  {
   "cell_type": "markdown",
   "metadata": {
    "slideshow": {
     "slide_type": "slide"
    }
   },
   "source": [
    "# 2. 程序流程控制\n",
    "* 分支结构\n",
    "* 循环结构\n",
    "\n",
    "默认情况下，Python按照先后顺序逐行解释执行代码。"
   ]
  },
  {
   "cell_type": "markdown",
   "metadata": {
    "slideshow": {
     "slide_type": "slide"
    }
   },
   "source": [
    "## 2.1 分支结构\n",
    "* 根据条件控制哪个子代码块得到执行\n",
    "* 使用if语句实现\n",
    "* 单分支、双分支、多分支"
   ]
  },
  {
   "cell_type": "markdown",
   "metadata": {
    "slideshow": {
     "slide_type": "slide"
    }
   },
   "source": [
    "单分支：当满足条件时，执行某个子代码块。条件可以是\n",
    "* 关系表达式\n",
    "* 逻辑表达式\n",
    "* 算术表达式\n",
    "* 其他可以转换为逻辑值的表达式"
   ]
  },
  {
   "cell_type": "code",
   "execution_count": 7,
   "metadata": {
    "slideshow": {
     "slide_type": "subslide"
    }
   },
   "outputs": [
    {
     "name": "stdout",
     "output_type": "stream",
     "text": [
      "65\n"
     ]
    }
   ],
   "source": [
    "x = 65\n",
    "y = x\n",
    "if x < 0:\n",
    "    y = -x\n",
    "print(y)"
   ]
  },
  {
   "cell_type": "code",
   "execution_count": 14,
   "metadata": {
    "slideshow": {
     "slide_type": "subslide"
    }
   },
   "outputs": [
    {
     "name": "stdout",
     "output_type": "stream",
     "text": [
      "x is smaller\n",
      "y is greater\n"
     ]
    }
   ],
   "source": [
    "if 1<2:  # 子代码块如果有多行，必须具有相同的缩进\n",
    "    print('x is smaller')\n",
    "#         print('y is greater')"
   ]
  },
  {
   "cell_type": "code",
   "execution_count": 18,
   "metadata": {
    "slideshow": {
     "slide_type": "subslide"
    }
   },
   "outputs": [
    {
     "name": "stdout",
     "output_type": "stream",
     "text": [
      "x is smaller\n",
      "x is smaller\n",
      "y is greater\n"
     ]
    }
   ],
   "source": [
    "# 单行写法\n",
    "x =3\n",
    "if x < y: print('x is smaller')\n",
    "# 单行多个语句\n",
    "if x < y: print('x is smaller'); print('y is greater')"
   ]
  },
  {
   "cell_type": "code",
   "execution_count": 25,
   "metadata": {
    "slideshow": {
     "slide_type": "subslide"
    }
   },
   "outputs": [
    {
     "name": "stdout",
     "output_type": "stream",
     "text": [
      "success\n"
     ]
    }
   ],
   "source": [
    "# 练习： 判断x能否被7整除。如果成立，则打印success\n",
    "x = 9528\n",
    "if x%7:  print('success')  # 这样对不对？"
   ]
  },
  {
   "cell_type": "code",
   "execution_count": 32,
   "metadata": {
    "slideshow": {
     "slide_type": "subslide"
    }
   },
   "outputs": [
    {
     "name": "stdout",
     "output_type": "stream",
     "text": [
      "we have more than two items\n",
      "the list is not empty\n"
     ]
    }
   ],
   "source": [
    "# 条件的形式\n",
    "a = [1,2,3,4]\n",
    "x = len(a)\n",
    "if(x>2): # 条件可以用括号括起来，也可以不括起来\n",
    "    print('we have more than two items')\n",
    "if a:  # 条件可以是一个变量，此时，只要非空就是True\n",
    "    print('the list is not empty')"
   ]
  },
  {
   "cell_type": "markdown",
   "metadata": {
    "slideshow": {
     "slide_type": "subslide"
    }
   },
   "source": [
    "什么时候条件为假(False)？\n",
    "* 数值 0\n",
    "* 空字符串 ''\n",
    "* 空元组 ()\n",
    "* 空列表 []\n",
    "* 空字典或空集合 {}\n",
    "* bool值 False\n",
    "* None"
   ]
  },
  {
   "cell_type": "code",
   "execution_count": 8,
   "metadata": {
    "slideshow": {
     "slide_type": "subslide"
    }
   },
   "outputs": [
    {
     "name": "stdout",
     "output_type": "stream",
     "text": [
      "Hello Guys\n"
     ]
    }
   ],
   "source": [
    "# 练习：判断一个字符串s是否为空字符串。如果不为空字符串，则输出其内容。\n",
    "s = \"Hello Guys\"\n",
    "if not s:\n",
    "    print(\"空字符串\")\n",
    "else:\n",
    "    print(s)"
   ]
  },
  {
   "cell_type": "markdown",
   "metadata": {
    "slideshow": {
     "slide_type": "subslide"
    }
   },
   "source": [
    "负数是否为False? 虚数如2j是否为False？"
   ]
  },
  {
   "cell_type": "code",
   "execution_count": 40,
   "metadata": {
    "slideshow": {
     "slide_type": "fragment"
    }
   },
   "outputs": [
    {
     "name": "stdout",
     "output_type": "stream",
     "text": [
      "True\n"
     ]
    }
   ],
   "source": [
    "if 2j: print('True')"
   ]
  },
  {
   "cell_type": "markdown",
   "metadata": {
    "slideshow": {
     "slide_type": "subslide"
    }
   },
   "source": [
    "前方有坑！注意语言的欺骗性。"
   ]
  },
  {
   "cell_type": "code",
   "execution_count": 1,
   "metadata": {
    "slideshow": {
     "slide_type": "fragment"
    }
   },
   "outputs": [
    {
     "name": "stdout",
     "output_type": "stream",
     "text": [
      "none\n"
     ]
    }
   ],
   "source": [
    "if not None:\n",
    "    print('none')\n",
    "else:\n",
    "    print(\"not none\")"
   ]
  },
  {
   "cell_type": "markdown",
   "metadata": {
    "slideshow": {
     "slide_type": "slide"
    }
   },
   "source": [
    "双分支结构\n",
    "* 使用if-else-构建\n",
    "* 双分支结构都可以使用单分支结构完成"
   ]
  },
  {
   "cell_type": "code",
   "execution_count": 47,
   "metadata": {
    "slideshow": {
     "slide_type": "subslide"
    }
   },
   "outputs": [
    {
     "data": {
      "text/plain": [
       "3"
      ]
     },
     "execution_count": 47,
     "metadata": {},
     "output_type": "execute_result"
    }
   ],
   "source": [
    "x=-3\n",
    "if(x>0):\n",
    "    y=x\n",
    "else:\n",
    "    y=-x\n",
    "y"
   ]
  },
  {
   "cell_type": "markdown",
   "metadata": {
    "slideshow": {
     "slide_type": "subslide"
    }
   },
   "source": [
    "双分支结构的单行表达式\n",
    "\n",
    "`a if 条件 else b`\n",
    "\n",
    "根据条件是否成立，表达式分别取值a（条件为真时）或b（条件为假时）"
   ]
  },
  {
   "cell_type": "code",
   "execution_count": 4,
   "metadata": {
    "slideshow": {
     "slide_type": "fragment"
    }
   },
   "outputs": [
    {
     "name": "stdout",
     "output_type": "stream",
     "text": [
      "3\n"
     ]
    },
    {
     "data": {
      "text/plain": [
       "3"
      ]
     },
     "execution_count": 4,
     "metadata": {},
     "output_type": "execute_result"
    }
   ],
   "source": [
    "a, b = 3,5\n",
    "print(a if a<b else b)\n",
    "# 注意这个像是三目运算副的玩意\n",
    "\n",
    "def abs(x):\n",
    "    return x if x >= 0 else -x\n",
    "\n",
    "\n",
    "abs(-3)"
   ]
  },
  {
   "cell_type": "markdown",
   "metadata": {
    "slideshow": {
     "slide_type": "slide"
    }
   },
   "source": [
    "多分支结构\n",
    "\n",
    "* 使用if-elif-...-elif-else实现\n",
    "* 注意 __elif__ 的拼写，含义为el(se)if，别总想着C语言里的else if，这里是缩写\n",
    "* 各个分支的条件采用顺序判断\n",
    "* 第一个满足条件的分支被执行，并不是选择最合适的条件"
   ]
  },
  {
   "cell_type": "code",
   "execution_count": 7,
   "metadata": {
    "slideshow": {
     "slide_type": "subslide"
    }
   },
   "outputs": [
    {
     "data": {
      "text/plain": [
       "'良'"
      ]
     },
     "execution_count": 7,
     "metadata": {},
     "output_type": "execute_result"
    }
   ],
   "source": [
    "mark = 85\n",
    "if(mark>=90):\n",
    "    grade = '优'\n",
    "elif(mark>=80):\n",
    "    grade = '良'\n",
    "elif(mark>=70):\n",
    "    grade = '中'\n",
    "elif(mark>=60):\n",
    "    grade = '及格'\n",
    "else:\n",
    "    grade ='不及格'\n",
    "grade"
   ]
  },
  {
   "cell_type": "code",
   "execution_count": 15,
   "metadata": {
    "slideshow": {
     "slide_type": "subslide"
    }
   },
   "outputs": [
    {
     "name": "stdout",
     "output_type": "stream",
     "text": [
      "非闰年\n"
     ]
    }
   ],
   "source": [
    "# 找找这段代码中的错误，选中下列几行，使用ctrl+/切换注释和代码\n",
    "y = 2203\n",
    "if (y%400 == 0):\n",
    "    print('闰年')\n",
    "elif(y%100 == 0):\n",
    "    print('非闰年')\n",
    "elif(y%4 != 0):\n",
    "    print('非闰年')\n",
    "else:\n",
    "    print('闰年')"
   ]
  },
  {
   "cell_type": "markdown",
   "metadata": {
    "slideshow": {
     "slide_type": "subslide"
    }
   },
   "source": [
    "分支结构常见错误：\n",
    "* if或者else子句漏了冒号':'\n",
    "* 子代码块未缩进或缩进不一致indent\n",
    "* 多个条件顺序错误\n",
    "* 条件中的相等比较'=='错误写成了赋值'='"
   ]
  },
  {
   "cell_type": "code",
   "execution_count": 68,
   "metadata": {
    "slideshow": {
     "slide_type": "subslide"
    }
   },
   "outputs": [
    {
     "data": {
      "text/plain": [
       "1"
      ]
     },
     "execution_count": 68,
     "metadata": {},
     "output_type": "execute_result"
    }
   ],
   "source": [
    "# 以下函数sg(x)的返回值有哪几种情况？\n",
    "def sg(x):\n",
    "    y =1\n",
    "    if x >=0:\n",
    "        if x == 0: \n",
    "            y = 0\n",
    "    else:\n",
    "        y = -1\n",
    "    return y\n",
    "sg(4)"
   ]
  },
  {
   "cell_type": "code",
   "execution_count": 4,
   "metadata": {},
   "outputs": [
    {
     "ename": "SyntaxError",
     "evalue": "invalid syntax. Maybe you meant '==' or ':=' instead of '='? (4024552370.py, line 1)",
     "output_type": "error",
     "traceback": [
      "\u001b[0;36m  Cell \u001b[0;32mIn[4], line 1\u001b[0;36m\u001b[0m\n\u001b[0;31m    if a=0:\u001b[0m\n\u001b[0m       ^\u001b[0m\n\u001b[0;31mSyntaxError\u001b[0m\u001b[0;31m:\u001b[0m invalid syntax. Maybe you meant '==' or ':=' instead of '='?\n"
     ]
    }
   ],
   "source": [
    "if a=0:\n",
    "    print('hello')"
   ]
  },
  {
   "cell_type": "markdown",
   "metadata": {
    "slideshow": {
     "slide_type": "subslide"
    }
   },
   "source": [
    "### 小结：如何判断条件表达式的真假\n",
    "\n",
    "使用bool()函数"
   ]
  },
  {
   "cell_type": "code",
   "execution_count": 11,
   "metadata": {
    "slideshow": {
     "slide_type": "fragment"
    }
   },
   "outputs": [
    {
     "name": "stdout",
     "output_type": "stream",
     "text": [
      "[]=>False  [0]=>True  =>False  0=>True  {0}=>True  -1=>True  0=>False  "
     ]
    }
   ],
   "source": [
    "for i in [[],[0],'','0', {0}, -1, True-1]:\n",
    "    print(i, bool(i), sep ='=>', end = '  ')\n",
    "    # 注意此处的sep, end参数"
   ]
  },
  {
   "cell_type": "markdown",
   "metadata": {
    "slideshow": {
     "slide_type": "slide"
    }
   },
   "source": [
    "## 2.2 循环结构\n",
    "* 循环结构用于重复执行某个子代码块\n",
    "* 按照条件循环\n",
    "* 指定次数循环：使用range循环器"
   ]
  },
  {
   "cell_type": "markdown",
   "metadata": {
    "slideshow": {
     "slide_type": "subslide"
    }
   },
   "source": [
    "### 按照条件循环\n",
    "\n",
    "* 不知道循环执行的次数，只知道循环结束的条件\n",
    "* 使用while语句\n",
    "* 需要确保循环条件能够达到\n",
    "* 子代码块中应该含有能改变循环条件的语句"
   ]
  },
  {
   "cell_type": "code",
   "execution_count": 19,
   "metadata": {
    "slideshow": {
     "slide_type": "subslide"
    }
   },
   "outputs": [
    {
     "name": "stdout",
     "output_type": "stream",
     "text": [
      "8907880\n",
      "8907880\n",
      "i: 1674\n",
      "i's id:  127631235361552\n",
      "s's id:  127631235359472\n"
     ]
    }
   ],
   "source": [
    "# 寻找调和级数前n项和超过给定目标的点\n",
    "s=i=1; target=8 # 注意这里的i是计数器，s是循环结束条件\n",
    "print(id(s))\n",
    "print(id(i))\n",
    "while(s<target):\n",
    "    i+=1\n",
    "    s+=1/i  # 这个语句必不可少！\n",
    "print(f\"i: {i}\")\n",
    "print(\"i's id: \", id(i))\n",
    "print(\"s's id: \", id(s))\n"
   ]
  },
  {
   "cell_type": "markdown",
   "metadata": {
    "slideshow": {
     "slide_type": "subslide"
    }
   },
   "source": [
    "### 指定次数（范围）循环\n",
    "* 知道循环执行的次数\n",
    "* 或者用于遍历一个可迭代对象\n",
    "* 使用for语句"
   ]
  },
  {
   "cell_type": "code",
   "execution_count": 24,
   "metadata": {
    "slideshow": {
     "slide_type": "subslide"
    }
   },
   "outputs": [
    {
     "name": "stdout",
     "output_type": "stream",
     "text": [
      "\n",
      "*\n",
      "**\n",
      "***\n",
      "****\n"
     ]
    }
   ],
   "source": [
    "for i in range(5):\n",
    "    print('*'*i)  # 注意看\n"
   ]
  },
  {
   "cell_type": "markdown",
   "metadata": {
    "slideshow": {
     "slide_type": "subslide"
    }
   },
   "source": [
    "range对象：\n",
    "\n",
    "* 迭代器对象，产生指定范围的整数序列\n",
    "* 语法：range(start,stop[,step])\n",
    "* 包含左边界start，不包含右边界stop\n",
    "* start默认为0，步长step默认为1"
   ]
  },
  {
   "cell_type": "code",
   "execution_count": 20,
   "metadata": {
    "slideshow": {
     "slide_type": "subslide"
    }
   },
   "outputs": [
    {
     "name": "stdout",
     "output_type": "stream",
     "text": [
      "7.485470860550343\n",
      "7.407755278982137\n"
     ]
    }
   ],
   "source": [
    "import math\n",
    "\n",
    "# 计算调和系列前n项和\n",
    "n=1000; s=0\n",
    "for i in range(1, n + 1):\n",
    "    s+=1/i\n",
    "print(s)\n",
    "\n",
    "print(math.log(n) + 0.5)"
   ]
  },
  {
   "cell_type": "code",
   "execution_count": 22,
   "metadata": {
    "slideshow": {
     "slide_type": "subslide"
    }
   },
   "outputs": [
    {
     "name": "stdout",
     "output_type": "stream",
     "text": [
      "1,2,3,4,5,6,8,9,10,11,12,13,15,16,18,19,20,22,23,24,25,26,29,30,31,32,33,34,36,38,39,40,41,43,44,45,46,48,50,51,52,53,54,55,58,59,60,61,62,64,65,66,68,69,80,81,82,83,85,86,88,89,90,92,93,94,95,96,99,\n",
      "\n",
      "1,2,3,4,5,6,8,9,10,11,12,13,15,16,18,19,20,22,23,24,25,26,29,30,31,32,33,34,36,38,39,40,41,43,44,45,46,48,50,51,52,53,54,55,58,59,60,61,62,64,65,66,68,69,80,81,82,83,85,86,88,89,90,92,93,94,95,96,99,"
     ]
    }
   ],
   "source": [
    "for i in range(1,100):\n",
    "    if (i%7==0): pass\n",
    "    elif(i%10==7): pass\n",
    "    elif(i//10==7): pass\n",
    "    else: print(i,end=',')\n",
    "print('\\n')\n",
    "'''\n",
    "* pass 是一个空语句，相当于不执行任何操作。 它通常用于占位符的位置，例如在定义一个函数或类时，先留空，之后再填写。 \n",
    "* continue 是用于循环控制语句中的，当遇到 continue 语句时，循环会立即结束本次循环迭代，进入下一次循环迭代\n",
    "'''\n",
    "for i in range(1,100):\n",
    "    if (i%7==0): continue\n",
    "    elif(i%10==7): continue\n",
    "    elif(i//10==7): continue\n",
    "    else: print(i,end=',')"
   ]
  },
  {
   "cell_type": "code",
   "execution_count": 23,
   "metadata": {},
   "outputs": [
    {
     "name": "stdout",
     "output_type": "stream",
     "text": [
      "2\n"
     ]
    }
   ],
   "source": [
    "print(17 // 7)"
   ]
  },
  {
   "cell_type": "code",
   "execution_count": 24,
   "metadata": {
    "slideshow": {
     "slide_type": "subslide"
    }
   },
   "outputs": [
    {
     "name": "stdout",
     "output_type": "stream",
     "text": [
      "503,505,506,508,509,510,512,513,514,515,516,519,520,521,522,523,524,526,528,529,530,531,533,534,535,536,538,540,541,542,543,544,545,548,549,550,551,552,554,555,556,558,559,561,562,563,564,565,566,568,569,580,582,583,584,585,586,589,590,591,592,593,594,596,598,599,600,601,603,604,605,606,608,610,611,612,613,614,615,618,619,620,621,622,624,625,626,628,629,631,632,633,634,635,636,638,639,640,641,642,643,645,646,648,649,650,652,653,654,655,656,659,660,661,662,663,664,666,668,669,680,681,682,683,684,685,688,689,690,691,692,694,695,696,698,699,800,"
     ]
    }
   ],
   "source": [
    "a = 503; b= 800;\n",
    "for i in range(a,b+1):\n",
    "    if not (i%7==0 or '7' in str(i)): \n",
    "        print(i,end=',')"
   ]
  },
  {
   "cell_type": "code",
   "execution_count": 11,
   "metadata": {
    "slideshow": {
     "slide_type": "subslide"
    }
   },
   "outputs": [
    {
     "name": "stdout",
     "output_type": "stream",
     "text": [
      "1,2,3,4,5,6,8,9,10,11,12,13,15,16,18,19,20,22,23,24,25,26,29,30,31,32,33,34,36,38,39,40,41,43,44,45,46,48,50,51,52,53,54,55,58,59,60,61,62,64,65,66,68,69,80,81,82,83,85,86,88,89,90,92,93,94,95,96,99,"
     ]
    }
   ],
   "source": [
    "for i in range(1,100):\n",
    "    if not(i%7==0 or i%10==7 or i//10==7):print(i,end=',')"
   ]
  },
  {
   "cell_type": "code",
   "execution_count": 25,
   "metadata": {
    "slideshow": {
     "slide_type": "subslide"
    }
   },
   "outputs": [
    {
     "name": "stdout",
     "output_type": "stream",
     "text": [
      "750\n"
     ]
    }
   ],
   "source": [
    "# 步长大于1的情况\n",
    "s=0\n",
    "for i in range(1,100,7):\n",
    "    s+=i\n",
    "print(s)"
   ]
  },
  {
   "cell_type": "code",
   "execution_count": 30,
   "metadata": {
    "slideshow": {
     "slide_type": "subslide"
    }
   },
   "outputs": [
    {
     "name": "stdout",
     "output_type": "stream",
     "text": [
      "0.0, 0.01, 0.02, 0.03, 0.04, 0.05, 0.06, 0.07, 0.08, 0.09, 0.1, 0.11, 0.12, 0.13, 0.14, 0.15, 0.16, 0.17, 0.18, 0.19, 0.2, 0.21, 0.22, 0.23, 0.24, 0.25, 0.26, 0.27, 0.28, 0.29, 0.3, 0.31, 0.32, 0.33, 0.34, 0.35, 0.36, 0.37, 0.38, 0.39, 0.4, 0.41, 0.42, 0.43, 0.44, 0.45, 0.46, 0.47, 0.48, 0.49, 0.5, 0.51, 0.52, 0.53, 0.54, 0.55, 0.56, 0.57, 0.58, 0.59, 0.6, 0.61, 0.62, 0.63, 0.64, 0.65, 0.66, 0.67, 0.68, 0.69, 0.7, 0.71, 0.72, 0.73, 0.74, 0.75, 0.76, 0.77, 0.78, 0.79, 0.8, 0.81, 0.82, 0.83, 0.84, 0.85, 0.86, 0.87, 0.88, 0.89, 0.9, 0.91, 0.92, 0.93, 0.94, 0.95, 0.96, 0.97, 0.98, 0.99, [0.         0.01010101 0.02020202 0.03030303 0.04040404 0.05050505\n",
      " 0.06060606 0.07070707 0.08080808 0.09090909 0.1010101  0.11111111\n",
      " 0.12121212 0.13131313 0.14141414 0.15151515 0.16161616 0.17171717\n",
      " 0.18181818 0.19191919 0.2020202  0.21212121 0.22222222 0.23232323\n",
      " 0.24242424 0.25252525 0.26262626 0.27272727 0.28282828 0.29292929\n",
      " 0.3030303  0.31313131 0.32323232 0.33333333 0.34343434 0.35353535\n",
      " 0.36363636 0.37373737 0.38383838 0.39393939 0.4040404  0.41414141\n",
      " 0.42424242 0.43434343 0.44444444 0.45454545 0.46464646 0.47474747\n",
      " 0.48484848 0.49494949 0.50505051 0.51515152 0.52525253 0.53535354\n",
      " 0.54545455 0.55555556 0.56565657 0.57575758 0.58585859 0.5959596\n",
      " 0.60606061 0.61616162 0.62626263 0.63636364 0.64646465 0.65656566\n",
      " 0.66666667 0.67676768 0.68686869 0.6969697  0.70707071 0.71717172\n",
      " 0.72727273 0.73737374 0.74747475 0.75757576 0.76767677 0.77777778\n",
      " 0.78787879 0.7979798  0.80808081 0.81818182 0.82828283 0.83838384\n",
      " 0.84848485 0.85858586 0.86868687 0.87878788 0.88888889 0.8989899\n",
      " 0.90909091 0.91919192 0.92929293 0.93939394 0.94949495 0.95959596\n",
      " 0.96969697 0.97979798 0.98989899 1.        ]\n"
     ]
    }
   ],
   "source": [
    "# 步长小于1的情况\n",
    "# 如果要遍历从0.0到1.02，步长为0.05，怎么做？\n",
    "# 下面这个是不被允许的\n",
    "# for i in range(0, 1, 0.1):\n",
    "    # print(i)\n",
    "\n",
    "\n",
    "# 应该调整为整数或者用linspace\n",
    "for i in range(0, 100, 1):\n",
    "    print(i / 100, end=\", \")\n",
    "\n",
    "# 或者是\n",
    "import numpy as np\n",
    "span = np.linspace(0, 1, 100)\n",
    "\n",
    "print(span)"
   ]
  },
  {
   "cell_type": "code",
   "execution_count": 36,
   "metadata": {
    "slideshow": {
     "slide_type": "subslide"
    }
   },
   "outputs": [
    {
     "name": "stdout",
     "output_type": "stream",
     "text": [
      "color's length:  7 <class 'list'>\n",
      "colors2's length:  6 <class 'set'>\n",
      "r\n",
      "b\n",
      "y\n",
      "v\n",
      "c\n",
      "m\n",
      "r\n"
     ]
    }
   ],
   "source": [
    "# 遍历一个可迭代对象，如列表\n",
    "colors = ['red','blue','yellow', 'violet', 'cyan', 'milky', 'red']\n",
    "colors2 = {'red','blue','yellow', 'violet', 'cyan', 'milky', 'red'}\n",
    "\n",
    "print(\"color's length: \", len(colors), type(colors))\n",
    "print(\"colors2's length: \", len(colors2), type(colors2))\n",
    "for i in colors:\n",
    "    print(i[0])"
   ]
  },
  {
   "cell_type": "markdown",
   "metadata": {
    "slideshow": {
     "slide_type": "subslide"
    }
   },
   "source": [
    "注意：为了保证被遍历对象的安全性，防止被遍历对象被意外修改,遍历时对临时变量的修改并不会改变原始对象。\n",
    "\n",
    "如果需要修改原始对象，需要使用原始对象的索引访问。"
   ]
  },
  {
   "cell_type": "code",
   "execution_count": 39,
   "metadata": {
    "slideshow": {
     "slide_type": "subslide"
    }
   },
   "outputs": [
    {
     "name": "stdout",
     "output_type": "stream",
     "text": [
      "r b y "
     ]
    },
    {
     "data": {
      "text/plain": [
       "['red', 'blue', 'yellow']"
      ]
     },
     "execution_count": 39,
     "metadata": {},
     "output_type": "execute_result"
    }
   ],
   "source": [
    "colors = ['red','blue','yellow']\n",
    "for i in colors:\n",
    "    i = i[0]  # 仅仅修改了临时变量\n",
    "    print(i, end=' ')\n",
    "colors"
   ]
  },
  {
   "cell_type": "code",
   "execution_count": 42,
   "metadata": {
    "slideshow": {
     "slide_type": "subslide"
    }
   },
   "outputs": [
    {
     "name": "stdout",
     "output_type": "stream",
     "text": [
      "0 red\n",
      "1 blue\n",
      "2 yellow\n"
     ]
    },
    {
     "data": {
      "text/plain": [
       "['r', 'b', 'y']"
      ]
     },
     "execution_count": 42,
     "metadata": {},
     "output_type": "execute_result"
    }
   ],
   "source": [
    "colors = ['red','blue','yellow']\n",
    "for i in range(len(colors)):\n",
    "    print(i, colors[i])\n",
    "    colors[i]= colors[i][0]  # 访问了原始对象\n",
    "colors"
   ]
  },
  {
   "cell_type": "markdown",
   "metadata": {
    "slideshow": {
     "slide_type": "slide"
    }
   },
   "source": [
    "break\n",
    "\n",
    "* break语句用于结束循环\n",
    "* 当有多个循环嵌套时，break只应用于最近的一层，别忘这个"
   ]
  },
  {
   "cell_type": "code",
   "execution_count": 62,
   "metadata": {
    "slideshow": {
     "slide_type": "subslide"
    }
   },
   "outputs": [
    {
     "name": "stdout",
     "output_type": "stream",
     "text": [
      "不是素数\n"
     ]
    }
   ],
   "source": [
    "# 判断一个数是否为素数\n",
    "import math\n",
    "x = 49; \n",
    "is_prime = True\n",
    "n = int(math.sqrt(x))\n",
    "for i in range(2,n+1): # 为什么stop参数设置为n+1,而不是n或者n+2?\n",
    "    if(x %i == 0):\n",
    "        is_prime = False\n",
    "        break\n",
    "if(is_prime): print('是素数')\n",
    "else: print('不是素数')"
   ]
  },
  {
   "cell_type": "markdown",
   "metadata": {
    "slideshow": {
     "slide_type": "slide"
    }
   },
   "source": [
    "continue\n",
    "\n",
    "* continue语句用于跳过循环的本轮执行\n",
    "* continue只应用于最近的一层循环"
   ]
  },
  {
   "cell_type": "code",
   "execution_count": 63,
   "metadata": {
    "slideshow": {
     "slide_type": "subslide"
    }
   },
   "outputs": [
    {
     "name": "stdout",
     "output_type": "stream",
     "text": [
      "1,2,3,4,5,6,8,9,10,11,12,13,15,16,18,19,20,22,23,24,25,26,29,30,31,32,33,34,36,38,39,40,41,43,44,45,46,48,50,51,52,53,54,55,58,59,60,61,62,64,65,66,68,69,80,81,82,83,85,86,88,89,90,92,93,94,95,96,99,3181\n"
     ]
    }
   ],
   "source": [
    "s = 0\n",
    "for i in range(1,100):\n",
    "    if (i%7==0): continue\n",
    "    elif(i%10==7): continue\n",
    "    elif(i//10==7): continue\n",
    "    else: s+=i\n",
    "    print(i, end = ',')\n",
    "print(s)"
   ]
  },
  {
   "cell_type": "markdown",
   "metadata": {
    "slideshow": {
     "slide_type": "slide"
    }
   },
   "source": [
    "循环中的else子句\n",
    "\n",
    "* for和while循环可以附带一个else子句\n",
    "* 如果for和while语句没有被break中止，则else子句执行\n",
    "* 可以将break语句理解为found，那么如果没找到，就执行else子句"
   ]
  },
  {
   "cell_type": "code",
   "execution_count": 64,
   "metadata": {
    "slideshow": {
     "slide_type": "subslide"
    }
   },
   "outputs": [
    {
     "name": "stdout",
     "output_type": "stream",
     "text": [
      "不是素数\n"
     ]
    }
   ],
   "source": [
    "# 判断一个数是否为素数\n",
    "import math\n",
    "x = 312; # x为大于1的整数\n",
    "n = int(math.sqrt(x))\n",
    "for i in range(2,n+1):\n",
    "    if(x%i==0):\n",
    "        print('不是素数')\n",
    "        break\n",
    "else: print('是素数')"
   ]
  },
  {
   "cell_type": "markdown",
   "metadata": {
    "slideshow": {
     "slide_type": "subslide"
    }
   },
   "source": [
    "循环中else子句的注意事项\n",
    "\n",
    "* 循环中的else子句容易误解和出错，一般情形不建议使用\n",
    "* 循环中的else子句只有在break语句存在时才能正常工作"
   ]
  },
  {
   "cell_type": "code",
   "execution_count": 68,
   "metadata": {
    "slideshow": {
     "slide_type": "subslide"
    }
   },
   "outputs": [
    {
     "name": "stdout",
     "output_type": "stream",
     "text": [
      "不对称\n",
      "False\n"
     ]
    }
   ],
   "source": [
    "# 判断一个字符串是否首尾对称\n",
    "test_1 = 'anba'\n",
    "k = len(test_1)\n",
    "flag = True\n",
    "for i in range(k//2):\n",
    "    if test_1[i] != test_1[-1-i]:\n",
    "        flag = False\n",
    "        print('不对称')\n",
    "        break  # 只要有一个位置的字母不是对称的，则字符串肯定不对称\n",
    "else:\n",
    "    print('对称')\n",
    "print(flag)"
   ]
  },
  {
   "cell_type": "code",
   "execution_count": 1,
   "metadata": {
    "slideshow": {
     "slide_type": "subslide"
    }
   },
   "outputs": [
    {
     "name": "stdout",
     "output_type": "stream",
     "text": [
      "42.00529100529101\n",
      "28.015429099896018\n",
      "18.703708951970263\n",
      "12.529168676506455\n",
      "8.486554063142869\n",
      "5.949281902210586\n",
      "4.559509588457594\n",
      "4.049816452958035\n",
      "3.9802863278955534\n",
      "3.9790575874119196\n",
      "3.979057207896428\n",
      "3.9790572078963917\n",
      "3.9790572078963917\n"
     ]
    }
   ],
   "source": [
    "# 求立方根\n",
    "def cubic_root(x):  # 定义一个立方根函数\n",
    "    EPSILON = 1E-15\n",
    "    guess = x\n",
    "    while(abs(1-x/guess**3)>EPSILON):\n",
    "        guess += (x/guess**2-guess)/3.0 # 使用牛顿迭代法\n",
    "        print(guess)\n",
    "    return(guess)\n",
    "print(cubic_root(63))"
   ]
  },
  {
   "cell_type": "markdown",
   "metadata": {
    "slideshow": {
     "slide_type": "slide"
    }
   },
   "source": [
    "成对遍历\n",
    "\n",
    "* 有时我们需要同时对两个相关的序列进行遍历\n",
    "* 可以使用zip进行组装（可以把zip看成是拉链）\n",
    "* zip组装之后得到元组的列表"
   ]
  },
  {
   "cell_type": "code",
   "execution_count": 2,
   "metadata": {
    "slideshow": {
     "slide_type": "subslide"
    }
   },
   "outputs": [
    {
     "name": "stdout",
     "output_type": "stream",
     "text": [
      "red 1\n",
      "blue 3\n",
      "yellow 2\n",
      "black 5\n",
      "purple 6\n",
      "white 7\n",
      "orange 4\n"
     ]
    }
   ],
   "source": [
    "colors=['red','blue','yellow','black','purple','white','orange']\n",
    "c_index = [1,3,2,5,6,7,4]\n",
    "for i,j in zip(colors,c_index):\n",
    "    print(i,j)"
   ]
  },
  {
   "cell_type": "code",
   "execution_count": 79,
   "metadata": {
    "slideshow": {
     "slide_type": "subslide"
    }
   },
   "outputs": [
    {
     "name": "stdout",
     "output_type": "stream",
     "text": [
      "red 1\n",
      "blue 3\n",
      "yellow 2\n",
      "black 5\n",
      "purple 6\n",
      "white 7\n",
      "orange 4\n"
     ]
    }
   ],
   "source": [
    "# 如果不了解zip这个任务当然也可以完成\n",
    "colors=['red','blue','yellow','black','purple','white','orange']\n",
    "c_index = [1,3,2,5,6,7,4]\n",
    "for i in range(len(colors)):\n",
    "    print(colors[i], c_index[i])"
   ]
  },
  {
   "cell_type": "markdown",
   "metadata": {
    "slideshow": {
     "slide_type": "slide"
    }
   },
   "source": [
    "### 循环结构常见错误\n",
    "\n",
    "* 初始和结束条件错误，导致循环不执行或者不终止\n",
    "* 循环范围错误，多做了计算或少做了计算\n",
    "* 累加或累乘时，初始值设置错误\n",
    "* while或for子句后漏掉冒号\n",
    "* while或for代码块未正确缩进"
   ]
  },
  {
   "cell_type": "code",
   "execution_count": 6,
   "metadata": {
    "slideshow": {
     "slide_type": "subslide"
    }
   },
   "outputs": [
    {
     "name": "stdout",
     "output_type": "stream",
     "text": [
      "1 1\n",
      "2 2\n",
      "3 6\n",
      "4 24\n",
      "5 120\n",
      "6 720\n",
      "7 5040\n",
      "8 40320\n",
      "9 362880\n",
      "10 3628800\n",
      "3628800\n"
     ]
    }
   ],
   "source": [
    "# 这段代码要计算阶乘 n!，为什么结果总是不对呢？\n",
    "# s = 0, s初始值应该是1\n",
    "s = 1\n",
    "n = 10\n",
    "for i in range(n):\n",
    "    s *= (i + 1)\n",
    "    print(i + 1, s)\n",
    "print(s)"
   ]
  },
  {
   "cell_type": "markdown",
   "metadata": {
    "slideshow": {
     "slide_type": "subslide"
    }
   },
   "source": [
    "练习：\n",
    "<ol>\n",
    "<li>若一个三位数的三个数字的立方之和恰好等于该数本身，则该数称为三位水仙花数。打印所有的三位水仙花数。</li>\n",
    "<li>若一个五位数的五个数字的五次方的和恰好等于该数本身，则该数称为五位玫瑰花数。打印所有的玫瑰花数。</li>\n",
    "<li>若一个数的真因子之和恰好等于该数本身，则该数称为完全数，例如6。找出1000以内的所有完全数。</li>\n",
    "<li>根据党员月工资数额，求党员的月党费数值。</li>\n",
    "</ol>\n",
    "\n",
    "注：党员交纳党费的比例为：每月工资收入（税后）在3000元以下（含3000元）者，交纳月工资收入的0.5％；3000元以上至5000元（含5000元）者，交纳1％；5000元以上至10000元（含10000元）者，交纳1.5％；10000元以上者，交纳2％。\n"
   ]
  },
  {
   "cell_type": "code",
   "execution_count": 13,
   "metadata": {
    "slideshow": {
     "slide_type": "subslide"
    }
   },
   "outputs": [],
   "source": [
    "# n位水仙花数\n",
    "n = 3\n",
    "for i in range(10**n, 10**(n + 1)):\n",
    "    tmp = i\n",
    "    n_power_sum = 0\n",
    "    for _ in range(n):\n",
    "        n_power_sum += (tmp % 10) ** n\n",
    "        tmp //= 10\n",
    "    if i == n_power_sum:\n",
    "        print(i)"
   ]
  },
  {
   "cell_type": "code",
   "execution_count": 19,
   "metadata": {},
   "outputs": [
    {
     "name": "stdout",
     "output_type": "stream",
     "text": [
      "54748\n",
      "92727\n",
      "93084\n"
     ]
    }
   ],
   "source": [
    "n = 5\n",
    "# 注意这里n位数应该是从10^n-1开始\n",
    "for i in range(10 ** (n - 1), 10 ** n):\n",
    "    power_n_sum = 0\n",
    "    for j in str(i):\n",
    "        power_n_sum += int(j) ** n\n",
    "    if power_n_sum == i:\n",
    "        print(i)\n"
   ]
  },
  {
   "cell_type": "code",
   "execution_count": 30,
   "metadata": {},
   "outputs": [
    {
     "data": {
      "text/plain": [
       "[54748, 92727, 93084]"
      ]
     },
     "execution_count": 30,
     "metadata": {},
     "output_type": "execute_result"
    }
   ],
   "source": [
    "# 使用列表解析式直接解决\n",
    "n = 5\n",
    "[i for i in range(10 ** (n - 1), 10 ** n) if sum([int(k)**n for k in str(i)]) == i ]"
   ]
  },
  {
   "cell_type": "code",
   "execution_count": 41,
   "metadata": {
    "slideshow": {
     "slide_type": "subslide"
    }
   },
   "outputs": [
    {
     "name": "stdout",
     "output_type": "stream",
     "text": [
      "6\n",
      "28\n",
      "496\n"
     ]
    },
    {
     "data": {
      "text/plain": [
       "[6, 28, 496]"
      ]
     },
     "execution_count": 41,
     "metadata": {},
     "output_type": "execute_result"
    }
   ],
   "source": [
    "# 1000以内的完全数\n",
    "for i in range(2, 1000):\n",
    "    s = 0\n",
    "    # 注意这个地方如果使用range(1, i//2)是取不到i//2的，所以需要+1\n",
    "    for j in range(1, i//2 + 1):\n",
    "        if i % j == 0:\n",
    "            s += j\n",
    "    if s == i:\n",
    "        print(i)\n",
    "# 上面的还是C的代码\n",
    "# 尝试多写列表表达式，这是真正的python\n",
    "[i for i in range(1, 1001) if sum([j for j in range(1, i) if i % j == 0]) == i]"
   ]
  },
  {
   "cell_type": "code",
   "execution_count": 9,
   "metadata": {
    "slideshow": {
     "slide_type": "subslide"
    }
   },
   "outputs": [],
   "source": [
    "# 月党费数值\n"
   ]
  },
  {
   "cell_type": "markdown",
   "metadata": {
    "slideshow": {
     "slide_type": "subslide"
    }
   },
   "source": [
    "练习：根据个人的年收入X，求其应当缴纳的个人所得税额T。\n",
    "\n",
    "首先，年应纳税所得额Y为年收入扣除6万元。__年应纳税所得额Y__在\n",
    "* 3.6万元以内的部分，税率为第一级（3%）；\n",
    "* 3.6万元至14.4万元部分适用税率第二级（10%）；\n",
    "* 14.4万元至30万元部分适用税率第三级（20%）；\n",
    "* 30万元至42万元部分适用税率第四级（25%）；\n",
    "* 42万元至66万元部分适用税率第五级（30%）；\n",
    "* 66万元至96万元部分适用税率第六级（35%）；\n",
    "* 96万元以上部分适用税率第七级（45%）；"
   ]
  },
  {
   "cell_type": "code",
   "execution_count": 42,
   "metadata": {
    "slideshow": {
     "slide_type": "subslide"
    }
   },
   "outputs": [
    {
     "data": {
      "text/plain": [
       "20680.0"
      ]
     },
     "execution_count": 42,
     "metadata": {},
     "output_type": "execute_result"
    }
   ],
   "source": [
    "# 超额累进税率所得税额计算\n",
    "x = 18.8\n",
    "y = x - 6\n",
    "def tax(x):\n",
    "    x *= 10000\n",
    "    if x <= 36000:\n",
    "        return 0.03\n",
    "    elif x <= 144000:\n",
    "        return 36000 * 0.03 + (x - 36000) * 0.1\n",
    "    elif x <= 300000:\n",
    "        return 36000 * 0.03 + (144000 - 36000) * 0.1 + (x - 144000) * 0.2\n",
    "    elif x <= 420000:\n",
    "        return 36000 * 0.03 + (144000 - 36000) * 0.1 + (300000 - 144000) * 0.2 + (x - 300000) * 0.25\n",
    "    elif x <= 660000:\n",
    "        return 36000 * 0.03 + (144000 - 36000) * 0.1 + (300000 - 144000) * 0.2 + (420000 - 300000) * 0.25 + (x - 420000) * 0.3\n",
    "    elif x <= 960000:\n",
    "        return 36000 * 0.03 + (144000 - 36000) * 0.1 + (300000 - 144000) * 0.2 + (420000 - 300000) * 0.25 + (660000 - 420000) * 0.3 + (x - 660000) * 0.35\n",
    "    else:\n",
    "        return 36000 * 0.03 + (144000 - 36000) * 0.1 + (300000 - 144000) * 0.2 + (420000 - 300000) * 0.25 + (660000 - 420000) * 0.3 + (960000 - 660000) * 0.35 + (x - 960000) * 0.45\n",
    "\n",
    "tax(x)\n"
   ]
  },
  {
   "cell_type": "code",
   "execution_count": null,
   "metadata": {
    "slideshow": {
     "slide_type": "subslide"
    }
   },
   "outputs": [],
   "source": [
    "# 以上代码怎么样才能写得更简洁？\n",
    "# 先试试看。我们会在以后学习更先进的工具。\n"
   ]
  }
 ],
 "metadata": {
  "anaconda-cloud": {},
  "celltoolbar": "幻灯片",
  "kernelspec": {
   "display_name": "Python 3 (ipykernel)",
   "language": "python",
   "name": "python3"
  },
  "language_info": {
   "codemirror_mode": {
    "name": "ipython",
    "version": 3
   },
   "file_extension": ".py",
   "mimetype": "text/x-python",
   "name": "python",
   "nbconvert_exporter": "python",
   "pygments_lexer": "ipython3",
   "version": "3.1.-1"
  }
 },
 "nbformat": 4,
 "nbformat_minor": 4
}
