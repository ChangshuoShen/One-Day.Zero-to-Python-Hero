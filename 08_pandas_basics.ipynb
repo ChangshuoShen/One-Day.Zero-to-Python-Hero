{
 "cells": [
  {
   "cell_type": "markdown",
   "metadata": {
    "nbpresent": {
     "id": "13240cad-4b6b-49fb-8e25-967972c0415b"
    },
    "slideshow": {
     "slide_type": "slide"
    }
   },
   "source": [
    "# 8 Pandas 入门\n",
    "\n",
    "学习内容：\n",
    "* Series和DataFrame数据结构\n",
    "* 选取和访问数据\n",
    "* 常用操作\n"
   ]
  },
  {
   "cell_type": "markdown",
   "metadata": {
    "slideshow": {
     "slide_type": "subslide"
    }
   },
   "source": [
    "Pandas是Python数据分析的核心工具。它在Numpy基础上建立了一套完善处理索引的数据结构，并实现了索引对齐操作，大大降低了数据分析的编程门槛。\n",
    "\n",
    "Pandas包含一系列重要的数据分析工具，如时间序列、分组统计等。"
   ]
  },
  {
   "cell_type": "code",
   "execution_count": 55,
   "metadata": {
    "slideshow": {
     "slide_type": "subslide"
    }
   },
   "outputs": [
    {
     "data": {
      "text/plain": [
       "(2020-01-01    101\n",
       " 2020-01-02    104\n",
       " 2020-01-03    103\n",
       " 2020-01-04    105\n",
       " 2020-01-05    100\n",
       " Freq: D, dtype: int64,\n",
       " 2020-01-02     96\n",
       " 2020-01-03    100\n",
       " 2020-01-04    102\n",
       " 2020-01-05    101\n",
       " 2020-01-06    108\n",
       " 2020-01-07    109\n",
       " Freq: D, dtype: int64)"
      ]
     },
     "execution_count": 55,
     "metadata": {},
     "output_type": "execute_result"
    }
   ],
   "source": [
    "# 例子\n",
    "# 假设我们要对两个资产的价格进行对比计算，但价格公布的时间不一样\n",
    "import pandas as pd\n",
    "p1 = pd.Series([101, 104, 103, 105, 100], index = pd.date_range('2020-01-01',periods = 5))\n",
    "p2 = pd.Series([96, 100, 102, 101, 108, 109], index = pd.date_range('2020-01-02',periods = 6))\n",
    "p1, p2"
   ]
  },
  {
   "cell_type": "code",
   "execution_count": 56,
   "metadata": {
    "slideshow": {
     "slide_type": "subslide"
    }
   },
   "outputs": [
    {
     "data": {
      "text/plain": [
       "2020-01-01         NaN\n",
       "2020-01-02    0.083333\n",
       "2020-01-03    0.030000\n",
       "2020-01-04    0.029412\n",
       "2020-01-05   -0.009901\n",
       "2020-01-06         NaN\n",
       "2020-01-07         NaN\n",
       "Freq: D, dtype: float64"
      ]
     },
     "execution_count": 56,
     "metadata": {},
     "output_type": "execute_result"
    }
   ],
   "source": [
    "p1 / p2 - 1"
   ]
  },
  {
   "cell_type": "markdown",
   "metadata": {
    "slideshow": {
     "slide_type": "subslide"
    }
   },
   "source": [
    "注意例子中的数据运算具有几个特征：\n",
    "\n",
    "* 数据形状不同\n",
    "\n",
    "* 运算是根据日期（索引）进行对齐之后进行的。"
   ]
  },
  {
   "cell_type": "markdown",
   "metadata": {
    "nbpresent": {
     "id": "d232b12b-72bb-4e0a-9736-1d230c3555b8"
    },
    "slideshow": {
     "slide_type": "subslide"
    }
   },
   "source": [
    "在使用Pandas时，最经常使用的模块为Series和DataFrame，在命名惯例中Pandas的别名为pd.\n",
    "以下是经常引入的包及其命名惯例。\n"
   ]
  },
  {
   "cell_type": "code",
   "execution_count": 57,
   "metadata": {
    "nbpresent": {
     "id": "a445a3a5-e716-4da4-9258-8fe26286447a"
    },
    "slideshow": {
     "slide_type": "fragment"
    }
   },
   "outputs": [],
   "source": [
    "import pandas as pd\n",
    "import numpy as np\n",
    "import matplotlib.pyplot as plt\n",
    "from pandas import Series, DataFrame"
   ]
  },
  {
   "cell_type": "markdown",
   "metadata": {
    "nbpresent": {
     "id": "82dfff72-7894-4586-81e5-4071fe30c2db"
    },
    "slideshow": {
     "slide_type": "slide"
    }
   },
   "source": [
    "## 8.1 Pandas中的数据结构\n",
    "\n",
    "Pandas中有两种主要的数据结构：Series和DataFrame.\n",
    "\n",
    "### 创建Series对象"
   ]
  },
  {
   "cell_type": "code",
   "execution_count": 58,
   "metadata": {
    "nbpresent": {
     "id": "37111a2b-12ce-4e75-8f8b-8e25c5f372af"
    },
    "slideshow": {
     "slide_type": "subslide"
    }
   },
   "outputs": [
    {
     "data": {
      "text/plain": [
       "0    1\n",
       "1    4\n",
       "2    2\n",
       "3    8\n",
       "4    5\n",
       "dtype: int64"
      ]
     },
     "execution_count": 58,
     "metadata": {},
     "output_type": "execute_result"
    }
   ],
   "source": [
    "ser01 = Series([1, 4, 2, 8, 5])\n",
    "ser01"
   ]
  },
  {
   "cell_type": "markdown",
   "metadata": {
    "nbpresent": {
     "id": "396afa77-a976-4656-bfc0-838e8884ee34"
    },
    "slideshow": {
     "slide_type": "subslide"
    }
   },
   "source": [
    "函数签名（部分参数）：pandas.Series(data = None, index = None, dtype = None, name = None)\n",
    "\n",
    "如果没有引入Series模块，则需要指定其所在的包。如果没有指定索引，系统会自动指定一个RangeIndex。\n",
    "\n",
    "我们也可以指定序列的标签。标签与数据值按顺序一一对应。"
   ]
  },
  {
   "cell_type": "code",
   "execution_count": 59,
   "metadata": {
    "nbpresent": {
     "id": "a9fbb70d-4e7c-4f91-aa77-9e61d18941a1"
    },
    "slideshow": {
     "slide_type": "subslide"
    }
   },
   "outputs": [
    {
     "data": {
      "text/plain": [
       "1st    8\n",
       "3zd    0\n",
       "3      3\n",
       "3rd    8\n",
       "dtype: int64"
      ]
     },
     "execution_count": 59,
     "metadata": {},
     "output_type": "execute_result"
    }
   ],
   "source": [
    "ser02 = pd.Series([8, 0, 3, 8, 6],\n",
    "    index= ['1st', '3zd', '3', '3rd', '5th'])\n",
    "ser02[:'3rd']"
   ]
  },
  {
   "cell_type": "markdown",
   "metadata": {
    "nbpresent": {
     "id": "770a2787-d80d-4eea-9b0a-81355ba9e29b"
    },
    "slideshow": {
     "slide_type": "subslide"
    }
   },
   "source": [
    "### Series对象的结构\n",
    "可以发现，Series对象由索引和值构成。\n",
    "\n",
    "* 使用index可以访问其索引对象"
   ]
  },
  {
   "cell_type": "code",
   "execution_count": 60,
   "metadata": {
    "nbpresent": {
     "id": "d5f9b6c6-d99c-40fc-a41d-9c2eaa00f6aa"
    },
    "slideshow": {
     "slide_type": "fragment"
    }
   },
   "outputs": [
    {
     "data": {
      "text/plain": [
       "(RangeIndex(start=0, stop=5, step=1),\n",
       " Index(['1st', '3zd', '3', '3rd', '5th'], dtype='object'))"
      ]
     },
     "execution_count": 60,
     "metadata": {},
     "output_type": "execute_result"
    }
   ],
   "source": [
    "ser01.index, ser02.index"
   ]
  },
  {
   "cell_type": "markdown",
   "metadata": {
    "nbpresent": {
     "id": "3f32f99d-8312-43b2-beca-697b6f806da6"
    },
    "slideshow": {
     "slide_type": "subslide"
    }
   },
   "source": [
    "* 使用values可以访问其值"
   ]
  },
  {
   "cell_type": "code",
   "execution_count": 61,
   "metadata": {
    "nbpresent": {
     "id": "497efe20-674d-4342-8e0e-31d658c519af"
    },
    "slideshow": {
     "slide_type": "fragment"
    }
   },
   "outputs": [
    {
     "data": {
      "text/plain": [
       "array([1, 4, 2, 8, 5])"
      ]
     },
     "execution_count": 61,
     "metadata": {},
     "output_type": "execute_result"
    }
   ],
   "source": [
    "ser01.values  # 序列的值是什么对象？"
   ]
  },
  {
   "cell_type": "markdown",
   "metadata": {
    "slideshow": {
     "slide_type": "subslide"
    }
   },
   "source": [
    "我们可以给Series对象指定名字，也可以为它的索引指定名字。\n",
    "\n",
    "这样做的意义是更容易理解数据的含义，同时方便与DataFrame进行集成（作为行或列标签）。"
   ]
  },
  {
   "cell_type": "code",
   "execution_count": 62,
   "metadata": {
    "slideshow": {
     "slide_type": "subslide"
    }
   },
   "outputs": [
    {
     "name": "stdout",
     "output_type": "stream",
     "text": [
      "track\n",
      "1st    8\n",
      "3zd    0\n",
      "3      3\n",
      "3rd    8\n",
      "5th    6\n",
      "Name: cost, dtype: int64\n"
     ]
    }
   ],
   "source": [
    "ser02.name = 'cost'\n",
    "ser02.index.name = 'track'\n",
    "print(ser02)"
   ]
  },
  {
   "cell_type": "markdown",
   "metadata": {
    "slideshow": {
     "slide_type": "subslide"
    }
   },
   "source": [
    "### Series对象的访问\n",
    "\n",
    "可以将Series对象视为一维的ndarray，只不过它的数据都有一个数据索引/标签。\n",
    "\n",
    "可以使用标签或使用整数索引访问Series对象的元素。"
   ]
  },
  {
   "cell_type": "code",
   "execution_count": 63,
   "metadata": {
    "slideshow": {
     "slide_type": "subslide"
    }
   },
   "outputs": [
    {
     "name": "stdout",
     "output_type": "stream",
     "text": [
      "[1] 2\n",
      "[2] 1    4\n",
      "2    2\n",
      "dtype: int64\n",
      "[3] 2    2\n",
      "3    8\n",
      "dtype: int64\n"
     ]
    }
   ],
   "source": [
    "print('[1]', ser01[2])  # 序列的一个元素是什么对象？\n",
    "print('[2]', ser01[1:3])  # 序列的一个切片是什么对象？\n",
    "print('[3]', ser01[-3:-1])"
   ]
  },
  {
   "cell_type": "code",
   "execution_count": 64,
   "metadata": {
    "slideshow": {
     "slide_type": "subslide"
    }
   },
   "outputs": [
    {
     "name": "stdout",
     "output_type": "stream",
     "text": [
      "track\n",
      "1st    8\n",
      "3zd    0\n",
      "3      3\n",
      "Name: cost, dtype: int64\n",
      "track\n",
      "1st    8\n",
      "3zd    0\n",
      "3      3\n",
      "3rd    8\n",
      "Name: cost, dtype: int64\n"
     ]
    }
   ],
   "source": [
    "print(ser02[:3])\n",
    "print(ser02['1st':'3rd'])  # 注意区别在哪里？\n",
    "# print(ser02[:'3rd']) # guess"
   ]
  },
  {
   "cell_type": "code",
   "execution_count": 65,
   "metadata": {},
   "outputs": [
    {
     "data": {
      "text/plain": [
       "1     1\n",
       "2     4\n",
       "3     1\n",
       "4     5\n",
       "5     9\n",
       "6     2\n",
       "7     6\n",
       "8     5\n",
       "9     3\n",
       "10    5\n",
       "dtype: object"
      ]
     },
     "execution_count": 65,
     "metadata": {},
     "output_type": "execute_result"
    }
   ],
   "source": [
    "val = str(np.pi - 3)[2:10+2]\n",
    "\n",
    "pd.Series(list(val), index=range(1, 11))"
   ]
  },
  {
   "cell_type": "code",
   "execution_count": 66,
   "metadata": {},
   "outputs": [
    {
     "data": {
      "text/plain": [
       "1     1\n",
       "2     4\n",
       "3     1\n",
       "4     5\n",
       "5     9\n",
       "6     2\n",
       "7     6\n",
       "8     5\n",
       "9     3\n",
       "10    5\n",
       "dtype: object"
      ]
     },
     "execution_count": 66,
     "metadata": {},
     "output_type": "execute_result"
    }
   ],
   "source": [
    "s = pd.Series(list(val))\n",
    "s.index = s.index + 1\n",
    "s"
   ]
  },
  {
   "cell_type": "markdown",
   "metadata": {
    "slideshow": {
     "slide_type": "subslide"
    }
   },
   "source": [
    "### 使用标签索引切片 vs 使用序号索引切片\n",
    "\n",
    "* 使用标签索引切片：结束标签均包含\n",
    "* 使用序号索引切片：结束序号不包含"
   ]
  },
  {
   "cell_type": "code",
   "execution_count": 67,
   "metadata": {
    "slideshow": {
     "slide_type": "subslide"
    }
   },
   "outputs": [
    {
     "name": "stdout",
     "output_type": "stream",
     "text": [
      "1    2\n",
      "2    8\n",
      "3    5\n",
      "4    7\n",
      "5    1\n",
      "dtype: int64\n"
     ]
    }
   ],
   "source": [
    "ser03 = Series([2, 8, 5, 7, 1], index = range(1,6))\n",
    "print(ser03)"
   ]
  },
  {
   "cell_type": "code",
   "execution_count": 68,
   "metadata": {
    "slideshow": {
     "slide_type": "subslide"
    }
   },
   "outputs": [
    {
     "name": "stdout",
     "output_type": "stream",
     "text": [
      "3    5\n",
      "4    7\n",
      "dtype: int64\n",
      "8\n"
     ]
    }
   ],
   "source": [
    "print(ser03[2:4])  # 注意这里会产生歧义，你认为它的含义是什么？\n",
    "print(ser03[2]) # 如果是单个索引，先按标签，再按索引， 如果是切片操作，先按索引，再按标签"
   ]
  },
  {
   "cell_type": "markdown",
   "metadata": {
    "slideshow": {
     "slide_type": "subslide"
    }
   },
   "source": [
    "当使用整数作为标签名称时会与序号作为索引的情况相混淆，产生歧义。\n",
    "\n",
    "因此需要一种机制来指定究竟是使用序号还是标签访问。"
   ]
  },
  {
   "cell_type": "code",
   "execution_count": 69,
   "metadata": {
    "slideshow": {
     "slide_type": "subslide"
    }
   },
   "outputs": [
    {
     "name": "stdout",
     "output_type": "stream",
     "text": [
      "3    5\n",
      "4    7\n",
      "dtype: int64\n",
      "2    8\n",
      "3    5\n",
      "4    7\n",
      "dtype: int64\n",
      "3    5\n",
      "4    7\n",
      "dtype: int64\n"
     ]
    }
   ],
   "source": [
    "print(ser03[2: 4])\n",
    "print(ser03.loc[2:4])  # 标签索引\n",
    "print(ser03.iloc[2:4])  # 整数索引"
   ]
  },
  {
   "cell_type": "markdown",
   "metadata": {
    "slideshow": {
     "slide_type": "subslide"
    }
   },
   "source": [
    "注意使用序号（整数）索引和标签索引的差别。\n",
    "\n",
    "loc 使用标签索引\n",
    "\n",
    "iloc 使用整数序号索引, i的含义为integer"
   ]
  },
  {
   "cell_type": "markdown",
   "metadata": {
    "slideshow": {
     "slide_type": "subslide"
    }
   },
   "source": [
    "### Series对象的运算\n",
    "\n",
    "Series对象在运算时会自动对齐索引。相同索引的对应元素进行运算。"
   ]
  },
  {
   "cell_type": "code",
   "execution_count": 70,
   "metadata": {
    "slideshow": {
     "slide_type": "subslide"
    }
   },
   "outputs": [
    {
     "data": {
      "text/plain": [
       "-1    NaN\n",
       " 0    NaN\n",
       " 1    0.0\n",
       " 2    0.0\n",
       " 3    0.0\n",
       " 4    NaN\n",
       " 5    NaN\n",
       "dtype: float64"
      ]
     },
     "execution_count": 70,
     "metadata": {},
     "output_type": "execute_result"
    }
   ],
   "source": [
    "ser01.index = ser01.index - 1\n",
    "ser04 = ser01 - ser03  # 先猜一猜\n",
    "ser04"
   ]
  },
  {
   "cell_type": "markdown",
   "metadata": {
    "slideshow": {
     "slide_type": "subslide"
    }
   },
   "source": [
    "Series运算结果为一个新的Series对象，它的索引包含两个Series对象的所有索引。\n",
    "\n",
    "当索引只在一个Series中出现时，对应的运算结果为NaN，即Not a Number.即缺失值。\n",
    "\n",
    "我们可以用isnull和notnull来检测是否存在缺失数据。"
   ]
  },
  {
   "cell_type": "code",
   "execution_count": 71,
   "metadata": {
    "slideshow": {
     "slide_type": "subslide"
    }
   },
   "outputs": [
    {
     "data": {
      "text/plain": [
       "(-1     True\n",
       "  0     True\n",
       "  1    False\n",
       "  2    False\n",
       "  3    False\n",
       "  4     True\n",
       "  5     True\n",
       " dtype: bool,\n",
       " -1   NaN\n",
       "  0   NaN\n",
       "  4   NaN\n",
       "  5   NaN\n",
       " dtype: float64,\n",
       " -1     True\n",
       "  0     True\n",
       "  1    False\n",
       "  2    False\n",
       "  3    False\n",
       "  4     True\n",
       "  5     True\n",
       " dtype: bool)"
      ]
     },
     "execution_count": 71,
     "metadata": {},
     "output_type": "execute_result"
    }
   ],
   "source": [
    "ser04.isnull(), ser04[ser04.isnull()], ser04.isna()"
   ]
  },
  {
   "cell_type": "markdown",
   "metadata": {
    "slideshow": {
     "slide_type": "subslide"
    }
   },
   "source": [
    "### 用字典生成Series对象\n",
    "\n",
    "字典的键会成为Series的行标签，字典的值会成为对应的值。"
   ]
  },
  {
   "cell_type": "code",
   "execution_count": 72,
   "metadata": {
    "slideshow": {
     "slide_type": "subslide"
    }
   },
   "outputs": [
    {
     "name": "stdout",
     "output_type": "stream",
     "text": [
      "UT    2000\n",
      "OH    3000\n",
      "MN    2200\n",
      "TX     500\n",
      "dtype: int64\n"
     ]
    }
   ],
   "source": [
    "a_dict = {'UT': 2000, 'OH': 3000, 'MN':2200, 'TX': 500}\n",
    "ser04 = pd.Series(a_dict)\n",
    "print(ser04)"
   ]
  },
  {
   "cell_type": "markdown",
   "metadata": {
    "slideshow": {
     "slide_type": "subslide"
    }
   },
   "source": [
    "若用字典生成Series时指定了索引，则只有索引中指定的键会被选中。"
   ]
  },
  {
   "cell_type": "code",
   "execution_count": 73,
   "metadata": {
    "slideshow": {
     "slide_type": "subslide"
    }
   },
   "outputs": [
    {
     "name": "stdout",
     "output_type": "stream",
     "text": [
      "TX      500.0\n",
      "UT     2000.0\n",
      "NY    33000.0\n",
      "MN     2200.0\n",
      "WA        NaN\n",
      "dtype: float64\n"
     ]
    }
   ],
   "source": [
    "b_dict = {'UT': 2000, 'TX': 500, 'OH': 3000, 'MN':2200, 'NY':33000}\n",
    "ser05 = pd.Series(b_dict, index = ['TX', 'UT', 'NY', 'MN', 'WA'])\n",
    "print(ser05)    "
   ]
  },
  {
   "cell_type": "code",
   "execution_count": 74,
   "metadata": {},
   "outputs": [
    {
     "data": {
      "text/plain": [
       "BJ        NaN\n",
       "HF        NaN\n",
       "MN     2200.0\n",
       "NY    33000.0\n",
       "dtype: float64"
      ]
     },
     "execution_count": 74,
     "metadata": {},
     "output_type": "execute_result"
    }
   ],
   "source": [
    "pd.Series(b_dict, index=['BJ', 'HF', 'MN', 'NY'])"
   ]
  },
  {
   "cell_type": "markdown",
   "metadata": {
    "slideshow": {
     "slide_type": "slide"
    }
   },
   "source": [
    "## DataFrame对象\n",
    "\n",
    "DataFrame对象可以视为二维的ndarray，或者视为一个矩阵或二维表。\n",
    "\n",
    "DataFrame对象既有行索引也有列索引。可以视为多个共享索引的Series对象形成的字典。（行方向和列方向）\n",
    "\n",
    "DataFrame对象为学习重点。猜一猜DataFrame对象运算时会如何对齐。\n",
    "\n",
    "函数签名（部分参数）：pandas.DataFrame(data = None, index = None, Columns = None, dtype = None)"
   ]
  },
  {
   "cell_type": "markdown",
   "metadata": {
    "nbpresent": {
     "id": "5a639fab-9cc1-4dd2-9a5f-a48d8905472e"
    },
    "slideshow": {
     "slide_type": "subslide"
    }
   },
   "source": [
    "### 创建DataFrame对象\n",
    "\n",
    "__方式1：使用字典创建DataFrame对象。__\n",
    "\n",
    "字典的键作为列名，每个键对应的列表作为一列。若没有指定索引，则系统自动赋予一个索引。当然，我们也可以指定一个索引。\n",
    "\n",
    "注意与Series对象的区别。"
   ]
  },
  {
   "cell_type": "code",
   "execution_count": 75,
   "metadata": {
    "nbpresent": {
     "id": "9ed1d192-992d-45d8-a070-bbedb351e297"
    },
    "slideshow": {
     "slide_type": "subslide"
    }
   },
   "outputs": [
    {
     "data": {
      "text/html": [
       "<div>\n",
       "<style scoped>\n",
       "    .dataframe tbody tr th:only-of-type {\n",
       "        vertical-align: middle;\n",
       "    }\n",
       "\n",
       "    .dataframe tbody tr th {\n",
       "        vertical-align: top;\n",
       "    }\n",
       "\n",
       "    .dataframe thead th {\n",
       "        text-align: right;\n",
       "    }\n",
       "</style>\n",
       "<table border=\"1\" class=\"dataframe\">\n",
       "  <thead>\n",
       "    <tr style=\"text-align: right;\">\n",
       "      <th></th>\n",
       "      <th>age</th>\n",
       "      <th>sex</th>\n",
       "      <th>score</th>\n",
       "    </tr>\n",
       "  </thead>\n",
       "  <tbody>\n",
       "    <tr>\n",
       "      <th>john</th>\n",
       "      <td>18</td>\n",
       "      <td>m</td>\n",
       "      <td>120</td>\n",
       "    </tr>\n",
       "    <tr>\n",
       "      <th>mike</th>\n",
       "      <td>22</td>\n",
       "      <td>m</td>\n",
       "      <td>100</td>\n",
       "    </tr>\n",
       "    <tr>\n",
       "      <th>alice</th>\n",
       "      <td>43</td>\n",
       "      <td>f</td>\n",
       "      <td>95</td>\n",
       "    </tr>\n",
       "    <tr>\n",
       "      <th>lane</th>\n",
       "      <td>64</td>\n",
       "      <td>f</td>\n",
       "      <td>134</td>\n",
       "    </tr>\n",
       "    <tr>\n",
       "      <th>clark</th>\n",
       "      <td>19</td>\n",
       "      <td>m</td>\n",
       "      <td>140</td>\n",
       "    </tr>\n",
       "  </tbody>\n",
       "</table>\n",
       "</div>"
      ],
      "text/plain": [
       "       age sex  score\n",
       "john    18   m    120\n",
       "mike    22   m    100\n",
       "alice   43   f     95\n",
       "lane    64   f    134\n",
       "clark   19   m    140"
      ]
     },
     "execution_count": 75,
     "metadata": {},
     "output_type": "execute_result"
    }
   ],
   "source": [
    "df01=DataFrame(\n",
    "    {\n",
    "    'age':[18,22,43,64,19],\n",
    "    'sex':['m','m','f','f','m'],\n",
    "    'score':[120,100,95,134,140]\n",
    "    },\n",
    "    index=['john','mike','alice','lane','clark']\n",
    "    )\n",
    "df01"
   ]
  },
  {
   "cell_type": "markdown",
   "metadata": {
    "slideshow": {
     "slide_type": "subslide"
    }
   },
   "source": [
    "若字典为嵌套字典（即字典的字典），则外层键构成DataFrame的列标签，内层键构成DataFrame的行标签。\n",
    "\n",
    "此外，这暗示我们DataFrame具有一个字典视图。"
   ]
  },
  {
   "cell_type": "code",
   "execution_count": 76,
   "metadata": {
    "slideshow": {
     "slide_type": "subslide"
    }
   },
   "outputs": [
    {
     "name": "stdout",
     "output_type": "stream",
     "text": [
      "{'age': {'john': 18, 'mike': 22, 'alice': 43, 'lane': 64, 'clark': 19}, 'score': {'john': 120, 'mike': 100, 'alice': 95, 'lane': 134, 'clark': 140}}\n"
     ]
    }
   ],
   "source": [
    "ages = [18,22,43,64,19]\n",
    "scores = [120,100,95,134,140]\n",
    "names = ['john','mike','alice','lane','clark']\n",
    "age = dict(zip(names, ages))\n",
    "score = dict(zip(names, scores))\n",
    "data = {'age' : age, 'score' : score}\n",
    "print(data)"
   ]
  },
  {
   "cell_type": "code",
   "execution_count": 77,
   "metadata": {
    "slideshow": {
     "slide_type": "subslide"
    }
   },
   "outputs": [
    {
     "data": {
      "text/html": [
       "<div>\n",
       "<style scoped>\n",
       "    .dataframe tbody tr th:only-of-type {\n",
       "        vertical-align: middle;\n",
       "    }\n",
       "\n",
       "    .dataframe tbody tr th {\n",
       "        vertical-align: top;\n",
       "    }\n",
       "\n",
       "    .dataframe thead th {\n",
       "        text-align: right;\n",
       "    }\n",
       "</style>\n",
       "<table border=\"1\" class=\"dataframe\">\n",
       "  <thead>\n",
       "    <tr style=\"text-align: right;\">\n",
       "      <th></th>\n",
       "      <th>age</th>\n",
       "      <th>score</th>\n",
       "    </tr>\n",
       "  </thead>\n",
       "  <tbody>\n",
       "    <tr>\n",
       "      <th>john</th>\n",
       "      <td>18</td>\n",
       "      <td>120</td>\n",
       "    </tr>\n",
       "    <tr>\n",
       "      <th>mike</th>\n",
       "      <td>22</td>\n",
       "      <td>100</td>\n",
       "    </tr>\n",
       "    <tr>\n",
       "      <th>alice</th>\n",
       "      <td>43</td>\n",
       "      <td>95</td>\n",
       "    </tr>\n",
       "    <tr>\n",
       "      <th>lane</th>\n",
       "      <td>64</td>\n",
       "      <td>134</td>\n",
       "    </tr>\n",
       "    <tr>\n",
       "      <th>clark</th>\n",
       "      <td>19</td>\n",
       "      <td>140</td>\n",
       "    </tr>\n",
       "  </tbody>\n",
       "</table>\n",
       "</div>"
      ],
      "text/plain": [
       "       age  score\n",
       "john    18    120\n",
       "mike    22    100\n",
       "alice   43     95\n",
       "lane    64    134\n",
       "clark   19    140"
      ]
     },
     "execution_count": 77,
     "metadata": {},
     "output_type": "execute_result"
    }
   ],
   "source": [
    "df01_b = pd.DataFrame(data)\n",
    "df01_b"
   ]
  },
  {
   "cell_type": "markdown",
   "metadata": {
    "slideshow": {
     "slide_type": "subslide"
    }
   },
   "source": [
    "如果我们希望指定主键生成行索引或者列索引，这时可以使用DataFrame.from_dict()方法\n",
    "\n",
    "如果使用列作为字典主键，则指定orient = 'columns';如果使用行作为字典主键，则指定orient = 'index'."
   ]
  },
  {
   "cell_type": "code",
   "execution_count": 1,
   "metadata": {
    "slideshow": {
     "slide_type": "subslide"
    }
   },
   "outputs": [
    {
     "data": {
      "text/plain": [
       "{0: {'a': 1},\n",
       " 1: {'b': 1},\n",
       " 2: {'a': 1},\n",
       " 3: {'c': 1},\n",
       " 4: {'b': 1},\n",
       " 5: {'c': 1},\n",
       " 6: {'a': 1},\n",
       " 7: {'b': 1}}"
      ]
     },
     "execution_count": 1,
     "metadata": {},
     "output_type": "execute_result"
    }
   ],
   "source": [
    "states = list('abacbcab')\n",
    "flags = {}\n",
    "for i,v in enumerate(states):\n",
    "    flags[i] = {v:1}\n",
    "flags"
   ]
  },
  {
   "cell_type": "code",
   "execution_count": 3,
   "metadata": {
    "slideshow": {
     "slide_type": "subslide"
    }
   },
   "outputs": [
    {
     "data": {
      "text/html": [
       "<div>\n",
       "<style scoped>\n",
       "    .dataframe tbody tr th:only-of-type {\n",
       "        vertical-align: middle;\n",
       "    }\n",
       "\n",
       "    .dataframe tbody tr th {\n",
       "        vertical-align: top;\n",
       "    }\n",
       "\n",
       "    .dataframe thead th {\n",
       "        text-align: right;\n",
       "    }\n",
       "</style>\n",
       "<table border=\"1\" class=\"dataframe\">\n",
       "  <thead>\n",
       "    <tr style=\"text-align: right;\">\n",
       "      <th></th>\n",
       "      <th>a</th>\n",
       "      <th>b</th>\n",
       "      <th>c</th>\n",
       "    </tr>\n",
       "  </thead>\n",
       "  <tbody>\n",
       "    <tr>\n",
       "      <th>0</th>\n",
       "      <td>1.0</td>\n",
       "      <td>NaN</td>\n",
       "      <td>NaN</td>\n",
       "    </tr>\n",
       "    <tr>\n",
       "      <th>1</th>\n",
       "      <td>NaN</td>\n",
       "      <td>1.0</td>\n",
       "      <td>NaN</td>\n",
       "    </tr>\n",
       "    <tr>\n",
       "      <th>2</th>\n",
       "      <td>1.0</td>\n",
       "      <td>NaN</td>\n",
       "      <td>NaN</td>\n",
       "    </tr>\n",
       "    <tr>\n",
       "      <th>3</th>\n",
       "      <td>NaN</td>\n",
       "      <td>NaN</td>\n",
       "      <td>1.0</td>\n",
       "    </tr>\n",
       "    <tr>\n",
       "      <th>4</th>\n",
       "      <td>NaN</td>\n",
       "      <td>1.0</td>\n",
       "      <td>NaN</td>\n",
       "    </tr>\n",
       "    <tr>\n",
       "      <th>5</th>\n",
       "      <td>NaN</td>\n",
       "      <td>NaN</td>\n",
       "      <td>1.0</td>\n",
       "    </tr>\n",
       "    <tr>\n",
       "      <th>6</th>\n",
       "      <td>1.0</td>\n",
       "      <td>NaN</td>\n",
       "      <td>NaN</td>\n",
       "    </tr>\n",
       "    <tr>\n",
       "      <th>7</th>\n",
       "      <td>NaN</td>\n",
       "      <td>1.0</td>\n",
       "      <td>NaN</td>\n",
       "    </tr>\n",
       "  </tbody>\n",
       "</table>\n",
       "</div>"
      ],
      "text/plain": [
       "     a    b    c\n",
       "0  1.0  NaN  NaN\n",
       "1  NaN  1.0  NaN\n",
       "2  1.0  NaN  NaN\n",
       "3  NaN  NaN  1.0\n",
       "4  NaN  1.0  NaN\n",
       "5  NaN  NaN  1.0\n",
       "6  1.0  NaN  NaN\n",
       "7  NaN  1.0  NaN"
      ]
     },
     "execution_count": 3,
     "metadata": {},
     "output_type": "execute_result"
    }
   ],
   "source": [
    "import pandas as pd\n",
    "df01_c = pd.DataFrame.from_dict(flags, orient= 'index')\n",
    "df01_c.sort_index()  # 注意有返回值，原始数据并没有改变"
   ]
  },
  {
   "cell_type": "code",
   "execution_count": 80,
   "metadata": {
    "slideshow": {
     "slide_type": "subslide"
    }
   },
   "outputs": [
    {
     "data": {
      "text/html": [
       "<div>\n",
       "<style scoped>\n",
       "    .dataframe tbody tr th:only-of-type {\n",
       "        vertical-align: middle;\n",
       "    }\n",
       "\n",
       "    .dataframe tbody tr th {\n",
       "        vertical-align: top;\n",
       "    }\n",
       "\n",
       "    .dataframe thead th {\n",
       "        text-align: right;\n",
       "    }\n",
       "</style>\n",
       "<table border=\"1\" class=\"dataframe\">\n",
       "  <thead>\n",
       "    <tr style=\"text-align: right;\">\n",
       "      <th></th>\n",
       "      <th>a</th>\n",
       "      <th>b</th>\n",
       "      <th>c</th>\n",
       "    </tr>\n",
       "  </thead>\n",
       "  <tbody>\n",
       "    <tr>\n",
       "      <th>0</th>\n",
       "      <td>1.0</td>\n",
       "      <td>0.0</td>\n",
       "      <td>0.0</td>\n",
       "    </tr>\n",
       "    <tr>\n",
       "      <th>2</th>\n",
       "      <td>1.0</td>\n",
       "      <td>0.0</td>\n",
       "      <td>0.0</td>\n",
       "    </tr>\n",
       "    <tr>\n",
       "      <th>6</th>\n",
       "      <td>1.0</td>\n",
       "      <td>0.0</td>\n",
       "      <td>0.0</td>\n",
       "    </tr>\n",
       "    <tr>\n",
       "      <th>1</th>\n",
       "      <td>0.0</td>\n",
       "      <td>1.0</td>\n",
       "      <td>0.0</td>\n",
       "    </tr>\n",
       "    <tr>\n",
       "      <th>4</th>\n",
       "      <td>0.0</td>\n",
       "      <td>1.0</td>\n",
       "      <td>0.0</td>\n",
       "    </tr>\n",
       "    <tr>\n",
       "      <th>7</th>\n",
       "      <td>0.0</td>\n",
       "      <td>1.0</td>\n",
       "      <td>0.0</td>\n",
       "    </tr>\n",
       "    <tr>\n",
       "      <th>3</th>\n",
       "      <td>0.0</td>\n",
       "      <td>0.0</td>\n",
       "      <td>1.0</td>\n",
       "    </tr>\n",
       "    <tr>\n",
       "      <th>5</th>\n",
       "      <td>0.0</td>\n",
       "      <td>0.0</td>\n",
       "      <td>1.0</td>\n",
       "    </tr>\n",
       "  </tbody>\n",
       "</table>\n",
       "</div>"
      ],
      "text/plain": [
       "     a    b    c\n",
       "0  1.0  0.0  0.0\n",
       "2  1.0  0.0  0.0\n",
       "6  1.0  0.0  0.0\n",
       "1  0.0  1.0  0.0\n",
       "4  0.0  1.0  0.0\n",
       "7  0.0  1.0  0.0\n",
       "3  0.0  0.0  1.0\n",
       "5  0.0  0.0  1.0"
      ]
     },
     "execution_count": 80,
     "metadata": {},
     "output_type": "execute_result"
    }
   ],
   "source": [
    "df01_c.fillna(0)  # 注意有返回值，原始数据并没有改变"
   ]
  },
  {
   "cell_type": "markdown",
   "metadata": {
    "nbpresent": {
     "id": "96cfb3ab-5735-4537-aceb-1179fded7843"
    },
    "slideshow": {
     "slide_type": "subslide"
    }
   },
   "source": [
    "__方式2：使用多维数组或列表创建DataFrame对象。__\n",
    "\n",
    "这时可以用index和columns指定行标签和列名。"
   ]
  },
  {
   "cell_type": "code",
   "execution_count": 81,
   "metadata": {
    "nbpresent": {
     "id": "a1a26c25-dbba-4471-b0c4-3c443434b433"
    },
    "slideshow": {
     "slide_type": "subslide"
    }
   },
   "outputs": [
    {
     "data": {
      "text/html": [
       "<div>\n",
       "<style scoped>\n",
       "    .dataframe tbody tr th:only-of-type {\n",
       "        vertical-align: middle;\n",
       "    }\n",
       "\n",
       "    .dataframe tbody tr th {\n",
       "        vertical-align: top;\n",
       "    }\n",
       "\n",
       "    .dataframe thead th {\n",
       "        text-align: right;\n",
       "    }\n",
       "</style>\n",
       "<table border=\"1\" class=\"dataframe\">\n",
       "  <thead>\n",
       "    <tr style=\"text-align: right;\">\n",
       "      <th></th>\n",
       "      <th>col1</th>\n",
       "      <th>col2</th>\n",
       "      <th>col3</th>\n",
       "      <th>col4</th>\n",
       "    </tr>\n",
       "  </thead>\n",
       "  <tbody>\n",
       "    <tr>\n",
       "      <th>row1</th>\n",
       "      <td>0</td>\n",
       "      <td>1</td>\n",
       "      <td>2</td>\n",
       "      <td>3</td>\n",
       "    </tr>\n",
       "    <tr>\n",
       "      <th>row2</th>\n",
       "      <td>4</td>\n",
       "      <td>5</td>\n",
       "      <td>6</td>\n",
       "      <td>7</td>\n",
       "    </tr>\n",
       "    <tr>\n",
       "      <th>row3</th>\n",
       "      <td>8</td>\n",
       "      <td>9</td>\n",
       "      <td>10</td>\n",
       "      <td>11</td>\n",
       "    </tr>\n",
       "    <tr>\n",
       "      <th>row4</th>\n",
       "      <td>12</td>\n",
       "      <td>13</td>\n",
       "      <td>14</td>\n",
       "      <td>15</td>\n",
       "    </tr>\n",
       "    <tr>\n",
       "      <th>row5</th>\n",
       "      <td>16</td>\n",
       "      <td>17</td>\n",
       "      <td>18</td>\n",
       "      <td>19</td>\n",
       "    </tr>\n",
       "    <tr>\n",
       "      <th>row6</th>\n",
       "      <td>20</td>\n",
       "      <td>21</td>\n",
       "      <td>22</td>\n",
       "      <td>23</td>\n",
       "    </tr>\n",
       "  </tbody>\n",
       "</table>\n",
       "</div>"
      ],
      "text/plain": [
       "      col1  col2  col3  col4\n",
       "row1     0     1     2     3\n",
       "row2     4     5     6     7\n",
       "row3     8     9    10    11\n",
       "row4    12    13    14    15\n",
       "row5    16    17    18    19\n",
       "row6    20    21    22    23"
      ]
     },
     "execution_count": 81,
     "metadata": {},
     "output_type": "execute_result"
    }
   ],
   "source": [
    "data02=np.arange(24).reshape((6,4))\n",
    "df02=DataFrame(\n",
    "    data02,\n",
    "    index=['row1','row2','row3','row4','row5','row6'],\n",
    "    columns=['col1','col2','col3','col4']\n",
    "    )\n",
    "df02"
   ]
  },
  {
   "cell_type": "code",
   "execution_count": 82,
   "metadata": {
    "nbpresent": {
     "id": "b94afd9e-8564-46d1-8cf9-054efd24a9e7"
    },
    "slideshow": {
     "slide_type": "subslide"
    }
   },
   "outputs": [
    {
     "data": {
      "text/html": [
       "<div>\n",
       "<style scoped>\n",
       "    .dataframe tbody tr th:only-of-type {\n",
       "        vertical-align: middle;\n",
       "    }\n",
       "\n",
       "    .dataframe tbody tr th {\n",
       "        vertical-align: top;\n",
       "    }\n",
       "\n",
       "    .dataframe thead th {\n",
       "        text-align: right;\n",
       "    }\n",
       "</style>\n",
       "<table border=\"1\" class=\"dataframe\">\n",
       "  <thead>\n",
       "    <tr style=\"text-align: right;\">\n",
       "      <th></th>\n",
       "      <th>0</th>\n",
       "      <th>1</th>\n",
       "      <th>2</th>\n",
       "      <th>3</th>\n",
       "    </tr>\n",
       "  </thead>\n",
       "  <tbody>\n",
       "    <tr>\n",
       "      <th>0</th>\n",
       "      <td>0.883893</td>\n",
       "      <td>0.195865</td>\n",
       "      <td>0.357537</td>\n",
       "      <td>-2.343262</td>\n",
       "    </tr>\n",
       "    <tr>\n",
       "      <th>1</th>\n",
       "      <td>-1.084833</td>\n",
       "      <td>0.559696</td>\n",
       "      <td>0.939469</td>\n",
       "      <td>-0.978481</td>\n",
       "    </tr>\n",
       "    <tr>\n",
       "      <th>2</th>\n",
       "      <td>0.503097</td>\n",
       "      <td>0.406414</td>\n",
       "      <td>0.323461</td>\n",
       "      <td>-0.493411</td>\n",
       "    </tr>\n",
       "    <tr>\n",
       "      <th>3</th>\n",
       "      <td>-0.792017</td>\n",
       "      <td>-0.842368</td>\n",
       "      <td>-1.279503</td>\n",
       "      <td>0.245715</td>\n",
       "    </tr>\n",
       "    <tr>\n",
       "      <th>4</th>\n",
       "      <td>-0.044195</td>\n",
       "      <td>1.567633</td>\n",
       "      <td>1.051109</td>\n",
       "      <td>0.406368</td>\n",
       "    </tr>\n",
       "    <tr>\n",
       "      <th>5</th>\n",
       "      <td>-0.168646</td>\n",
       "      <td>-3.189703</td>\n",
       "      <td>1.120132</td>\n",
       "      <td>1.332778</td>\n",
       "    </tr>\n",
       "  </tbody>\n",
       "</table>\n",
       "</div>"
      ],
      "text/plain": [
       "          0         1         2         3\n",
       "0  0.883893  0.195865  0.357537 -2.343262\n",
       "1 -1.084833  0.559696  0.939469 -0.978481\n",
       "2  0.503097  0.406414  0.323461 -0.493411\n",
       "3 -0.792017 -0.842368 -1.279503  0.245715\n",
       "4 -0.044195  1.567633  1.051109  0.406368\n",
       "5 -0.168646 -3.189703  1.120132  1.332778"
      ]
     },
     "execution_count": 82,
     "metadata": {},
     "output_type": "execute_result"
    }
   ],
   "source": [
    "np.random.seed(20)\n",
    "\n",
    "data03=np.random.normal(size=24).reshape((6,4))\n",
    "df03=DataFrame(data03)\n",
    "df03"
   ]
  },
  {
   "cell_type": "markdown",
   "metadata": {
    "nbpresent": {
     "id": "2877765d-22ad-4281-b8a0-c3b1142e611a"
    },
    "slideshow": {
     "slide_type": "subslide"
    }
   },
   "source": [
    "以上的例子展示了如何生成规则序列和随机序列。试试看，如何生成其他分布的随机矩阵。\n",
    "\n",
    "* np.random包含大量随机数函数，包括随机抽样、排列、随机数生成。"
   ]
  },
  {
   "cell_type": "markdown",
   "metadata": {
    "nbpresent": {
     "id": "7772b1a8-f5bb-4405-bf27-0625c89536dc"
    },
    "slideshow": {
     "slide_type": "subslide"
    }
   },
   "source": [
    "一些最常用的随机数\n",
    "* rand(d0,d1,...,dn) 产生均匀分布随机数\n",
    "* randn(d0,d1,...,,dn) 产生标准正态分布随机数\n",
    "* randint(low[,high,size]) 产生随机整数，在区间[low,high)\n",
    "* random([size]) 与rand作用相同，只是参数传递方式不同"
   ]
  },
  {
   "cell_type": "markdown",
   "metadata": {
    "nbpresent": {
     "id": "32903955-1676-4a3d-9010-91218e34499e"
    },
    "slideshow": {
     "slide_type": "subslide"
    }
   },
   "source": [
    "常用的一些分布\n",
    "* beta(a,b[,size])\n",
    "* binomial(n,p[,size])\n",
    "* exponential([scale,size])\n",
    "* gamma(shape[,scale,size])\n",
    "* logistic([loc,scale,size])\n",
    "* normal([loc,scale,size])"
   ]
  },
  {
   "cell_type": "markdown",
   "metadata": {
    "nbpresent": {
     "id": "6fab7c1c-a11c-4663-b33d-bdfaa261285e"
    },
    "slideshow": {
     "slide_type": "subslide"
    }
   },
   "source": [
    "__方式3：使用其他DataFrame对象来创建。__\n",
    "\n",
    "__方式4：从数据文件或数据库中读取数据生成DataFrame对象。__"
   ]
  },
  {
   "cell_type": "code",
   "execution_count": 83,
   "metadata": {
    "nbpresent": {
     "id": "9b56c23d-fd16-4e07-a9de-c51342129c00"
    },
    "slideshow": {
     "slide_type": "subslide"
    }
   },
   "outputs": [
    {
     "data": {
      "text/html": [
       "<div>\n",
       "<style scoped>\n",
       "    .dataframe tbody tr th:only-of-type {\n",
       "        vertical-align: middle;\n",
       "    }\n",
       "\n",
       "    .dataframe tbody tr th {\n",
       "        vertical-align: top;\n",
       "    }\n",
       "\n",
       "    .dataframe thead th {\n",
       "        text-align: right;\n",
       "    }\n",
       "</style>\n",
       "<table border=\"1\" class=\"dataframe\">\n",
       "  <thead>\n",
       "    <tr style=\"text-align: right;\">\n",
       "      <th></th>\n",
       "      <th>col1</th>\n",
       "      <th>col4</th>\n",
       "      <th>2</th>\n",
       "    </tr>\n",
       "  </thead>\n",
       "  <tbody>\n",
       "    <tr>\n",
       "      <th>row1</th>\n",
       "      <td>0</td>\n",
       "      <td>3</td>\n",
       "      <td>NaN</td>\n",
       "    </tr>\n",
       "    <tr>\n",
       "      <th>row2</th>\n",
       "      <td>4</td>\n",
       "      <td>7</td>\n",
       "      <td>NaN</td>\n",
       "    </tr>\n",
       "    <tr>\n",
       "      <th>row3</th>\n",
       "      <td>8</td>\n",
       "      <td>11</td>\n",
       "      <td>NaN</td>\n",
       "    </tr>\n",
       "    <tr>\n",
       "      <th>row4</th>\n",
       "      <td>12</td>\n",
       "      <td>15</td>\n",
       "      <td>NaN</td>\n",
       "    </tr>\n",
       "    <tr>\n",
       "      <th>row5</th>\n",
       "      <td>16</td>\n",
       "      <td>19</td>\n",
       "      <td>NaN</td>\n",
       "    </tr>\n",
       "    <tr>\n",
       "      <th>row6</th>\n",
       "      <td>20</td>\n",
       "      <td>23</td>\n",
       "      <td>NaN</td>\n",
       "    </tr>\n",
       "  </tbody>\n",
       "</table>\n",
       "</div>"
      ],
      "text/plain": [
       "      col1  col4   2\n",
       "row1     0     3 NaN\n",
       "row2     4     7 NaN\n",
       "row3     8    11 NaN\n",
       "row4    12    15 NaN\n",
       "row5    16    19 NaN\n",
       "row6    20    23 NaN"
      ]
     },
     "execution_count": 83,
     "metadata": {},
     "output_type": "execute_result"
    }
   ],
   "source": [
    "df04=DataFrame(data=df02,columns=['col1','col4', 2])\n",
    "df04"
   ]
  },
  {
   "cell_type": "markdown",
   "metadata": {
    "nbpresent": {
     "id": "d6c0dacd-2ac7-4bd4-9287-1f0f6a0fdac1"
    },
    "slideshow": {
     "slide_type": "subslide"
    }
   },
   "source": [
    "可以发现，DataFrame对象本身就是二维表的结构，因此很多的数据读写操作都采用DataFrame作为数据存储的结构。例如，常见的csv文件和excel文件都可以采用DataFrame进行读入。"
   ]
  },
  {
   "cell_type": "code",
   "execution_count": 84,
   "metadata": {
    "slideshow": {
     "slide_type": "subslide"
    }
   },
   "outputs": [
    {
     "data": {
      "text/html": [
       "<div>\n",
       "<style scoped>\n",
       "    .dataframe tbody tr th:only-of-type {\n",
       "        vertical-align: middle;\n",
       "    }\n",
       "\n",
       "    .dataframe tbody tr th {\n",
       "        vertical-align: top;\n",
       "    }\n",
       "\n",
       "    .dataframe thead th {\n",
       "        text-align: right;\n",
       "    }\n",
       "</style>\n",
       "<table border=\"1\" class=\"dataframe\">\n",
       "  <thead>\n",
       "    <tr style=\"text-align: right;\">\n",
       "      <th></th>\n",
       "      <th>name</th>\n",
       "      <th>sex</th>\n",
       "      <th>births</th>\n",
       "    </tr>\n",
       "  </thead>\n",
       "  <tbody>\n",
       "    <tr>\n",
       "      <th>0</th>\n",
       "      <td>Isabella</td>\n",
       "      <td>F</td>\n",
       "      <td>15156</td>\n",
       "    </tr>\n",
       "    <tr>\n",
       "      <th>1</th>\n",
       "      <td>Hannah</td>\n",
       "      <td>F</td>\n",
       "      <td>14828</td>\n",
       "    </tr>\n",
       "    <tr>\n",
       "      <th>2</th>\n",
       "      <td>Samantha</td>\n",
       "      <td>F</td>\n",
       "      <td>13628</td>\n",
       "    </tr>\n",
       "    <tr>\n",
       "      <th>3</th>\n",
       "      <td>Ava</td>\n",
       "      <td>F</td>\n",
       "      <td>13594</td>\n",
       "    </tr>\n",
       "    <tr>\n",
       "      <th>4</th>\n",
       "      <td>Ashley</td>\n",
       "      <td>F</td>\n",
       "      <td>13262</td>\n",
       "    </tr>\n",
       "  </tbody>\n",
       "</table>\n",
       "</div>"
      ],
      "text/plain": [
       "       name sex  births\n",
       "0  Isabella   F   15156\n",
       "1    Hannah   F   14828\n",
       "2  Samantha   F   13628\n",
       "3       Ava   F   13594\n",
       "4    Ashley   F   13262"
      ]
     },
     "execution_count": 84,
     "metadata": {},
     "output_type": "execute_result"
    }
   ],
   "source": [
    "# 先将names.zip解压到当前目录下names文件夹中\n",
    "babynames=pd.read_csv('./names/yob2005.txt',names=['name','sex','births'], skiprows=5) # 有的时候可能前几行是注释，所以有一skip的方法\n",
    "babynames.head()"
   ]
  },
  {
   "cell_type": "markdown",
   "metadata": {
    "slideshow": {
     "slide_type": "subslide"
    }
   },
   "source": [
    "### 练习\n",
    "试着用各种办法创建Series对象和DataFrame对象"
   ]
  },
  {
   "cell_type": "code",
   "execution_count": 85,
   "metadata": {
    "slideshow": {
     "slide_type": "fragment"
    }
   },
   "outputs": [
    {
     "name": "stdout",
     "output_type": "stream",
     "text": [
      "全零的 Series 对象：\n",
      "a    0\n",
      "b    0\n",
      "c    0\n",
      "d    0\n",
      "e    0\n",
      "dtype: int64\n",
      "a    0\n",
      "b    0\n",
      "c    0\n",
      "d    0\n",
      "e    0\n",
      "dtype: int64\n"
     ]
    }
   ],
   "source": [
    "# 创建一个全零的Series对象，索引为['a', 'b', 'c', 'd', 'e']\n",
    "# 创建一个全1的DataFrame对象，索引为['a', 'b', 'c', 'd', 'e'],列名为['good', 'average', 'bad']\n",
    "import pandas as pd\n",
    "\n",
    "# 方法1：使用构造函数创建\n",
    "s1 = pd.Series(0, index=['a', 'b', 'c', 'd', 'e'])\n",
    "\n",
    "# 方法2：使用字典创建\n",
    "s2 = pd.Series({key: 0 for key in ['a', 'b', 'c', 'd', 'e']})\n",
    "\n",
    "print(\"全零的 Series 对象：\")\n",
    "print(s1)\n",
    "print(s2)\n"
   ]
  },
  {
   "cell_type": "code",
   "execution_count": null,
   "metadata": {},
   "outputs": [],
   "source": []
  },
  {
   "cell_type": "markdown",
   "metadata": {
    "nbpresent": {
     "id": "6609881b-85d4-4522-94c3-9f0d151a27d2"
    },
    "slideshow": {
     "slide_type": "slide"
    }
   },
   "source": [
    "## 8.2 查看数据属性\n",
    "\n",
    "* 查看基本信息，使用info()函数\n",
    "\n",
    "* 查看记录的条数，使用len()函数\n",
    "\n",
    "* 查看行索引，使用 index 属性\n",
    "\n",
    "* 查看列名，使用 columns 属性\n",
    "\n",
    "* 查看DataFrame对象中的值，使用 values 属性或to_numpy()方法（推荐后者）"
   ]
  },
  {
   "cell_type": "code",
   "execution_count": 86,
   "metadata": {
    "slideshow": {
     "slide_type": "subslide"
    }
   },
   "outputs": [
    {
     "name": "stdout",
     "output_type": "stream",
     "text": [
      "<class 'pandas.core.frame.DataFrame'>\n",
      "Index: 5 entries, john to clark\n",
      "Data columns (total 3 columns):\n",
      " #   Column  Non-Null Count  Dtype \n",
      "---  ------  --------------  ----- \n",
      " 0   age     5 non-null      int64 \n",
      " 1   sex     5 non-null      object\n",
      " 2   score   5 non-null      int64 \n",
      "dtypes: int64(2), object(1)\n",
      "memory usage: 160.0+ bytes\n"
     ]
    },
    {
     "data": {
      "text/plain": [
       "(None,\n",
       "        age sex  score\n",
       " john    18   m    120\n",
       " mike    22   m    100\n",
       " alice   43   f     95\n",
       " lane    64   f    134\n",
       " clark   19   m    140,\n",
       " Index(['age', 'sex', 'score'], dtype='object'),\n",
       " Index(['john', 'mike', 'alice', 'lane', 'clark'], dtype='object'))"
      ]
     },
     "execution_count": 86,
     "metadata": {},
     "output_type": "execute_result"
    }
   ],
   "source": [
    "df01.info(), df01.head(), df01.columns, df01.index"
   ]
  },
  {
   "cell_type": "code",
   "execution_count": 87,
   "metadata": {},
   "outputs": [
    {
     "data": {
      "text/plain": [
       "sex\n",
       "m    3\n",
       "f    2\n",
       "Name: count, dtype: int64"
      ]
     },
     "execution_count": 87,
     "metadata": {},
     "output_type": "execute_result"
    }
   ],
   "source": [
    "df01['sex'].value_counts()"
   ]
  },
  {
   "cell_type": "code",
   "execution_count": 88,
   "metadata": {
    "nbpresent": {
     "id": "8e15ab2c-be59-4fd5-833c-10d66f4461ff"
    },
    "slideshow": {
     "slide_type": "subslide"
    }
   },
   "outputs": [
    {
     "data": {
      "text/plain": [
       "5"
      ]
     },
     "execution_count": 88,
     "metadata": {},
     "output_type": "execute_result"
    }
   ],
   "source": [
    "len(df01)"
   ]
  },
  {
   "cell_type": "code",
   "execution_count": 89,
   "metadata": {
    "nbpresent": {
     "id": "4195da64-87e9-4e34-bd17-2ffeb981cdb7"
    },
    "slideshow": {
     "slide_type": "fragment"
    }
   },
   "outputs": [
    {
     "data": {
      "text/plain": [
       "Index(['john', 'mike', 'alice', 'lane', 'clark'], dtype='object')"
      ]
     },
     "execution_count": 89,
     "metadata": {},
     "output_type": "execute_result"
    }
   ],
   "source": [
    "df01.index"
   ]
  },
  {
   "cell_type": "code",
   "execution_count": 90,
   "metadata": {
    "nbpresent": {
     "id": "f773c535-4ce7-47ef-9050-40c73d464193"
    },
    "slideshow": {
     "slide_type": "subslide"
    }
   },
   "outputs": [
    {
     "data": {
      "text/plain": [
       "Index(['age', 'sex', 'score'], dtype='object')"
      ]
     },
     "execution_count": 90,
     "metadata": {},
     "output_type": "execute_result"
    }
   ],
   "source": [
    "df01.columns"
   ]
  },
  {
   "cell_type": "code",
   "execution_count": 91,
   "metadata": {
    "nbpresent": {
     "id": "f7b9ee78-c173-4ad3-9ae9-4aa3384cbc86"
    },
    "slideshow": {
     "slide_type": "subslide"
    }
   },
   "outputs": [
    {
     "data": {
      "text/plain": [
       "array([[18, 'm', 120],\n",
       "       [22, 'm', 100],\n",
       "       [43, 'f', 95],\n",
       "       [64, 'f', 134],\n",
       "       [19, 'm', 140]], dtype=object)"
      ]
     },
     "execution_count": 91,
     "metadata": {},
     "output_type": "execute_result"
    }
   ],
   "source": [
    "# 有两种方式可以返回DataFrame中的值\n",
    "# 一种是访问df对象的values属性（官方已经不推荐这种方式）\n",
    "df01.values  # 注意返回值类型"
   ]
  },
  {
   "cell_type": "code",
   "execution_count": 92,
   "metadata": {
    "slideshow": {
     "slide_type": "subslide"
    }
   },
   "outputs": [
    {
     "data": {
      "text/plain": [
       "array([[18, 'm', 120],\n",
       "       [22, 'm', 100],\n",
       "       [43, 'f', 95],\n",
       "       [64, 'f', 134],\n",
       "       [19, 'm', 140]], dtype=object)"
      ]
     },
     "execution_count": 92,
     "metadata": {},
     "output_type": "execute_result"
    }
   ],
   "source": [
    "df01.to_numpy()  # 这种方式更好，现在官方推荐的方式\n",
    "\n",
    "# 上下的结果相似，但是尽量使用下方的，转换效率更高"
   ]
  },
  {
   "cell_type": "markdown",
   "metadata": {
    "collapsed": true,
    "nbpresent": {
     "id": "8fd9ab7d-100d-4d83-b860-991bc9d61811"
    },
    "slideshow": {
     "slide_type": "subslide"
    }
   },
   "source": [
    "查看DataFrame每一列的数据类型,使用dtypes属性。\n",
    "\n",
    "注意到dtypes就是numpy里面的数据类型。\n"
   ]
  },
  {
   "cell_type": "code",
   "execution_count": 93,
   "metadata": {
    "nbpresent": {
     "id": "05de8931-8328-46ef-a417-1b3aeae22bbc"
    },
    "slideshow": {
     "slide_type": "fragment"
    }
   },
   "outputs": [
    {
     "data": {
      "text/plain": [
       "age       int64\n",
       "sex      object\n",
       "score     int64\n",
       "dtype: object"
      ]
     },
     "execution_count": 93,
     "metadata": {},
     "output_type": "execute_result"
    }
   ],
   "source": [
    "df01.dtypes"
   ]
  },
  {
   "cell_type": "markdown",
   "metadata": {
    "nbpresent": {
     "id": "785e94f0-4a35-4608-a5cc-0694348eae05"
    },
    "slideshow": {
     "slide_type": "slide"
    }
   },
   "source": [
    "## 查看数据内容\n",
    "\n",
    "查看DataFrame对象的前后几行分别用head(n),tail(n)\n",
    "\n",
    "特别实际操作过程中，数据行数可能非常多，每次查看数据的时候要养成先使用head()和tail()的习惯。"
   ]
  },
  {
   "cell_type": "code",
   "execution_count": 94,
   "metadata": {
    "nbpresent": {
     "id": "03a3e9c3-5f3e-4c42-81ea-43901f3f1cd6"
    },
    "slideshow": {
     "slide_type": "subslide"
    }
   },
   "outputs": [
    {
     "data": {
      "text/html": [
       "<div>\n",
       "<style scoped>\n",
       "    .dataframe tbody tr th:only-of-type {\n",
       "        vertical-align: middle;\n",
       "    }\n",
       "\n",
       "    .dataframe tbody tr th {\n",
       "        vertical-align: top;\n",
       "    }\n",
       "\n",
       "    .dataframe thead th {\n",
       "        text-align: right;\n",
       "    }\n",
       "</style>\n",
       "<table border=\"1\" class=\"dataframe\">\n",
       "  <thead>\n",
       "    <tr style=\"text-align: right;\">\n",
       "      <th></th>\n",
       "      <th>age</th>\n",
       "      <th>sex</th>\n",
       "      <th>score</th>\n",
       "    </tr>\n",
       "  </thead>\n",
       "  <tbody>\n",
       "    <tr>\n",
       "      <th>john</th>\n",
       "      <td>18</td>\n",
       "      <td>m</td>\n",
       "      <td>120</td>\n",
       "    </tr>\n",
       "    <tr>\n",
       "      <th>mike</th>\n",
       "      <td>22</td>\n",
       "      <td>m</td>\n",
       "      <td>100</td>\n",
       "    </tr>\n",
       "    <tr>\n",
       "      <th>alice</th>\n",
       "      <td>43</td>\n",
       "      <td>f</td>\n",
       "      <td>95</td>\n",
       "    </tr>\n",
       "  </tbody>\n",
       "</table>\n",
       "</div>"
      ],
      "text/plain": [
       "       age sex  score\n",
       "john    18   m    120\n",
       "mike    22   m    100\n",
       "alice   43   f     95"
      ]
     },
     "execution_count": 94,
     "metadata": {},
     "output_type": "execute_result"
    }
   ],
   "source": [
    "df01.head(3)  # 默认前5行"
   ]
  },
  {
   "cell_type": "code",
   "execution_count": 95,
   "metadata": {
    "nbpresent": {
     "id": "8727624b-4dda-42e3-8ce0-4edfd9715f1f"
    },
    "slideshow": {
     "slide_type": "subslide"
    }
   },
   "outputs": [
    {
     "data": {
      "text/html": [
       "<div>\n",
       "<style scoped>\n",
       "    .dataframe tbody tr th:only-of-type {\n",
       "        vertical-align: middle;\n",
       "    }\n",
       "\n",
       "    .dataframe tbody tr th {\n",
       "        vertical-align: top;\n",
       "    }\n",
       "\n",
       "    .dataframe thead th {\n",
       "        text-align: right;\n",
       "    }\n",
       "</style>\n",
       "<table border=\"1\" class=\"dataframe\">\n",
       "  <thead>\n",
       "    <tr style=\"text-align: right;\">\n",
       "      <th></th>\n",
       "      <th>age</th>\n",
       "      <th>sex</th>\n",
       "      <th>score</th>\n",
       "    </tr>\n",
       "  </thead>\n",
       "  <tbody>\n",
       "    <tr>\n",
       "      <th>lane</th>\n",
       "      <td>64</td>\n",
       "      <td>f</td>\n",
       "      <td>134</td>\n",
       "    </tr>\n",
       "    <tr>\n",
       "      <th>clark</th>\n",
       "      <td>19</td>\n",
       "      <td>m</td>\n",
       "      <td>140</td>\n",
       "    </tr>\n",
       "  </tbody>\n",
       "</table>\n",
       "</div>"
      ],
      "text/plain": [
       "       age sex  score\n",
       "lane    64   f    134\n",
       "clark   19   m    140"
      ]
     },
     "execution_count": 95,
     "metadata": {},
     "output_type": "execute_result"
    }
   ],
   "source": [
    "df01.tail(2)"
   ]
  },
  {
   "cell_type": "markdown",
   "metadata": {
    "nbpresent": {
     "id": "520d004f-30d6-4638-a291-e7888c0f9262"
    },
    "slideshow": {
     "slide_type": "subslide"
    }
   },
   "source": [
    "描述统计 -- describe\n"
   ]
  },
  {
   "cell_type": "code",
   "execution_count": 96,
   "metadata": {
    "nbpresent": {
     "id": "29029548-e2c7-4a7b-b5a4-2c668aad1d38"
    },
    "slideshow": {
     "slide_type": "subslide"
    }
   },
   "outputs": [
    {
     "data": {
      "text/html": [
       "<div>\n",
       "<style scoped>\n",
       "    .dataframe tbody tr th:only-of-type {\n",
       "        vertical-align: middle;\n",
       "    }\n",
       "\n",
       "    .dataframe tbody tr th {\n",
       "        vertical-align: top;\n",
       "    }\n",
       "\n",
       "    .dataframe thead th {\n",
       "        text-align: right;\n",
       "    }\n",
       "</style>\n",
       "<table border=\"1\" class=\"dataframe\">\n",
       "  <thead>\n",
       "    <tr style=\"text-align: right;\">\n",
       "      <th></th>\n",
       "      <th>age</th>\n",
       "      <th>score</th>\n",
       "    </tr>\n",
       "  </thead>\n",
       "  <tbody>\n",
       "    <tr>\n",
       "      <th>count</th>\n",
       "      <td>5.000000</td>\n",
       "      <td>5.00000</td>\n",
       "    </tr>\n",
       "    <tr>\n",
       "      <th>mean</th>\n",
       "      <td>33.200000</td>\n",
       "      <td>117.80000</td>\n",
       "    </tr>\n",
       "    <tr>\n",
       "      <th>std</th>\n",
       "      <td>20.017492</td>\n",
       "      <td>19.97999</td>\n",
       "    </tr>\n",
       "    <tr>\n",
       "      <th>min</th>\n",
       "      <td>18.000000</td>\n",
       "      <td>95.00000</td>\n",
       "    </tr>\n",
       "    <tr>\n",
       "      <th>25%</th>\n",
       "      <td>19.000000</td>\n",
       "      <td>100.00000</td>\n",
       "    </tr>\n",
       "    <tr>\n",
       "      <th>50%</th>\n",
       "      <td>22.000000</td>\n",
       "      <td>120.00000</td>\n",
       "    </tr>\n",
       "    <tr>\n",
       "      <th>75%</th>\n",
       "      <td>43.000000</td>\n",
       "      <td>134.00000</td>\n",
       "    </tr>\n",
       "    <tr>\n",
       "      <th>max</th>\n",
       "      <td>64.000000</td>\n",
       "      <td>140.00000</td>\n",
       "    </tr>\n",
       "  </tbody>\n",
       "</table>\n",
       "</div>"
      ],
      "text/plain": [
       "             age      score\n",
       "count   5.000000    5.00000\n",
       "mean   33.200000  117.80000\n",
       "std    20.017492   19.97999\n",
       "min    18.000000   95.00000\n",
       "25%    19.000000  100.00000\n",
       "50%    22.000000  120.00000\n",
       "75%    43.000000  134.00000\n",
       "max    64.000000  140.00000"
      ]
     },
     "execution_count": 96,
     "metadata": {},
     "output_type": "execute_result"
    }
   ],
   "source": [
    "desc = df01.describe()\n",
    "desc"
   ]
  },
  {
   "cell_type": "markdown",
   "metadata": {
    "slideshow": {
     "slide_type": "subslide"
    }
   },
   "source": [
    "思考一下，describe()得到的是什么类型的数据？怎么知道它的类型是什么，如何只取出其50%分位点的数值？"
   ]
  },
  {
   "cell_type": "code",
   "execution_count": 97,
   "metadata": {
    "slideshow": {
     "slide_type": "subslide"
    }
   },
   "outputs": [
    {
     "data": {
      "text/plain": [
       "pandas.core.frame.DataFrame"
      ]
     },
     "execution_count": 97,
     "metadata": {},
     "output_type": "execute_result"
    }
   ],
   "source": [
    "type(desc)"
   ]
  },
  {
   "cell_type": "code",
   "execution_count": 98,
   "metadata": {
    "slideshow": {
     "slide_type": "fragment"
    }
   },
   "outputs": [
    {
     "data": {
      "text/plain": [
       "age       22.0\n",
       "score    120.0\n",
       "Name: 50%, dtype: float64"
      ]
     },
     "execution_count": 98,
     "metadata": {},
     "output_type": "execute_result"
    }
   ],
   "source": [
    "# 取出50%分位点的数值\n",
    "desc.loc['50%']"
   ]
  },
  {
   "cell_type": "markdown",
   "metadata": {
    "nbpresent": {
     "id": "b4b281ac-6b21-47a3-ac65-e2d72887c475"
    },
    "slideshow": {
     "slide_type": "slide"
    }
   },
   "source": [
    "排序查看。\n",
    "\n",
    "* 对轴进行排序。sort_index(axis,ascending)方法。\n",
    "\n",
    "axis=0  按行的标签进行排序，也可以使用axis = 'index'\n",
    "\n",
    "axis=1  按列的标签进行排序，也可以使用axis = 'columns'"
   ]
  },
  {
   "cell_type": "code",
   "execution_count": 99,
   "metadata": {
    "nbpresent": {
     "id": "30b0fd11-df66-425a-bf32-8f7594f78114"
    },
    "slideshow": {
     "slide_type": "subslide"
    }
   },
   "outputs": [
    {
     "data": {
      "text/html": [
       "<div>\n",
       "<style scoped>\n",
       "    .dataframe tbody tr th:only-of-type {\n",
       "        vertical-align: middle;\n",
       "    }\n",
       "\n",
       "    .dataframe tbody tr th {\n",
       "        vertical-align: top;\n",
       "    }\n",
       "\n",
       "    .dataframe thead th {\n",
       "        text-align: right;\n",
       "    }\n",
       "</style>\n",
       "<table border=\"1\" class=\"dataframe\">\n",
       "  <thead>\n",
       "    <tr style=\"text-align: right;\">\n",
       "      <th></th>\n",
       "      <th>age</th>\n",
       "      <th>score</th>\n",
       "      <th>sex</th>\n",
       "    </tr>\n",
       "  </thead>\n",
       "  <tbody>\n",
       "    <tr>\n",
       "      <th>john</th>\n",
       "      <td>18</td>\n",
       "      <td>120</td>\n",
       "      <td>m</td>\n",
       "    </tr>\n",
       "    <tr>\n",
       "      <th>mike</th>\n",
       "      <td>22</td>\n",
       "      <td>100</td>\n",
       "      <td>m</td>\n",
       "    </tr>\n",
       "    <tr>\n",
       "      <th>alice</th>\n",
       "      <td>43</td>\n",
       "      <td>95</td>\n",
       "      <td>f</td>\n",
       "    </tr>\n",
       "    <tr>\n",
       "      <th>lane</th>\n",
       "      <td>64</td>\n",
       "      <td>134</td>\n",
       "      <td>f</td>\n",
       "    </tr>\n",
       "    <tr>\n",
       "      <th>clark</th>\n",
       "      <td>19</td>\n",
       "      <td>140</td>\n",
       "      <td>m</td>\n",
       "    </tr>\n",
       "  </tbody>\n",
       "</table>\n",
       "</div>"
      ],
      "text/plain": [
       "       age  score sex\n",
       "john    18    120   m\n",
       "mike    22    100   m\n",
       "alice   43     95   f\n",
       "lane    64    134   f\n",
       "clark   19    140   m"
      ]
     },
     "execution_count": 99,
     "metadata": {},
     "output_type": "execute_result"
    }
   ],
   "source": [
    "df01.sort_index(axis = 1)  # 得到一个新的表，原表未改变"
   ]
  },
  {
   "cell_type": "code",
   "execution_count": 100,
   "metadata": {
    "slideshow": {
     "slide_type": "subslide"
    }
   },
   "outputs": [
    {
     "data": {
      "text/html": [
       "<div>\n",
       "<style scoped>\n",
       "    .dataframe tbody tr th:only-of-type {\n",
       "        vertical-align: middle;\n",
       "    }\n",
       "\n",
       "    .dataframe tbody tr th {\n",
       "        vertical-align: top;\n",
       "    }\n",
       "\n",
       "    .dataframe thead th {\n",
       "        text-align: right;\n",
       "    }\n",
       "</style>\n",
       "<table border=\"1\" class=\"dataframe\">\n",
       "  <thead>\n",
       "    <tr style=\"text-align: right;\">\n",
       "      <th></th>\n",
       "      <th>age</th>\n",
       "      <th>sex</th>\n",
       "      <th>score</th>\n",
       "    </tr>\n",
       "  </thead>\n",
       "  <tbody>\n",
       "    <tr>\n",
       "      <th>john</th>\n",
       "      <td>18</td>\n",
       "      <td>m</td>\n",
       "      <td>120</td>\n",
       "    </tr>\n",
       "    <tr>\n",
       "      <th>mike</th>\n",
       "      <td>22</td>\n",
       "      <td>m</td>\n",
       "      <td>100</td>\n",
       "    </tr>\n",
       "    <tr>\n",
       "      <th>alice</th>\n",
       "      <td>43</td>\n",
       "      <td>f</td>\n",
       "      <td>95</td>\n",
       "    </tr>\n",
       "    <tr>\n",
       "      <th>lane</th>\n",
       "      <td>64</td>\n",
       "      <td>f</td>\n",
       "      <td>134</td>\n",
       "    </tr>\n",
       "    <tr>\n",
       "      <th>clark</th>\n",
       "      <td>19</td>\n",
       "      <td>m</td>\n",
       "      <td>140</td>\n",
       "    </tr>\n",
       "  </tbody>\n",
       "</table>\n",
       "</div>"
      ],
      "text/plain": [
       "       age sex  score\n",
       "john    18   m    120\n",
       "mike    22   m    100\n",
       "alice   43   f     95\n",
       "lane    64   f    134\n",
       "clark   19   m    140"
      ]
     },
     "execution_count": 100,
     "metadata": {},
     "output_type": "execute_result"
    }
   ],
   "source": [
    "df01  # 原表顺序未改变"
   ]
  },
  {
   "cell_type": "code",
   "execution_count": 101,
   "metadata": {
    "nbpresent": {
     "id": "33328a49-40d5-4a69-b902-c768828a0b09"
    },
    "slideshow": {
     "slide_type": "subslide"
    }
   },
   "outputs": [
    {
     "data": {
      "text/html": [
       "<div>\n",
       "<style scoped>\n",
       "    .dataframe tbody tr th:only-of-type {\n",
       "        vertical-align: middle;\n",
       "    }\n",
       "\n",
       "    .dataframe tbody tr th {\n",
       "        vertical-align: top;\n",
       "    }\n",
       "\n",
       "    .dataframe thead th {\n",
       "        text-align: right;\n",
       "    }\n",
       "</style>\n",
       "<table border=\"1\" class=\"dataframe\">\n",
       "  <thead>\n",
       "    <tr style=\"text-align: right;\">\n",
       "      <th></th>\n",
       "      <th>sex</th>\n",
       "      <th>score</th>\n",
       "      <th>age</th>\n",
       "    </tr>\n",
       "  </thead>\n",
       "  <tbody>\n",
       "    <tr>\n",
       "      <th>john</th>\n",
       "      <td>m</td>\n",
       "      <td>120</td>\n",
       "      <td>18</td>\n",
       "    </tr>\n",
       "    <tr>\n",
       "      <th>mike</th>\n",
       "      <td>m</td>\n",
       "      <td>100</td>\n",
       "      <td>22</td>\n",
       "    </tr>\n",
       "    <tr>\n",
       "      <th>alice</th>\n",
       "      <td>f</td>\n",
       "      <td>95</td>\n",
       "      <td>43</td>\n",
       "    </tr>\n",
       "    <tr>\n",
       "      <th>lane</th>\n",
       "      <td>f</td>\n",
       "      <td>134</td>\n",
       "      <td>64</td>\n",
       "    </tr>\n",
       "    <tr>\n",
       "      <th>clark</th>\n",
       "      <td>m</td>\n",
       "      <td>140</td>\n",
       "      <td>19</td>\n",
       "    </tr>\n",
       "  </tbody>\n",
       "</table>\n",
       "</div>"
      ],
      "text/plain": [
       "      sex  score  age\n",
       "john    m    120   18\n",
       "mike    m    100   22\n",
       "alice   f     95   43\n",
       "lane    f    134   64\n",
       "clark   m    140   19"
      ]
     },
     "execution_count": 101,
     "metadata": {},
     "output_type": "execute_result"
    }
   ],
   "source": [
    "df01.sort_index(axis=1,ascending=False)"
   ]
  },
  {
   "cell_type": "markdown",
   "metadata": {
    "nbpresent": {
     "id": "a253f229-7925-466c-a8a0-beaadacebe64"
    },
    "slideshow": {
     "slide_type": "subslide"
    }
   },
   "source": [
    "* 对DataFrame按照某列的值进行排序。使用by=列名"
   ]
  },
  {
   "cell_type": "code",
   "execution_count": 102,
   "metadata": {
    "nbpresent": {
     "id": "053587f0-885e-4cf6-975a-7d45df178f8f"
    },
    "slideshow": {
     "slide_type": "fragment"
    }
   },
   "outputs": [
    {
     "data": {
      "text/html": [
       "<div>\n",
       "<style scoped>\n",
       "    .dataframe tbody tr th:only-of-type {\n",
       "        vertical-align: middle;\n",
       "    }\n",
       "\n",
       "    .dataframe tbody tr th {\n",
       "        vertical-align: top;\n",
       "    }\n",
       "\n",
       "    .dataframe thead th {\n",
       "        text-align: right;\n",
       "    }\n",
       "</style>\n",
       "<table border=\"1\" class=\"dataframe\">\n",
       "  <thead>\n",
       "    <tr style=\"text-align: right;\">\n",
       "      <th></th>\n",
       "      <th>age</th>\n",
       "      <th>sex</th>\n",
       "      <th>score</th>\n",
       "    </tr>\n",
       "  </thead>\n",
       "  <tbody>\n",
       "    <tr>\n",
       "      <th>john</th>\n",
       "      <td>18</td>\n",
       "      <td>m</td>\n",
       "      <td>120</td>\n",
       "    </tr>\n",
       "    <tr>\n",
       "      <th>clark</th>\n",
       "      <td>19</td>\n",
       "      <td>m</td>\n",
       "      <td>140</td>\n",
       "    </tr>\n",
       "    <tr>\n",
       "      <th>mike</th>\n",
       "      <td>22</td>\n",
       "      <td>m</td>\n",
       "      <td>100</td>\n",
       "    </tr>\n",
       "    <tr>\n",
       "      <th>alice</th>\n",
       "      <td>43</td>\n",
       "      <td>f</td>\n",
       "      <td>95</td>\n",
       "    </tr>\n",
       "    <tr>\n",
       "      <th>lane</th>\n",
       "      <td>64</td>\n",
       "      <td>f</td>\n",
       "      <td>134</td>\n",
       "    </tr>\n",
       "  </tbody>\n",
       "</table>\n",
       "</div>"
      ],
      "text/plain": [
       "       age sex  score\n",
       "john    18   m    120\n",
       "clark   19   m    140\n",
       "mike    22   m    100\n",
       "alice   43   f     95\n",
       "lane    64   f    134"
      ]
     },
     "execution_count": 102,
     "metadata": {},
     "output_type": "execute_result"
    }
   ],
   "source": [
    "df01.sort_values(by='age')"
   ]
  },
  {
   "cell_type": "markdown",
   "metadata": {
    "nbpresent": {
     "id": "0e22120e-94e3-451b-a86e-4ab0baf3bea5"
    },
    "slideshow": {
     "slide_type": "subslide"
    }
   },
   "source": [
    "查看DataFrame的转置"
   ]
  },
  {
   "cell_type": "code",
   "execution_count": 103,
   "metadata": {
    "nbpresent": {
     "id": "6dde5912-2808-40e8-92aa-a7bc364b2151"
    },
    "slideshow": {
     "slide_type": "fragment"
    }
   },
   "outputs": [
    {
     "data": {
      "text/html": [
       "<div>\n",
       "<style scoped>\n",
       "    .dataframe tbody tr th:only-of-type {\n",
       "        vertical-align: middle;\n",
       "    }\n",
       "\n",
       "    .dataframe tbody tr th {\n",
       "        vertical-align: top;\n",
       "    }\n",
       "\n",
       "    .dataframe thead th {\n",
       "        text-align: right;\n",
       "    }\n",
       "</style>\n",
       "<table border=\"1\" class=\"dataframe\">\n",
       "  <thead>\n",
       "    <tr style=\"text-align: right;\">\n",
       "      <th></th>\n",
       "      <th>john</th>\n",
       "      <th>mike</th>\n",
       "      <th>alice</th>\n",
       "      <th>lane</th>\n",
       "      <th>clark</th>\n",
       "    </tr>\n",
       "  </thead>\n",
       "  <tbody>\n",
       "    <tr>\n",
       "      <th>age</th>\n",
       "      <td>18</td>\n",
       "      <td>22</td>\n",
       "      <td>43</td>\n",
       "      <td>64</td>\n",
       "      <td>19</td>\n",
       "    </tr>\n",
       "    <tr>\n",
       "      <th>sex</th>\n",
       "      <td>m</td>\n",
       "      <td>m</td>\n",
       "      <td>f</td>\n",
       "      <td>f</td>\n",
       "      <td>m</td>\n",
       "    </tr>\n",
       "    <tr>\n",
       "      <th>score</th>\n",
       "      <td>120</td>\n",
       "      <td>100</td>\n",
       "      <td>95</td>\n",
       "      <td>134</td>\n",
       "      <td>140</td>\n",
       "    </tr>\n",
       "  </tbody>\n",
       "</table>\n",
       "</div>"
      ],
      "text/plain": [
       "      john mike alice lane clark\n",
       "age     18   22    43   64    19\n",
       "sex      m    m     f    f     m\n",
       "score  120  100    95  134   140"
      ]
     },
     "execution_count": 103,
     "metadata": {},
     "output_type": "execute_result"
    }
   ],
   "source": [
    "df01.T"
   ]
  },
  {
   "cell_type": "markdown",
   "metadata": {
    "slideshow": {
     "slide_type": "subslide"
    }
   },
   "source": [
    "## 挑战：\n",
    "\n",
    "给定一个长度为10的列表s，代表一个连续10天的观测序列，若$s[i] = j$，则代表第$i$天时观测到的状态为$j$（$j\\in \\{'A','B','C'\\}$）,利用这个列表构造一个DataFrame，索引为观测时刻（天），列名为状态。若时刻$i$观测到状态为$j$，则$i$行$j$列的值为1，否则为0。"
   ]
  },
  {
   "cell_type": "code",
   "execution_count": 5,
   "metadata": {
    "slideshow": {
     "slide_type": "fragment"
    }
   },
   "outputs": [
    {
     "data": {
      "text/html": [
       "<div>\n",
       "<style scoped>\n",
       "    .dataframe tbody tr th:only-of-type {\n",
       "        vertical-align: middle;\n",
       "    }\n",
       "\n",
       "    .dataframe tbody tr th {\n",
       "        vertical-align: top;\n",
       "    }\n",
       "\n",
       "    .dataframe thead th {\n",
       "        text-align: right;\n",
       "    }\n",
       "</style>\n",
       "<table border=\"1\" class=\"dataframe\">\n",
       "  <thead>\n",
       "    <tr style=\"text-align: right;\">\n",
       "      <th></th>\n",
       "      <th>A</th>\n",
       "      <th>B</th>\n",
       "      <th>C</th>\n",
       "    </tr>\n",
       "  </thead>\n",
       "  <tbody>\n",
       "    <tr>\n",
       "      <th>1</th>\n",
       "      <td>1</td>\n",
       "      <td>0</td>\n",
       "      <td>0</td>\n",
       "    </tr>\n",
       "    <tr>\n",
       "      <th>2</th>\n",
       "      <td>0</td>\n",
       "      <td>1</td>\n",
       "      <td>0</td>\n",
       "    </tr>\n",
       "    <tr>\n",
       "      <th>3</th>\n",
       "      <td>1</td>\n",
       "      <td>0</td>\n",
       "      <td>0</td>\n",
       "    </tr>\n",
       "    <tr>\n",
       "      <th>4</th>\n",
       "      <td>0</td>\n",
       "      <td>0</td>\n",
       "      <td>1</td>\n",
       "    </tr>\n",
       "    <tr>\n",
       "      <th>5</th>\n",
       "      <td>0</td>\n",
       "      <td>0</td>\n",
       "      <td>1</td>\n",
       "    </tr>\n",
       "    <tr>\n",
       "      <th>6</th>\n",
       "      <td>0</td>\n",
       "      <td>1</td>\n",
       "      <td>0</td>\n",
       "    </tr>\n",
       "    <tr>\n",
       "      <th>7</th>\n",
       "      <td>0</td>\n",
       "      <td>1</td>\n",
       "      <td>0</td>\n",
       "    </tr>\n",
       "    <tr>\n",
       "      <th>8</th>\n",
       "      <td>1</td>\n",
       "      <td>0</td>\n",
       "      <td>0</td>\n",
       "    </tr>\n",
       "    <tr>\n",
       "      <th>9</th>\n",
       "      <td>0</td>\n",
       "      <td>0</td>\n",
       "      <td>1</td>\n",
       "    </tr>\n",
       "    <tr>\n",
       "      <th>10</th>\n",
       "      <td>0</td>\n",
       "      <td>1</td>\n",
       "      <td>0</td>\n",
       "    </tr>\n",
       "  </tbody>\n",
       "</table>\n",
       "</div>"
      ],
      "text/plain": [
       "    A  B  C\n",
       "1   1  0  0\n",
       "2   0  1  0\n",
       "3   1  0  0\n",
       "4   0  0  1\n",
       "5   0  0  1\n",
       "6   0  1  0\n",
       "7   0  1  0\n",
       "8   1  0  0\n",
       "9   0  0  1\n",
       "10  0  1  0"
      ]
     },
     "execution_count": 5,
     "metadata": {},
     "output_type": "execute_result"
    }
   ],
   "source": [
    "s = list(\"ABACCBBACB\")\n",
    "states = ['A', 'B', 'C']\n",
    "\n",
    "df = pd.DataFrame(0, index=range(1, 11), columns=states)\n",
    "for i, state in enumerate(s, start=1):\n",
    "    df[state][i] = 1\n",
    "df"
   ]
  },
  {
   "cell_type": "code",
   "execution_count": 6,
   "metadata": {},
   "outputs": [
    {
     "data": {
      "text/html": [
       "<div>\n",
       "<style scoped>\n",
       "    .dataframe tbody tr th:only-of-type {\n",
       "        vertical-align: middle;\n",
       "    }\n",
       "\n",
       "    .dataframe tbody tr th {\n",
       "        vertical-align: top;\n",
       "    }\n",
       "\n",
       "    .dataframe thead th {\n",
       "        text-align: right;\n",
       "    }\n",
       "</style>\n",
       "<table border=\"1\" class=\"dataframe\">\n",
       "  <thead>\n",
       "    <tr style=\"text-align: right;\">\n",
       "      <th></th>\n",
       "      <th>A</th>\n",
       "      <th>B</th>\n",
       "      <th>C</th>\n",
       "    </tr>\n",
       "  </thead>\n",
       "  <tbody>\n",
       "    <tr>\n",
       "      <th>0</th>\n",
       "      <td>1</td>\n",
       "      <td>0</td>\n",
       "      <td>0</td>\n",
       "    </tr>\n",
       "    <tr>\n",
       "      <th>1</th>\n",
       "      <td>0</td>\n",
       "      <td>1</td>\n",
       "      <td>0</td>\n",
       "    </tr>\n",
       "    <tr>\n",
       "      <th>2</th>\n",
       "      <td>1</td>\n",
       "      <td>0</td>\n",
       "      <td>0</td>\n",
       "    </tr>\n",
       "    <tr>\n",
       "      <th>3</th>\n",
       "      <td>0</td>\n",
       "      <td>0</td>\n",
       "      <td>1</td>\n",
       "    </tr>\n",
       "    <tr>\n",
       "      <th>4</th>\n",
       "      <td>0</td>\n",
       "      <td>0</td>\n",
       "      <td>1</td>\n",
       "    </tr>\n",
       "    <tr>\n",
       "      <th>5</th>\n",
       "      <td>0</td>\n",
       "      <td>1</td>\n",
       "      <td>0</td>\n",
       "    </tr>\n",
       "    <tr>\n",
       "      <th>6</th>\n",
       "      <td>0</td>\n",
       "      <td>1</td>\n",
       "      <td>0</td>\n",
       "    </tr>\n",
       "    <tr>\n",
       "      <th>7</th>\n",
       "      <td>1</td>\n",
       "      <td>0</td>\n",
       "      <td>0</td>\n",
       "    </tr>\n",
       "    <tr>\n",
       "      <th>8</th>\n",
       "      <td>0</td>\n",
       "      <td>0</td>\n",
       "      <td>1</td>\n",
       "    </tr>\n",
       "    <tr>\n",
       "      <th>9</th>\n",
       "      <td>0</td>\n",
       "      <td>1</td>\n",
       "      <td>0</td>\n",
       "    </tr>\n",
       "  </tbody>\n",
       "</table>\n",
       "</div>"
      ],
      "text/plain": [
       "   A  B  C\n",
       "0  1  0  0\n",
       "1  0  1  0\n",
       "2  1  0  0\n",
       "3  0  0  1\n",
       "4  0  0  1\n",
       "5  0  1  0\n",
       "6  0  1  0\n",
       "7  1  0  0\n",
       "8  0  0  1\n",
       "9  0  1  0"
      ]
     },
     "execution_count": 6,
     "metadata": {},
     "output_type": "execute_result"
    }
   ],
   "source": [
    "# 直接这么用\n",
    "pd.get_dummies(s, dtype=int)"
   ]
  },
  {
   "cell_type": "markdown",
   "metadata": {
    "nbpresent": {
     "id": "d4efe668-efd5-42b8-bdc9-2341062c3083"
    },
    "slideshow": {
     "slide_type": "slide"
    }
   },
   "source": [
    "## 8.3 选择与访问数据\n",
    "\n",
    "访问方式：行索引、列索引\n",
    "\n",
    "一定要注意观察行和列索引的处理方式有什么不同。"
   ]
  },
  {
   "cell_type": "markdown",
   "metadata": {
    "nbpresent": {
     "id": "8ba5e283-5d90-41fe-b38b-38878d3d3e81"
    },
    "slideshow": {
     "slide_type": "slide"
    }
   },
   "source": [
    "### 访问一列数据\n",
    "\n",
    "* 可以使用列名从DataFrame中选择一列数据\n",
    "* 我们会得到一个Series对象。\n",
    "* 注意到DataFrame对象的索引仍然保留。"
   ]
  },
  {
   "cell_type": "code",
   "execution_count": 106,
   "metadata": {
    "nbpresent": {
     "id": "c58dfa5d-7da8-428d-89c5-47ec035d1226"
    },
    "slideshow": {
     "slide_type": "subslide"
    }
   },
   "outputs": [
    {
     "data": {
      "text/plain": [
       "john     18\n",
       "mike     22\n",
       "alice    43\n",
       "lane     64\n",
       "clark    19\n",
       "Name: age, dtype: int64"
      ]
     },
     "execution_count": 106,
     "metadata": {},
     "output_type": "execute_result"
    }
   ],
   "source": [
    "df01['age']"
   ]
  },
  {
   "cell_type": "markdown",
   "metadata": {
    "collapsed": true,
    "nbpresent": {
     "id": "d1286446-6f83-4dd1-8384-94568cd3ac0a"
    },
    "slideshow": {
     "slide_type": "subslide"
    }
   },
   "source": [
    "除了使用下标方式之外，还可以把列名作为DataFrame的属性来使用，获取某一列。"
   ]
  },
  {
   "cell_type": "code",
   "execution_count": 107,
   "metadata": {
    "nbpresent": {
     "id": "04f2987c-6f8a-4daa-8ed0-c5ce0499219f"
    },
    "slideshow": {
     "slide_type": "fragment"
    }
   },
   "outputs": [
    {
     "data": {
      "text/plain": [
       "john     18\n",
       "mike     22\n",
       "alice    43\n",
       "lane     64\n",
       "clark    19\n",
       "Name: age, dtype: int64"
      ]
     },
     "execution_count": 107,
     "metadata": {},
     "output_type": "execute_result"
    }
   ],
   "source": [
    "df01.age"
   ]
  },
  {
   "cell_type": "markdown",
   "metadata": {
    "collapsed": true,
    "nbpresent": {
     "id": "e390ba64-3bdf-42fb-bd7e-d8b771be356a"
    },
    "slideshow": {
     "slide_type": "subslide"
    }
   },
   "source": [
    "可以发现，返回的数据为一个Series对象。"
   ]
  },
  {
   "cell_type": "code",
   "execution_count": 108,
   "metadata": {
    "nbpresent": {
     "id": "e59e98c6-2427-4d83-b04a-06549cb808af"
    },
    "slideshow": {
     "slide_type": "fragment"
    }
   },
   "outputs": [
    {
     "data": {
      "text/plain": [
       "pandas.core.series.Series"
      ]
     },
     "execution_count": 108,
     "metadata": {},
     "output_type": "execute_result"
    }
   ],
   "source": [
    "type(df01.age)"
   ]
  },
  {
   "cell_type": "markdown",
   "metadata": {
    "nbpresent": {
     "id": "4d438fb2-16b7-4f6a-8738-7d0122f14c80"
    },
    "slideshow": {
     "slide_type": "subslide"
    }
   },
   "source": [
    "既然df01['age']是一个Series对象，对Series的所有访问方式都适用于该对象。也可以把它看成一个ndarray对象来进行访问。\n",
    "\n",
    "* 使用索引标签访问\n",
    "* 使用索引位置访问"
   ]
  },
  {
   "cell_type": "code",
   "execution_count": 109,
   "metadata": {
    "nbpresent": {
     "id": "dd7418b8-abe9-46f7-9b4e-d8d80decc376"
    },
    "slideshow": {
     "slide_type": "subslide"
    }
   },
   "outputs": [
    {
     "name": "stderr",
     "output_type": "stream",
     "text": [
      "/tmp/ipykernel_94257/3703947599.py:1: FutureWarning: Series.__getitem__ treating keys as positions is deprecated. In a future version, integer keys will always be treated as labels (consistent with DataFrame behavior). To access a value by position, use `ser.iloc[pos]`\n",
      "  df01['age'][2]\n"
     ]
    },
    {
     "data": {
      "text/plain": [
       "43"
      ]
     },
     "execution_count": 109,
     "metadata": {},
     "output_type": "execute_result"
    }
   ],
   "source": [
    "df01['age'][2]"
   ]
  },
  {
   "cell_type": "code",
   "execution_count": 110,
   "metadata": {
    "nbpresent": {
     "id": "90c022c7-510f-4358-8ad4-1f29d48a8536"
    },
    "slideshow": {
     "slide_type": "fragment"
    }
   },
   "outputs": [
    {
     "name": "stderr",
     "output_type": "stream",
     "text": [
      "/tmp/ipykernel_94257/512853538.py:1: FutureWarning: Series.__getitem__ treating keys as positions is deprecated. In a future version, integer keys will always be treated as labels (consistent with DataFrame behavior). To access a value by position, use `ser.iloc[pos]`\n",
      "  df01.age[1]\n"
     ]
    },
    {
     "data": {
      "text/plain": [
       "22"
      ]
     },
     "execution_count": 110,
     "metadata": {},
     "output_type": "execute_result"
    }
   ],
   "source": [
    "df01.age[1]"
   ]
  },
  {
   "cell_type": "markdown",
   "metadata": {
    "nbpresent": {
     "id": "500ea757-adb6-4f48-918e-250c60a87d38"
    },
    "slideshow": {
     "slide_type": "slide"
    }
   },
   "source": [
    "### 访问多列数据\n",
    "\n",
    "可以指定需要访问的列名列表，但不能使用列名的切片。（为什么呢？注意在后面找答案）\n",
    "\n",
    "重点：理解DataFrame的两种不同的顶层视图——字典 vs 二维数组"
   ]
  },
  {
   "cell_type": "code",
   "execution_count": 111,
   "metadata": {
    "nbpresent": {
     "id": "033f2882-b214-4d6e-961f-637cb1d1f623"
    },
    "slideshow": {
     "slide_type": "subslide"
    }
   },
   "outputs": [
    {
     "data": {
      "text/html": [
       "<div>\n",
       "<style scoped>\n",
       "    .dataframe tbody tr th:only-of-type {\n",
       "        vertical-align: middle;\n",
       "    }\n",
       "\n",
       "    .dataframe tbody tr th {\n",
       "        vertical-align: top;\n",
       "    }\n",
       "\n",
       "    .dataframe thead th {\n",
       "        text-align: right;\n",
       "    }\n",
       "</style>\n",
       "<table border=\"1\" class=\"dataframe\">\n",
       "  <thead>\n",
       "    <tr style=\"text-align: right;\">\n",
       "      <th></th>\n",
       "      <th>col2</th>\n",
       "      <th>col1</th>\n",
       "    </tr>\n",
       "  </thead>\n",
       "  <tbody>\n",
       "    <tr>\n",
       "      <th>row1</th>\n",
       "      <td>1</td>\n",
       "      <td>0</td>\n",
       "    </tr>\n",
       "    <tr>\n",
       "      <th>row2</th>\n",
       "      <td>5</td>\n",
       "      <td>4</td>\n",
       "    </tr>\n",
       "    <tr>\n",
       "      <th>row3</th>\n",
       "      <td>9</td>\n",
       "      <td>8</td>\n",
       "    </tr>\n",
       "    <tr>\n",
       "      <th>row4</th>\n",
       "      <td>13</td>\n",
       "      <td>12</td>\n",
       "    </tr>\n",
       "    <tr>\n",
       "      <th>row5</th>\n",
       "      <td>17</td>\n",
       "      <td>16</td>\n",
       "    </tr>\n",
       "    <tr>\n",
       "      <th>row6</th>\n",
       "      <td>21</td>\n",
       "      <td>20</td>\n",
       "    </tr>\n",
       "  </tbody>\n",
       "</table>\n",
       "</div>"
      ],
      "text/plain": [
       "      col2  col1\n",
       "row1     1     0\n",
       "row2     5     4\n",
       "row3     9     8\n",
       "row4    13    12\n",
       "row5    17    16\n",
       "row6    21    20"
      ]
     },
     "execution_count": 111,
     "metadata": {},
     "output_type": "execute_result"
    }
   ],
   "source": [
    "# 注意是两个中括号\n",
    "df02[['col2','col1']] # 相当于是使用缺省columns"
   ]
  },
  {
   "cell_type": "markdown",
   "metadata": {
    "nbpresent": {
     "id": "f2d97d89-5d4c-478a-a180-23fe11d6f6a7"
    },
    "slideshow": {
     "slide_type": "slide"
    }
   },
   "source": [
    "### 访问一行数据\n",
    "\n",
    "可以使用行的索引或行的标签访问一行。得到一个Series对象，其索引恰好为原DataFrame对象的列。"
   ]
  },
  {
   "cell_type": "markdown",
   "metadata": {
    "nbpresent": {
     "id": "7e602bd1-4244-44b7-93db-930c9a922fee"
    },
    "slideshow": {
     "slide_type": "subslide"
    }
   },
   "source": [
    "方式1：使用行的位置索引\n",
    "\n",
    "* 使用iloc\n",
    "\n",
    "方式2：使用行标签\n",
    "\n",
    "* 使用loc"
   ]
  },
  {
   "cell_type": "code",
   "execution_count": 112,
   "metadata": {
    "nbpresent": {
     "id": "9a38c4b6-b3ec-4f00-94f0-f19085e69b69"
    },
    "slideshow": {
     "slide_type": "fragment"
    }
   },
   "outputs": [
    {
     "data": {
      "text/plain": [
       "age      43\n",
       "sex       f\n",
       "score    95\n",
       "Name: alice, dtype: object"
      ]
     },
     "execution_count": 112,
     "metadata": {},
     "output_type": "execute_result"
    }
   ],
   "source": [
    "df01.iloc[2]"
   ]
  },
  {
   "cell_type": "code",
   "execution_count": 113,
   "metadata": {
    "nbpresent": {
     "id": "c5e5932c-5938-4bf4-9b3a-60398350335b"
    },
    "slideshow": {
     "slide_type": "fragment"
    }
   },
   "outputs": [
    {
     "data": {
      "text/plain": [
       "age      43\n",
       "sex       f\n",
       "score    95\n",
       "Name: alice, dtype: object"
      ]
     },
     "execution_count": 113,
     "metadata": {},
     "output_type": "execute_result"
    }
   ],
   "source": [
    "df01.loc['alice']"
   ]
  },
  {
   "cell_type": "markdown",
   "metadata": {
    "nbpresent": {
     "id": "2e28c9f2-5dee-4683-b8b2-6e06a5513aef"
    },
    "slideshow": {
     "slide_type": "slide"
    }
   },
   "source": [
    "### 访问多行数据\n",
    "\n",
    "使用行号切片或者行标签的切片。"
   ]
  },
  {
   "cell_type": "code",
   "execution_count": 114,
   "metadata": {
    "nbpresent": {
     "id": "6d91e5aa-3d87-4a61-8b08-a74445949f08"
    },
    "slideshow": {
     "slide_type": "subslide"
    }
   },
   "outputs": [
    {
     "data": {
      "text/html": [
       "<div>\n",
       "<style scoped>\n",
       "    .dataframe tbody tr th:only-of-type {\n",
       "        vertical-align: middle;\n",
       "    }\n",
       "\n",
       "    .dataframe tbody tr th {\n",
       "        vertical-align: top;\n",
       "    }\n",
       "\n",
       "    .dataframe thead th {\n",
       "        text-align: right;\n",
       "    }\n",
       "</style>\n",
       "<table border=\"1\" class=\"dataframe\">\n",
       "  <thead>\n",
       "    <tr style=\"text-align: right;\">\n",
       "      <th></th>\n",
       "      <th>age</th>\n",
       "      <th>sex</th>\n",
       "      <th>score</th>\n",
       "    </tr>\n",
       "  </thead>\n",
       "  <tbody>\n",
       "    <tr>\n",
       "      <th>john</th>\n",
       "      <td>18</td>\n",
       "      <td>m</td>\n",
       "      <td>120</td>\n",
       "    </tr>\n",
       "    <tr>\n",
       "      <th>mike</th>\n",
       "      <td>22</td>\n",
       "      <td>m</td>\n",
       "      <td>100</td>\n",
       "    </tr>\n",
       "    <tr>\n",
       "      <th>alice</th>\n",
       "      <td>43</td>\n",
       "      <td>f</td>\n",
       "      <td>95</td>\n",
       "    </tr>\n",
       "  </tbody>\n",
       "</table>\n",
       "</div>"
      ],
      "text/plain": [
       "       age sex  score\n",
       "john    18   m    120\n",
       "mike    22   m    100\n",
       "alice   43   f     95"
      ]
     },
     "execution_count": 114,
     "metadata": {},
     "output_type": "execute_result"
    }
   ],
   "source": [
    "df01[0:3]"
   ]
  },
  {
   "cell_type": "markdown",
   "metadata": {
    "nbpresent": {
     "id": "cfd7101c-f182-4a3a-be5c-516fbc806c1e"
    },
    "slideshow": {
     "slide_type": "subslide"
    }
   },
   "source": [
    "注意切片时若使用标签名称，则结尾标签包含在内。注意，这种切片操作只能用于行。"
   ]
  },
  {
   "cell_type": "code",
   "execution_count": 115,
   "metadata": {
    "nbpresent": {
     "id": "7e3830eb-9b3f-4038-9b12-3ab062ddcc77"
    },
    "slideshow": {
     "slide_type": "fragment"
    }
   },
   "outputs": [
    {
     "data": {
      "text/html": [
       "<div>\n",
       "<style scoped>\n",
       "    .dataframe tbody tr th:only-of-type {\n",
       "        vertical-align: middle;\n",
       "    }\n",
       "\n",
       "    .dataframe tbody tr th {\n",
       "        vertical-align: top;\n",
       "    }\n",
       "\n",
       "    .dataframe thead th {\n",
       "        text-align: right;\n",
       "    }\n",
       "</style>\n",
       "<table border=\"1\" class=\"dataframe\">\n",
       "  <thead>\n",
       "    <tr style=\"text-align: right;\">\n",
       "      <th></th>\n",
       "      <th>col1</th>\n",
       "      <th>col2</th>\n",
       "      <th>col3</th>\n",
       "      <th>col4</th>\n",
       "    </tr>\n",
       "  </thead>\n",
       "  <tbody>\n",
       "    <tr>\n",
       "      <th>row1</th>\n",
       "      <td>0</td>\n",
       "      <td>1</td>\n",
       "      <td>2</td>\n",
       "      <td>3</td>\n",
       "    </tr>\n",
       "    <tr>\n",
       "      <th>row2</th>\n",
       "      <td>4</td>\n",
       "      <td>5</td>\n",
       "      <td>6</td>\n",
       "      <td>7</td>\n",
       "    </tr>\n",
       "    <tr>\n",
       "      <th>row3</th>\n",
       "      <td>8</td>\n",
       "      <td>9</td>\n",
       "      <td>10</td>\n",
       "      <td>11</td>\n",
       "    </tr>\n",
       "    <tr>\n",
       "      <th>row4</th>\n",
       "      <td>12</td>\n",
       "      <td>13</td>\n",
       "      <td>14</td>\n",
       "      <td>15</td>\n",
       "    </tr>\n",
       "  </tbody>\n",
       "</table>\n",
       "</div>"
      ],
      "text/plain": [
       "      col1  col2  col3  col4\n",
       "row1     0     1     2     3\n",
       "row2     4     5     6     7\n",
       "row3     8     9    10    11\n",
       "row4    12    13    14    15"
      ]
     },
     "execution_count": 115,
     "metadata": {},
     "output_type": "execute_result"
    }
   ],
   "source": [
    "df02['row1':'row4']"
   ]
  },
  {
   "cell_type": "code",
   "execution_count": 116,
   "metadata": {
    "nbpresent": {
     "id": "02513e74-3832-4527-882c-424935a9f805"
    },
    "slideshow": {
     "slide_type": "subslide"
    }
   },
   "outputs": [
    {
     "data": {
      "text/html": [
       "<div>\n",
       "<style scoped>\n",
       "    .dataframe tbody tr th:only-of-type {\n",
       "        vertical-align: middle;\n",
       "    }\n",
       "\n",
       "    .dataframe tbody tr th {\n",
       "        vertical-align: top;\n",
       "    }\n",
       "\n",
       "    .dataframe thead th {\n",
       "        text-align: right;\n",
       "    }\n",
       "</style>\n",
       "<table border=\"1\" class=\"dataframe\">\n",
       "  <thead>\n",
       "    <tr style=\"text-align: right;\">\n",
       "      <th></th>\n",
       "      <th>0</th>\n",
       "      <th>1</th>\n",
       "    </tr>\n",
       "  </thead>\n",
       "  <tbody>\n",
       "    <tr>\n",
       "      <th>2010-01-02</th>\n",
       "      <td>-0.109017</td>\n",
       "      <td>1.556186</td>\n",
       "    </tr>\n",
       "    <tr>\n",
       "      <th>2010-01-03</th>\n",
       "      <td>0.128778</td>\n",
       "      <td>-2.066949</td>\n",
       "    </tr>\n",
       "    <tr>\n",
       "      <th>2010-01-04</th>\n",
       "      <td>-0.885493</td>\n",
       "      <td>-1.104579</td>\n",
       "    </tr>\n",
       "  </tbody>\n",
       "</table>\n",
       "</div>"
      ],
      "text/plain": [
       "                   0         1\n",
       "2010-01-02 -0.109017  1.556186\n",
       "2010-01-03  0.128778 -2.066949\n",
       "2010-01-04 -0.885493 -1.104579"
      ]
     },
     "execution_count": 116,
     "metadata": {},
     "output_type": "execute_result"
    }
   ],
   "source": [
    "df05=DataFrame(\n",
    "    np.random.randn(10).reshape((5,2)),\n",
    "    index=pd.date_range('2010-01-01',periods=5))\n",
    "df05['2010-01-02':'2010-01-04']"
   ]
  },
  {
   "cell_type": "markdown",
   "metadata": {
    "nbpresent": {
     "id": "316cea89-c671-4c5c-90b1-35363971bd8c"
    },
    "slideshow": {
     "slide_type": "subslide"
    }
   },
   "source": [
    "## 选择一个区域\n",
    "\n",
    "区域选择方式1：切片操作。类似于数组切片。"
   ]
  },
  {
   "cell_type": "markdown",
   "metadata": {
    "nbpresent": {
     "id": "782e4f0e-85e6-4c79-bac1-bd3d012cfe17"
    },
    "slideshow": {
     "slide_type": "fragment"
    }
   },
   "source": [
    "使用切片选择一个区域时，需要注意DataFrame具有两个维度，因此需要两个坐标。切片的语法与列表类似。用冒号（：）表示区间的范围。"
   ]
  },
  {
   "cell_type": "code",
   "execution_count": 119,
   "metadata": {
    "nbpresent": {
     "id": "38911e83-ff5d-4be8-8d25-dcaee40d15fc"
    },
    "slideshow": {
     "slide_type": "subslide"
    }
   },
   "outputs": [
    {
     "data": {
      "text/html": [
       "<div>\n",
       "<style scoped>\n",
       "    .dataframe tbody tr th:only-of-type {\n",
       "        vertical-align: middle;\n",
       "    }\n",
       "\n",
       "    .dataframe tbody tr th {\n",
       "        vertical-align: top;\n",
       "    }\n",
       "\n",
       "    .dataframe thead th {\n",
       "        text-align: right;\n",
       "    }\n",
       "</style>\n",
       "<table border=\"1\" class=\"dataframe\">\n",
       "  <thead>\n",
       "    <tr style=\"text-align: right;\">\n",
       "      <th></th>\n",
       "      <th>age</th>\n",
       "      <th>score</th>\n",
       "    </tr>\n",
       "  </thead>\n",
       "  <tbody>\n",
       "    <tr>\n",
       "      <th>john</th>\n",
       "      <td>18</td>\n",
       "      <td>120</td>\n",
       "    </tr>\n",
       "    <tr>\n",
       "      <th>mike</th>\n",
       "      <td>22</td>\n",
       "      <td>100</td>\n",
       "    </tr>\n",
       "    <tr>\n",
       "      <th>alice</th>\n",
       "      <td>43</td>\n",
       "      <td>95</td>\n",
       "    </tr>\n",
       "    <tr>\n",
       "      <th>lane</th>\n",
       "      <td>64</td>\n",
       "      <td>134</td>\n",
       "    </tr>\n",
       "    <tr>\n",
       "      <th>clark</th>\n",
       "      <td>19</td>\n",
       "      <td>140</td>\n",
       "    </tr>\n",
       "  </tbody>\n",
       "</table>\n",
       "</div>"
      ],
      "text/plain": [
       "       age  score\n",
       "john    18    120\n",
       "mike    22    100\n",
       "alice   43     95\n",
       "lane    64    134\n",
       "clark   19    140"
      ]
     },
     "execution_count": 119,
     "metadata": {},
     "output_type": "execute_result"
    }
   ],
   "source": [
    "# loc 使用行标或列标来访问索引\n",
    "# 主要是使用标签做切片，那么start和end都是包含的\n",
    "df01.loc[:,['age','score']]"
   ]
  },
  {
   "cell_type": "code",
   "execution_count": 120,
   "metadata": {
    "nbpresent": {
     "id": "e321209d-9877-42a7-8144-ec817e72728a"
    },
    "slideshow": {
     "slide_type": "subslide"
    }
   },
   "outputs": [
    {
     "data": {
      "text/html": [
       "<div>\n",
       "<style scoped>\n",
       "    .dataframe tbody tr th:only-of-type {\n",
       "        vertical-align: middle;\n",
       "    }\n",
       "\n",
       "    .dataframe tbody tr th {\n",
       "        vertical-align: top;\n",
       "    }\n",
       "\n",
       "    .dataframe thead th {\n",
       "        text-align: right;\n",
       "    }\n",
       "</style>\n",
       "<table border=\"1\" class=\"dataframe\">\n",
       "  <thead>\n",
       "    <tr style=\"text-align: right;\">\n",
       "      <th></th>\n",
       "      <th>age</th>\n",
       "      <th>sex</th>\n",
       "      <th>score</th>\n",
       "    </tr>\n",
       "  </thead>\n",
       "  <tbody>\n",
       "    <tr>\n",
       "      <th>john</th>\n",
       "      <td>18</td>\n",
       "      <td>m</td>\n",
       "      <td>120</td>\n",
       "    </tr>\n",
       "    <tr>\n",
       "      <th>mike</th>\n",
       "      <td>22</td>\n",
       "      <td>m</td>\n",
       "      <td>100</td>\n",
       "    </tr>\n",
       "  </tbody>\n",
       "</table>\n",
       "</div>"
      ],
      "text/plain": [
       "      age sex  score\n",
       "john   18   m    120\n",
       "mike   22   m    100"
      ]
     },
     "execution_count": 120,
     "metadata": {},
     "output_type": "execute_result"
    }
   ],
   "source": [
    "# iloc 使用行或列的位置来访问索引\n",
    "df01.iloc[:2,:3]"
   ]
  },
  {
   "cell_type": "markdown",
   "metadata": {
    "nbpresent": {
     "id": "e6d027fe-e642-47d8-8f6f-243cd9cd27b8"
    },
    "slideshow": {
     "slide_type": "subslide"
    }
   },
   "source": [
    "若不使用切片，需要注意将行标或列名置于一个列表中。"
   ]
  },
  {
   "cell_type": "code",
   "execution_count": 124,
   "metadata": {
    "nbpresent": {
     "id": "49555298-9bfd-4520-b32e-c60ae60f62f2"
    },
    "slideshow": {
     "slide_type": "fragment"
    }
   },
   "outputs": [
    {
     "data": {
      "text/html": [
       "<div>\n",
       "<style scoped>\n",
       "    .dataframe tbody tr th:only-of-type {\n",
       "        vertical-align: middle;\n",
       "    }\n",
       "\n",
       "    .dataframe tbody tr th {\n",
       "        vertical-align: top;\n",
       "    }\n",
       "\n",
       "    .dataframe thead th {\n",
       "        text-align: right;\n",
       "    }\n",
       "</style>\n",
       "<table border=\"1\" class=\"dataframe\">\n",
       "  <thead>\n",
       "    <tr style=\"text-align: right;\">\n",
       "      <th></th>\n",
       "      <th>col1</th>\n",
       "      <th>col2</th>\n",
       "      <th>col3</th>\n",
       "      <th>col4</th>\n",
       "    </tr>\n",
       "  </thead>\n",
       "  <tbody>\n",
       "    <tr>\n",
       "      <th>row1</th>\n",
       "      <td>0</td>\n",
       "      <td>1</td>\n",
       "      <td>2</td>\n",
       "      <td>3</td>\n",
       "    </tr>\n",
       "    <tr>\n",
       "      <th>row3</th>\n",
       "      <td>8</td>\n",
       "      <td>9</td>\n",
       "      <td>10</td>\n",
       "      <td>11</td>\n",
       "    </tr>\n",
       "  </tbody>\n",
       "</table>\n",
       "</div>"
      ],
      "text/plain": [
       "      col1  col2  col3  col4\n",
       "row1     0     1     2     3\n",
       "row3     8     9    10    11"
      ]
     },
     "execution_count": 124,
     "metadata": {},
     "output_type": "execute_result"
    }
   ],
   "source": [
    "df02.loc[['row1','row3'],:]"
   ]
  },
  {
   "cell_type": "markdown",
   "metadata": {
    "nbpresent": {
     "id": "94460412-c964-440e-902b-9762f8e658d8"
    },
    "slideshow": {
     "slide_type": "subslide"
    }
   },
   "source": [
    "* 当选择的区域__维度__缩减到一行或者一列时，得到的对象缩减为一个Series对象。\n",
    "* 若__维度__缩减到某个单独的单元，则得到的对象为一个标量值。\n",
    "* 当指定维度的值为一个单变量时，该维度缩减\n",
    "* 若使用__切片__操作，则维度并没有减少\n"
   ]
  },
  {
   "cell_type": "code",
   "execution_count": 125,
   "metadata": {
    "nbpresent": {
     "id": "4921234b-c1d2-4f5e-bbc9-29bdabb19c92"
    },
    "slideshow": {
     "slide_type": "subslide"
    }
   },
   "outputs": [
    {
     "data": {
      "text/plain": [
       "john     18\n",
       "mike     22\n",
       "alice    43\n",
       "lane     64\n",
       "clark    19\n",
       "Name: age, dtype: int64"
      ]
     },
     "execution_count": 125,
     "metadata": {},
     "output_type": "execute_result"
    }
   ],
   "source": [
    "df01.loc[:,'age']"
   ]
  },
  {
   "cell_type": "code",
   "execution_count": 126,
   "metadata": {
    "nbpresent": {
     "id": "8b9defbc-a6cf-455f-8415-ad3c41ecb9c9"
    },
    "slideshow": {
     "slide_type": "fragment"
    }
   },
   "outputs": [
    {
     "data": {
      "text/plain": [
       "120"
      ]
     },
     "execution_count": 126,
     "metadata": {},
     "output_type": "execute_result"
    }
   ],
   "source": [
    "df01.loc['john','score']"
   ]
  },
  {
   "cell_type": "code",
   "execution_count": 127,
   "metadata": {
    "slideshow": {
     "slide_type": "subslide"
    }
   },
   "outputs": [
    {
     "data": {
      "text/html": [
       "<div>\n",
       "<style scoped>\n",
       "    .dataframe tbody tr th:only-of-type {\n",
       "        vertical-align: middle;\n",
       "    }\n",
       "\n",
       "    .dataframe tbody tr th {\n",
       "        vertical-align: top;\n",
       "    }\n",
       "\n",
       "    .dataframe thead th {\n",
       "        text-align: right;\n",
       "    }\n",
       "</style>\n",
       "<table border=\"1\" class=\"dataframe\">\n",
       "  <thead>\n",
       "    <tr style=\"text-align: right;\">\n",
       "      <th></th>\n",
       "      <th>f</th>\n",
       "      <th>g</th>\n",
       "      <th>h</th>\n",
       "      <th>i</th>\n",
       "      <th>j</th>\n",
       "      <th>k</th>\n",
       "    </tr>\n",
       "  </thead>\n",
       "  <tbody>\n",
       "    <tr>\n",
       "      <th>a</th>\n",
       "      <td>0</td>\n",
       "      <td>1</td>\n",
       "      <td>2</td>\n",
       "      <td>3</td>\n",
       "      <td>4</td>\n",
       "      <td>5</td>\n",
       "    </tr>\n",
       "    <tr>\n",
       "      <th>b</th>\n",
       "      <td>6</td>\n",
       "      <td>7</td>\n",
       "      <td>8</td>\n",
       "      <td>9</td>\n",
       "      <td>10</td>\n",
       "      <td>11</td>\n",
       "    </tr>\n",
       "    <tr>\n",
       "      <th>c</th>\n",
       "      <td>12</td>\n",
       "      <td>13</td>\n",
       "      <td>14</td>\n",
       "      <td>15</td>\n",
       "      <td>16</td>\n",
       "      <td>17</td>\n",
       "    </tr>\n",
       "    <tr>\n",
       "      <th>d</th>\n",
       "      <td>18</td>\n",
       "      <td>19</td>\n",
       "      <td>20</td>\n",
       "      <td>21</td>\n",
       "      <td>22</td>\n",
       "      <td>23</td>\n",
       "    </tr>\n",
       "    <tr>\n",
       "      <th>e</th>\n",
       "      <td>24</td>\n",
       "      <td>25</td>\n",
       "      <td>26</td>\n",
       "      <td>27</td>\n",
       "      <td>28</td>\n",
       "      <td>29</td>\n",
       "    </tr>\n",
       "  </tbody>\n",
       "</table>\n",
       "</div>"
      ],
      "text/plain": [
       "    f   g   h   i   j   k\n",
       "a   0   1   2   3   4   5\n",
       "b   6   7   8   9  10  11\n",
       "c  12  13  14  15  16  17\n",
       "d  18  19  20  21  22  23\n",
       "e  24  25  26  27  28  29"
      ]
     },
     "execution_count": 127,
     "metadata": {},
     "output_type": "execute_result"
    }
   ],
   "source": [
    "df01_c = pd.DataFrame(np.arange(30).reshape(5,6), index = list('abcde'), columns = list('fghijk'))\n",
    "df01_c"
   ]
  },
  {
   "cell_type": "code",
   "execution_count": 128,
   "metadata": {
    "slideshow": {
     "slide_type": "subslide"
    }
   },
   "outputs": [
    {
     "data": {
      "text/html": [
       "<div>\n",
       "<style scoped>\n",
       "    .dataframe tbody tr th:only-of-type {\n",
       "        vertical-align: middle;\n",
       "    }\n",
       "\n",
       "    .dataframe tbody tr th {\n",
       "        vertical-align: top;\n",
       "    }\n",
       "\n",
       "    .dataframe thead th {\n",
       "        text-align: right;\n",
       "    }\n",
       "</style>\n",
       "<table border=\"1\" class=\"dataframe\">\n",
       "  <thead>\n",
       "    <tr style=\"text-align: right;\">\n",
       "      <th></th>\n",
       "      <th>f</th>\n",
       "      <th>g</th>\n",
       "      <th>h</th>\n",
       "      <th>i</th>\n",
       "    </tr>\n",
       "  </thead>\n",
       "  <tbody>\n",
       "    <tr>\n",
       "      <th>b</th>\n",
       "      <td>6</td>\n",
       "      <td>7</td>\n",
       "      <td>8</td>\n",
       "      <td>9</td>\n",
       "    </tr>\n",
       "    <tr>\n",
       "      <th>c</th>\n",
       "      <td>12</td>\n",
       "      <td>13</td>\n",
       "      <td>14</td>\n",
       "      <td>15</td>\n",
       "    </tr>\n",
       "    <tr>\n",
       "      <th>d</th>\n",
       "      <td>18</td>\n",
       "      <td>19</td>\n",
       "      <td>20</td>\n",
       "      <td>21</td>\n",
       "    </tr>\n",
       "  </tbody>\n",
       "</table>\n",
       "</div>"
      ],
      "text/plain": [
       "    f   g   h   i\n",
       "b   6   7   8   9\n",
       "c  12  13  14  15\n",
       "d  18  19  20  21"
      ]
     },
     "execution_count": 128,
     "metadata": {},
     "output_type": "execute_result"
    }
   ],
   "source": [
    "df01_c.loc['b':'d', 'f':'i']  # 两个维度同时使用标签切片"
   ]
  },
  {
   "cell_type": "markdown",
   "metadata": {},
   "source": [
    "使用切片不改变维数ndim\n",
    "\n",
    "如果直接使用索引的话，会降维"
   ]
  },
  {
   "cell_type": "code",
   "execution_count": 134,
   "metadata": {
    "slideshow": {
     "slide_type": "subslide"
    }
   },
   "outputs": [
    {
     "data": {
      "text/plain": [
       "(pandas.core.frame.DataFrame,\n",
       "       score\n",
       " mike    100)"
      ]
     },
     "execution_count": 134,
     "metadata": {},
     "output_type": "execute_result"
    }
   ],
   "source": [
    "# 思考：怎么才能得到一个只有一行或者只有一列的DataFrame？\n",
    "type(df01.iloc[1:2, 2:3]), df01.iloc[1:2, 2:3]\n"
   ]
  },
  {
   "cell_type": "code",
   "execution_count": 138,
   "metadata": {},
   "outputs": [
    {
     "data": {
      "text/plain": [
       "(Empty DataFrame\n",
       " Columns: []\n",
       " Index: [],\n",
       " pandas.core.frame.DataFrame)"
      ]
     },
     "execution_count": 138,
     "metadata": {},
     "output_type": "execute_result"
    }
   ],
   "source": [
    "df01.iloc[1:1, 1:1], type(df01.iloc[1:1, 1:1])"
   ]
  },
  {
   "cell_type": "code",
   "execution_count": 140,
   "metadata": {},
   "outputs": [
    {
     "data": {
      "text/html": [
       "<div>\n",
       "<style scoped>\n",
       "    .dataframe tbody tr th:only-of-type {\n",
       "        vertical-align: middle;\n",
       "    }\n",
       "\n",
       "    .dataframe tbody tr th {\n",
       "        vertical-align: top;\n",
       "    }\n",
       "\n",
       "    .dataframe thead th {\n",
       "        text-align: right;\n",
       "    }\n",
       "</style>\n",
       "<table border=\"1\" class=\"dataframe\">\n",
       "  <thead>\n",
       "    <tr style=\"text-align: right;\">\n",
       "      <th></th>\n",
       "      <th>h</th>\n",
       "      <th>k</th>\n",
       "    </tr>\n",
       "  </thead>\n",
       "  <tbody>\n",
       "    <tr>\n",
       "      <th>b</th>\n",
       "      <td>8</td>\n",
       "      <td>11</td>\n",
       "    </tr>\n",
       "    <tr>\n",
       "      <th>c</th>\n",
       "      <td>14</td>\n",
       "      <td>17</td>\n",
       "    </tr>\n",
       "    <tr>\n",
       "      <th>d</th>\n",
       "      <td>20</td>\n",
       "      <td>23</td>\n",
       "    </tr>\n",
       "  </tbody>\n",
       "</table>\n",
       "</div>"
      ],
      "text/plain": [
       "    h   k\n",
       "b   8  11\n",
       "c  14  17\n",
       "d  20  23"
      ]
     },
     "execution_count": 140,
     "metadata": {},
     "output_type": "execute_result"
    }
   ],
   "source": [
    "df01_c.loc['b': 'd', ['h', 'k']]"
   ]
  },
  {
   "cell_type": "markdown",
   "metadata": {
    "nbpresent": {
     "id": "8dc6f30e-a3f9-412d-b165-8d083080358f"
    },
    "slideshow": {
     "slide_type": "subslide"
    }
   },
   "source": [
    "区域选择方式2：根据条件进行筛选\n",
    "\n",
    "比如筛选出score超过某个值的人员信息。"
   ]
  },
  {
   "cell_type": "code",
   "execution_count": 141,
   "metadata": {
    "nbpresent": {
     "id": "dc82d350-04b7-408d-9cf5-3de8c1ca724f"
    },
    "slideshow": {
     "slide_type": "subslide"
    }
   },
   "outputs": [
    {
     "data": {
      "text/html": [
       "<div>\n",
       "<style scoped>\n",
       "    .dataframe tbody tr th:only-of-type {\n",
       "        vertical-align: middle;\n",
       "    }\n",
       "\n",
       "    .dataframe tbody tr th {\n",
       "        vertical-align: top;\n",
       "    }\n",
       "\n",
       "    .dataframe thead th {\n",
       "        text-align: right;\n",
       "    }\n",
       "</style>\n",
       "<table border=\"1\" class=\"dataframe\">\n",
       "  <thead>\n",
       "    <tr style=\"text-align: right;\">\n",
       "      <th></th>\n",
       "      <th>age</th>\n",
       "      <th>sex</th>\n",
       "      <th>score</th>\n",
       "    </tr>\n",
       "  </thead>\n",
       "  <tbody>\n",
       "    <tr>\n",
       "      <th>john</th>\n",
       "      <td>18</td>\n",
       "      <td>m</td>\n",
       "      <td>120</td>\n",
       "    </tr>\n",
       "    <tr>\n",
       "      <th>lane</th>\n",
       "      <td>64</td>\n",
       "      <td>f</td>\n",
       "      <td>134</td>\n",
       "    </tr>\n",
       "    <tr>\n",
       "      <th>clark</th>\n",
       "      <td>19</td>\n",
       "      <td>m</td>\n",
       "      <td>140</td>\n",
       "    </tr>\n",
       "  </tbody>\n",
       "</table>\n",
       "</div>"
      ],
      "text/plain": [
       "       age sex  score\n",
       "john    18   m    120\n",
       "lane    64   f    134\n",
       "clark   19   m    140"
      ]
     },
     "execution_count": 141,
     "metadata": {},
     "output_type": "execute_result"
    }
   ],
   "source": [
    "df01[df01.score>100]    # 又是一个布尔数组"
   ]
  },
  {
   "cell_type": "code",
   "execution_count": 142,
   "metadata": {
    "nbpresent": {
     "id": "4611fe93-4424-4258-8771-6e3d035e3078"
    },
    "slideshow": {
     "slide_type": "subslide"
    }
   },
   "outputs": [
    {
     "data": {
      "text/html": [
       "<div>\n",
       "<style scoped>\n",
       "    .dataframe tbody tr th:only-of-type {\n",
       "        vertical-align: middle;\n",
       "    }\n",
       "\n",
       "    .dataframe tbody tr th {\n",
       "        vertical-align: top;\n",
       "    }\n",
       "\n",
       "    .dataframe thead th {\n",
       "        text-align: right;\n",
       "    }\n",
       "</style>\n",
       "<table border=\"1\" class=\"dataframe\">\n",
       "  <thead>\n",
       "    <tr style=\"text-align: right;\">\n",
       "      <th></th>\n",
       "      <th>age</th>\n",
       "      <th>sex</th>\n",
       "      <th>score</th>\n",
       "    </tr>\n",
       "  </thead>\n",
       "  <tbody>\n",
       "    <tr>\n",
       "      <th>john</th>\n",
       "      <td>18</td>\n",
       "      <td>m</td>\n",
       "      <td>120</td>\n",
       "    </tr>\n",
       "    <tr>\n",
       "      <th>mike</th>\n",
       "      <td>22</td>\n",
       "      <td>m</td>\n",
       "      <td>100</td>\n",
       "    </tr>\n",
       "    <tr>\n",
       "      <th>clark</th>\n",
       "      <td>19</td>\n",
       "      <td>m</td>\n",
       "      <td>140</td>\n",
       "    </tr>\n",
       "  </tbody>\n",
       "</table>\n",
       "</div>"
      ],
      "text/plain": [
       "       age sex  score\n",
       "john    18   m    120\n",
       "mike    22   m    100\n",
       "clark   19   m    140"
      ]
     },
     "execution_count": 142,
     "metadata": {},
     "output_type": "execute_result"
    }
   ],
   "source": [
    "df01[df01['sex']=='m']"
   ]
  },
  {
   "cell_type": "code",
   "execution_count": 65,
   "metadata": {
    "nbpresent": {
     "id": "92734597-fb3c-4c6a-b45d-9d37e7dd23f2"
    },
    "slideshow": {
     "slide_type": "subslide"
    }
   },
   "outputs": [
    {
     "data": {
      "text/plain": [
       "john      True\n",
       "mike      True\n",
       "alice    False\n",
       "lane     False\n",
       "clark     True\n",
       "Name: sex, dtype: bool"
      ]
     },
     "execution_count": 65,
     "metadata": {},
     "output_type": "execute_result"
    }
   ],
   "source": [
    "df01.sex=='m'"
   ]
  },
  {
   "cell_type": "markdown",
   "metadata": {
    "collapsed": true,
    "nbpresent": {
     "id": "1c9cd1e4-eb21-45b7-a713-2e46e2f835cf"
    },
    "slideshow": {
     "slide_type": "subslide"
    }
   },
   "source": [
    "筛选出DateFrame中大于零的数据，可以使用布尔矩阵"
   ]
  },
  {
   "cell_type": "code",
   "execution_count": 145,
   "metadata": {
    "nbpresent": {
     "id": "49ada409-bdb4-4032-b166-32a46aa8f2d2"
    },
    "slideshow": {
     "slide_type": "subslide"
    }
   },
   "outputs": [
    {
     "data": {
      "text/html": [
       "<div>\n",
       "<style scoped>\n",
       "    .dataframe tbody tr th:only-of-type {\n",
       "        vertical-align: middle;\n",
       "    }\n",
       "\n",
       "    .dataframe tbody tr th {\n",
       "        vertical-align: top;\n",
       "    }\n",
       "\n",
       "    .dataframe thead th {\n",
       "        text-align: right;\n",
       "    }\n",
       "</style>\n",
       "<table border=\"1\" class=\"dataframe\">\n",
       "  <thead>\n",
       "    <tr style=\"text-align: right;\">\n",
       "      <th></th>\n",
       "      <th>0</th>\n",
       "      <th>1</th>\n",
       "      <th>2</th>\n",
       "      <th>3</th>\n",
       "    </tr>\n",
       "  </thead>\n",
       "  <tbody>\n",
       "    <tr>\n",
       "      <th>0</th>\n",
       "      <td>0.883893</td>\n",
       "      <td>0.195865</td>\n",
       "      <td>0.357537</td>\n",
       "      <td>NaN</td>\n",
       "    </tr>\n",
       "    <tr>\n",
       "      <th>1</th>\n",
       "      <td>NaN</td>\n",
       "      <td>0.559696</td>\n",
       "      <td>0.939469</td>\n",
       "      <td>NaN</td>\n",
       "    </tr>\n",
       "    <tr>\n",
       "      <th>2</th>\n",
       "      <td>0.503097</td>\n",
       "      <td>0.406414</td>\n",
       "      <td>0.323461</td>\n",
       "      <td>NaN</td>\n",
       "    </tr>\n",
       "    <tr>\n",
       "      <th>3</th>\n",
       "      <td>NaN</td>\n",
       "      <td>NaN</td>\n",
       "      <td>NaN</td>\n",
       "      <td>0.245715</td>\n",
       "    </tr>\n",
       "    <tr>\n",
       "      <th>4</th>\n",
       "      <td>NaN</td>\n",
       "      <td>1.567633</td>\n",
       "      <td>1.051109</td>\n",
       "      <td>0.406368</td>\n",
       "    </tr>\n",
       "    <tr>\n",
       "      <th>5</th>\n",
       "      <td>NaN</td>\n",
       "      <td>NaN</td>\n",
       "      <td>1.120132</td>\n",
       "      <td>1.332778</td>\n",
       "    </tr>\n",
       "  </tbody>\n",
       "</table>\n",
       "</div>"
      ],
      "text/plain": [
       "          0         1         2         3\n",
       "0  0.883893  0.195865  0.357537       NaN\n",
       "1       NaN  0.559696  0.939469       NaN\n",
       "2  0.503097  0.406414  0.323461       NaN\n",
       "3       NaN       NaN       NaN  0.245715\n",
       "4       NaN  1.567633  1.051109  0.406368\n",
       "5       NaN       NaN  1.120132  1.332778"
      ]
     },
     "execution_count": 145,
     "metadata": {},
     "output_type": "execute_result"
    }
   ],
   "source": [
    "df03[df03>0] # 这个是一个布尔矩阵，里面返回一个df\n",
    "\n",
    "# 注意，整体返回的shape和原来的shape是一样的，有些地方会直接置空，NaN，但是不是像布尔数组一样值返回对应的元素，返回的数组相对原来的数组有变化\n"
   ]
  },
  {
   "cell_type": "markdown",
   "metadata": {
    "nbpresent": {
     "id": "cfd44929-650d-48d8-81c8-724985338018"
    },
    "slideshow": {
     "slide_type": "subslide"
    }
   },
   "source": [
    "使用条件筛选时，其实现原理其实是布尔矩阵，根据矩阵中的布尔值是否为真决定是否返回值。\n"
   ]
  },
  {
   "cell_type": "code",
   "execution_count": 146,
   "metadata": {
    "nbpresent": {
     "id": "9e1c3e1d-09e5-4c50-86e1-27ffdafdd34b"
    },
    "slideshow": {
     "slide_type": "fragment"
    }
   },
   "outputs": [
    {
     "data": {
      "text/html": [
       "<div>\n",
       "<style scoped>\n",
       "    .dataframe tbody tr th:only-of-type {\n",
       "        vertical-align: middle;\n",
       "    }\n",
       "\n",
       "    .dataframe tbody tr th {\n",
       "        vertical-align: top;\n",
       "    }\n",
       "\n",
       "    .dataframe thead th {\n",
       "        text-align: right;\n",
       "    }\n",
       "</style>\n",
       "<table border=\"1\" class=\"dataframe\">\n",
       "  <thead>\n",
       "    <tr style=\"text-align: right;\">\n",
       "      <th></th>\n",
       "      <th>0</th>\n",
       "      <th>1</th>\n",
       "      <th>2</th>\n",
       "      <th>3</th>\n",
       "    </tr>\n",
       "  </thead>\n",
       "  <tbody>\n",
       "    <tr>\n",
       "      <th>0</th>\n",
       "      <td>True</td>\n",
       "      <td>True</td>\n",
       "      <td>True</td>\n",
       "      <td>False</td>\n",
       "    </tr>\n",
       "    <tr>\n",
       "      <th>1</th>\n",
       "      <td>False</td>\n",
       "      <td>True</td>\n",
       "      <td>True</td>\n",
       "      <td>False</td>\n",
       "    </tr>\n",
       "    <tr>\n",
       "      <th>2</th>\n",
       "      <td>True</td>\n",
       "      <td>True</td>\n",
       "      <td>True</td>\n",
       "      <td>False</td>\n",
       "    </tr>\n",
       "    <tr>\n",
       "      <th>3</th>\n",
       "      <td>False</td>\n",
       "      <td>False</td>\n",
       "      <td>False</td>\n",
       "      <td>True</td>\n",
       "    </tr>\n",
       "    <tr>\n",
       "      <th>4</th>\n",
       "      <td>False</td>\n",
       "      <td>True</td>\n",
       "      <td>True</td>\n",
       "      <td>True</td>\n",
       "    </tr>\n",
       "    <tr>\n",
       "      <th>5</th>\n",
       "      <td>False</td>\n",
       "      <td>False</td>\n",
       "      <td>True</td>\n",
       "      <td>True</td>\n",
       "    </tr>\n",
       "  </tbody>\n",
       "</table>\n",
       "</div>"
      ],
      "text/plain": [
       "       0      1      2      3\n",
       "0   True   True   True  False\n",
       "1  False   True   True  False\n",
       "2   True   True   True  False\n",
       "3  False  False  False   True\n",
       "4  False   True   True   True\n",
       "5  False  False   True   True"
      ]
     },
     "execution_count": 146,
     "metadata": {},
     "output_type": "execute_result"
    }
   ],
   "source": [
    "bool_df=df03>0\n",
    "bool_df"
   ]
  },
  {
   "cell_type": "code",
   "execution_count": 147,
   "metadata": {
    "nbpresent": {
     "id": "41e8cf33-15da-46ea-946e-0e1a109c499d"
    },
    "slideshow": {
     "slide_type": "subslide"
    }
   },
   "outputs": [
    {
     "data": {
      "text/html": [
       "<div>\n",
       "<style scoped>\n",
       "    .dataframe tbody tr th:only-of-type {\n",
       "        vertical-align: middle;\n",
       "    }\n",
       "\n",
       "    .dataframe tbody tr th {\n",
       "        vertical-align: top;\n",
       "    }\n",
       "\n",
       "    .dataframe thead th {\n",
       "        text-align: right;\n",
       "    }\n",
       "</style>\n",
       "<table border=\"1\" class=\"dataframe\">\n",
       "  <thead>\n",
       "    <tr style=\"text-align: right;\">\n",
       "      <th></th>\n",
       "      <th>0</th>\n",
       "      <th>1</th>\n",
       "      <th>2</th>\n",
       "      <th>3</th>\n",
       "    </tr>\n",
       "  </thead>\n",
       "  <tbody>\n",
       "    <tr>\n",
       "      <th>0</th>\n",
       "      <td>0.883893</td>\n",
       "      <td>0.195865</td>\n",
       "      <td>0.357537</td>\n",
       "      <td>NaN</td>\n",
       "    </tr>\n",
       "    <tr>\n",
       "      <th>1</th>\n",
       "      <td>NaN</td>\n",
       "      <td>0.559696</td>\n",
       "      <td>0.939469</td>\n",
       "      <td>NaN</td>\n",
       "    </tr>\n",
       "    <tr>\n",
       "      <th>2</th>\n",
       "      <td>0.503097</td>\n",
       "      <td>0.406414</td>\n",
       "      <td>0.323461</td>\n",
       "      <td>NaN</td>\n",
       "    </tr>\n",
       "    <tr>\n",
       "      <th>3</th>\n",
       "      <td>NaN</td>\n",
       "      <td>NaN</td>\n",
       "      <td>NaN</td>\n",
       "      <td>0.245715</td>\n",
       "    </tr>\n",
       "    <tr>\n",
       "      <th>4</th>\n",
       "      <td>NaN</td>\n",
       "      <td>1.567633</td>\n",
       "      <td>1.051109</td>\n",
       "      <td>0.406368</td>\n",
       "    </tr>\n",
       "    <tr>\n",
       "      <th>5</th>\n",
       "      <td>NaN</td>\n",
       "      <td>NaN</td>\n",
       "      <td>1.120132</td>\n",
       "      <td>1.332778</td>\n",
       "    </tr>\n",
       "  </tbody>\n",
       "</table>\n",
       "</div>"
      ],
      "text/plain": [
       "          0         1         2         3\n",
       "0  0.883893  0.195865  0.357537       NaN\n",
       "1       NaN  0.559696  0.939469       NaN\n",
       "2  0.503097  0.406414  0.323461       NaN\n",
       "3       NaN       NaN       NaN  0.245715\n",
       "4       NaN  1.567633  1.051109  0.406368\n",
       "5       NaN       NaN  1.120132  1.332778"
      ]
     },
     "execution_count": 147,
     "metadata": {},
     "output_type": "execute_result"
    }
   ],
   "source": [
    "df03[bool_df]"
   ]
  },
  {
   "cell_type": "markdown",
   "metadata": {
    "nbpresent": {
     "id": "58cb97f0-2bb9-4d7e-8f00-0c82e0117ff2"
    },
    "slideshow": {
     "slide_type": "subslide"
    }
   },
   "source": [
    "筛选出特定列中包含特定值的数据,isin(list)\n"
   ]
  },
  {
   "cell_type": "code",
   "execution_count": 148,
   "metadata": {
    "nbpresent": {
     "id": "e3ac6ab8-d433-4b68-9bf8-6d7fc193d1b1"
    },
    "slideshow": {
     "slide_type": "fragment"
    }
   },
   "outputs": [
    {
     "data": {
      "text/html": [
       "<div>\n",
       "<style scoped>\n",
       "    .dataframe tbody tr th:only-of-type {\n",
       "        vertical-align: middle;\n",
       "    }\n",
       "\n",
       "    .dataframe tbody tr th {\n",
       "        vertical-align: top;\n",
       "    }\n",
       "\n",
       "    .dataframe thead th {\n",
       "        text-align: right;\n",
       "    }\n",
       "</style>\n",
       "<table border=\"1\" class=\"dataframe\">\n",
       "  <thead>\n",
       "    <tr style=\"text-align: right;\">\n",
       "      <th></th>\n",
       "      <th>age</th>\n",
       "      <th>sex</th>\n",
       "      <th>score</th>\n",
       "    </tr>\n",
       "  </thead>\n",
       "  <tbody>\n",
       "    <tr>\n",
       "      <th>john</th>\n",
       "      <td>18</td>\n",
       "      <td>m</td>\n",
       "      <td>120</td>\n",
       "    </tr>\n",
       "    <tr>\n",
       "      <th>mike</th>\n",
       "      <td>22</td>\n",
       "      <td>m</td>\n",
       "      <td>100</td>\n",
       "    </tr>\n",
       "    <tr>\n",
       "      <th>alice</th>\n",
       "      <td>43</td>\n",
       "      <td>f</td>\n",
       "      <td>95</td>\n",
       "    </tr>\n",
       "    <tr>\n",
       "      <th>lane</th>\n",
       "      <td>64</td>\n",
       "      <td>f</td>\n",
       "      <td>134</td>\n",
       "    </tr>\n",
       "    <tr>\n",
       "      <th>clark</th>\n",
       "      <td>19</td>\n",
       "      <td>m</td>\n",
       "      <td>140</td>\n",
       "    </tr>\n",
       "  </tbody>\n",
       "</table>\n",
       "</div>"
      ],
      "text/plain": [
       "       age sex  score\n",
       "john    18   m    120\n",
       "mike    22   m    100\n",
       "alice   43   f     95\n",
       "lane    64   f    134\n",
       "clark   19   m    140"
      ]
     },
     "execution_count": 148,
     "metadata": {},
     "output_type": "execute_result"
    }
   ],
   "source": [
    "df01[df01['sex'].isin(['m','f'])]"
   ]
  },
  {
   "cell_type": "markdown",
   "metadata": {
    "slideshow": {
     "slide_type": "subslide"
    }
   },
   "source": [
    "### 练习\n",
    "使用babynames来进行一些练习\n",
    "1. 找到某个名字当年出生的小孩数量；\n",
    "2. 找到男孩和女孩共用的名字有哪些；"
   ]
  },
  {
   "cell_type": "code",
   "execution_count": 161,
   "metadata": {
    "slideshow": {
     "slide_type": "fragment"
    }
   },
   "outputs": [
    {
     "name": "stdout",
     "output_type": "stream",
     "text": [
      "       name sex  births\n",
      "22066  Emma   M      36\n",
      "\n",
      "1\n"
     ]
    },
    {
     "data": {
      "text/plain": [
       "name\n",
       "Jacob      1\n",
       "Miracle    1\n",
       "Rachel     1\n",
       "Rain       1\n",
       "Randi      1\n",
       "          ..\n",
       "Oakley     1\n",
       "Rylie      1\n",
       "Lyric      1\n",
       "Rylen      1\n",
       "Zarin      1\n",
       "Name: count, Length: 2387, dtype: int64"
      ]
     },
     "execution_count": 161,
     "metadata": {},
     "output_type": "execute_result"
    }
   ],
   "source": [
    "print(babynames[babynames.name == 'Emma'])\n",
    "print()\n",
    "# 或者使用\n",
    "print(babynames.name.value_counts()['Alice'])\n",
    "\n",
    "# 使用选择嵌连接\n",
    "pd.merge(babynames[babynames.sex == 'M'], babynames[babynames.sex == 'F'], on='name').name.value_counts()\n"
   ]
  },
  {
   "cell_type": "code",
   "execution_count": 163,
   "metadata": {},
   "outputs": [
    {
     "data": {
      "text/plain": [
       "2387"
      ]
     },
     "execution_count": 163,
     "metadata": {},
     "output_type": "execute_result"
    }
   ],
   "source": [
    "boys = babynames[babynames.sex == 'M'].name\n",
    "girls = babynames[babynames.sex == 'F'].name\n",
    "\n",
    "len(set(boys) & set(girls))"
   ]
  },
  {
   "cell_type": "code",
   "execution_count": 174,
   "metadata": {},
   "outputs": [
    {
     "data": {
      "text/plain": [
       "(32455, 32455, 32455)"
      ]
     },
     "execution_count": 174,
     "metadata": {},
     "output_type": "execute_result"
    }
   ],
   "source": [
    "yob2008 = pd.read_csv('./names/yob2008.txt',names=['name', 'sex', 'births'] )\n",
    "yob2008.head()\n",
    "\n",
    "# 找不同名字\n",
    "\n",
    "len(np.unique(yob2008.name)), len(yob2008.name.value_counts()), len(set(yob2008.name)) # 第二种也可以"
   ]
  },
  {
   "cell_type": "markdown",
   "metadata": {
    "nbpresent": {
     "id": "e75a4c71-14ef-47b5-b8f9-2d4abb50f0b7"
    },
    "slideshow": {
     "slide_type": "slide"
    }
   },
   "source": [
    "## 修改与赋值\n",
    "\n",
    "__对结构的修改：__\n",
    "\n",
    "* 添加、删除列\n",
    "* 添加、删除行\n",
    "* 修改行和列的名称\n",
    "* 修改索引"
   ]
  },
  {
   "cell_type": "code",
   "execution_count": 70,
   "metadata": {
    "nbpresent": {
     "id": "fd421eff-d3b9-46d5-9817-a131de0954b6"
    },
    "slideshow": {
     "slide_type": "subslide"
    }
   },
   "outputs": [
    {
     "data": {
      "text/html": [
       "<div>\n",
       "<style scoped>\n",
       "    .dataframe tbody tr th:only-of-type {\n",
       "        vertical-align: middle;\n",
       "    }\n",
       "\n",
       "    .dataframe tbody tr th {\n",
       "        vertical-align: top;\n",
       "    }\n",
       "\n",
       "    .dataframe thead th {\n",
       "        text-align: right;\n",
       "    }\n",
       "</style>\n",
       "<table border=\"1\" class=\"dataframe\">\n",
       "  <thead>\n",
       "    <tr style=\"text-align: right;\">\n",
       "      <th></th>\n",
       "      <th>age</th>\n",
       "      <th>sex</th>\n",
       "      <th>score</th>\n",
       "      <th>passed</th>\n",
       "    </tr>\n",
       "  </thead>\n",
       "  <tbody>\n",
       "    <tr>\n",
       "      <th>john</th>\n",
       "      <td>18</td>\n",
       "      <td>m</td>\n",
       "      <td>120</td>\n",
       "      <td>False</td>\n",
       "    </tr>\n",
       "    <tr>\n",
       "      <th>mike</th>\n",
       "      <td>22</td>\n",
       "      <td>m</td>\n",
       "      <td>100</td>\n",
       "      <td>False</td>\n",
       "    </tr>\n",
       "    <tr>\n",
       "      <th>alice</th>\n",
       "      <td>43</td>\n",
       "      <td>f</td>\n",
       "      <td>95</td>\n",
       "      <td>False</td>\n",
       "    </tr>\n",
       "    <tr>\n",
       "      <th>lane</th>\n",
       "      <td>64</td>\n",
       "      <td>f</td>\n",
       "      <td>134</td>\n",
       "      <td>False</td>\n",
       "    </tr>\n",
       "    <tr>\n",
       "      <th>clark</th>\n",
       "      <td>19</td>\n",
       "      <td>m</td>\n",
       "      <td>140</td>\n",
       "      <td>False</td>\n",
       "    </tr>\n",
       "  </tbody>\n",
       "</table>\n",
       "</div>"
      ],
      "text/plain": [
       "       age sex  score  passed\n",
       "john    18   m    120   False\n",
       "mike    22   m    100   False\n",
       "alice   43   f     95   False\n",
       "lane    64   f    134   False\n",
       "clark   19   m    140   False"
      ]
     },
     "execution_count": 70,
     "metadata": {},
     "output_type": "execute_result"
    }
   ],
   "source": [
    "# add a new column\n",
    "df01['passed']=False\n",
    "#df01.failed = True  # try this one, guess?\n",
    "df01"
   ]
  },
  {
   "cell_type": "markdown",
   "metadata": {
    "nbpresent": {
     "id": "62cff82a-a74f-4a77-99aa-6357a43d11e2"
    },
    "slideshow": {
     "slide_type": "subslide"
    }
   },
   "source": [
    "删除列或者行，可以使用drop()，如果需要修改原对象，需要将inplace设置为True."
   ]
  },
  {
   "cell_type": "code",
   "execution_count": 71,
   "metadata": {
    "nbpresent": {
     "id": "13b318f6-089c-4a43-9d3d-36777f1f99ac"
    },
    "slideshow": {
     "slide_type": "fragment"
    }
   },
   "outputs": [
    {
     "data": {
      "text/html": [
       "<div>\n",
       "<style scoped>\n",
       "    .dataframe tbody tr th:only-of-type {\n",
       "        vertical-align: middle;\n",
       "    }\n",
       "\n",
       "    .dataframe tbody tr th {\n",
       "        vertical-align: top;\n",
       "    }\n",
       "\n",
       "    .dataframe thead th {\n",
       "        text-align: right;\n",
       "    }\n",
       "</style>\n",
       "<table border=\"1\" class=\"dataframe\">\n",
       "  <thead>\n",
       "    <tr style=\"text-align: right;\">\n",
       "      <th></th>\n",
       "      <th>age</th>\n",
       "      <th>sex</th>\n",
       "      <th>score</th>\n",
       "    </tr>\n",
       "  </thead>\n",
       "  <tbody>\n",
       "    <tr>\n",
       "      <th>john</th>\n",
       "      <td>18</td>\n",
       "      <td>m</td>\n",
       "      <td>120</td>\n",
       "    </tr>\n",
       "    <tr>\n",
       "      <th>mike</th>\n",
       "      <td>22</td>\n",
       "      <td>m</td>\n",
       "      <td>100</td>\n",
       "    </tr>\n",
       "    <tr>\n",
       "      <th>alice</th>\n",
       "      <td>43</td>\n",
       "      <td>f</td>\n",
       "      <td>95</td>\n",
       "    </tr>\n",
       "    <tr>\n",
       "      <th>lane</th>\n",
       "      <td>64</td>\n",
       "      <td>f</td>\n",
       "      <td>134</td>\n",
       "    </tr>\n",
       "    <tr>\n",
       "      <th>clark</th>\n",
       "      <td>19</td>\n",
       "      <td>m</td>\n",
       "      <td>140</td>\n",
       "    </tr>\n",
       "  </tbody>\n",
       "</table>\n",
       "</div>"
      ],
      "text/plain": [
       "       age sex  score\n",
       "john    18   m    120\n",
       "mike    22   m    100\n",
       "alice   43   f     95\n",
       "lane    64   f    134\n",
       "clark   19   m    140"
      ]
     },
     "execution_count": 71,
     "metadata": {},
     "output_type": "execute_result"
    }
   ],
   "source": [
    "df01.drop('passed',axis=1,inplace=True)\n",
    "df01"
   ]
  },
  {
   "cell_type": "code",
   "execution_count": 175,
   "metadata": {
    "nbpresent": {
     "id": "d46048cf-ef23-40df-b7a1-6a75afd3a84a"
    },
    "slideshow": {
     "slide_type": "subslide"
    }
   },
   "outputs": [
    {
     "ename": "AttributeError",
     "evalue": "'DataFrame' object has no attribute 'append'",
     "output_type": "error",
     "traceback": [
      "\u001b[0;31m---------------------------------------------------------------------------\u001b[0m",
      "\u001b[0;31mAttributeError\u001b[0m                            Traceback (most recent call last)",
      "\u001b[0;32m/tmp/ipykernel_94257/899274480.py\u001b[0m in \u001b[0;36m?\u001b[0;34m()\u001b[0m\n\u001b[1;32m      1\u001b[0m \u001b[0;31m# append添加新的行或者DataFrame对象到已有对象的尾部，产生新的DataFrame对象\u001b[0m\u001b[0;34m\u001b[0m\u001b[0;34m\u001b[0m\u001b[0m\n\u001b[1;32m      2\u001b[0m \u001b[0;31m# 但不会对已有对象进行更改\u001b[0m\u001b[0;34m\u001b[0m\u001b[0;34m\u001b[0m\u001b[0m\n\u001b[0;32m----> 3\u001b[0;31m df01.append(pd.Series([25,125,'m'],\n\u001b[0m\u001b[1;32m      4\u001b[0m     index=['age','score','sex'],name='steve'))\n",
      "\u001b[0;32m~/anaconda3/lib/python3.11/site-packages/pandas/core/generic.py\u001b[0m in \u001b[0;36m?\u001b[0;34m(self, name)\u001b[0m\n\u001b[1;32m   6200\u001b[0m             \u001b[0;32mand\u001b[0m \u001b[0mname\u001b[0m \u001b[0;32mnot\u001b[0m \u001b[0;32min\u001b[0m \u001b[0mself\u001b[0m\u001b[0;34m.\u001b[0m\u001b[0m_accessors\u001b[0m\u001b[0;34m\u001b[0m\u001b[0;34m\u001b[0m\u001b[0m\n\u001b[1;32m   6201\u001b[0m             \u001b[0;32mand\u001b[0m \u001b[0mself\u001b[0m\u001b[0;34m.\u001b[0m\u001b[0m_info_axis\u001b[0m\u001b[0;34m.\u001b[0m\u001b[0m_can_hold_identifiers_and_holds_name\u001b[0m\u001b[0;34m(\u001b[0m\u001b[0mname\u001b[0m\u001b[0;34m)\u001b[0m\u001b[0;34m\u001b[0m\u001b[0;34m\u001b[0m\u001b[0m\n\u001b[1;32m   6202\u001b[0m         ):\n\u001b[1;32m   6203\u001b[0m             \u001b[0;32mreturn\u001b[0m \u001b[0mself\u001b[0m\u001b[0;34m[\u001b[0m\u001b[0mname\u001b[0m\u001b[0;34m]\u001b[0m\u001b[0;34m\u001b[0m\u001b[0;34m\u001b[0m\u001b[0m\n\u001b[0;32m-> 6204\u001b[0;31m         \u001b[0;32mreturn\u001b[0m \u001b[0mobject\u001b[0m\u001b[0;34m.\u001b[0m\u001b[0m__getattribute__\u001b[0m\u001b[0;34m(\u001b[0m\u001b[0mself\u001b[0m\u001b[0;34m,\u001b[0m \u001b[0mname\u001b[0m\u001b[0;34m)\u001b[0m\u001b[0;34m\u001b[0m\u001b[0;34m\u001b[0m\u001b[0m\n\u001b[0m",
      "\u001b[0;31mAttributeError\u001b[0m: 'DataFrame' object has no attribute 'append'"
     ]
    }
   ],
   "source": [
    "# append添加新的行或者DataFrame对象到已有对象的尾部，产生新的DataFrame对象\n",
    "# 但不会对已有对象进行更改\n",
    "df01.append(pd.Series([25,125,'m'],\n",
    "    index=['age','score','sex'],name='steve'))"
   ]
  },
  {
   "cell_type": "code",
   "execution_count": 176,
   "metadata": {
    "nbpresent": {
     "id": "d69a7f82-516c-4d5d-9d79-b11a3757b874"
    },
    "slideshow": {
     "slide_type": "subslide"
    }
   },
   "outputs": [
    {
     "ename": "AttributeError",
     "evalue": "'DataFrame' object has no attribute 'append'",
     "output_type": "error",
     "traceback": [
      "\u001b[0;31m---------------------------------------------------------------------------\u001b[0m",
      "\u001b[0;31mAttributeError\u001b[0m                            Traceback (most recent call last)",
      "\u001b[0;32m/tmp/ipykernel_94257/1555180507.py\u001b[0m in \u001b[0;36m?\u001b[0;34m()\u001b[0m\n\u001b[0;32m----> 1\u001b[0;31m temp1=df01.append(pd.Series([25,125,'m'],\n\u001b[0m\u001b[1;32m      2\u001b[0m     index=['age','score','sex'],name='steve'))\n\u001b[1;32m      3\u001b[0m \u001b[0mtemp1\u001b[0m\u001b[0;34m.\u001b[0m\u001b[0mdrop\u001b[0m\u001b[0;34m(\u001b[0m\u001b[0;34m'steve'\u001b[0m\u001b[0;34m,\u001b[0m\u001b[0maxis\u001b[0m\u001b[0;34m=\u001b[0m\u001b[0;36m0\u001b[0m\u001b[0;34m)\u001b[0m\u001b[0;34m\u001b[0m\u001b[0;34m\u001b[0m\u001b[0m\n",
      "\u001b[0;32m~/anaconda3/lib/python3.11/site-packages/pandas/core/generic.py\u001b[0m in \u001b[0;36m?\u001b[0;34m(self, name)\u001b[0m\n\u001b[1;32m   6200\u001b[0m             \u001b[0;32mand\u001b[0m \u001b[0mname\u001b[0m \u001b[0;32mnot\u001b[0m \u001b[0;32min\u001b[0m \u001b[0mself\u001b[0m\u001b[0;34m.\u001b[0m\u001b[0m_accessors\u001b[0m\u001b[0;34m\u001b[0m\u001b[0;34m\u001b[0m\u001b[0m\n\u001b[1;32m   6201\u001b[0m             \u001b[0;32mand\u001b[0m \u001b[0mself\u001b[0m\u001b[0;34m.\u001b[0m\u001b[0m_info_axis\u001b[0m\u001b[0;34m.\u001b[0m\u001b[0m_can_hold_identifiers_and_holds_name\u001b[0m\u001b[0;34m(\u001b[0m\u001b[0mname\u001b[0m\u001b[0;34m)\u001b[0m\u001b[0;34m\u001b[0m\u001b[0;34m\u001b[0m\u001b[0m\n\u001b[1;32m   6202\u001b[0m         ):\n\u001b[1;32m   6203\u001b[0m             \u001b[0;32mreturn\u001b[0m \u001b[0mself\u001b[0m\u001b[0;34m[\u001b[0m\u001b[0mname\u001b[0m\u001b[0;34m]\u001b[0m\u001b[0;34m\u001b[0m\u001b[0;34m\u001b[0m\u001b[0m\n\u001b[0;32m-> 6204\u001b[0;31m         \u001b[0;32mreturn\u001b[0m \u001b[0mobject\u001b[0m\u001b[0;34m.\u001b[0m\u001b[0m__getattribute__\u001b[0m\u001b[0;34m(\u001b[0m\u001b[0mself\u001b[0m\u001b[0;34m,\u001b[0m \u001b[0mname\u001b[0m\u001b[0;34m)\u001b[0m\u001b[0;34m\u001b[0m\u001b[0;34m\u001b[0m\u001b[0m\n\u001b[0m",
      "\u001b[0;31mAttributeError\u001b[0m: 'DataFrame' object has no attribute 'append'"
     ]
    }
   ],
   "source": [
    "temp1=df01.append(pd.Series([25,125,'m'],\n",
    "    index=['age','score','sex'],name='steve'))\n",
    "temp1.drop('steve',axis=0)"
   ]
  },
  {
   "cell_type": "markdown",
   "metadata": {
    "nbpresent": {
     "id": "5387aa00-038c-4447-a3e3-80fdef44e05e"
    },
    "slideshow": {
     "slide_type": "subslide"
    }
   },
   "source": [
    "如果没有指定inplace=True，则实际数据并没有被清除"
   ]
  },
  {
   "cell_type": "code",
   "execution_count": 178,
   "metadata": {
    "nbpresent": {
     "id": "62ef3deb-2f76-43e6-9077-03bd732bcf51"
    },
    "slideshow": {
     "slide_type": "fragment"
    }
   },
   "outputs": [
    {
     "ename": "NameError",
     "evalue": "name 'temp1' is not defined",
     "output_type": "error",
     "traceback": [
      "\u001b[0;31m---------------------------------------------------------------------------\u001b[0m",
      "\u001b[0;31mNameError\u001b[0m                                 Traceback (most recent call last)",
      "Cell \u001b[0;32mIn[178], line 1\u001b[0m\n\u001b[0;32m----> 1\u001b[0m temp1\n",
      "\u001b[0;31mNameError\u001b[0m: name 'temp1' is not defined"
     ]
    }
   ],
   "source": [
    "temp1"
   ]
  },
  {
   "cell_type": "markdown",
   "metadata": {
    "slideshow": {
     "slide_type": "subslide"
    }
   },
   "source": [
    "### 索引的修改\n",
    "\n",
    "* 重新指定行索引，使用已有的列"
   ]
  },
  {
   "cell_type": "code",
   "execution_count": 179,
   "metadata": {
    "slideshow": {
     "slide_type": "subslide"
    }
   },
   "outputs": [
    {
     "data": {
      "text/html": [
       "<div>\n",
       "<style scoped>\n",
       "    .dataframe tbody tr th:only-of-type {\n",
       "        vertical-align: middle;\n",
       "    }\n",
       "\n",
       "    .dataframe tbody tr th {\n",
       "        vertical-align: top;\n",
       "    }\n",
       "\n",
       "    .dataframe thead th {\n",
       "        text-align: right;\n",
       "    }\n",
       "</style>\n",
       "<table border=\"1\" class=\"dataframe\">\n",
       "  <thead>\n",
       "    <tr style=\"text-align: right;\">\n",
       "      <th></th>\n",
       "      <th>ISO English Country Names</th>\n",
       "      <th>Alpha-2 Code</th>\n",
       "      <th>Alpha-3 Code</th>\n",
       "      <th>Numeric Code</th>\n",
       "    </tr>\n",
       "  </thead>\n",
       "  <tbody>\n",
       "    <tr>\n",
       "      <th>0</th>\n",
       "      <td>Afghanistan</td>\n",
       "      <td>AF</td>\n",
       "      <td>AFG</td>\n",
       "      <td>4</td>\n",
       "    </tr>\n",
       "    <tr>\n",
       "      <th>1</th>\n",
       "      <td>Aland Islands</td>\n",
       "      <td>AX</td>\n",
       "      <td>ALA</td>\n",
       "      <td>248</td>\n",
       "    </tr>\n",
       "    <tr>\n",
       "      <th>2</th>\n",
       "      <td>Albania</td>\n",
       "      <td>AL</td>\n",
       "      <td>ALB</td>\n",
       "      <td>8</td>\n",
       "    </tr>\n",
       "    <tr>\n",
       "      <th>3</th>\n",
       "      <td>Algeria</td>\n",
       "      <td>DZ</td>\n",
       "      <td>DZA</td>\n",
       "      <td>12</td>\n",
       "    </tr>\n",
       "    <tr>\n",
       "      <th>4</th>\n",
       "      <td>American Samoa</td>\n",
       "      <td>AS</td>\n",
       "      <td>ASM</td>\n",
       "      <td>16</td>\n",
       "    </tr>\n",
       "  </tbody>\n",
       "</table>\n",
       "</div>"
      ],
      "text/plain": [
       "  ISO English Country Names Alpha-2 Code Alpha-3 Code  Numeric Code\n",
       "0               Afghanistan           AF          AFG             4\n",
       "1             Aland Islands           AX          ALA           248\n",
       "2                   Albania           AL          ALB             8\n",
       "3                   Algeria           DZ          DZA            12\n",
       "4            American Samoa           AS          ASM            16"
      ]
     },
     "execution_count": 179,
     "metadata": {},
     "output_type": "execute_result"
    }
   ],
   "source": [
    "df01_d=pd.read_csv('data/country_code.csv')\n",
    "df01_d.head()"
   ]
  },
  {
   "cell_type": "code",
   "execution_count": 180,
   "metadata": {
    "slideshow": {
     "slide_type": "subslide"
    }
   },
   "outputs": [
    {
     "data": {
      "text/html": [
       "<div>\n",
       "<style scoped>\n",
       "    .dataframe tbody tr th:only-of-type {\n",
       "        vertical-align: middle;\n",
       "    }\n",
       "\n",
       "    .dataframe tbody tr th {\n",
       "        vertical-align: top;\n",
       "    }\n",
       "\n",
       "    .dataframe thead th {\n",
       "        text-align: right;\n",
       "    }\n",
       "</style>\n",
       "<table border=\"1\" class=\"dataframe\">\n",
       "  <thead>\n",
       "    <tr style=\"text-align: right;\">\n",
       "      <th></th>\n",
       "      <th>ISO English Country Names</th>\n",
       "      <th>Alpha-2 Code</th>\n",
       "      <th>Numeric Code</th>\n",
       "    </tr>\n",
       "    <tr>\n",
       "      <th>Alpha-3 Code</th>\n",
       "      <th></th>\n",
       "      <th></th>\n",
       "      <th></th>\n",
       "    </tr>\n",
       "  </thead>\n",
       "  <tbody>\n",
       "    <tr>\n",
       "      <th>AFG</th>\n",
       "      <td>Afghanistan</td>\n",
       "      <td>AF</td>\n",
       "      <td>4</td>\n",
       "    </tr>\n",
       "    <tr>\n",
       "      <th>ALA</th>\n",
       "      <td>Aland Islands</td>\n",
       "      <td>AX</td>\n",
       "      <td>248</td>\n",
       "    </tr>\n",
       "    <tr>\n",
       "      <th>ALB</th>\n",
       "      <td>Albania</td>\n",
       "      <td>AL</td>\n",
       "      <td>8</td>\n",
       "    </tr>\n",
       "    <tr>\n",
       "      <th>DZA</th>\n",
       "      <td>Algeria</td>\n",
       "      <td>DZ</td>\n",
       "      <td>12</td>\n",
       "    </tr>\n",
       "    <tr>\n",
       "      <th>ASM</th>\n",
       "      <td>American Samoa</td>\n",
       "      <td>AS</td>\n",
       "      <td>16</td>\n",
       "    </tr>\n",
       "  </tbody>\n",
       "</table>\n",
       "</div>"
      ],
      "text/plain": [
       "             ISO English Country Names Alpha-2 Code  Numeric Code\n",
       "Alpha-3 Code                                                     \n",
       "AFG                        Afghanistan           AF             4\n",
       "ALA                      Aland Islands           AX           248\n",
       "ALB                            Albania           AL             8\n",
       "DZA                            Algeria           DZ            12\n",
       "ASM                     American Samoa           AS            16"
      ]
     },
     "execution_count": 180,
     "metadata": {},
     "output_type": "execute_result"
    }
   ],
   "source": [
    "indexed_1 = df01_d.set_index('Alpha-3 Code')\n",
    "indexed_1.head()"
   ]
  },
  {
   "cell_type": "code",
   "execution_count": 77,
   "metadata": {
    "slideshow": {
     "slide_type": "subslide"
    }
   },
   "outputs": [
    {
     "data": {
      "text/html": [
       "<div>\n",
       "<style scoped>\n",
       "    .dataframe tbody tr th:only-of-type {\n",
       "        vertical-align: middle;\n",
       "    }\n",
       "\n",
       "    .dataframe tbody tr th {\n",
       "        vertical-align: top;\n",
       "    }\n",
       "\n",
       "    .dataframe thead th {\n",
       "        text-align: right;\n",
       "    }\n",
       "</style>\n",
       "<table border=\"1\" class=\"dataframe\">\n",
       "  <thead>\n",
       "    <tr style=\"text-align: right;\">\n",
       "      <th></th>\n",
       "      <th>ISO English Country Names</th>\n",
       "      <th>Alpha-2 Code</th>\n",
       "      <th>Alpha-3 Code</th>\n",
       "    </tr>\n",
       "    <tr>\n",
       "      <th>Numeric Code</th>\n",
       "      <th></th>\n",
       "      <th></th>\n",
       "      <th></th>\n",
       "    </tr>\n",
       "  </thead>\n",
       "  <tbody>\n",
       "    <tr>\n",
       "      <th>4</th>\n",
       "      <td>Afghanistan</td>\n",
       "      <td>AF</td>\n",
       "      <td>AFG</td>\n",
       "    </tr>\n",
       "    <tr>\n",
       "      <th>248</th>\n",
       "      <td>Aland Islands</td>\n",
       "      <td>AX</td>\n",
       "      <td>ALA</td>\n",
       "    </tr>\n",
       "    <tr>\n",
       "      <th>8</th>\n",
       "      <td>Albania</td>\n",
       "      <td>AL</td>\n",
       "      <td>ALB</td>\n",
       "    </tr>\n",
       "    <tr>\n",
       "      <th>12</th>\n",
       "      <td>Algeria</td>\n",
       "      <td>DZ</td>\n",
       "      <td>DZA</td>\n",
       "    </tr>\n",
       "    <tr>\n",
       "      <th>16</th>\n",
       "      <td>American Samoa</td>\n",
       "      <td>AS</td>\n",
       "      <td>ASM</td>\n",
       "    </tr>\n",
       "  </tbody>\n",
       "</table>\n",
       "</div>"
      ],
      "text/plain": [
       "             ISO English Country Names Alpha-2 Code Alpha-3 Code\n",
       "Numeric Code                                                    \n",
       "4                          Afghanistan           AF          AFG\n",
       "248                      Aland Islands           AX          ALA\n",
       "8                              Albania           AL          ALB\n",
       "12                             Algeria           DZ          DZA\n",
       "16                      American Samoa           AS          ASM"
      ]
     },
     "execution_count": 77,
     "metadata": {},
     "output_type": "execute_result"
    }
   ],
   "source": [
    "df01_d.set_index('Numeric Code', inplace = True)\n",
    "df01_d.head()"
   ]
  },
  {
   "cell_type": "markdown",
   "metadata": {
    "slideshow": {
     "slide_type": "subslide"
    }
   },
   "source": [
    "* 替换当前的索引\n",
    "\n",
    "使用新的索引替换当前索引，数据没有改变，索引变了"
   ]
  },
  {
   "cell_type": "code",
   "execution_count": 78,
   "metadata": {
    "slideshow": {
     "slide_type": "subslide"
    }
   },
   "outputs": [
    {
     "data": {
      "text/html": [
       "<div>\n",
       "<style scoped>\n",
       "    .dataframe tbody tr th:only-of-type {\n",
       "        vertical-align: middle;\n",
       "    }\n",
       "\n",
       "    .dataframe tbody tr th {\n",
       "        vertical-align: top;\n",
       "    }\n",
       "\n",
       "    .dataframe thead th {\n",
       "        text-align: right;\n",
       "    }\n",
       "</style>\n",
       "<table border=\"1\" class=\"dataframe\">\n",
       "  <thead>\n",
       "    <tr style=\"text-align: right;\">\n",
       "      <th></th>\n",
       "      <th>age</th>\n",
       "      <th>sex</th>\n",
       "      <th>score</th>\n",
       "    </tr>\n",
       "  </thead>\n",
       "  <tbody>\n",
       "    <tr>\n",
       "      <th>j</th>\n",
       "      <td>18</td>\n",
       "      <td>m</td>\n",
       "      <td>120</td>\n",
       "    </tr>\n",
       "    <tr>\n",
       "      <th>m</th>\n",
       "      <td>22</td>\n",
       "      <td>m</td>\n",
       "      <td>100</td>\n",
       "    </tr>\n",
       "    <tr>\n",
       "      <th>a</th>\n",
       "      <td>43</td>\n",
       "      <td>f</td>\n",
       "      <td>95</td>\n",
       "    </tr>\n",
       "    <tr>\n",
       "      <th>l</th>\n",
       "      <td>64</td>\n",
       "      <td>f</td>\n",
       "      <td>134</td>\n",
       "    </tr>\n",
       "    <tr>\n",
       "      <th>c</th>\n",
       "      <td>19</td>\n",
       "      <td>m</td>\n",
       "      <td>140</td>\n",
       "    </tr>\n",
       "  </tbody>\n",
       "</table>\n",
       "</div>"
      ],
      "text/plain": [
       "   age sex  score\n",
       "j   18   m    120\n",
       "m   22   m    100\n",
       "a   43   f     95\n",
       "l   64   f    134\n",
       "c   19   m    140"
      ]
     },
     "execution_count": 78,
     "metadata": {},
     "output_type": "execute_result"
    }
   ],
   "source": [
    "df01.index = [i[0] for i in df01.index]\n",
    "df01"
   ]
  },
  {
   "cell_type": "markdown",
   "metadata": {
    "slideshow": {
     "slide_type": "subslide"
    }
   },
   "source": [
    "### 挑战（看起来简单，其实不是）\n",
    "使用babyname，新建列，记录\n",
    "1. 每个小孩姓名的首字母；\n",
    "2. 每个小孩名字的尾字母；\n",
    "3. 每个小孩名字的长度。"
   ]
  },
  {
   "cell_type": "code",
   "execution_count": 186,
   "metadata": {},
   "outputs": [
    {
     "data": {
      "text/html": [
       "<div>\n",
       "<style scoped>\n",
       "    .dataframe tbody tr th:only-of-type {\n",
       "        vertical-align: middle;\n",
       "    }\n",
       "\n",
       "    .dataframe tbody tr th {\n",
       "        vertical-align: top;\n",
       "    }\n",
       "\n",
       "    .dataframe thead th {\n",
       "        text-align: right;\n",
       "    }\n",
       "</style>\n",
       "<table border=\"1\" class=\"dataframe\">\n",
       "  <thead>\n",
       "    <tr style=\"text-align: right;\">\n",
       "      <th></th>\n",
       "      <th>name</th>\n",
       "      <th>sex</th>\n",
       "      <th>births</th>\n",
       "      <th>first</th>\n",
       "      <th>end</th>\n",
       "      <th>name_len</th>\n",
       "    </tr>\n",
       "  </thead>\n",
       "  <tbody>\n",
       "    <tr>\n",
       "      <th>0</th>\n",
       "      <td>Isabella</td>\n",
       "      <td>F</td>\n",
       "      <td>15156</td>\n",
       "      <td>I</td>\n",
       "      <td>a</td>\n",
       "      <td>8</td>\n",
       "    </tr>\n",
       "    <tr>\n",
       "      <th>1</th>\n",
       "      <td>Hannah</td>\n",
       "      <td>F</td>\n",
       "      <td>14828</td>\n",
       "      <td>H</td>\n",
       "      <td>h</td>\n",
       "      <td>6</td>\n",
       "    </tr>\n",
       "    <tr>\n",
       "      <th>2</th>\n",
       "      <td>Samantha</td>\n",
       "      <td>F</td>\n",
       "      <td>13628</td>\n",
       "      <td>S</td>\n",
       "      <td>a</td>\n",
       "      <td>8</td>\n",
       "    </tr>\n",
       "    <tr>\n",
       "      <th>3</th>\n",
       "      <td>Ava</td>\n",
       "      <td>F</td>\n",
       "      <td>13594</td>\n",
       "      <td>A</td>\n",
       "      <td>a</td>\n",
       "      <td>3</td>\n",
       "    </tr>\n",
       "    <tr>\n",
       "      <th>4</th>\n",
       "      <td>Ashley</td>\n",
       "      <td>F</td>\n",
       "      <td>13262</td>\n",
       "      <td>A</td>\n",
       "      <td>y</td>\n",
       "      <td>6</td>\n",
       "    </tr>\n",
       "  </tbody>\n",
       "</table>\n",
       "</div>"
      ],
      "text/plain": [
       "       name sex  births first end  name_len\n",
       "0  Isabella   F   15156     I   a         8\n",
       "1    Hannah   F   14828     H   h         6\n",
       "2  Samantha   F   13628     S   a         8\n",
       "3       Ava   F   13594     A   a         3\n",
       "4    Ashley   F   13262     A   y         6"
      ]
     },
     "execution_count": 186,
     "metadata": {},
     "output_type": "execute_result"
    }
   ],
   "source": [
    "# 1\n",
    "babynames['first'] = babynames.name.apply(lambda x: x[0])\n",
    "babynames['end'] = babynames.name.apply(lambda x: x[-1])\n",
    "babynames['name_len'] = babynames.name.apply(lambda x: len(x))\n",
    "babynames.head()"
   ]
  },
  {
   "cell_type": "code",
   "execution_count": 187,
   "metadata": {},
   "outputs": [
    {
     "data": {
      "text/html": [
       "<div>\n",
       "<style scoped>\n",
       "    .dataframe tbody tr th:only-of-type {\n",
       "        vertical-align: middle;\n",
       "    }\n",
       "\n",
       "    .dataframe tbody tr th {\n",
       "        vertical-align: top;\n",
       "    }\n",
       "\n",
       "    .dataframe thead th {\n",
       "        text-align: right;\n",
       "    }\n",
       "</style>\n",
       "<table border=\"1\" class=\"dataframe\">\n",
       "  <thead>\n",
       "    <tr style=\"text-align: right;\">\n",
       "      <th></th>\n",
       "      <th>name</th>\n",
       "      <th>sex</th>\n",
       "      <th>births</th>\n",
       "      <th>first</th>\n",
       "      <th>end</th>\n",
       "      <th>name_len</th>\n",
       "    </tr>\n",
       "  </thead>\n",
       "  <tbody>\n",
       "    <tr>\n",
       "      <th>0</th>\n",
       "      <td>Isabella</td>\n",
       "      <td>F</td>\n",
       "      <td>15156</td>\n",
       "      <td>I</td>\n",
       "      <td>a</td>\n",
       "      <td>8</td>\n",
       "    </tr>\n",
       "    <tr>\n",
       "      <th>1</th>\n",
       "      <td>Hannah</td>\n",
       "      <td>F</td>\n",
       "      <td>14828</td>\n",
       "      <td>H</td>\n",
       "      <td>h</td>\n",
       "      <td>6</td>\n",
       "    </tr>\n",
       "    <tr>\n",
       "      <th>2</th>\n",
       "      <td>Samantha</td>\n",
       "      <td>F</td>\n",
       "      <td>13628</td>\n",
       "      <td>S</td>\n",
       "      <td>a</td>\n",
       "      <td>8</td>\n",
       "    </tr>\n",
       "    <tr>\n",
       "      <th>3</th>\n",
       "      <td>Ava</td>\n",
       "      <td>F</td>\n",
       "      <td>13594</td>\n",
       "      <td>A</td>\n",
       "      <td>a</td>\n",
       "      <td>3</td>\n",
       "    </tr>\n",
       "    <tr>\n",
       "      <th>4</th>\n",
       "      <td>Ashley</td>\n",
       "      <td>F</td>\n",
       "      <td>13262</td>\n",
       "      <td>A</td>\n",
       "      <td>y</td>\n",
       "      <td>6</td>\n",
       "    </tr>\n",
       "  </tbody>\n",
       "</table>\n",
       "</div>"
      ],
      "text/plain": [
       "       name sex  births first end  name_len\n",
       "0  Isabella   F   15156     I   a         8\n",
       "1    Hannah   F   14828     H   h         6\n",
       "2  Samantha   F   13628     S   a         8\n",
       "3       Ava   F   13594     A   a         3\n",
       "4    Ashley   F   13262     A   y         6"
      ]
     },
     "execution_count": 187,
     "metadata": {},
     "output_type": "execute_result"
    }
   ],
   "source": [
    "# 2\n",
    "first_letters = [name[0] for name in babynames.name]\n",
    "babynames['first'] = [name[0] for name in babynames.name]\n",
    "babynames['end'] = [name[-1] for name in babynames.name]\n",
    "babynames['name_len'] = [len(name) for name in babynames.name]\n",
    "babynames.head()"
   ]
  },
  {
   "cell_type": "code",
   "execution_count": 190,
   "metadata": {},
   "outputs": [
    {
     "data": {
      "text/html": [
       "<div>\n",
       "<style scoped>\n",
       "    .dataframe tbody tr th:only-of-type {\n",
       "        vertical-align: middle;\n",
       "    }\n",
       "\n",
       "    .dataframe tbody tr th {\n",
       "        vertical-align: top;\n",
       "    }\n",
       "\n",
       "    .dataframe thead th {\n",
       "        text-align: right;\n",
       "    }\n",
       "</style>\n",
       "<table border=\"1\" class=\"dataframe\">\n",
       "  <thead>\n",
       "    <tr style=\"text-align: right;\">\n",
       "      <th></th>\n",
       "      <th>name</th>\n",
       "      <th>sex</th>\n",
       "      <th>births</th>\n",
       "      <th>first</th>\n",
       "      <th>end</th>\n",
       "      <th>name_len</th>\n",
       "    </tr>\n",
       "  </thead>\n",
       "  <tbody>\n",
       "    <tr>\n",
       "      <th>0</th>\n",
       "      <td>Isabella</td>\n",
       "      <td>F</td>\n",
       "      <td>15156</td>\n",
       "      <td>I</td>\n",
       "      <td>a</td>\n",
       "      <td>8</td>\n",
       "    </tr>\n",
       "    <tr>\n",
       "      <th>1</th>\n",
       "      <td>Hannah</td>\n",
       "      <td>F</td>\n",
       "      <td>14828</td>\n",
       "      <td>H</td>\n",
       "      <td>h</td>\n",
       "      <td>6</td>\n",
       "    </tr>\n",
       "    <tr>\n",
       "      <th>2</th>\n",
       "      <td>Samantha</td>\n",
       "      <td>F</td>\n",
       "      <td>13628</td>\n",
       "      <td>S</td>\n",
       "      <td>a</td>\n",
       "      <td>8</td>\n",
       "    </tr>\n",
       "    <tr>\n",
       "      <th>3</th>\n",
       "      <td>Ava</td>\n",
       "      <td>F</td>\n",
       "      <td>13594</td>\n",
       "      <td>A</td>\n",
       "      <td>a</td>\n",
       "      <td>3</td>\n",
       "    </tr>\n",
       "    <tr>\n",
       "      <th>4</th>\n",
       "      <td>Ashley</td>\n",
       "      <td>F</td>\n",
       "      <td>13262</td>\n",
       "      <td>A</td>\n",
       "      <td>y</td>\n",
       "      <td>6</td>\n",
       "    </tr>\n",
       "  </tbody>\n",
       "</table>\n",
       "</div>"
      ],
      "text/plain": [
       "       name sex  births first end  name_len\n",
       "0  Isabella   F   15156     I   a         8\n",
       "1    Hannah   F   14828     H   h         6\n",
       "2  Samantha   F   13628     S   a         8\n",
       "3       Ava   F   13594     A   a         3\n",
       "4    Ashley   F   13262     A   y         6"
      ]
     },
     "execution_count": 190,
     "metadata": {},
     "output_type": "execute_result"
    }
   ],
   "source": [
    "# 3\n",
    "babynames['first'] = babynames.name.str[0]\n",
    "babynames['end'] = babynames.name.str[-1]\n",
    "babynames['name_len'] = babynames.name.str.len()\n",
    "babynames.head()"
   ]
  },
  {
   "cell_type": "markdown",
   "metadata": {
    "slideshow": {
     "slide_type": "subslide"
    }
   },
   "source": [
    "* 重建索引\n",
    "\n",
    "将数据按照新的索引重新排列。若引入了新的索引，则对应数据使用缺失值填充。\n",
    "\n",
    "reindex也可以应用于列索引，需要使用column关键字指定。"
   ]
  },
  {
   "cell_type": "code",
   "execution_count": 79,
   "metadata": {
    "slideshow": {
     "slide_type": "subslide"
    }
   },
   "outputs": [
    {
     "data": {
      "text/html": [
       "<div>\n",
       "<style scoped>\n",
       "    .dataframe tbody tr th:only-of-type {\n",
       "        vertical-align: middle;\n",
       "    }\n",
       "\n",
       "    .dataframe tbody tr th {\n",
       "        vertical-align: top;\n",
       "    }\n",
       "\n",
       "    .dataframe thead th {\n",
       "        text-align: right;\n",
       "    }\n",
       "</style>\n",
       "<table border=\"1\" class=\"dataframe\">\n",
       "  <thead>\n",
       "    <tr style=\"text-align: right;\">\n",
       "      <th></th>\n",
       "      <th>age</th>\n",
       "      <th>sex</th>\n",
       "      <th>score</th>\n",
       "    </tr>\n",
       "  </thead>\n",
       "  <tbody>\n",
       "    <tr>\n",
       "      <th>a</th>\n",
       "      <td>43.0</td>\n",
       "      <td>f</td>\n",
       "      <td>95.0</td>\n",
       "    </tr>\n",
       "    <tr>\n",
       "      <th>b</th>\n",
       "      <td>NaN</td>\n",
       "      <td>NaN</td>\n",
       "      <td>NaN</td>\n",
       "    </tr>\n",
       "    <tr>\n",
       "      <th>c</th>\n",
       "      <td>19.0</td>\n",
       "      <td>m</td>\n",
       "      <td>140.0</td>\n",
       "    </tr>\n",
       "    <tr>\n",
       "      <th>j</th>\n",
       "      <td>18.0</td>\n",
       "      <td>m</td>\n",
       "      <td>120.0</td>\n",
       "    </tr>\n",
       "    <tr>\n",
       "      <th>m</th>\n",
       "      <td>22.0</td>\n",
       "      <td>m</td>\n",
       "      <td>100.0</td>\n",
       "    </tr>\n",
       "    <tr>\n",
       "      <th>l</th>\n",
       "      <td>64.0</td>\n",
       "      <td>f</td>\n",
       "      <td>134.0</td>\n",
       "    </tr>\n",
       "  </tbody>\n",
       "</table>\n",
       "</div>"
      ],
      "text/plain": [
       "    age  sex  score\n",
       "a  43.0    f   95.0\n",
       "b   NaN  NaN    NaN\n",
       "c  19.0    m  140.0\n",
       "j  18.0    m  120.0\n",
       "m  22.0    m  100.0\n",
       "l  64.0    f  134.0"
      ]
     },
     "execution_count": 79,
     "metadata": {},
     "output_type": "execute_result"
    }
   ],
   "source": [
    "df_reindex = df01.reindex(list('abcjml'))  # 使用这个方法时，不能有重复索引\n",
    "df_reindex"
   ]
  },
  {
   "cell_type": "markdown",
   "metadata": {
    "slideshow": {
     "slide_type": "subslide"
    }
   },
   "source": [
    "注意索引的三种修改方式具有不同的含义，需要好好比较。\n",
    "\n",
    "* reindex 不改变数据对应关系\n",
    "\n",
    "* setindex改变了索引列\n",
    "\n",
    "* d.index = other改变了数据与索引对应关系"
   ]
  },
  {
   "cell_type": "code",
   "execution_count": null,
   "metadata": {
    "slideshow": {
     "slide_type": "fragment"
    }
   },
   "outputs": [],
   "source": [
    "babynames.head()"
   ]
  },
  {
   "cell_type": "markdown",
   "metadata": {
    "slideshow": {
     "slide_type": "subslide"
    }
   },
   "source": [
    "Series和index对象支持str属性用于字符串的向量化处理。\n",
    "\n",
    "通过这个属性访问的字符串函数可以实现元素级运算。"
   ]
  },
  {
   "cell_type": "markdown",
   "metadata": {
    "nbpresent": {
     "id": "cc8a3096-5c06-4b30-87d6-3fb63d116814"
    },
    "slideshow": {
     "slide_type": "slide"
    }
   },
   "source": [
    "__对数据的修改：__\n",
    "\n",
    "首先选择需要修改的单元或区域\n",
    "\n",
    "然后对其进行赋值。\n",
    "\n"
   ]
  },
  {
   "cell_type": "code",
   "execution_count": 80,
   "metadata": {
    "nbpresent": {
     "id": "cf4286cd-961a-4253-8e55-6a0624629cbd"
    },
    "slideshow": {
     "slide_type": "subslide"
    }
   },
   "outputs": [
    {
     "data": {
      "text/html": [
       "<div>\n",
       "<style scoped>\n",
       "    .dataframe tbody tr th:only-of-type {\n",
       "        vertical-align: middle;\n",
       "    }\n",
       "\n",
       "    .dataframe tbody tr th {\n",
       "        vertical-align: top;\n",
       "    }\n",
       "\n",
       "    .dataframe thead th {\n",
       "        text-align: right;\n",
       "    }\n",
       "</style>\n",
       "<table border=\"1\" class=\"dataframe\">\n",
       "  <thead>\n",
       "    <tr style=\"text-align: right;\">\n",
       "      <th></th>\n",
       "      <th>col1</th>\n",
       "      <th>col2</th>\n",
       "      <th>col3</th>\n",
       "      <th>col4</th>\n",
       "    </tr>\n",
       "  </thead>\n",
       "  <tbody>\n",
       "    <tr>\n",
       "      <th>row1</th>\n",
       "      <td>0</td>\n",
       "      <td>0</td>\n",
       "      <td>2</td>\n",
       "      <td>3</td>\n",
       "    </tr>\n",
       "    <tr>\n",
       "      <th>row2</th>\n",
       "      <td>4</td>\n",
       "      <td>0</td>\n",
       "      <td>6</td>\n",
       "      <td>7</td>\n",
       "    </tr>\n",
       "    <tr>\n",
       "      <th>row3</th>\n",
       "      <td>8</td>\n",
       "      <td>0</td>\n",
       "      <td>10</td>\n",
       "      <td>11</td>\n",
       "    </tr>\n",
       "    <tr>\n",
       "      <th>row4</th>\n",
       "      <td>12</td>\n",
       "      <td>0</td>\n",
       "      <td>14</td>\n",
       "      <td>15</td>\n",
       "    </tr>\n",
       "    <tr>\n",
       "      <th>row5</th>\n",
       "      <td>16</td>\n",
       "      <td>0</td>\n",
       "      <td>18</td>\n",
       "      <td>19</td>\n",
       "    </tr>\n",
       "    <tr>\n",
       "      <th>row6</th>\n",
       "      <td>20</td>\n",
       "      <td>0</td>\n",
       "      <td>22</td>\n",
       "      <td>23</td>\n",
       "    </tr>\n",
       "  </tbody>\n",
       "</table>\n",
       "</div>"
      ],
      "text/plain": [
       "      col1  col2  col3  col4\n",
       "row1     0     0     2     3\n",
       "row2     4     0     6     7\n",
       "row3     8     0    10    11\n",
       "row4    12     0    14    15\n",
       "row5    16     0    18    19\n",
       "row6    20     0    22    23"
      ]
     },
     "execution_count": 80,
     "metadata": {},
     "output_type": "execute_result"
    }
   ],
   "source": [
    "df02['col2']=0\n",
    "df02"
   ]
  },
  {
   "cell_type": "markdown",
   "metadata": {
    "collapsed": true,
    "nbpresent": {
     "id": "d9ce1316-03f6-4b4c-8b5e-7e43aeaaf33f"
    },
    "slideshow": {
     "slide_type": "subslide"
    }
   },
   "source": [
    "若使用Series给DataFrame对象赋值，则赋值过程会自动进行索引对齐（只对相同索引的记录进行操作）"
   ]
  },
  {
   "cell_type": "code",
   "execution_count": 81,
   "metadata": {
    "nbpresent": {
     "id": "dd8ac8a5-0ca0-4e63-8c69-c68cbdec309a"
    },
    "slideshow": {
     "slide_type": "fragment"
    }
   },
   "outputs": [
    {
     "data": {
      "text/html": [
       "<div>\n",
       "<style scoped>\n",
       "    .dataframe tbody tr th:only-of-type {\n",
       "        vertical-align: middle;\n",
       "    }\n",
       "\n",
       "    .dataframe tbody tr th {\n",
       "        vertical-align: top;\n",
       "    }\n",
       "\n",
       "    .dataframe thead th {\n",
       "        text-align: right;\n",
       "    }\n",
       "</style>\n",
       "<table border=\"1\" class=\"dataframe\">\n",
       "  <thead>\n",
       "    <tr style=\"text-align: right;\">\n",
       "      <th></th>\n",
       "      <th>col1</th>\n",
       "      <th>col2</th>\n",
       "      <th>col3</th>\n",
       "      <th>col4</th>\n",
       "    </tr>\n",
       "  </thead>\n",
       "  <tbody>\n",
       "    <tr>\n",
       "      <th>row1</th>\n",
       "      <td>3.0</td>\n",
       "      <td>0</td>\n",
       "      <td>2</td>\n",
       "      <td>3</td>\n",
       "    </tr>\n",
       "    <tr>\n",
       "      <th>row2</th>\n",
       "      <td>NaN</td>\n",
       "      <td>0</td>\n",
       "      <td>6</td>\n",
       "      <td>7</td>\n",
       "    </tr>\n",
       "    <tr>\n",
       "      <th>row3</th>\n",
       "      <td>4.0</td>\n",
       "      <td>0</td>\n",
       "      <td>10</td>\n",
       "      <td>11</td>\n",
       "    </tr>\n",
       "    <tr>\n",
       "      <th>row4</th>\n",
       "      <td>NaN</td>\n",
       "      <td>0</td>\n",
       "      <td>14</td>\n",
       "      <td>15</td>\n",
       "    </tr>\n",
       "    <tr>\n",
       "      <th>row5</th>\n",
       "      <td>5.0</td>\n",
       "      <td>0</td>\n",
       "      <td>18</td>\n",
       "      <td>19</td>\n",
       "    </tr>\n",
       "    <tr>\n",
       "      <th>row6</th>\n",
       "      <td>NaN</td>\n",
       "      <td>0</td>\n",
       "      <td>22</td>\n",
       "      <td>23</td>\n",
       "    </tr>\n",
       "  </tbody>\n",
       "</table>\n",
       "</div>"
      ],
      "text/plain": [
       "      col1  col2  col3  col4\n",
       "row1   3.0     0     2     3\n",
       "row2   NaN     0     6     7\n",
       "row3   4.0     0    10    11\n",
       "row4   NaN     0    14    15\n",
       "row5   5.0     0    18    19\n",
       "row6   NaN     0    22    23"
      ]
     },
     "execution_count": 81,
     "metadata": {},
     "output_type": "execute_result"
    }
   ],
   "source": [
    "ser03=Series([3,4,5],\n",
    "             index=['row1','row3','row5'])\n",
    "df02['col1']=ser03\n",
    "df02"
   ]
  },
  {
   "cell_type": "markdown",
   "metadata": {
    "nbpresent": {
     "id": "129b6b78-abe1-4cd6-be4b-4c62d5e74652"
    },
    "slideshow": {
     "slide_type": "subslide"
    }
   },
   "source": [
    "注意在以上的对齐操作过程中，由于有一些索引未找到对应值，产生了空值——NaN, not a number.\n",
    "\n",
    "空值即numpy中的np.nan"
   ]
  },
  {
   "cell_type": "markdown",
   "metadata": {
    "nbpresent": {
     "id": "03f97450-13f1-4b5e-ab18-42a1638ceea8"
    },
    "slideshow": {
     "slide_type": "slide"
    }
   },
   "source": [
    "__空值的处理__\n",
    "\n",
    "在处理过程中，可以将空值除去或者对空值进行填充。\n",
    "\n",
    "* DataFrame.dropna()  清除含有空值的记录\n",
    "* DataFrame.fillna(value=value)  使用特定value来填充空值"
   ]
  },
  {
   "cell_type": "code",
   "execution_count": 82,
   "metadata": {
    "nbpresent": {
     "id": "01da890d-c640-4946-8cd3-4dabcd23fb58"
    },
    "slideshow": {
     "slide_type": "subslide"
    }
   },
   "outputs": [
    {
     "data": {
      "text/html": [
       "<div>\n",
       "<style scoped>\n",
       "    .dataframe tbody tr th:only-of-type {\n",
       "        vertical-align: middle;\n",
       "    }\n",
       "\n",
       "    .dataframe tbody tr th {\n",
       "        vertical-align: top;\n",
       "    }\n",
       "\n",
       "    .dataframe thead th {\n",
       "        text-align: right;\n",
       "    }\n",
       "</style>\n",
       "<table border=\"1\" class=\"dataframe\">\n",
       "  <thead>\n",
       "    <tr style=\"text-align: right;\">\n",
       "      <th></th>\n",
       "      <th>col2</th>\n",
       "      <th>col3</th>\n",
       "      <th>col4</th>\n",
       "    </tr>\n",
       "  </thead>\n",
       "  <tbody>\n",
       "    <tr>\n",
       "      <th>row1</th>\n",
       "      <td>0</td>\n",
       "      <td>2</td>\n",
       "      <td>3</td>\n",
       "    </tr>\n",
       "    <tr>\n",
       "      <th>row2</th>\n",
       "      <td>0</td>\n",
       "      <td>6</td>\n",
       "      <td>7</td>\n",
       "    </tr>\n",
       "    <tr>\n",
       "      <th>row3</th>\n",
       "      <td>0</td>\n",
       "      <td>10</td>\n",
       "      <td>11</td>\n",
       "    </tr>\n",
       "    <tr>\n",
       "      <th>row4</th>\n",
       "      <td>0</td>\n",
       "      <td>14</td>\n",
       "      <td>15</td>\n",
       "    </tr>\n",
       "    <tr>\n",
       "      <th>row5</th>\n",
       "      <td>0</td>\n",
       "      <td>18</td>\n",
       "      <td>19</td>\n",
       "    </tr>\n",
       "    <tr>\n",
       "      <th>row6</th>\n",
       "      <td>0</td>\n",
       "      <td>22</td>\n",
       "      <td>23</td>\n",
       "    </tr>\n",
       "  </tbody>\n",
       "</table>\n",
       "</div>"
      ],
      "text/plain": [
       "      col2  col3  col4\n",
       "row1     0     2     3\n",
       "row2     0     6     7\n",
       "row3     0    10    11\n",
       "row4     0    14    15\n",
       "row5     0    18    19\n",
       "row6     0    22    23"
      ]
     },
     "execution_count": 82,
     "metadata": {},
     "output_type": "execute_result"
    }
   ],
   "source": [
    "df02.dropna(axis=1,how='any')"
   ]
  },
  {
   "cell_type": "code",
   "execution_count": 83,
   "metadata": {
    "nbpresent": {
     "id": "96b25b22-646e-4f03-b7bf-0ca74237f549"
    },
    "slideshow": {
     "slide_type": "subslide"
    }
   },
   "outputs": [
    {
     "data": {
      "text/html": [
       "<div>\n",
       "<style scoped>\n",
       "    .dataframe tbody tr th:only-of-type {\n",
       "        vertical-align: middle;\n",
       "    }\n",
       "\n",
       "    .dataframe tbody tr th {\n",
       "        vertical-align: top;\n",
       "    }\n",
       "\n",
       "    .dataframe thead th {\n",
       "        text-align: right;\n",
       "    }\n",
       "</style>\n",
       "<table border=\"1\" class=\"dataframe\">\n",
       "  <thead>\n",
       "    <tr style=\"text-align: right;\">\n",
       "      <th></th>\n",
       "      <th>col1</th>\n",
       "      <th>col2</th>\n",
       "      <th>col3</th>\n",
       "      <th>col4</th>\n",
       "    </tr>\n",
       "  </thead>\n",
       "  <tbody>\n",
       "    <tr>\n",
       "      <th>row1</th>\n",
       "      <td>3.0</td>\n",
       "      <td>0</td>\n",
       "      <td>2</td>\n",
       "      <td>3</td>\n",
       "    </tr>\n",
       "    <tr>\n",
       "      <th>row2</th>\n",
       "      <td>NaN</td>\n",
       "      <td>0</td>\n",
       "      <td>6</td>\n",
       "      <td>7</td>\n",
       "    </tr>\n",
       "    <tr>\n",
       "      <th>row3</th>\n",
       "      <td>4.0</td>\n",
       "      <td>0</td>\n",
       "      <td>10</td>\n",
       "      <td>11</td>\n",
       "    </tr>\n",
       "    <tr>\n",
       "      <th>row4</th>\n",
       "      <td>NaN</td>\n",
       "      <td>0</td>\n",
       "      <td>14</td>\n",
       "      <td>15</td>\n",
       "    </tr>\n",
       "    <tr>\n",
       "      <th>row5</th>\n",
       "      <td>5.0</td>\n",
       "      <td>0</td>\n",
       "      <td>18</td>\n",
       "      <td>19</td>\n",
       "    </tr>\n",
       "    <tr>\n",
       "      <th>row6</th>\n",
       "      <td>NaN</td>\n",
       "      <td>0</td>\n",
       "      <td>22</td>\n",
       "      <td>23</td>\n",
       "    </tr>\n",
       "  </tbody>\n",
       "</table>\n",
       "</div>"
      ],
      "text/plain": [
       "      col1  col2  col3  col4\n",
       "row1   3.0     0     2     3\n",
       "row2   NaN     0     6     7\n",
       "row3   4.0     0    10    11\n",
       "row4   NaN     0    14    15\n",
       "row5   5.0     0    18    19\n",
       "row6   NaN     0    22    23"
      ]
     },
     "execution_count": 83,
     "metadata": {},
     "output_type": "execute_result"
    }
   ],
   "source": [
    "df02.dropna(axis=0,how='all')"
   ]
  },
  {
   "cell_type": "code",
   "execution_count": 84,
   "metadata": {
    "nbpresent": {
     "id": "d7270ec3-781d-4277-946a-45e966a7bfbf"
    },
    "slideshow": {
     "slide_type": "subslide"
    }
   },
   "outputs": [
    {
     "data": {
      "text/html": [
       "<div>\n",
       "<style scoped>\n",
       "    .dataframe tbody tr th:only-of-type {\n",
       "        vertical-align: middle;\n",
       "    }\n",
       "\n",
       "    .dataframe tbody tr th {\n",
       "        vertical-align: top;\n",
       "    }\n",
       "\n",
       "    .dataframe thead th {\n",
       "        text-align: right;\n",
       "    }\n",
       "</style>\n",
       "<table border=\"1\" class=\"dataframe\">\n",
       "  <thead>\n",
       "    <tr style=\"text-align: right;\">\n",
       "      <th></th>\n",
       "      <th>col1</th>\n",
       "      <th>col2</th>\n",
       "      <th>col3</th>\n",
       "      <th>col4</th>\n",
       "    </tr>\n",
       "  </thead>\n",
       "  <tbody>\n",
       "    <tr>\n",
       "      <th>row1</th>\n",
       "      <td>3.0</td>\n",
       "      <td>0</td>\n",
       "      <td>2</td>\n",
       "      <td>3</td>\n",
       "    </tr>\n",
       "    <tr>\n",
       "      <th>row2</th>\n",
       "      <td>0.0</td>\n",
       "      <td>0</td>\n",
       "      <td>6</td>\n",
       "      <td>7</td>\n",
       "    </tr>\n",
       "    <tr>\n",
       "      <th>row3</th>\n",
       "      <td>4.0</td>\n",
       "      <td>0</td>\n",
       "      <td>10</td>\n",
       "      <td>11</td>\n",
       "    </tr>\n",
       "    <tr>\n",
       "      <th>row4</th>\n",
       "      <td>0.0</td>\n",
       "      <td>0</td>\n",
       "      <td>14</td>\n",
       "      <td>15</td>\n",
       "    </tr>\n",
       "    <tr>\n",
       "      <th>row5</th>\n",
       "      <td>5.0</td>\n",
       "      <td>0</td>\n",
       "      <td>18</td>\n",
       "      <td>19</td>\n",
       "    </tr>\n",
       "    <tr>\n",
       "      <th>row6</th>\n",
       "      <td>0.0</td>\n",
       "      <td>0</td>\n",
       "      <td>22</td>\n",
       "      <td>23</td>\n",
       "    </tr>\n",
       "  </tbody>\n",
       "</table>\n",
       "</div>"
      ],
      "text/plain": [
       "      col1  col2  col3  col4\n",
       "row1   3.0     0     2     3\n",
       "row2   0.0     0     6     7\n",
       "row3   4.0     0    10    11\n",
       "row4   0.0     0    14    15\n",
       "row5   5.0     0    18    19\n",
       "row6   0.0     0    22    23"
      ]
     },
     "execution_count": 84,
     "metadata": {},
     "output_type": "execute_result"
    }
   ],
   "source": [
    "df02.fillna(value=0)"
   ]
  },
  {
   "cell_type": "markdown",
   "metadata": {
    "slideshow": {
     "slide_type": "subslide"
    }
   },
   "source": [
    "### 挑战：\n",
    "\n",
    "假设df有三个列：age, score, sex,新增一列oldest，记录从第一条记录到当前记录最大的年龄."
   ]
  },
  {
   "cell_type": "code",
   "execution_count": 85,
   "metadata": {
    "slideshow": {
     "slide_type": "fragment"
    }
   },
   "outputs": [
    {
     "data": {
      "text/html": [
       "<div>\n",
       "<style scoped>\n",
       "    .dataframe tbody tr th:only-of-type {\n",
       "        vertical-align: middle;\n",
       "    }\n",
       "\n",
       "    .dataframe tbody tr th {\n",
       "        vertical-align: top;\n",
       "    }\n",
       "\n",
       "    .dataframe thead th {\n",
       "        text-align: right;\n",
       "    }\n",
       "</style>\n",
       "<table border=\"1\" class=\"dataframe\">\n",
       "  <thead>\n",
       "    <tr style=\"text-align: right;\">\n",
       "      <th></th>\n",
       "      <th>age</th>\n",
       "      <th>score</th>\n",
       "      <th>sex</th>\n",
       "    </tr>\n",
       "  </thead>\n",
       "  <tbody>\n",
       "    <tr>\n",
       "      <th>a</th>\n",
       "      <td>18</td>\n",
       "      <td>65</td>\n",
       "      <td>m</td>\n",
       "    </tr>\n",
       "    <tr>\n",
       "      <th>b</th>\n",
       "      <td>16</td>\n",
       "      <td>75</td>\n",
       "      <td>f</td>\n",
       "    </tr>\n",
       "    <tr>\n",
       "      <th>c</th>\n",
       "      <td>29</td>\n",
       "      <td>84</td>\n",
       "      <td>m</td>\n",
       "    </tr>\n",
       "    <tr>\n",
       "      <th>d</th>\n",
       "      <td>33</td>\n",
       "      <td>78</td>\n",
       "      <td>f</td>\n",
       "    </tr>\n",
       "    <tr>\n",
       "      <th>e</th>\n",
       "      <td>25</td>\n",
       "      <td>97</td>\n",
       "      <td>m</td>\n",
       "    </tr>\n",
       "  </tbody>\n",
       "</table>\n",
       "</div>"
      ],
      "text/plain": [
       "   age  score sex\n",
       "a   18     65   m\n",
       "b   16     75   f\n",
       "c   29     84   m\n",
       "d   33     78   f\n",
       "e   25     97   m"
      ]
     },
     "execution_count": 85,
     "metadata": {},
     "output_type": "execute_result"
    }
   ],
   "source": [
    "my_df = pd.DataFrame({'age': [18, 16, 29, 33, 25], 'score': [65, 75, 84, 78, 97], 'sex': ['m','f','m', 'f', 'm']},\n",
    "                    index = list('abcde'))\n",
    "my_df"
   ]
  },
  {
   "cell_type": "code",
   "execution_count": 12,
   "metadata": {},
   "outputs": [
    {
     "data": {
      "text/plain": [
       "('S', '\\\\o123', 5, 5, 1, 'ᄑ')"
      ]
     },
     "execution_count": 12,
     "metadata": {},
     "output_type": "execute_result"
    }
   ],
   "source": [
    "'\\123', '\\o123', len('\\o123'), len('\\\\o123'), len('\\u1111'), '\\u1111'"
   ]
  },
  {
   "cell_type": "markdown",
   "metadata": {},
   "source": []
  },
  {
   "cell_type": "code",
   "execution_count": 15,
   "metadata": {},
   "outputs": [
    {
     "name": "stdout",
     "output_type": "stream",
     "text": [
      "Hello\u000bworld\n"
     ]
    }
   ],
   "source": [
    "print('Hello\\vworld')\n"
   ]
  },
  {
   "cell_type": "markdown",
   "metadata": {
    "nbpresent": {
     "id": "18e7b20c-d558-40b7-a33a-154ae9d3c0ec"
    },
    "slideshow": {
     "slide_type": "slide"
    }
   },
   "source": [
    "## 8.4 数据合并\n",
    "\n",
    "在操作中，经常需要将两个表的信息进行合并，合并的方式有两种\n",
    "\n",
    "* 添加行\n",
    "\n",
    "* 添加字段"
   ]
  },
  {
   "cell_type": "code",
   "execution_count": 87,
   "metadata": {
    "nbpresent": {
     "id": "0a215ad3-2767-4599-a008-f8f9fe0233f2"
    },
    "slideshow": {
     "slide_type": "subslide"
    }
   },
   "outputs": [
    {
     "data": {
      "text/html": [
       "<div>\n",
       "<style scoped>\n",
       "    .dataframe tbody tr th:only-of-type {\n",
       "        vertical-align: middle;\n",
       "    }\n",
       "\n",
       "    .dataframe tbody tr th {\n",
       "        vertical-align: top;\n",
       "    }\n",
       "\n",
       "    .dataframe thead th {\n",
       "        text-align: right;\n",
       "    }\n",
       "</style>\n",
       "<table border=\"1\" class=\"dataframe\">\n",
       "  <thead>\n",
       "    <tr style=\"text-align: right;\">\n",
       "      <th></th>\n",
       "      <th>col1</th>\n",
       "      <th>col2</th>\n",
       "      <th>col3</th>\n",
       "      <th>col4</th>\n",
       "      <th>col7</th>\n",
       "    </tr>\n",
       "  </thead>\n",
       "  <tbody>\n",
       "    <tr>\n",
       "      <th>row1</th>\n",
       "      <td>3.0</td>\n",
       "      <td>0</td>\n",
       "      <td>2</td>\n",
       "      <td>3</td>\n",
       "      <td>30</td>\n",
       "    </tr>\n",
       "    <tr>\n",
       "      <th>row2</th>\n",
       "      <td>NaN</td>\n",
       "      <td>0</td>\n",
       "      <td>6</td>\n",
       "      <td>7</td>\n",
       "      <td>30</td>\n",
       "    </tr>\n",
       "    <tr>\n",
       "      <th>row3</th>\n",
       "      <td>4.0</td>\n",
       "      <td>0</td>\n",
       "      <td>10</td>\n",
       "      <td>11</td>\n",
       "      <td>30</td>\n",
       "    </tr>\n",
       "    <tr>\n",
       "      <th>row4</th>\n",
       "      <td>NaN</td>\n",
       "      <td>0</td>\n",
       "      <td>14</td>\n",
       "      <td>15</td>\n",
       "      <td>30</td>\n",
       "    </tr>\n",
       "    <tr>\n",
       "      <th>row5</th>\n",
       "      <td>5.0</td>\n",
       "      <td>0</td>\n",
       "      <td>18</td>\n",
       "      <td>19</td>\n",
       "      <td>30</td>\n",
       "    </tr>\n",
       "    <tr>\n",
       "      <th>row6</th>\n",
       "      <td>NaN</td>\n",
       "      <td>0</td>\n",
       "      <td>22</td>\n",
       "      <td>23</td>\n",
       "      <td>30</td>\n",
       "    </tr>\n",
       "  </tbody>\n",
       "</table>\n",
       "</div>"
      ],
      "text/plain": [
       "      col1  col2  col3  col4  col7\n",
       "row1   3.0     0     2     3    30\n",
       "row2   NaN     0     6     7    30\n",
       "row3   4.0     0    10    11    30\n",
       "row4   NaN     0    14    15    30\n",
       "row5   5.0     0    18    19    30\n",
       "row6   NaN     0    22    23    30"
      ]
     },
     "execution_count": 87,
     "metadata": {},
     "output_type": "execute_result"
    }
   ],
   "source": [
    "df02['col7']=30\n",
    "df02"
   ]
  },
  {
   "cell_type": "markdown",
   "metadata": {
    "nbpresent": {
     "id": "864602d6-3ed7-4868-b48d-1838336d60e8"
    },
    "slideshow": {
     "slide_type": "subslide"
    }
   },
   "source": [
    "pd.concat() 可以将多个DataFrame对象连接起来，得到的对象的长度是被连接的对象的长度之和。\n",
    "这种连接方式可以看成是所有对象堆叠起来。\n",
    "\n",
    "堆叠方式有两种，根据参数axis的值确定，0对应行堆叠，1对应列堆叠。"
   ]
  },
  {
   "cell_type": "code",
   "execution_count": 88,
   "metadata": {
    "nbpresent": {
     "id": "dd9d7990-5e19-459b-8ebd-d4a132ab66a4"
    },
    "slideshow": {
     "slide_type": "subslide"
    }
   },
   "outputs": [
    {
     "data": {
      "text/html": [
       "<div>\n",
       "<style scoped>\n",
       "    .dataframe tbody tr th:only-of-type {\n",
       "        vertical-align: middle;\n",
       "    }\n",
       "\n",
       "    .dataframe tbody tr th {\n",
       "        vertical-align: top;\n",
       "    }\n",
       "\n",
       "    .dataframe thead th {\n",
       "        text-align: right;\n",
       "    }\n",
       "</style>\n",
       "<table border=\"1\" class=\"dataframe\">\n",
       "  <thead>\n",
       "    <tr style=\"text-align: right;\">\n",
       "      <th></th>\n",
       "      <th>age</th>\n",
       "      <th>sex</th>\n",
       "      <th>score</th>\n",
       "    </tr>\n",
       "  </thead>\n",
       "  <tbody>\n",
       "    <tr>\n",
       "      <th>m</th>\n",
       "      <td>22</td>\n",
       "      <td>m</td>\n",
       "      <td>100</td>\n",
       "    </tr>\n",
       "    <tr>\n",
       "      <th>a</th>\n",
       "      <td>43</td>\n",
       "      <td>f</td>\n",
       "      <td>95</td>\n",
       "    </tr>\n",
       "    <tr>\n",
       "      <th>l</th>\n",
       "      <td>64</td>\n",
       "      <td>f</td>\n",
       "      <td>134</td>\n",
       "    </tr>\n",
       "    <tr>\n",
       "      <th>j</th>\n",
       "      <td>18</td>\n",
       "      <td>m</td>\n",
       "      <td>120</td>\n",
       "    </tr>\n",
       "    <tr>\n",
       "      <th>m</th>\n",
       "      <td>22</td>\n",
       "      <td>m</td>\n",
       "      <td>100</td>\n",
       "    </tr>\n",
       "    <tr>\n",
       "      <th>a</th>\n",
       "      <td>43</td>\n",
       "      <td>f</td>\n",
       "      <td>95</td>\n",
       "    </tr>\n",
       "  </tbody>\n",
       "</table>\n",
       "</div>"
      ],
      "text/plain": [
       "   age sex  score\n",
       "m   22   m    100\n",
       "a   43   f     95\n",
       "l   64   f    134\n",
       "j   18   m    120\n",
       "m   22   m    100\n",
       "a   43   f     95"
      ]
     },
     "execution_count": 88,
     "metadata": {},
     "output_type": "execute_result"
    }
   ],
   "source": [
    "piece1=df01[1:4]\n",
    "piece2=df01[:3]\n",
    "pd.concat([piece1,piece2])"
   ]
  },
  {
   "cell_type": "markdown",
   "metadata": {
    "nbpresent": {
     "id": "6d0b6b6f-a874-494d-8106-4c40cbcbc6c9"
    },
    "slideshow": {
     "slide_type": "subslide"
    }
   },
   "source": [
    "pd.merge() 提供了另外一种连接方式，与数据库SQL连接方式相同。连接时根据指定的键，只有键值相同的记录才会被连接。"
   ]
  },
  {
   "cell_type": "code",
   "execution_count": 28,
   "metadata": {
    "nbpresent": {
     "id": "db5929e4-d8ee-4e7d-8428-e2577467950e"
    },
    "slideshow": {
     "slide_type": "subslide"
    }
   },
   "outputs": [
    {
     "data": {
      "text/html": [
       "<div>\n",
       "<style scoped>\n",
       "    .dataframe tbody tr th:only-of-type {\n",
       "        vertical-align: middle;\n",
       "    }\n",
       "\n",
       "    .dataframe tbody tr th {\n",
       "        vertical-align: top;\n",
       "    }\n",
       "\n",
       "    .dataframe thead th {\n",
       "        text-align: right;\n",
       "    }\n",
       "</style>\n",
       "<table border=\"1\" class=\"dataframe\">\n",
       "  <thead>\n",
       "    <tr style=\"text-align: right;\">\n",
       "      <th></th>\n",
       "      <th>weight</th>\n",
       "      <th>height</th>\n",
       "    </tr>\n",
       "  </thead>\n",
       "  <tbody>\n",
       "    <tr>\n",
       "      <th>arrow</th>\n",
       "      <td>52</td>\n",
       "      <td>185</td>\n",
       "    </tr>\n",
       "    <tr>\n",
       "      <th>alice</th>\n",
       "      <td>62</td>\n",
       "      <td>180</td>\n",
       "    </tr>\n",
       "    <tr>\n",
       "      <th>mike</th>\n",
       "      <td>73</td>\n",
       "      <td>179</td>\n",
       "    </tr>\n",
       "    <tr>\n",
       "      <th>jane</th>\n",
       "      <td>66</td>\n",
       "      <td>165</td>\n",
       "    </tr>\n",
       "    <tr>\n",
       "      <th>john</th>\n",
       "      <td>59</td>\n",
       "      <td>175</td>\n",
       "    </tr>\n",
       "  </tbody>\n",
       "</table>\n",
       "</div>"
      ],
      "text/plain": [
       "       weight  height\n",
       "arrow      52     185\n",
       "alice      62     180\n",
       "mike       73     179\n",
       "jane       66     165\n",
       "john       59     175"
      ]
     },
     "execution_count": 28,
     "metadata": {},
     "output_type": "execute_result"
    }
   ],
   "source": [
    "df06=DataFrame({'weight':[52,62,73,66,59],\n",
    "    'height':[185,180,179,165,175]},\n",
    "    index=['arrow','alice','mike','jane','john'])\n",
    "df06"
   ]
  },
  {
   "cell_type": "code",
   "execution_count": 2,
   "metadata": {
    "slideshow": {
     "slide_type": "subslide"
    }
   },
   "outputs": [
    {
     "data": {
      "text/html": [
       "<div>\n",
       "<style scoped>\n",
       "    .dataframe tbody tr th:only-of-type {\n",
       "        vertical-align: middle;\n",
       "    }\n",
       "\n",
       "    .dataframe tbody tr th {\n",
       "        vertical-align: top;\n",
       "    }\n",
       "\n",
       "    .dataframe thead th {\n",
       "        text-align: right;\n",
       "    }\n",
       "</style>\n",
       "<table border=\"1\" class=\"dataframe\">\n",
       "  <thead>\n",
       "    <tr style=\"text-align: right;\">\n",
       "      <th></th>\n",
       "      <th>age</th>\n",
       "      <th>sex</th>\n",
       "      <th>score</th>\n",
       "    </tr>\n",
       "  </thead>\n",
       "  <tbody>\n",
       "    <tr>\n",
       "      <th>john</th>\n",
       "      <td>18</td>\n",
       "      <td>m</td>\n",
       "      <td>120</td>\n",
       "    </tr>\n",
       "    <tr>\n",
       "      <th>mike</th>\n",
       "      <td>22</td>\n",
       "      <td>m</td>\n",
       "      <td>100</td>\n",
       "    </tr>\n",
       "    <tr>\n",
       "      <th>alice</th>\n",
       "      <td>43</td>\n",
       "      <td>f</td>\n",
       "      <td>95</td>\n",
       "    </tr>\n",
       "    <tr>\n",
       "      <th>lane</th>\n",
       "      <td>64</td>\n",
       "      <td>f</td>\n",
       "      <td>134</td>\n",
       "    </tr>\n",
       "    <tr>\n",
       "      <th>clark</th>\n",
       "      <td>19</td>\n",
       "      <td>m</td>\n",
       "      <td>140</td>\n",
       "    </tr>\n",
       "  </tbody>\n",
       "</table>\n",
       "</div>"
      ],
      "text/plain": [
       "       age sex  score\n",
       "john    18   m    120\n",
       "mike    22   m    100\n",
       "alice   43   f     95\n",
       "lane    64   f    134\n",
       "clark   19   m    140"
      ]
     },
     "execution_count": 2,
     "metadata": {},
     "output_type": "execute_result"
    }
   ],
   "source": [
    "df01=DataFrame({'age':[18,22,43,64,19],\n",
    "              'sex':['m','m','f','f','m'],\n",
    "              'score':[120,100,95,134,140]},\n",
    "               index=['john','mike','alice','lane','clark'])\n",
    "df01"
   ]
  },
  {
   "cell_type": "code",
   "execution_count": 30,
   "metadata": {
    "nbpresent": {
     "id": "480b88de-9b43-4207-a9e8-ee9d900eedb2"
    },
    "slideshow": {
     "slide_type": "subslide"
    }
   },
   "outputs": [
    {
     "data": {
      "text/html": [
       "<div>\n",
       "<style scoped>\n",
       "    .dataframe tbody tr th:only-of-type {\n",
       "        vertical-align: middle;\n",
       "    }\n",
       "\n",
       "    .dataframe tbody tr th {\n",
       "        vertical-align: top;\n",
       "    }\n",
       "\n",
       "    .dataframe thead th {\n",
       "        text-align: right;\n",
       "    }\n",
       "</style>\n",
       "<table border=\"1\" class=\"dataframe\">\n",
       "  <thead>\n",
       "    <tr style=\"text-align: right;\">\n",
       "      <th></th>\n",
       "      <th>age</th>\n",
       "      <th>sex</th>\n",
       "      <th>score</th>\n",
       "      <th>weight</th>\n",
       "      <th>height</th>\n",
       "    </tr>\n",
       "  </thead>\n",
       "  <tbody>\n",
       "    <tr>\n",
       "      <th>john</th>\n",
       "      <td>18</td>\n",
       "      <td>m</td>\n",
       "      <td>120</td>\n",
       "      <td>59</td>\n",
       "      <td>175</td>\n",
       "    </tr>\n",
       "    <tr>\n",
       "      <th>mike</th>\n",
       "      <td>22</td>\n",
       "      <td>m</td>\n",
       "      <td>100</td>\n",
       "      <td>73</td>\n",
       "      <td>179</td>\n",
       "    </tr>\n",
       "    <tr>\n",
       "      <th>alice</th>\n",
       "      <td>43</td>\n",
       "      <td>f</td>\n",
       "      <td>95</td>\n",
       "      <td>62</td>\n",
       "      <td>180</td>\n",
       "    </tr>\n",
       "  </tbody>\n",
       "</table>\n",
       "</div>"
      ],
      "text/plain": [
       "       age sex  score  weight  height\n",
       "john    18   m    120      59     175\n",
       "mike    22   m    100      73     179\n",
       "alice   43   f     95      62     180"
      ]
     },
     "execution_count": 30,
     "metadata": {},
     "output_type": "execute_result"
    }
   ],
   "source": [
    "pd.merge(df01,df06,\n",
    "    left_index=True,right_index=True)"
   ]
  },
  {
   "cell_type": "markdown",
   "metadata": {
    "collapsed": true,
    "nbpresent": {
     "id": "c773905a-2733-4003-bfc0-3f7e20624402"
    },
    "slideshow": {
     "slide_type": "subslide"
    }
   },
   "source": [
    "* left_index,right_index设置是否使用左表和右表的索引来作为连接的键\n",
    "* 如果使用其他的列作为连接的键，需要使用left_on,right_on来设置列名\n",
    "* 关于数据表的连接和分析，我们会在以后深入讲解。"
   ]
  },
  {
   "cell_type": "markdown",
   "metadata": {
    "nbpresent": {
     "id": "718ebba3-8c67-4b83-a05d-0c4d706a60bd"
    },
    "slideshow": {
     "slide_type": "slide"
    }
   },
   "source": [
    "## 8.5 分组操作\n",
    "\n",
    "分组在数据分析和统计操作中经常使用，只要在数据表中有类型之类的列。"
   ]
  },
  {
   "cell_type": "code",
   "execution_count": 3,
   "metadata": {
    "nbpresent": {
     "id": "e17c02ec-f163-48d0-91f3-dea2bb661dc6"
    },
    "slideshow": {
     "slide_type": "subslide"
    }
   },
   "outputs": [
    {
     "name": "stdout",
     "output_type": "stream",
     "text": [
      "       age sex  score\n",
      "john    18   m    120\n",
      "mike    22   m    100\n",
      "alice   43   f     95\n",
      "lane    64   f    134\n",
      "clark   19   m    140\n"
     ]
    }
   ],
   "source": [
    "print(df01)"
   ]
  },
  {
   "cell_type": "code",
   "execution_count": 4,
   "metadata": {
    "nbpresent": {
     "id": "81e1c266-622c-4627-a329-4c94ce18dca1"
    },
    "slideshow": {
     "slide_type": "subslide"
    }
   },
   "outputs": [
    {
     "data": {
      "text/html": [
       "<div>\n",
       "<style scoped>\n",
       "    .dataframe tbody tr th:only-of-type {\n",
       "        vertical-align: middle;\n",
       "    }\n",
       "\n",
       "    .dataframe tbody tr th {\n",
       "        vertical-align: top;\n",
       "    }\n",
       "\n",
       "    .dataframe thead th {\n",
       "        text-align: right;\n",
       "    }\n",
       "</style>\n",
       "<table border=\"1\" class=\"dataframe\">\n",
       "  <thead>\n",
       "    <tr style=\"text-align: right;\">\n",
       "      <th></th>\n",
       "      <th>age</th>\n",
       "      <th>score</th>\n",
       "    </tr>\n",
       "    <tr>\n",
       "      <th>sex</th>\n",
       "      <th></th>\n",
       "      <th></th>\n",
       "    </tr>\n",
       "  </thead>\n",
       "  <tbody>\n",
       "    <tr>\n",
       "      <th>f</th>\n",
       "      <td>53.500000</td>\n",
       "      <td>114.5</td>\n",
       "    </tr>\n",
       "    <tr>\n",
       "      <th>m</th>\n",
       "      <td>19.666667</td>\n",
       "      <td>120.0</td>\n",
       "    </tr>\n",
       "  </tbody>\n",
       "</table>\n",
       "</div>"
      ],
      "text/plain": [
       "           age  score\n",
       "sex                  \n",
       "f    53.500000  114.5\n",
       "m    19.666667  120.0"
      ]
     },
     "execution_count": 4,
     "metadata": {},
     "output_type": "execute_result"
    }
   ],
   "source": [
    "df01.groupby(by='sex').mean()"
   ]
  },
  {
   "cell_type": "code",
   "execution_count": 5,
   "metadata": {
    "nbpresent": {
     "id": "c502781b-a7d0-454a-a083-043b76a9dda7"
    },
    "slideshow": {
     "slide_type": "subslide"
    }
   },
   "outputs": [
    {
     "data": {
      "text/html": [
       "<div>\n",
       "<style scoped>\n",
       "    .dataframe tbody tr th:only-of-type {\n",
       "        vertical-align: middle;\n",
       "    }\n",
       "\n",
       "    .dataframe tbody tr th {\n",
       "        vertical-align: top;\n",
       "    }\n",
       "\n",
       "    .dataframe thead th {\n",
       "        text-align: right;\n",
       "    }\n",
       "</style>\n",
       "<table border=\"1\" class=\"dataframe\">\n",
       "  <thead>\n",
       "    <tr style=\"text-align: right;\">\n",
       "      <th></th>\n",
       "      <th>age</th>\n",
       "      <th>score</th>\n",
       "    </tr>\n",
       "    <tr>\n",
       "      <th>sex</th>\n",
       "      <th></th>\n",
       "      <th></th>\n",
       "    </tr>\n",
       "  </thead>\n",
       "  <tbody>\n",
       "    <tr>\n",
       "      <th>f</th>\n",
       "      <td>107</td>\n",
       "      <td>229</td>\n",
       "    </tr>\n",
       "    <tr>\n",
       "      <th>m</th>\n",
       "      <td>59</td>\n",
       "      <td>360</td>\n",
       "    </tr>\n",
       "  </tbody>\n",
       "</table>\n",
       "</div>"
      ],
      "text/plain": [
       "     age  score\n",
       "sex            \n",
       "f    107    229\n",
       "m     59    360"
      ]
     },
     "execution_count": 5,
     "metadata": {},
     "output_type": "execute_result"
    }
   ],
   "source": [
    "df01.groupby('sex').sum()"
   ]
  },
  {
   "cell_type": "markdown",
   "metadata": {
    "nbpresent": {
     "id": "f36bb11e-2bd7-4e53-b0a9-d15ab44f3ae6"
    },
    "slideshow": {
     "slide_type": "subslide"
    }
   },
   "source": [
    "也可以根据数据的值进行分类，产生类型列，然后进行分组"
   ]
  },
  {
   "cell_type": "code",
   "execution_count": 6,
   "metadata": {
    "nbpresent": {
     "id": "d624f631-f973-42e3-9bd7-0ade24e9a0b9"
    },
    "slideshow": {
     "slide_type": "fragment"
    }
   },
   "outputs": [
    {
     "data": {
      "text/html": [
       "<div>\n",
       "<style scoped>\n",
       "    .dataframe tbody tr th:only-of-type {\n",
       "        vertical-align: middle;\n",
       "    }\n",
       "\n",
       "    .dataframe tbody tr th {\n",
       "        vertical-align: top;\n",
       "    }\n",
       "\n",
       "    .dataframe thead th {\n",
       "        text-align: right;\n",
       "    }\n",
       "</style>\n",
       "<table border=\"1\" class=\"dataframe\">\n",
       "  <thead>\n",
       "    <tr style=\"text-align: right;\">\n",
       "      <th></th>\n",
       "      <th>age</th>\n",
       "      <th>sex</th>\n",
       "      <th>score</th>\n",
       "      <th>old</th>\n",
       "    </tr>\n",
       "  </thead>\n",
       "  <tbody>\n",
       "    <tr>\n",
       "      <th>john</th>\n",
       "      <td>18</td>\n",
       "      <td>m</td>\n",
       "      <td>120</td>\n",
       "      <td>False</td>\n",
       "    </tr>\n",
       "    <tr>\n",
       "      <th>mike</th>\n",
       "      <td>22</td>\n",
       "      <td>m</td>\n",
       "      <td>100</td>\n",
       "      <td>False</td>\n",
       "    </tr>\n",
       "    <tr>\n",
       "      <th>alice</th>\n",
       "      <td>43</td>\n",
       "      <td>f</td>\n",
       "      <td>95</td>\n",
       "      <td>False</td>\n",
       "    </tr>\n",
       "    <tr>\n",
       "      <th>lane</th>\n",
       "      <td>64</td>\n",
       "      <td>f</td>\n",
       "      <td>134</td>\n",
       "      <td>True</td>\n",
       "    </tr>\n",
       "    <tr>\n",
       "      <th>clark</th>\n",
       "      <td>19</td>\n",
       "      <td>m</td>\n",
       "      <td>140</td>\n",
       "      <td>False</td>\n",
       "    </tr>\n",
       "  </tbody>\n",
       "</table>\n",
       "</div>"
      ],
      "text/plain": [
       "       age sex  score    old\n",
       "john    18   m    120  False\n",
       "mike    22   m    100  False\n",
       "alice   43   f     95  False\n",
       "lane    64   f    134   True\n",
       "clark   19   m    140  False"
      ]
     },
     "execution_count": 6,
     "metadata": {},
     "output_type": "execute_result"
    }
   ],
   "source": [
    "df01['old']=df01['age']>50\n",
    "df01"
   ]
  },
  {
   "cell_type": "code",
   "execution_count": 7,
   "metadata": {
    "nbpresent": {
     "id": "655c3052-dd92-43b8-8dc2-a37c50ddbfc5"
    },
    "slideshow": {
     "slide_type": "subslide"
    }
   },
   "outputs": [
    {
     "data": {
      "text/html": [
       "<div>\n",
       "<style scoped>\n",
       "    .dataframe tbody tr th:only-of-type {\n",
       "        vertical-align: middle;\n",
       "    }\n",
       "\n",
       "    .dataframe tbody tr th {\n",
       "        vertical-align: top;\n",
       "    }\n",
       "\n",
       "    .dataframe thead th {\n",
       "        text-align: right;\n",
       "    }\n",
       "</style>\n",
       "<table border=\"1\" class=\"dataframe\">\n",
       "  <thead>\n",
       "    <tr style=\"text-align: right;\">\n",
       "      <th></th>\n",
       "      <th>age</th>\n",
       "      <th>score</th>\n",
       "    </tr>\n",
       "    <tr>\n",
       "      <th>old</th>\n",
       "      <th></th>\n",
       "      <th></th>\n",
       "    </tr>\n",
       "  </thead>\n",
       "  <tbody>\n",
       "    <tr>\n",
       "      <th>False</th>\n",
       "      <td>25.5</td>\n",
       "      <td>113.75</td>\n",
       "    </tr>\n",
       "    <tr>\n",
       "      <th>True</th>\n",
       "      <td>64.0</td>\n",
       "      <td>134.00</td>\n",
       "    </tr>\n",
       "  </tbody>\n",
       "</table>\n",
       "</div>"
      ],
      "text/plain": [
       "        age   score\n",
       "old                \n",
       "False  25.5  113.75\n",
       "True   64.0  134.00"
      ]
     },
     "execution_count": 7,
     "metadata": {},
     "output_type": "execute_result"
    }
   ],
   "source": [
    "df01.groupby('old').mean()"
   ]
  },
  {
   "cell_type": "markdown",
   "metadata": {
    "slideshow": {
     "slide_type": "subslide"
    }
   },
   "source": [
    "<h4>分组操作的实现原理</h4>\n",
    "\n",
    "分组之后得到的是一个groupby对象，这个对象是一个可迭代对象。遍历groupby对象时，每次得到一个元组，第一个元素为分组的键值，第二个元素是一个DataFrame对象。\n",
    "\n",
    "通过对每个键对应的DataFrame应用某个函数，得到一个值。\n",
    "\n",
    "最后，再将所有键的结果进行合并，重新拼成一个DataFrame。\n",
    "\n",
    "下面，我们首先演示分组的过程，然后演示如何在分组中使用自定义函数。"
   ]
  },
  {
   "cell_type": "code",
   "execution_count": 11,
   "metadata": {
    "slideshow": {
     "slide_type": "subslide"
    }
   },
   "outputs": [
    {
     "name": "stdout",
     "output_type": "stream",
     "text": [
      "f <class 'pandas.core.frame.DataFrame'> 2\n",
      "       age sex  score    old\n",
      "alice   43   f     95  False\n",
      "lane    64   f    134   True\n",
      "m <class 'pandas.core.frame.DataFrame'> 3\n",
      "       age sex  score    old\n",
      "john    18   m    120  False\n",
      "mike    22   m    100  False\n",
      "clark   19   m    140  False\n"
     ]
    }
   ],
   "source": [
    "for i,v in df01.groupby('sex'):\n",
    "    print(i, type(v), len(v))\n",
    "    print(v)"
   ]
  },
  {
   "cell_type": "markdown",
   "metadata": {
    "slideshow": {
     "slide_type": "subslide"
    }
   },
   "source": [
    "在groupby对象上可以使用apply方法，传递一个函数作为参数。这个函数负责对每个键对应的DataFrame进行计算，并返回一个值，作为对应组的结果。"
   ]
  },
  {
   "cell_type": "code",
   "execution_count": 12,
   "metadata": {
    "slideshow": {
     "slide_type": "subslide"
    }
   },
   "outputs": [
    {
     "data": {
      "text/plain": [
       "sex\n",
       "f    2\n",
       "m    3\n",
       "dtype: int64"
      ]
     },
     "execution_count": 12,
     "metadata": {},
     "output_type": "execute_result"
    }
   ],
   "source": [
    "df01.groupby('sex').apply(len)"
   ]
  },
  {
   "cell_type": "code",
   "execution_count": 13,
   "metadata": {
    "slideshow": {
     "slide_type": "subslide"
    }
   },
   "outputs": [
    {
     "data": {
      "text/plain": [
       "sex\n",
       "f    21\n",
       "m     4\n",
       "dtype: int64"
      ]
     },
     "execution_count": 13,
     "metadata": {},
     "output_type": "execute_result"
    }
   ],
   "source": [
    "df01.groupby('sex').apply(lambda x: max(x.age) - min(x.age))  # 使用匿名函数自定义一个操作"
   ]
  },
  {
   "cell_type": "markdown",
   "metadata": {
    "nbpresent": {
     "id": "6e6b344e-2378-4779-a7e4-83ea59a026ba"
    },
    "slideshow": {
     "slide_type": "slide"
    }
   },
   "source": [
    "## 8.6 常用统计操作\n",
    "\n",
    "* mean()  均值\n",
    "* std() 标准差\n",
    "* sum()  求和\n",
    "* count()  统计样本个数\n",
    "* value_counts()  对某一列，统计各种值出现的次数"
   ]
  },
  {
   "cell_type": "code",
   "execution_count": 96,
   "metadata": {
    "nbpresent": {
     "id": "e9b4b9c7-1055-4af1-be53-33572a353758"
    },
    "slideshow": {
     "slide_type": "subslide"
    }
   },
   "outputs": [
    {
     "data": {
      "text/plain": [
       "m    3\n",
       "f    2\n",
       "Name: sex, dtype: int64"
      ]
     },
     "execution_count": 96,
     "metadata": {},
     "output_type": "execute_result"
    }
   ],
   "source": [
    "df01['sex'].value_counts()"
   ]
  },
  {
   "cell_type": "code",
   "execution_count": 97,
   "metadata": {
    "nbpresent": {
     "id": "d1a70a49-520a-4050-8a2e-ff30798133cc"
    },
    "slideshow": {
     "slide_type": "subslide"
    }
   },
   "outputs": [
    {
     "data": {
      "text/plain": [
       "age      5\n",
       "sex      5\n",
       "score    5\n",
       "old      5\n",
       "dtype: int64"
      ]
     },
     "execution_count": 97,
     "metadata": {},
     "output_type": "execute_result"
    }
   ],
   "source": [
    "df01.count()"
   ]
  },
  {
   "cell_type": "markdown",
   "metadata": {
    "slideshow": {
     "slide_type": "subslide"
    }
   },
   "source": [
    "其他的统计操作包括：\n",
    "\n",
    "corr, cov, max, median, min, kurt, skew, var"
   ]
  },
  {
   "cell_type": "markdown",
   "metadata": {
    "nbpresent": {
     "id": "9e531ed3-591c-4ce5-a61c-9ecc66e2afbe"
    },
    "slideshow": {
     "slide_type": "subslide"
    }
   },
   "source": [
    "## 8.7 DataFrame作图\n",
    "\n",
    "使用DataFrame对象的plot方法可以快速作图。这种方式的优点是便捷，坐标轴、图例、标签等项目不需要自定义，系统会自动生成，自动化程度较高。\n",
    "\n",
    "当然，如果想要得到比较好看的图形，需要比较多的定制操作。"
   ]
  },
  {
   "cell_type": "code",
   "execution_count": 98,
   "metadata": {
    "nbpresent": {
     "id": "7631c399-81d8-4319-b32c-87e89a61112b"
    },
    "slideshow": {
     "slide_type": "subslide"
    }
   },
   "outputs": [
    {
     "data": {
      "text/plain": [
       "<AxesSubplot:>"
      ]
     },
     "execution_count": 98,
     "metadata": {},
     "output_type": "execute_result"
    },
    {
     "data": {
      "image/png": "[encoded data removed]",
      "text/plain": [
       "<Figure size 432x288 with 1 Axes>"
      ]
     },
     "metadata": {
      "needs_background": "light"
     },
     "output_type": "display_data"
    }
   ],
   "source": [
    "# 在作图之前，需要首先引入matplotlib.pyplot\n",
    "import matplotlib.pyplot as plt\n",
    "df06.plot()\n",
    "plt.show()"
   ]
  },
  {
   "cell_type": "code",
   "execution_count": 100,
   "metadata": {
    "nbpresent": {
     "id": "fbe00784-97d6-40c7-9958-3b5ccbf5ef33"
    },
    "slideshow": {
     "slide_type": "subslide"
    }
   },
   "outputs": [
    {
     "name": "stdout",
     "output_type": "stream",
     "text": [
      "本接口即将停止更新，请尽快使用Pro版接口：https://waditu.com/document/2\n"
     ]
    },
    {
     "data": {
      "image/png": "[encoded data removed]",
      "text/plain": [
       "<Figure size 432x288 with 1 Axes>"
      ]
     },
     "metadata": {
      "needs_background": "light"
     },
     "output_type": "display_data"
    }
   ],
   "source": [
    "import tushare as ts\n",
    "stock_price=ts.get_k_data(code='000100',start='2016-01-01',end='2016-06-30')\n",
    "stock_price[['open','close']].plot()\n",
    "plt.show()"
   ]
  },
  {
   "cell_type": "code",
   "execution_count": 101,
   "metadata": {
    "nbpresent": {
     "id": "ee657409-be6f-4016-9f3c-ddb1a61ced5b"
    },
    "slideshow": {
     "slide_type": "subslide"
    }
   },
   "outputs": [
    {
     "data": {
      "image/png": "[encoded data removed]",
      "text/plain": [
       "<Figure size 432x288 with 1 Axes>"
      ]
     },
     "metadata": {
      "needs_background": "light"
     },
     "output_type": "display_data"
    }
   ],
   "source": [
    "hist_price=stock_price.set_index('date')\n",
    "hist_price[['high','low']].plot()\n",
    "plt.show()"
   ]
  },
  {
   "cell_type": "code",
   "execution_count": null,
   "metadata": {},
   "outputs": [],
   "source": []
  },
  {
   "cell_type": "markdown",
   "metadata": {
    "nbpresent": {
     "id": "43b15e88-1258-4922-86cb-10b62dea10e3"
    },
    "slideshow": {
     "slide_type": "slide"
    }
   },
   "source": [
    "## 8.8 数据读取与写入\n",
    "\n",
    "* pd.read_csv(filename) 从filename对应的csv文件中读取数据到一个DataFrame对象中\n",
    "* df.to_csv(filename)  将df对象的内容写入到当前目录（或指定路径）中的文件中。"
   ]
  },
  {
   "cell_type": "code",
   "execution_count": 102,
   "metadata": {
    "nbpresent": {
     "id": "fb5c9ec1-ee3b-4fde-babc-70d168701039"
    },
    "slideshow": {
     "slide_type": "subslide"
    }
   },
   "outputs": [
    {
     "data": {
      "text/html": [
       "<div>\n",
       "<style scoped>\n",
       "    .dataframe tbody tr th:only-of-type {\n",
       "        vertical-align: middle;\n",
       "    }\n",
       "\n",
       "    .dataframe tbody tr th {\n",
       "        vertical-align: top;\n",
       "    }\n",
       "\n",
       "    .dataframe thead th {\n",
       "        text-align: right;\n",
       "    }\n",
       "</style>\n",
       "<table border=\"1\" class=\"dataframe\">\n",
       "  <thead>\n",
       "    <tr style=\"text-align: right;\">\n",
       "      <th></th>\n",
       "      <th>ISO English Country Names</th>\n",
       "      <th>Alpha-2 Code</th>\n",
       "      <th>Alpha-3 Code</th>\n",
       "      <th>Numeric Code</th>\n",
       "    </tr>\n",
       "  </thead>\n",
       "  <tbody>\n",
       "    <tr>\n",
       "      <th>0</th>\n",
       "      <td>Afghanistan</td>\n",
       "      <td>AF</td>\n",
       "      <td>AFG</td>\n",
       "      <td>4</td>\n",
       "    </tr>\n",
       "    <tr>\n",
       "      <th>1</th>\n",
       "      <td>Aland Islands</td>\n",
       "      <td>AX</td>\n",
       "      <td>ALA</td>\n",
       "      <td>248</td>\n",
       "    </tr>\n",
       "    <tr>\n",
       "      <th>2</th>\n",
       "      <td>Albania</td>\n",
       "      <td>AL</td>\n",
       "      <td>ALB</td>\n",
       "      <td>8</td>\n",
       "    </tr>\n",
       "    <tr>\n",
       "      <th>3</th>\n",
       "      <td>Algeria</td>\n",
       "      <td>DZ</td>\n",
       "      <td>DZA</td>\n",
       "      <td>12</td>\n",
       "    </tr>\n",
       "    <tr>\n",
       "      <th>4</th>\n",
       "      <td>American Samoa</td>\n",
       "      <td>AS</td>\n",
       "      <td>ASM</td>\n",
       "      <td>16</td>\n",
       "    </tr>\n",
       "  </tbody>\n",
       "</table>\n",
       "</div>"
      ],
      "text/plain": [
       "  ISO English Country Names Alpha-2 Code Alpha-3 Code  Numeric Code\n",
       "0               Afghanistan           AF          AFG             4\n",
       "1             Aland Islands           AX          ALA           248\n",
       "2                   Albania           AL          ALB             8\n",
       "3                   Algeria           DZ          DZA            12\n",
       "4            American Samoa           AS          ASM            16"
      ]
     },
     "execution_count": 102,
     "metadata": {},
     "output_type": "execute_result"
    }
   ],
   "source": [
    "df_in01=pd.read_csv('data/country_code.csv')\n",
    "df_in01.head()"
   ]
  },
  {
   "cell_type": "code",
   "execution_count": 103,
   "metadata": {
    "nbpresent": {
     "id": "07611c8d-af7b-4adc-bc7e-2c7f3bb6159d"
    },
    "slideshow": {
     "slide_type": "subslide"
    }
   },
   "outputs": [],
   "source": [
    "#  写入csv文件\n",
    "df01.to_csv('data/df01.csv')"
   ]
  },
  {
   "cell_type": "markdown",
   "metadata": {
    "nbpresent": {
     "id": "67ffbff0-73f4-4bc7-856a-a595c5b47978"
    },
    "slideshow": {
     "slide_type": "subslide"
    }
   },
   "source": [
    " Excel文件的读取方式类似，只是多了几个参数。\n",
    " \n",
    " * pd.read_excel(io,sheetname,header...)\n",
    " * df.to_excel(excel_writer,sheet_name,...)"
   ]
  },
  {
   "cell_type": "code",
   "execution_count": 104,
   "metadata": {
    "nbpresent": {
     "id": "44c8f9d6-3f80-467d-859e-0ccf2fb51de4"
    },
    "slideshow": {
     "slide_type": "subslide"
    }
   },
   "outputs": [
    {
     "data": {
      "text/html": [
       "<div>\n",
       "<style scoped>\n",
       "    .dataframe tbody tr th:only-of-type {\n",
       "        vertical-align: middle;\n",
       "    }\n",
       "\n",
       "    .dataframe tbody tr th {\n",
       "        vertical-align: top;\n",
       "    }\n",
       "\n",
       "    .dataframe thead th {\n",
       "        text-align: right;\n",
       "    }\n",
       "</style>\n",
       "<table border=\"1\" class=\"dataframe\">\n",
       "  <thead>\n",
       "    <tr style=\"text-align: right;\">\n",
       "      <th></th>\n",
       "      <th>ISO English Country Names</th>\n",
       "      <th>Alpha-2 Code</th>\n",
       "      <th>Alpha-3 Code</th>\n",
       "      <th>Numeric Code</th>\n",
       "    </tr>\n",
       "  </thead>\n",
       "  <tbody>\n",
       "    <tr>\n",
       "      <th>0</th>\n",
       "      <td>Afghanistan</td>\n",
       "      <td>AF</td>\n",
       "      <td>AFG</td>\n",
       "      <td>4</td>\n",
       "    </tr>\n",
       "    <tr>\n",
       "      <th>1</th>\n",
       "      <td>Aland Islands</td>\n",
       "      <td>AX</td>\n",
       "      <td>ALA</td>\n",
       "      <td>248</td>\n",
       "    </tr>\n",
       "    <tr>\n",
       "      <th>2</th>\n",
       "      <td>Albania</td>\n",
       "      <td>AL</td>\n",
       "      <td>ALB</td>\n",
       "      <td>8</td>\n",
       "    </tr>\n",
       "    <tr>\n",
       "      <th>3</th>\n",
       "      <td>Algeria</td>\n",
       "      <td>DZ</td>\n",
       "      <td>DZA</td>\n",
       "      <td>12</td>\n",
       "    </tr>\n",
       "    <tr>\n",
       "      <th>4</th>\n",
       "      <td>American Samoa</td>\n",
       "      <td>AS</td>\n",
       "      <td>ASM</td>\n",
       "      <td>16</td>\n",
       "    </tr>\n",
       "  </tbody>\n",
       "</table>\n",
       "</div>"
      ],
      "text/plain": [
       "  ISO English Country Names Alpha-2 Code Alpha-3 Code  Numeric Code\n",
       "0               Afghanistan           AF          AFG             4\n",
       "1             Aland Islands           AX          ALA           248\n",
       "2                   Albania           AL          ALB             8\n",
       "3                   Algeria           DZ          DZA            12\n",
       "4            American Samoa           AS          ASM            16"
      ]
     },
     "execution_count": 104,
     "metadata": {},
     "output_type": "execute_result"
    }
   ],
   "source": [
    "# 如果不指定sheetname，则自动从sheet1读取\n",
    "df_in02=pd.read_excel('data/iso3166-1.xlsx')\n",
    "df_in02.head()"
   ]
  },
  {
   "cell_type": "code",
   "execution_count": 105,
   "metadata": {
    "nbpresent": {
     "id": "6d3a5c65-5216-499d-86b0-8536eca4a7b7"
    },
    "slideshow": {
     "slide_type": "subslide"
    }
   },
   "outputs": [],
   "source": [
    "hist_price.to_excel('data/hist_price.xlsx',\n",
    "                    sheet_name='sheet1')"
   ]
  },
  {
   "cell_type": "code",
   "execution_count": 106,
   "metadata": {
    "nbpresent": {
     "id": "e8f264e2-8536-453d-8021-42be069f4586"
    },
    "slideshow": {
     "slide_type": "subslide"
    }
   },
   "outputs": [
    {
     "data": {
      "text/html": [
       "<div>\n",
       "<style scoped>\n",
       "    .dataframe tbody tr th:only-of-type {\n",
       "        vertical-align: middle;\n",
       "    }\n",
       "\n",
       "    .dataframe tbody tr th {\n",
       "        vertical-align: top;\n",
       "    }\n",
       "\n",
       "    .dataframe thead th {\n",
       "        text-align: right;\n",
       "    }\n",
       "</style>\n",
       "<table border=\"1\" class=\"dataframe\">\n",
       "  <thead>\n",
       "    <tr style=\"text-align: right;\">\n",
       "      <th></th>\n",
       "      <th>open</th>\n",
       "      <th>close</th>\n",
       "      <th>high</th>\n",
       "      <th>low</th>\n",
       "      <th>volume</th>\n",
       "      <th>code</th>\n",
       "    </tr>\n",
       "    <tr>\n",
       "      <th>date</th>\n",
       "      <th></th>\n",
       "      <th></th>\n",
       "      <th></th>\n",
       "      <th></th>\n",
       "      <th></th>\n",
       "      <th></th>\n",
       "    </tr>\n",
       "  </thead>\n",
       "  <tbody>\n",
       "    <tr>\n",
       "      <th>2016-01-04</th>\n",
       "      <td>3.932</td>\n",
       "      <td>3.571</td>\n",
       "      <td>3.969</td>\n",
       "      <td>3.571</td>\n",
       "      <td>1850254</td>\n",
       "      <td>100</td>\n",
       "    </tr>\n",
       "    <tr>\n",
       "      <th>2016-01-05</th>\n",
       "      <td>3.469</td>\n",
       "      <td>3.673</td>\n",
       "      <td>3.719</td>\n",
       "      <td>3.423</td>\n",
       "      <td>2602644</td>\n",
       "      <td>100</td>\n",
       "    </tr>\n",
       "    <tr>\n",
       "      <th>2016-01-06</th>\n",
       "      <td>3.701</td>\n",
       "      <td>3.765</td>\n",
       "      <td>3.775</td>\n",
       "      <td>3.673</td>\n",
       "      <td>1614168</td>\n",
       "      <td>100</td>\n",
       "    </tr>\n",
       "    <tr>\n",
       "      <th>2016-01-07</th>\n",
       "      <td>3.719</td>\n",
       "      <td>3.479</td>\n",
       "      <td>3.728</td>\n",
       "      <td>3.451</td>\n",
       "      <td>517054</td>\n",
       "      <td>100</td>\n",
       "    </tr>\n",
       "    <tr>\n",
       "      <th>2016-01-08</th>\n",
       "      <td>3.608</td>\n",
       "      <td>3.627</td>\n",
       "      <td>3.654</td>\n",
       "      <td>3.451</td>\n",
       "      <td>2403484</td>\n",
       "      <td>100</td>\n",
       "    </tr>\n",
       "  </tbody>\n",
       "</table>\n",
       "</div>"
      ],
      "text/plain": [
       "             open  close   high    low   volume  code\n",
       "date                                                 \n",
       "2016-01-04  3.932  3.571  3.969  3.571  1850254   100\n",
       "2016-01-05  3.469  3.673  3.719  3.423  2602644   100\n",
       "2016-01-06  3.701  3.765  3.775  3.673  1614168   100\n",
       "2016-01-07  3.719  3.479  3.728  3.451   517054   100\n",
       "2016-01-08  3.608  3.627  3.654  3.451  2403484   100"
      ]
     },
     "execution_count": 106,
     "metadata": {},
     "output_type": "execute_result"
    }
   ],
   "source": [
    "df09=pd.read_excel(\n",
    "    'data/hist_price.xlsx',sheet_name='sheet1',\n",
    "    index_col=0,na_values=['NA'])\n",
    "df09.head()"
   ]
  },
  {
   "cell_type": "markdown",
   "metadata": {
    "slideshow": {
     "slide_type": "slide"
    }
   },
   "source": [
    "## 8.9 索引的移动与移动窗口计算\n",
    "\n",
    "以上介绍的DataFrame和Series的计算都是采用索引对齐方式进行的，但有时我们恰好需要的运算是索引之间具有一定的关系，而不是刚好对齐，怎么办？\n",
    "\n",
    "例如：我们想知道股票价格相对上一个交易日上涨了多少？相对于上个月上涨了多少？股票价格过去30日的平均价格是如何变化的？\n",
    "\n",
    "此时，我们就要用到索引的移动和移动窗口计算。"
   ]
  },
  {
   "cell_type": "code",
   "execution_count": 14,
   "metadata": {
    "slideshow": {
     "slide_type": "subslide"
    }
   },
   "outputs": [
    {
     "name": "stdout",
     "output_type": "stream",
     "text": [
      "本接口即将停止更新，请尽快使用Pro版接口：https://tushare.pro/document/2\n"
     ]
    },
    {
     "name": "stderr",
     "output_type": "stream",
     "text": [
      "C:\\Users\\Jacob2021\\AppData\\Roaming\\Python\\Python39\\site-packages\\tushare\\stock\\trading.py:706: FutureWarning: The frame.append method is deprecated and will be removed from pandas in a future version. Use pandas.concat instead.\n",
      "  data = data.append(_get_k_data(url, dataflag,\n"
     ]
    },
    {
     "name": "stdout",
     "output_type": "stream",
     "text": [
      "<class 'pandas.core.frame.DataFrame'>\n",
      "Int64Index: 486 entries, 0 to 485\n",
      "Data columns (total 7 columns):\n",
      " #   Column  Non-Null Count  Dtype  \n",
      "---  ------  --------------  -----  \n",
      " 0   date    486 non-null    object \n",
      " 1   open    486 non-null    float64\n",
      " 2   close   486 non-null    float64\n",
      " 3   high    486 non-null    float64\n",
      " 4   low     486 non-null    float64\n",
      " 5   volume  486 non-null    float64\n",
      " 6   code    486 non-null    object \n",
      "dtypes: float64(5), object(2)\n",
      "memory usage: 30.4+ KB\n"
     ]
    },
    {
     "name": "stderr",
     "output_type": "stream",
     "text": [
      "C:\\Users\\Jacob2021\\AppData\\Roaming\\Python\\Python39\\site-packages\\tushare\\stock\\trading.py:706: FutureWarning: The frame.append method is deprecated and will be removed from pandas in a future version. Use pandas.concat instead.\n",
      "  data = data.append(_get_k_data(url, dataflag,\n"
     ]
    }
   ],
   "source": [
    "import tushare as ts\n",
    "stock = ts.get_k_data('600000', start = '2020-01-01', end = '2022-01-01')\n",
    "stock.info()"
   ]
  },
  {
   "cell_type": "code",
   "execution_count": 15,
   "metadata": {
    "slideshow": {
     "slide_type": "subslide"
    }
   },
   "outputs": [
    {
     "data": {
      "text/html": [
       "<div>\n",
       "<style scoped>\n",
       "    .dataframe tbody tr th:only-of-type {\n",
       "        vertical-align: middle;\n",
       "    }\n",
       "\n",
       "    .dataframe tbody tr th {\n",
       "        vertical-align: top;\n",
       "    }\n",
       "\n",
       "    .dataframe thead th {\n",
       "        text-align: right;\n",
       "    }\n",
       "</style>\n",
       "<table border=\"1\" class=\"dataframe\">\n",
       "  <thead>\n",
       "    <tr style=\"text-align: right;\">\n",
       "      <th></th>\n",
       "      <th>date</th>\n",
       "      <th>open</th>\n",
       "      <th>close</th>\n",
       "      <th>high</th>\n",
       "      <th>low</th>\n",
       "      <th>volume</th>\n",
       "      <th>code</th>\n",
       "    </tr>\n",
       "  </thead>\n",
       "  <tbody>\n",
       "    <tr>\n",
       "      <th>0</th>\n",
       "      <td>2020-01-02</td>\n",
       "      <td>10.98</td>\n",
       "      <td>10.98</td>\n",
       "      <td>11.15</td>\n",
       "      <td>10.96</td>\n",
       "      <td>516290.0</td>\n",
       "      <td>600000</td>\n",
       "    </tr>\n",
       "    <tr>\n",
       "      <th>1</th>\n",
       "      <td>2020-01-03</td>\n",
       "      <td>11.08</td>\n",
       "      <td>11.11</td>\n",
       "      <td>11.14</td>\n",
       "      <td>10.98</td>\n",
       "      <td>380188.0</td>\n",
       "      <td>600000</td>\n",
       "    </tr>\n",
       "    <tr>\n",
       "      <th>2</th>\n",
       "      <td>2020-01-06</td>\n",
       "      <td>11.03</td>\n",
       "      <td>10.97</td>\n",
       "      <td>11.16</td>\n",
       "      <td>10.93</td>\n",
       "      <td>410011.0</td>\n",
       "      <td>600000</td>\n",
       "    </tr>\n",
       "    <tr>\n",
       "      <th>3</th>\n",
       "      <td>2020-01-07</td>\n",
       "      <td>11.02</td>\n",
       "      <td>11.01</td>\n",
       "      <td>11.11</td>\n",
       "      <td>10.97</td>\n",
       "      <td>284214.0</td>\n",
       "      <td>600000</td>\n",
       "    </tr>\n",
       "    <tr>\n",
       "      <th>4</th>\n",
       "      <td>2020-01-08</td>\n",
       "      <td>10.92</td>\n",
       "      <td>10.83</td>\n",
       "      <td>10.96</td>\n",
       "      <td>10.76</td>\n",
       "      <td>352405.0</td>\n",
       "      <td>600000</td>\n",
       "    </tr>\n",
       "  </tbody>\n",
       "</table>\n",
       "</div>"
      ],
      "text/plain": [
       "         date   open  close   high    low    volume    code\n",
       "0  2020-01-02  10.98  10.98  11.15  10.96  516290.0  600000\n",
       "1  2020-01-03  11.08  11.11  11.14  10.98  380188.0  600000\n",
       "2  2020-01-06  11.03  10.97  11.16  10.93  410011.0  600000\n",
       "3  2020-01-07  11.02  11.01  11.11  10.97  284214.0  600000\n",
       "4  2020-01-08  10.92  10.83  10.96  10.76  352405.0  600000"
      ]
     },
     "execution_count": 15,
     "metadata": {},
     "output_type": "execute_result"
    }
   ],
   "source": [
    "stock.head()"
   ]
  },
  {
   "cell_type": "code",
   "execution_count": 15,
   "metadata": {
    "slideshow": {
     "slide_type": "subslide"
    }
   },
   "outputs": [
    {
     "data": {
      "text/html": [
       "<div>\n",
       "<style scoped>\n",
       "    .dataframe tbody tr th:only-of-type {\n",
       "        vertical-align: middle;\n",
       "    }\n",
       "\n",
       "    .dataframe tbody tr th {\n",
       "        vertical-align: top;\n",
       "    }\n",
       "\n",
       "    .dataframe thead th {\n",
       "        text-align: right;\n",
       "    }\n",
       "</style>\n",
       "<table border=\"1\" class=\"dataframe\">\n",
       "  <thead>\n",
       "    <tr style=\"text-align: right;\">\n",
       "      <th></th>\n",
       "      <th>open</th>\n",
       "      <th>close</th>\n",
       "      <th>high</th>\n",
       "      <th>low</th>\n",
       "      <th>volume</th>\n",
       "      <th>code</th>\n",
       "    </tr>\n",
       "    <tr>\n",
       "      <th>date</th>\n",
       "      <th></th>\n",
       "      <th></th>\n",
       "      <th></th>\n",
       "      <th></th>\n",
       "      <th></th>\n",
       "      <th></th>\n",
       "    </tr>\n",
       "  </thead>\n",
       "  <tbody>\n",
       "    <tr>\n",
       "      <th>2021-12-27</th>\n",
       "      <td>8.54</td>\n",
       "      <td>8.56</td>\n",
       "      <td>8.57</td>\n",
       "      <td>8.53</td>\n",
       "      <td>195277.0</td>\n",
       "      <td>600000</td>\n",
       "    </tr>\n",
       "    <tr>\n",
       "      <th>2021-12-28</th>\n",
       "      <td>8.56</td>\n",
       "      <td>8.57</td>\n",
       "      <td>8.59</td>\n",
       "      <td>8.54</td>\n",
       "      <td>298337.0</td>\n",
       "      <td>600000</td>\n",
       "    </tr>\n",
       "    <tr>\n",
       "      <th>2021-12-29</th>\n",
       "      <td>8.57</td>\n",
       "      <td>8.54</td>\n",
       "      <td>8.58</td>\n",
       "      <td>8.53</td>\n",
       "      <td>200501.0</td>\n",
       "      <td>600000</td>\n",
       "    </tr>\n",
       "    <tr>\n",
       "      <th>2021-12-30</th>\n",
       "      <td>8.54</td>\n",
       "      <td>8.54</td>\n",
       "      <td>8.58</td>\n",
       "      <td>8.53</td>\n",
       "      <td>232725.0</td>\n",
       "      <td>600000</td>\n",
       "    </tr>\n",
       "    <tr>\n",
       "      <th>2021-12-31</th>\n",
       "      <td>8.54</td>\n",
       "      <td>8.53</td>\n",
       "      <td>8.57</td>\n",
       "      <td>8.53</td>\n",
       "      <td>229296.0</td>\n",
       "      <td>600000</td>\n",
       "    </tr>\n",
       "  </tbody>\n",
       "</table>\n",
       "</div>"
      ],
      "text/plain": [
       "            open  close  high   low    volume    code\n",
       "date                                                 \n",
       "2021-12-27  8.54   8.56  8.57  8.53  195277.0  600000\n",
       "2021-12-28  8.56   8.57  8.59  8.54  298337.0  600000\n",
       "2021-12-29  8.57   8.54  8.58  8.53  200501.0  600000\n",
       "2021-12-30  8.54   8.54  8.58  8.53  232725.0  600000\n",
       "2021-12-31  8.54   8.53  8.57  8.53  229296.0  600000"
      ]
     },
     "execution_count": 15,
     "metadata": {},
     "output_type": "execute_result"
    }
   ],
   "source": [
    "stock.set_index('date', inplace = True)\n",
    "stock.tail()"
   ]
  },
  {
   "cell_type": "markdown",
   "metadata": {
    "slideshow": {
     "slide_type": "subslide"
    }
   },
   "source": [
    "shift(n) 每行的索引为之后n行对应的索引"
   ]
  },
  {
   "cell_type": "code",
   "execution_count": 27,
   "metadata": {
    "slideshow": {
     "slide_type": "subslide"
    }
   },
   "outputs": [
    {
     "data": {
      "text/plain": [
       "date\n",
       "2020-01-02      NaN\n",
       "2020-01-03    11.39\n",
       "2020-01-06    11.52\n",
       "2020-01-07    11.38\n",
       "2020-01-08    11.42\n",
       "              ...  \n",
       "2021-12-27     8.54\n",
       "2021-12-28     8.56\n",
       "2021-12-29     8.57\n",
       "2021-12-30     8.54\n",
       "2021-12-31     8.54\n",
       "Name: close, Length: 486, dtype: float64"
      ]
     },
     "execution_count": 27,
     "metadata": {},
     "output_type": "execute_result"
    }
   ],
   "source": [
    "stock.close.shift(1)  # 现在做好了对齐的准备了"
   ]
  },
  {
   "cell_type": "code",
   "execution_count": 16,
   "metadata": {
    "slideshow": {
     "slide_type": "subslide"
    }
   },
   "outputs": [
    {
     "data": {
      "text/html": [
       "<div>\n",
       "<style scoped>\n",
       "    .dataframe tbody tr th:only-of-type {\n",
       "        vertical-align: middle;\n",
       "    }\n",
       "\n",
       "    .dataframe tbody tr th {\n",
       "        vertical-align: top;\n",
       "    }\n",
       "\n",
       "    .dataframe thead th {\n",
       "        text-align: right;\n",
       "    }\n",
       "</style>\n",
       "<table border=\"1\" class=\"dataframe\">\n",
       "  <thead>\n",
       "    <tr style=\"text-align: right;\">\n",
       "      <th></th>\n",
       "      <th>open</th>\n",
       "      <th>close</th>\n",
       "      <th>high</th>\n",
       "      <th>low</th>\n",
       "      <th>volume</th>\n",
       "      <th>code</th>\n",
       "      <th>pct_change</th>\n",
       "    </tr>\n",
       "    <tr>\n",
       "      <th>date</th>\n",
       "      <th></th>\n",
       "      <th></th>\n",
       "      <th></th>\n",
       "      <th></th>\n",
       "      <th></th>\n",
       "      <th></th>\n",
       "      <th></th>\n",
       "    </tr>\n",
       "  </thead>\n",
       "  <tbody>\n",
       "    <tr>\n",
       "      <th>2020-01-02</th>\n",
       "      <td>11.39</td>\n",
       "      <td>11.39</td>\n",
       "      <td>11.56</td>\n",
       "      <td>11.37</td>\n",
       "      <td>516290.0</td>\n",
       "      <td>600000</td>\n",
       "      <td>NaN</td>\n",
       "    </tr>\n",
       "    <tr>\n",
       "      <th>2020-01-03</th>\n",
       "      <td>11.49</td>\n",
       "      <td>11.52</td>\n",
       "      <td>11.55</td>\n",
       "      <td>11.39</td>\n",
       "      <td>380188.0</td>\n",
       "      <td>600000</td>\n",
       "      <td>0.011414</td>\n",
       "    </tr>\n",
       "    <tr>\n",
       "      <th>2020-01-06</th>\n",
       "      <td>11.44</td>\n",
       "      <td>11.38</td>\n",
       "      <td>11.57</td>\n",
       "      <td>11.34</td>\n",
       "      <td>410011.0</td>\n",
       "      <td>600000</td>\n",
       "      <td>-0.012153</td>\n",
       "    </tr>\n",
       "    <tr>\n",
       "      <th>2020-01-07</th>\n",
       "      <td>11.43</td>\n",
       "      <td>11.42</td>\n",
       "      <td>11.52</td>\n",
       "      <td>11.38</td>\n",
       "      <td>284214.0</td>\n",
       "      <td>600000</td>\n",
       "      <td>0.003515</td>\n",
       "    </tr>\n",
       "    <tr>\n",
       "      <th>2020-01-08</th>\n",
       "      <td>11.33</td>\n",
       "      <td>11.24</td>\n",
       "      <td>11.37</td>\n",
       "      <td>11.17</td>\n",
       "      <td>352405.0</td>\n",
       "      <td>600000</td>\n",
       "      <td>-0.015762</td>\n",
       "    </tr>\n",
       "  </tbody>\n",
       "</table>\n",
       "</div>"
      ],
      "text/plain": [
       "             open  close   high    low    volume    code  pct_change\n",
       "date                                                                \n",
       "2020-01-02  11.39  11.39  11.56  11.37  516290.0  600000         NaN\n",
       "2020-01-03  11.49  11.52  11.55  11.39  380188.0  600000    0.011414\n",
       "2020-01-06  11.44  11.38  11.57  11.34  410011.0  600000   -0.012153\n",
       "2020-01-07  11.43  11.42  11.52  11.38  284214.0  600000    0.003515\n",
       "2020-01-08  11.33  11.24  11.37  11.17  352405.0  600000   -0.015762"
      ]
     },
     "execution_count": 16,
     "metadata": {},
     "output_type": "execute_result"
    }
   ],
   "source": [
    "stock['pct_change'] = stock.close / stock.close.shift(1) - 1  # 相对于上一个交易日的涨幅\n",
    "stock.head()"
   ]
  },
  {
   "cell_type": "markdown",
   "metadata": {
    "slideshow": {
     "slide_type": "subslide"
    }
   },
   "source": [
    "rolling生成一个移动窗口，窗口的大小由window指定，还可以指定窗口的位置和类型。\n",
    "\n",
    "在生成一个移动窗口后，可以对于一个窗口里面的数据进行聚合运算。"
   ]
  },
  {
   "cell_type": "code",
   "execution_count": 20,
   "metadata": {
    "slideshow": {
     "slide_type": "subslide"
    }
   },
   "outputs": [
    {
     "data": {
      "text/html": [
       "<div>\n",
       "<style scoped>\n",
       "    .dataframe tbody tr th:only-of-type {\n",
       "        vertical-align: middle;\n",
       "    }\n",
       "\n",
       "    .dataframe tbody tr th {\n",
       "        vertical-align: top;\n",
       "    }\n",
       "\n",
       "    .dataframe thead th {\n",
       "        text-align: right;\n",
       "    }\n",
       "</style>\n",
       "<table border=\"1\" class=\"dataframe\">\n",
       "  <thead>\n",
       "    <tr style=\"text-align: right;\">\n",
       "      <th></th>\n",
       "      <th>open</th>\n",
       "      <th>close</th>\n",
       "      <th>high</th>\n",
       "      <th>low</th>\n",
       "      <th>volume</th>\n",
       "      <th>code</th>\n",
       "      <th>pct_change</th>\n",
       "      <th>ma30</th>\n",
       "    </tr>\n",
       "    <tr>\n",
       "      <th>date</th>\n",
       "      <th></th>\n",
       "      <th></th>\n",
       "      <th></th>\n",
       "      <th></th>\n",
       "      <th></th>\n",
       "      <th></th>\n",
       "      <th></th>\n",
       "      <th></th>\n",
       "    </tr>\n",
       "  </thead>\n",
       "  <tbody>\n",
       "    <tr>\n",
       "      <th>2021-12-27</th>\n",
       "      <td>8.54</td>\n",
       "      <td>8.56</td>\n",
       "      <td>8.57</td>\n",
       "      <td>8.53</td>\n",
       "      <td>195277.0</td>\n",
       "      <td>600000</td>\n",
       "      <td>0.002342</td>\n",
       "      <td>8.612333</td>\n",
       "    </tr>\n",
       "    <tr>\n",
       "      <th>2021-12-28</th>\n",
       "      <td>8.56</td>\n",
       "      <td>8.57</td>\n",
       "      <td>8.59</td>\n",
       "      <td>8.54</td>\n",
       "      <td>298337.0</td>\n",
       "      <td>600000</td>\n",
       "      <td>0.001168</td>\n",
       "      <td>8.607000</td>\n",
       "    </tr>\n",
       "    <tr>\n",
       "      <th>2021-12-29</th>\n",
       "      <td>8.57</td>\n",
       "      <td>8.54</td>\n",
       "      <td>8.58</td>\n",
       "      <td>8.53</td>\n",
       "      <td>200501.0</td>\n",
       "      <td>600000</td>\n",
       "      <td>-0.003501</td>\n",
       "      <td>8.603333</td>\n",
       "    </tr>\n",
       "    <tr>\n",
       "      <th>2021-12-30</th>\n",
       "      <td>8.54</td>\n",
       "      <td>8.54</td>\n",
       "      <td>8.58</td>\n",
       "      <td>8.53</td>\n",
       "      <td>232725.0</td>\n",
       "      <td>600000</td>\n",
       "      <td>0.000000</td>\n",
       "      <td>8.602667</td>\n",
       "    </tr>\n",
       "    <tr>\n",
       "      <th>2021-12-31</th>\n",
       "      <td>8.54</td>\n",
       "      <td>8.53</td>\n",
       "      <td>8.57</td>\n",
       "      <td>8.53</td>\n",
       "      <td>229296.0</td>\n",
       "      <td>600000</td>\n",
       "      <td>-0.001171</td>\n",
       "      <td>8.598667</td>\n",
       "    </tr>\n",
       "  </tbody>\n",
       "</table>\n",
       "</div>"
      ],
      "text/plain": [
       "            open  close  high   low    volume    code  pct_change      ma30\n",
       "date                                                                       \n",
       "2021-12-27  8.54   8.56  8.57  8.53  195277.0  600000    0.002342  8.612333\n",
       "2021-12-28  8.56   8.57  8.59  8.54  298337.0  600000    0.001168  8.607000\n",
       "2021-12-29  8.57   8.54  8.58  8.53  200501.0  600000   -0.003501  8.603333\n",
       "2021-12-30  8.54   8.54  8.58  8.53  232725.0  600000    0.000000  8.602667\n",
       "2021-12-31  8.54   8.53  8.57  8.53  229296.0  600000   -0.001171  8.598667"
      ]
     },
     "execution_count": 20,
     "metadata": {},
     "output_type": "execute_result"
    }
   ],
   "source": [
    "stock['ma30'] = stock.close.rolling(window=30).mean()  # 先生成30日移动窗口，再求该窗口上的均值运算\n",
    "stock.tail()"
   ]
  },
  {
   "cell_type": "markdown",
   "metadata": {
    "slideshow": {
     "slide_type": "subslide"
    }
   },
   "source": [
    "对于rolling窗口对象有很多聚合函数可以使用，包括：\n",
    "\n",
    "count, max, min, median, mean, std, var, cov, kurt, skew, sum等。\n",
    "\n",
    "如果我们希望进行的聚合操作需要自定义，则可以使用在rolling窗口对象上使用agg方法，传递一个函数作为参数。"
   ]
  },
  {
   "cell_type": "code",
   "execution_count": 25,
   "metadata": {
    "slideshow": {
     "slide_type": "subslide"
    }
   },
   "outputs": [
    {
     "data": {
      "text/html": [
       "<div>\n",
       "<style scoped>\n",
       "    .dataframe tbody tr th:only-of-type {\n",
       "        vertical-align: middle;\n",
       "    }\n",
       "\n",
       "    .dataframe tbody tr th {\n",
       "        vertical-align: top;\n",
       "    }\n",
       "\n",
       "    .dataframe thead th {\n",
       "        text-align: right;\n",
       "    }\n",
       "</style>\n",
       "<table border=\"1\" class=\"dataframe\">\n",
       "  <thead>\n",
       "    <tr style=\"text-align: right;\">\n",
       "      <th></th>\n",
       "      <th>open</th>\n",
       "      <th>close</th>\n",
       "      <th>high</th>\n",
       "      <th>low</th>\n",
       "      <th>volume</th>\n",
       "      <th>code</th>\n",
       "      <th>pct_change</th>\n",
       "      <th>ma30</th>\n",
       "      <th>gap</th>\n",
       "    </tr>\n",
       "    <tr>\n",
       "      <th>date</th>\n",
       "      <th></th>\n",
       "      <th></th>\n",
       "      <th></th>\n",
       "      <th></th>\n",
       "      <th></th>\n",
       "      <th></th>\n",
       "      <th></th>\n",
       "      <th></th>\n",
       "      <th></th>\n",
       "    </tr>\n",
       "  </thead>\n",
       "  <tbody>\n",
       "    <tr>\n",
       "      <th>2020-01-02</th>\n",
       "      <td>11.39</td>\n",
       "      <td>11.39</td>\n",
       "      <td>11.56</td>\n",
       "      <td>11.37</td>\n",
       "      <td>516290.0</td>\n",
       "      <td>600000</td>\n",
       "      <td>NaN</td>\n",
       "      <td>NaN</td>\n",
       "      <td>NaN</td>\n",
       "    </tr>\n",
       "    <tr>\n",
       "      <th>2020-01-03</th>\n",
       "      <td>11.49</td>\n",
       "      <td>11.52</td>\n",
       "      <td>11.55</td>\n",
       "      <td>11.39</td>\n",
       "      <td>380188.0</td>\n",
       "      <td>600000</td>\n",
       "      <td>0.011414</td>\n",
       "      <td>NaN</td>\n",
       "      <td>0.13</td>\n",
       "    </tr>\n",
       "    <tr>\n",
       "      <th>2020-01-06</th>\n",
       "      <td>11.44</td>\n",
       "      <td>11.38</td>\n",
       "      <td>11.57</td>\n",
       "      <td>11.34</td>\n",
       "      <td>410011.0</td>\n",
       "      <td>600000</td>\n",
       "      <td>-0.012153</td>\n",
       "      <td>NaN</td>\n",
       "      <td>0.14</td>\n",
       "    </tr>\n",
       "    <tr>\n",
       "      <th>2020-01-07</th>\n",
       "      <td>11.43</td>\n",
       "      <td>11.42</td>\n",
       "      <td>11.52</td>\n",
       "      <td>11.38</td>\n",
       "      <td>284214.0</td>\n",
       "      <td>600000</td>\n",
       "      <td>0.003515</td>\n",
       "      <td>NaN</td>\n",
       "      <td>0.14</td>\n",
       "    </tr>\n",
       "    <tr>\n",
       "      <th>2020-01-08</th>\n",
       "      <td>11.33</td>\n",
       "      <td>11.24</td>\n",
       "      <td>11.37</td>\n",
       "      <td>11.17</td>\n",
       "      <td>352405.0</td>\n",
       "      <td>600000</td>\n",
       "      <td>-0.015762</td>\n",
       "      <td>NaN</td>\n",
       "      <td>0.28</td>\n",
       "    </tr>\n",
       "  </tbody>\n",
       "</table>\n",
       "</div>"
      ],
      "text/plain": [
       "             open  close   high    low    volume    code  pct_change  ma30  \\\n",
       "date                                                                         \n",
       "2020-01-02  11.39  11.39  11.56  11.37  516290.0  600000         NaN   NaN   \n",
       "2020-01-03  11.49  11.52  11.55  11.39  380188.0  600000    0.011414   NaN   \n",
       "2020-01-06  11.44  11.38  11.57  11.34  410011.0  600000   -0.012153   NaN   \n",
       "2020-01-07  11.43  11.42  11.52  11.38  284214.0  600000    0.003515   NaN   \n",
       "2020-01-08  11.33  11.24  11.37  11.17  352405.0  600000   -0.015762   NaN   \n",
       "\n",
       "             gap  \n",
       "date              \n",
       "2020-01-02   NaN  \n",
       "2020-01-03  0.13  \n",
       "2020-01-06  0.14  \n",
       "2020-01-07  0.14  \n",
       "2020-01-08  0.28  "
      ]
     },
     "execution_count": 25,
     "metadata": {},
     "output_type": "execute_result"
    }
   ],
   "source": [
    "stock['gap'] = stock.close.rolling(window = 30, min_periods= 2).agg(lambda x: x.max() - x.min())\n",
    "stock.head()"
   ]
  },
  {
   "cell_type": "markdown",
   "metadata": {
    "nbpresent": {
     "id": "8ecad3dd-b551-4e6d-a4f7-d2dc4f1b14fe"
    },
    "slideshow": {
     "slide_type": "slide"
    }
   },
   "source": [
    "## 本章小结\n",
    "\n",
    "DataFrame对象的特征：\n",
    "* 二维表，具有两个维度(axis)\n",
    "* 行，对应于index\n",
    "* 列，对应于columns\n",
    "* 行和列都可以有命名标签\n",
    "* 若创建时不指定索引，则系统会自动赋予从0开始的整数索引。"
   ]
  },
  {
   "cell_type": "markdown",
   "metadata": {
    "nbpresent": {
     "id": "4536f8fb-3762-4897-9aec-5b64692ca930"
    },
    "slideshow": {
     "slide_type": "subslide"
    }
   },
   "source": [
    "\n",
    "选择方式\n",
    "* 利用标签索引，对应于loc\n",
    "* 利用位置索引，对应于iloc\n",
    "* 利用布尔索引"
   ]
  },
  {
   "cell_type": "markdown",
   "metadata": {
    "nbpresent": {
     "id": "2851b5a4-030b-465b-bdae-bb14f82d5463"
    },
    "slideshow": {
     "slide_type": "subslide"
    }
   },
   "source": [
    "数据分析操作\n",
    "\n",
    "* 数据连接\n",
    "* 数据分组\n",
    "* 统计操作\n"
   ]
  },
  {
   "cell_type": "markdown",
   "metadata": {
    "nbpresent": {
     "id": "b898ac57-83d2-495c-afaf-e484c00f4f0a"
    },
    "slideshow": {
     "slide_type": "slide"
    }
   },
   "source": [
    "## 巩固练习\n",
    "\n",
    "1. 找到你的学号对应的股票代码；\n",
    "2. 获取股票的K线数据；\n",
    "3. 将数据存储到工作目录中；\n",
    "4. 对数据进行分析"
   ]
  },
  {
   "cell_type": "code",
   "execution_count": 107,
   "metadata": {
    "nbpresent": {
     "id": "4a6497ab-2aa1-4b9b-942f-df3e064af18e"
    },
    "slideshow": {
     "slide_type": "slide"
    }
   },
   "outputs": [
    {
     "name": "stdout",
     "output_type": "stream",
     "text": [
      "本接口即将停止更新，请尽快使用Pro版接口：https://waditu.com/document/2\n"
     ]
    }
   ],
   "source": [
    "import tushare as ts\n",
    "k01=ts.get_k_data(code='000100',\n",
    "                  start='2016-01-01',\n",
    "                  end='2016-06-30')"
   ]
  },
  {
   "cell_type": "markdown",
   "metadata": {
    "nbpresent": {
     "id": "687dbb85-8894-4b85-8fd5-4d0924a64ae1"
    },
    "slideshow": {
     "slide_type": "slide"
    }
   },
   "source": [
    "### 练习题 1\n",
    "\n",
    "1. 查看数据，对数据进行描述；\n",
    "2. 选出收盘价；\n",
    "3. 选出某一天的数据；\n",
    "4. 对某个月的数据求平均；\n",
    "5. 对某个月的成交量求和；\n",
    "6. 取出收盘价高于某个价格的数据；\n",
    "7. 取出成交量高于某个数值的数据；"
   ]
  },
  {
   "cell_type": "markdown",
   "metadata": {
    "nbpresent": {
     "id": "bbab41ca-95a5-4f21-9145-e42114a85aa0"
    },
    "slideshow": {
     "slide_type": "slide"
    }
   },
   "source": [
    "### 练习题 2\n",
    "\n",
    "1. 求出每天收盘价与开盘价的差值；\n",
    "2. 求出上涨和下跌的天数；\n",
    "3. 再选取一只股票，求同一时期两只股票的收盘价的比值；\n",
    "4. 求同一时期两只股票的成交量的比值；\n",
    "5. 将两列比值存入新的DataFrame对象，并作图展示。"
   ]
  }
 ],
 "metadata": {
  "anaconda-cloud": {},
  "celltoolbar": "幻灯片",
  "kernelspec": {
   "display_name": "Python 3 (ipykernel)",
   "language": "python",
   "name": "python3"
  },
  "language_info": {
   "codemirror_mode": {
    "name": "ipython",
    "version": 3
   },
   "file_extension": ".py",
   "mimetype": "text/x-python",
   "name": "python",
   "nbconvert_exporter": "python",
   "pygments_lexer": "ipython3",
   "version": "3.11.5"
  },
  "nbpresent": {
   "slides": {
    "02315af7-8dd6-4fca-a08e-960c2796391a": {
     "id": "02315af7-8dd6-4fca-a08e-960c2796391a",
     "prev": "c453bb5b-5abc-4318-945e-7d4ef085ae62",
     "regions": {
      "a50c7b97-c16f-4917-83a5-bf4e3b998330": {
       "attrs": {
        "height": 0.8,
        "width": 0.8,
        "x": 0.1,
        "y": 0.1
       },
       "content": {
        "cell": "718ebba3-8c67-4b83-a05d-0c4d706a60bd",
        "part": "whole"
       },
       "id": "a50c7b97-c16f-4917-83a5-bf4e3b998330"
      }
     }
    },
    "02b154d8-dfa9-4350-988c-b677a0ce0373": {
     "id": "02b154d8-dfa9-4350-988c-b677a0ce0373",
     "prev": "d96c4385-613b-430a-beb4-e8342990642d",
     "regions": {
      "09a172eb-c1ff-4aa6-9302-401405ae6a03": {
       "attrs": {
        "height": 0.8,
        "width": 0.8,
        "x": 0.1,
        "y": 0.1
       },
       "content": {
        "cell": "6fab7c1c-a11c-4663-b33d-bdfaa261285e",
        "part": "whole"
       },
       "id": "09a172eb-c1ff-4aa6-9302-401405ae6a03"
      }
     }
    },
    "08d46a34-d31e-435e-a3b8-ea6824673941": {
     "id": "08d46a34-d31e-435e-a3b8-ea6824673941",
     "prev": "a42c0bff-219c-444c-ab5d-d966427753c9",
     "regions": {
      "9e64ba63-83bd-4d4c-ba6d-29a51101d3b3": {
       "attrs": {
        "height": 0.4,
        "width": 0.8,
        "x": 0.1,
        "y": 0.5
       },
       "content": {
        "cell": "782e4f0e-85e6-4c79-bac1-bd3d012cfe17",
        "part": "whole"
       },
       "id": "9e64ba63-83bd-4d4c-ba6d-29a51101d3b3"
      },
      "da5c5cde-7824-4cbc-aaaf-c3296c746ea5": {
       "attrs": {
        "height": 0.8,
        "width": 0.8,
        "x": 0.1,
        "y": 0.1
       },
       "content": {
        "cell": "316cea89-c671-4c5c-90b1-35363971bd8c",
        "part": "whole"
       },
       "id": "da5c5cde-7824-4cbc-aaaf-c3296c746ea5"
      }
     }
    },
    "0e172556-02cb-4f52-befb-9d7f9c084363": {
     "id": "0e172556-02cb-4f52-befb-9d7f9c084363",
     "prev": "b8119acb-c172-430d-b5fc-db61731ce23f",
     "regions": {
      "3c01d21e-997d-49d2-85bc-0f04291b8d3a": {
       "attrs": {
        "height": 0.8,
        "width": 0.8,
        "x": 0.1,
        "y": 0.1
       },
       "content": {
        "cell": "4a6497ab-2aa1-4b9b-942f-df3e064af18e",
        "part": "whole"
       },
       "id": "3c01d21e-997d-49d2-85bc-0f04291b8d3a"
      }
     }
    },
    "0e8d679b-9286-41ed-8790-14a0f1464c6d": {
     "id": "0e8d679b-9286-41ed-8790-14a0f1464c6d",
     "prev": "f5fbdfe8-4352-4d87-a332-739f459703af",
     "regions": {
      "3b9ddce3-60ab-481f-870d-32a1fb529941": {
       "attrs": {
        "height": 0.8,
        "width": 0.8,
        "x": 0.1,
        "y": 0.1
       },
       "content": {
        "cell": "5387aa00-038c-4447-a3e3-80fdef44e05e",
        "part": "whole"
       },
       "id": "3b9ddce3-60ab-481f-870d-32a1fb529941"
      },
      "fc88c104-9b90-4dfe-b170-968f404f03f2": {
       "attrs": {
        "height": 0.4,
        "width": 0.8,
        "x": 0.1,
        "y": 0.5
       },
       "content": {
        "cell": "62ef3deb-2f76-43e6-9077-03bd732bcf51",
        "part": "whole"
       },
       "id": "fc88c104-9b90-4dfe-b170-968f404f03f2"
      }
     }
    },
    "0ec2772f-698e-4424-a906-10588e43c28c": {
     "id": "0ec2772f-698e-4424-a906-10588e43c28c",
     "prev": "88a4b8a1-2ccf-4b9e-abc6-8ee56358c13c",
     "regions": {
      "5990332d-8e04-4e5f-9cdc-0ce1d80a05bf": {
       "attrs": {
        "height": 0.8,
        "width": 0.8,
        "x": 0.1,
        "y": 0.1
       },
       "content": {
        "cell": "8dc6f30e-a3f9-412d-b165-8d083080358f",
        "part": "whole"
       },
       "id": "5990332d-8e04-4e5f-9cdc-0ce1d80a05bf"
      },
      "b8ce6387-f4d4-4f88-9a56-716789af515b": {
       "attrs": {
        "height": 0.4,
        "width": 0.8,
        "x": 0.1,
        "y": 0.5
       },
       "content": {
        "cell": "dc82d350-04b7-408d-9cf5-3de8c1ca724f",
        "part": "whole"
       },
       "id": "b8ce6387-f4d4-4f88-9a56-716789af515b"
      }
     }
    },
    "10e2c97c-fabf-4164-a063-0dfece59dbd2": {
     "id": "10e2c97c-fabf-4164-a063-0dfece59dbd2",
     "prev": "b4d83d89-b0a2-4847-9203-9136071ca2fc",
     "regions": {
      "a804d1a5-773d-418d-b82a-0b33372c28b7": {
       "attrs": {
        "height": 0.8,
        "width": 0.8,
        "x": 0.1,
        "y": 0.1
       },
       "content": {
        "cell": "770a2787-d80d-4eea-9b0a-81355ba9e29b",
        "part": "whole"
       },
       "id": "a804d1a5-773d-418d-b82a-0b33372c28b7"
      },
      "c53ac59f-c566-49f3-8161-0fb1ba8fa827": {
       "attrs": {
        "height": 0.4,
        "width": 0.8,
        "x": 0.1,
        "y": 0.5
       },
       "content": {
        "cell": "d5f9b6c6-d99c-40fc-a41d-9c2eaa00f6aa",
        "part": "whole"
       },
       "id": "c53ac59f-c566-49f3-8161-0fb1ba8fa827"
      }
     }
    },
    "11cce497-ab40-4725-b21b-90e2060ad2d1": {
     "id": "11cce497-ab40-4725-b21b-90e2060ad2d1",
     "prev": "8ee8cb3c-5ddd-45dd-af26-49dec60482d3",
     "regions": {
      "c44013a3-1830-4bb5-9dc0-90d10a75d798": {
       "attrs": {
        "height": 0.8,
        "width": 0.8,
        "x": 0.1,
        "y": 0.1
       },
       "content": {
        "cell": "c58dfa5d-7da8-428d-89c5-47ec035d1226",
        "part": "whole"
       },
       "id": "c44013a3-1830-4bb5-9dc0-90d10a75d798"
      }
     }
    },
    "120aa5ea-38ae-43a8-b7c9-576a92b7c0fa": {
     "id": "120aa5ea-38ae-43a8-b7c9-576a92b7c0fa",
     "prev": "8ac9afab-3afb-4745-a637-7d2d75eecc32",
     "regions": {
      "b910f796-8fa9-4406-ac21-a49caf3cbdc2": {
       "attrs": {
        "height": 0.8,
        "width": 0.8,
        "x": 0.1,
        "y": 0.1
       },
       "content": {
        "cell": "b4b281ac-6b21-47a3-ac65-e2d72887c475",
        "part": "whole"
       },
       "id": "b910f796-8fa9-4406-ac21-a49caf3cbdc2"
      }
     }
    },
    "13f42f26-2a6d-4210-8d95-3b633ce304a6": {
     "id": "13f42f26-2a6d-4210-8d95-3b633ce304a6",
     "prev": "dd4e0eaf-05cc-473c-b921-4adc12a4edf6",
     "regions": {
      "246989b9-487a-4725-a392-29ebb66ee363": {
       "attrs": {
        "height": 0.8,
        "width": 0.8,
        "x": 0.1,
        "y": 0.1
       },
       "content": {
        "cell": "d7270ec3-781d-4277-946a-45e966a7bfbf",
        "part": "whole"
       },
       "id": "246989b9-487a-4725-a392-29ebb66ee363"
      }
     }
    },
    "14e763bd-6647-41d8-841e-2714984a4d41": {
     "id": "14e763bd-6647-41d8-841e-2714984a4d41",
     "prev": null,
     "regions": {
      "fe80c519-b272-4036-80b0-d41739c1d735": {
       "attrs": {
        "height": 0.8,
        "width": 0.8,
        "x": 0.1,
        "y": 0.1
       },
       "content": {
        "cell": "13240cad-4b6b-49fb-8e25-967972c0415b",
        "part": "whole"
       },
       "id": "fe80c519-b272-4036-80b0-d41739c1d735"
      }
     }
    },
    "16473f82-734e-4f9b-8258-730548e25270": {
     "id": "16473f82-734e-4f9b-8258-730548e25270",
     "prev": "a940ea0e-eec7-45a0-9010-07221f9ea67d",
     "regions": {
      "6f5453b7-7c6d-4aa0-98dd-1286240e9b32": {
       "attrs": {
        "height": 0.8,
        "width": 0.8,
        "x": 0.1,
        "y": 0.1
       },
       "content": {
        "cell": "b94afd9e-8564-46d1-8cf9-054efd24a9e7",
        "part": "whole"
       },
       "id": "6f5453b7-7c6d-4aa0-98dd-1286240e9b32"
      }
     }
    },
    "1691f281-9c57-425b-a576-101498409e19": {
     "id": "1691f281-9c57-425b-a576-101498409e19",
     "prev": "90914217-e33c-4fe4-aace-d4df1cd572aa",
     "regions": {
      "b2453cc1-d342-4adc-b306-4d5073cca52c": {
       "attrs": {
        "height": 0.8,
        "width": 0.8,
        "x": 0.1,
        "y": 0.1
       },
       "content": {
        "cell": "520d004f-30d6-4638-a291-e7888c0f9262",
        "part": "whole"
       },
       "id": "b2453cc1-d342-4adc-b306-4d5073cca52c"
      }
     }
    },
    "16d9bab9-2482-4690-ba29-2e673ba0e121": {
     "id": "16d9bab9-2482-4690-ba29-2e673ba0e121",
     "prev": "4b0cb565-9dd3-4b75-a020-479b79ba01ef",
     "regions": {
      "a152cf67-9c68-4518-873e-64b60cb104f5": {
       "attrs": {
        "height": 0.8,
        "width": 0.8,
        "x": 0.1,
        "y": 0.1
       },
       "content": {
        "cell": "07611c8d-af7b-4adc-bc7e-2c7f3bb6159d",
        "part": "whole"
       },
       "id": "a152cf67-9c68-4518-873e-64b60cb104f5"
      }
     }
    },
    "17542151-0290-462c-8148-1786db7c3cc2": {
     "id": "17542151-0290-462c-8148-1786db7c3cc2",
     "prev": "6023529d-6727-4c3f-bcd5-c3fc1a8912d2",
     "regions": {
      "597aa78b-b746-429c-a312-d38b22f636c3": {
       "attrs": {
        "height": 0.8,
        "width": 0.8,
        "x": 0.1,
        "y": 0.1
       },
       "content": {
        "cell": "4921234b-c1d2-4f5e-bbc9-29bdabb19c92",
        "part": "whole"
       },
       "id": "597aa78b-b746-429c-a312-d38b22f636c3"
      }
     }
    },
    "183be291-f97f-497c-90bb-3ed68a8b1422": {
     "id": "183be291-f97f-497c-90bb-3ed68a8b1422",
     "prev": "7eb0c105-72fd-4035-a240-70eca923af0d",
     "regions": {
      "ac21df47-d03f-450a-9f65-aedd6a5350dc": {
       "attrs": {
        "height": 0.8,
        "width": 0.8,
        "x": 0.1,
        "y": 0.1
       },
       "content": {
        "cell": "785e94f0-4a35-4608-a5cc-0694348eae05",
        "part": "whole"
       },
       "id": "ac21df47-d03f-450a-9f65-aedd6a5350dc"
      }
     }
    },
    "1a921f87-32f0-4b52-a789-98eff6cdb481": {
     "id": "1a921f87-32f0-4b52-a789-98eff6cdb481",
     "prev": "540fd0b9-31bd-4d06-8fc5-537c215c5544",
     "regions": {
      "c112da30-4820-41e3-9890-269cd16d080b": {
       "attrs": {
        "height": 0.8,
        "width": 0.8,
        "x": 0.1,
        "y": 0.1
       },
       "content": {
        "cell": "d4efe668-efd5-42b8-bdc9-2341062c3083",
        "part": "whole"
       },
       "id": "c112da30-4820-41e3-9890-269cd16d080b"
      }
     }
    },
    "1b32dcb5-c181-45a9-96a8-3d61b390524d": {
     "id": "1b32dcb5-c181-45a9-96a8-3d61b390524d",
     "prev": "68f87f4b-5267-4b9d-87d1-10d7cf9b7e49",
     "regions": {
      "0498d2d6-11c9-49d0-a2a2-031ea42083c5": {
       "attrs": {
        "height": 0.8,
        "width": 0.8,
        "x": 0.1,
        "y": 0.1
       },
       "content": {
        "cell": "d46048cf-ef23-40df-b7a1-6a75afd3a84a",
        "part": "whole"
       },
       "id": "0498d2d6-11c9-49d0-a2a2-031ea42083c5"
      }
     }
    },
    "1bcfbbae-fb98-4623-9e1c-61610c41b063": {
     "id": "1bcfbbae-fb98-4623-9e1c-61610c41b063",
     "prev": "918432c7-3108-46a7-a5c4-3641b0998c3a",
     "regions": {
      "df55fc90-5b3d-4fb5-9402-6623577f110b": {
       "attrs": {
        "height": 0.8,
        "width": 0.8,
        "x": 0.1,
        "y": 0.1
       },
       "content": {
        "cell": "dd9d7990-5e19-459b-8ebd-d4a132ab66a4",
        "part": "whole"
       },
       "id": "df55fc90-5b3d-4fb5-9402-6623577f110b"
      }
     }
    },
    "2103e7d8-3faf-4306-b21e-f4e95ef12d03": {
     "id": "2103e7d8-3faf-4306-b21e-f4e95ef12d03",
     "prev": "10e2c97c-fabf-4164-a063-0dfece59dbd2",
     "regions": {
      "58ed37f0-d46c-4393-80cc-0c5bc1c909ff": {
       "attrs": {
        "height": 0.4,
        "width": 0.8,
        "x": 0.1,
        "y": 0.5
       },
       "content": {
        "cell": "497efe20-674d-4342-8e0e-31d658c519af",
        "part": "whole"
       },
       "id": "58ed37f0-d46c-4393-80cc-0c5bc1c909ff"
      },
      "88bef41a-951b-452e-9ff5-816866771f7e": {
       "attrs": {
        "height": 0.8,
        "width": 0.8,
        "x": 0.1,
        "y": 0.1
       },
       "content": {
        "cell": "3f32f99d-8312-43b2-beca-697b6f806da6",
        "part": "whole"
       },
       "id": "88bef41a-951b-452e-9ff5-816866771f7e"
      }
     }
    },
    "216cf553-31ad-4f7b-be7e-33d62644d5a4": {
     "id": "216cf553-31ad-4f7b-be7e-33d62644d5a4",
     "prev": "53b04a57-5a6b-4e31-853b-2a1629b30730",
     "regions": {
      "13add18e-6bb6-4b79-b647-8bf50ecb3992": {
       "attrs": {
        "height": 0.8,
        "width": 0.8,
        "x": 0.1,
        "y": 0.1
       },
       "content": {
        "cell": "d9ce1316-03f6-4b4c-8b5e-7e43aeaaf33f",
        "part": "whole"
       },
       "id": "13add18e-6bb6-4b79-b647-8bf50ecb3992"
      },
      "f9635696-d5fc-4a55-8087-6e6d7d6f9868": {
       "attrs": {
        "height": 0.4,
        "width": 0.8,
        "x": 0.1,
        "y": 0.5
       },
       "content": {
        "cell": "dd8ac8a5-0ca0-4e63-8c69-c68cbdec309a",
        "part": "whole"
       },
       "id": "f9635696-d5fc-4a55-8087-6e6d7d6f9868"
      }
     }
    },
    "29b18b00-1f17-4a54-a692-55c0cd416f72": {
     "id": "29b18b00-1f17-4a54-a692-55c0cd416f72",
     "prev": "917f299d-3300-4d21-8dc7-18fe5ddbb3b2",
     "regions": {
      "d4a15aad-a240-49d1-bfb5-3fc2d0067b8f": {
       "attrs": {
        "height": 0.8,
        "width": 0.8,
        "x": 0.1,
        "y": 0.1
       },
       "content": {
        "cell": "7772b1a8-f5bb-4405-bf27-0625c89536dc",
        "part": "whole"
       },
       "id": "d4a15aad-a240-49d1-bfb5-3fc2d0067b8f"
      }
     }
    },
    "2ae67f4d-83a8-4cac-ba36-eefd79d440cd": {
     "id": "2ae67f4d-83a8-4cac-ba36-eefd79d440cd",
     "prev": "0e172556-02cb-4f52-befb-9d7f9c084363",
     "regions": {
      "2ceb0085-6b4c-41f9-adb3-b7bdee019474": {
       "attrs": {
        "height": 0.8,
        "width": 0.8,
        "x": 0.1,
        "y": 0.1
       },
       "content": {
        "cell": "687dbb85-8894-4b85-8fd5-4d0924a64ae1",
        "part": "whole"
       },
       "id": "2ceb0085-6b4c-41f9-adb3-b7bdee019474"
      }
     }
    },
    "2ba2f0fe-7431-4470-8eab-e7270630c5bb": {
     "id": "2ba2f0fe-7431-4470-8eab-e7270630c5bb",
     "prev": "16d9bab9-2482-4690-ba29-2e673ba0e121",
     "regions": {
      "c97241a3-1a6b-4d16-aa65-e3fe4a4e3884": {
       "attrs": {
        "height": 0.8,
        "width": 0.8,
        "x": 0.1,
        "y": 0.1
       },
       "content": {
        "cell": "67ffbff0-73f4-4bc7-856a-a595c5b47978",
        "part": "whole"
       },
       "id": "c97241a3-1a6b-4d16-aa65-e3fe4a4e3884"
      }
     }
    },
    "2c98a786-d491-47b3-ae27-639f57fc0959": {
     "id": "2c98a786-d491-47b3-ae27-639f57fc0959",
     "prev": "db34b9c1-8486-48ff-81d4-6ab1a39dfd55",
     "regions": {
      "c9a3e1e6-8ac0-4e01-9dbc-4a49137680a0": {
       "attrs": {
        "height": 0.8,
        "width": 0.8,
        "x": 0.1,
        "y": 0.1
       },
       "content": {
        "cell": "fd421eff-d3b9-46d5-9817-a131de0954b6",
        "part": "whole"
       },
       "id": "c9a3e1e6-8ac0-4e01-9dbc-4a49137680a0"
      }
     }
    },
    "31668422-8f0c-4a5a-ae97-c42724517ca7": {
     "id": "31668422-8f0c-4a5a-ae97-c42724517ca7",
     "prev": "2ae67f4d-83a8-4cac-ba36-eefd79d440cd",
     "regions": {
      "44e969c5-0f29-4837-9ae1-42a57df8058a": {
       "attrs": {
        "height": 0.8,
        "width": 0.8,
        "x": 0.1,
        "y": 0.1
       },
       "content": {
        "cell": "bbab41ca-95a5-4f21-9145-e42114a85aa0",
        "part": "whole"
       },
       "id": "44e969c5-0f29-4837-9ae1-42a57df8058a"
      }
     }
    },
    "357bf776-f5c1-48ee-9e3a-f6339436f602": {
     "id": "357bf776-f5c1-48ee-9e3a-f6339436f602",
     "prev": "8156d7ea-ec2a-4573-98e9-9bc66e00c15a",
     "regions": {
      "2fbac279-6522-4d50-aea6-36e342916255": {
       "attrs": {
        "height": 0.8,
        "width": 0.8,
        "x": 0.1,
        "y": 0.1
       },
       "content": {
        "cell": "81e1c266-622c-4627-a329-4c94ce18dca1",
        "part": "whole"
       },
       "id": "2fbac279-6522-4d50-aea6-36e342916255"
      }
     }
    },
    "389774db-36dd-4eaf-9df6-97c45009e8bd": {
     "id": "389774db-36dd-4eaf-9df6-97c45009e8bd",
     "prev": "accdee73-3f36-4592-a65b-9c4937c738a2",
     "regions": {
      "fb14caa6-1f32-4f30-b5c8-a1db1cd2ac80": {
       "attrs": {
        "height": 0.8,
        "width": 0.8,
        "x": 0.1,
        "y": 0.1
       },
       "content": {
        "cell": "5234a35f-29c9-4625-b76a-2a0546dfdebf",
        "part": "whole"
       },
       "id": "fb14caa6-1f32-4f30-b5c8-a1db1cd2ac80"
      }
     }
    },
    "3e1e4c99-f03c-4481-90a8-bfa873f6fe5f": {
     "id": "3e1e4c99-f03c-4481-90a8-bfa873f6fe5f",
     "prev": "43300afd-2c52-40ca-b52d-5218bd958483",
     "regions": {
      "4abcaf1b-116b-41ce-beea-fa6e7242272f": {
       "attrs": {
        "height": 0.8,
        "width": 0.8,
        "x": 0.1,
        "y": 0.1
       },
       "content": {
        "cell": "3dee4e28-0595-4dbc-af31-3506f0e41206",
        "part": "whole"
       },
       "id": "4abcaf1b-116b-41ce-beea-fa6e7242272f"
      },
      "c54fd33b-2b0d-4734-9aae-17b48f35ddef": {
       "attrs": {
        "height": 0.4,
        "width": 0.8,
        "x": 0.1,
        "y": 0.5
       },
       "content": {
        "cell": "c5e5932c-5938-4bf4-9b3a-60398350335b",
        "part": "whole"
       },
       "id": "c54fd33b-2b0d-4734-9aae-17b48f35ddef"
      }
     }
    },
    "3e68aac8-8895-427b-944f-6d9f387dd1c0": {
     "id": "3e68aac8-8895-427b-944f-6d9f387dd1c0",
     "prev": "0ec2772f-698e-4424-a906-10588e43c28c",
     "regions": {
      "e4151a21-d90b-4eb3-8374-e292e527fbec": {
       "attrs": {
        "height": 0.8,
        "width": 0.8,
        "x": 0.1,
        "y": 0.1
       },
       "content": {
        "cell": "4611fe93-4424-4258-8771-6e3d035e3078",
        "part": "whole"
       },
       "id": "e4151a21-d90b-4eb3-8374-e292e527fbec"
      }
     }
    },
    "40e972e5-73d1-462a-9d6f-5c3e54dc87de": {
     "id": "40e972e5-73d1-462a-9d6f-5c3e54dc87de",
     "prev": "89cced36-d602-445c-9e31-898f61b8bc21",
     "regions": {
      "a7237c72-8674-4802-98bb-97e129b236b4": {
       "attrs": {
        "height": 0.8,
        "width": 0.8,
        "x": 0.1,
        "y": 0.1
       },
       "content": {
        "cell": "82dfff72-7894-4586-81e5-4071fe30c2db",
        "part": "whole"
       },
       "id": "a7237c72-8674-4802-98bb-97e129b236b4"
      }
     }
    },
    "43300afd-2c52-40ca-b52d-5218bd958483": {
     "id": "43300afd-2c52-40ca-b52d-5218bd958483",
     "prev": "83971da5-460f-4ea4-93a9-7c29555217ac",
     "regions": {
      "727069f9-c0ad-4eb7-98a8-decd04e7961c": {
       "attrs": {
        "height": 0.8,
        "width": 0.8,
        "x": 0.1,
        "y": 0.1
       },
       "content": {
        "cell": "55d4bc0c-3f09-4dca-8a82-e38fafea2584",
        "part": "whole"
       },
       "id": "727069f9-c0ad-4eb7-98a8-decd04e7961c"
      }
     }
    },
    "45fcba4c-284a-4c08-bae3-add20445426b": {
     "id": "45fcba4c-284a-4c08-bae3-add20445426b",
     "prev": "3e68aac8-8895-427b-944f-6d9f387dd1c0",
     "regions": {
      "72a5ad12-06ab-40db-9102-2a5d9f39a7d2": {
       "attrs": {
        "height": 0.8,
        "width": 0.8,
        "x": 0.1,
        "y": 0.1
       },
       "content": {
        "cell": "92734597-fb3c-4c6a-b45d-9d37e7dd23f2",
        "part": "whole"
       },
       "id": "72a5ad12-06ab-40db-9102-2a5d9f39a7d2"
      }
     }
    },
    "46bdcbab-0d21-46ca-8912-181a27a12f34": {
     "id": "46bdcbab-0d21-46ca-8912-181a27a12f34",
     "prev": "57e3ef86-b80a-4a77-81d0-d59054bd563e",
     "regions": {
      "819fd60b-74d7-4e63-8552-68a3f88fe617": {
       "attrs": {
        "height": 0.8,
        "width": 0.8,
        "x": 0.1,
        "y": 0.1
       },
       "content": {
        "cell": "cfd44929-650d-48d8-81c8-724985338018",
        "part": "whole"
       },
       "id": "819fd60b-74d7-4e63-8552-68a3f88fe617"
      },
      "bd0b6aaa-4deb-4e7b-ab3a-374e9223110e": {
       "attrs": {
        "height": 0.4,
        "width": 0.8,
        "x": 0.1,
        "y": 0.5
       },
       "content": {
        "cell": "9e1c3e1d-09e5-4c50-86e1-27ffdafdd34b",
        "part": "whole"
       },
       "id": "bd0b6aaa-4deb-4e7b-ab3a-374e9223110e"
      }
     }
    },
    "4b0cb565-9dd3-4b75-a020-479b79ba01ef": {
     "id": "4b0cb565-9dd3-4b75-a020-479b79ba01ef",
     "prev": "808ab22d-d6ef-426b-bf95-cfe2004a61c4",
     "regions": {
      "9eb8780f-5642-46c8-bd1b-aabf2cf6e58b": {
       "attrs": {
        "height": 0.8,
        "width": 0.8,
        "x": 0.1,
        "y": 0.1
       },
       "content": {
        "cell": "fb5c9ec1-ee3b-4fde-babc-70d168701039",
        "part": "whole"
       },
       "id": "9eb8780f-5642-46c8-bd1b-aabf2cf6e58b"
      }
     }
    },
    "511ad508-2a5b-4c34-94ec-1fe1ad877546": {
     "id": "511ad508-2a5b-4c34-94ec-1fe1ad877546",
     "prev": "f17499d9-88d3-4814-807a-1a637f3e9bb8",
     "regions": {
      "a90ff58f-e2e0-49d5-b445-4c44733f9450": {
       "attrs": {
        "height": 0.4,
        "width": 0.8,
        "x": 0.1,
        "y": 0.5
       },
       "content": {
        "cell": "90c022c7-510f-4358-8ad4-1f29d48a8536",
        "part": "whole"
       },
       "id": "a90ff58f-e2e0-49d5-b445-4c44733f9450"
      },
      "b899564a-c41b-4705-b234-1146b83d6397": {
       "attrs": {
        "height": 0.8,
        "width": 0.8,
        "x": 0.1,
        "y": 0.1
       },
       "content": {
        "cell": "dd7418b8-abe9-46f7-9b4e-d8d80decc376",
        "part": "whole"
       },
       "id": "b899564a-c41b-4705-b234-1146b83d6397"
      }
     }
    },
    "526556c0-f374-4613-83fa-73796a146b0d": {
     "id": "526556c0-f374-4613-83fa-73796a146b0d",
     "prev": "580c438b-4673-4511-9606-34b1976caea7",
     "regions": {
      "6caf9cda-fec1-4359-9641-541e7ac77a28": {
       "attrs": {
        "height": 0.8,
        "width": 0.8,
        "x": 0.1,
        "y": 0.1
       },
       "content": {
        "cell": "01da890d-c640-4946-8cd3-4dabcd23fb58",
        "part": "whole"
       },
       "id": "6caf9cda-fec1-4359-9641-541e7ac77a28"
      }
     }
    },
    "53b04a57-5a6b-4e31-853b-2a1629b30730": {
     "id": "53b04a57-5a6b-4e31-853b-2a1629b30730",
     "prev": "a280794e-eeef-442d-98a7-a7ebead97cdc",
     "regions": {
      "37c848c0-30e0-4f5a-9d6f-1799b0c6819e": {
       "attrs": {
        "height": 0.8,
        "width": 0.8,
        "x": 0.1,
        "y": 0.1
       },
       "content": {
        "cell": "cf4286cd-961a-4253-8e55-6a0624629cbd",
        "part": "whole"
       },
       "id": "37c848c0-30e0-4f5a-9d6f-1799b0c6819e"
      }
     }
    },
    "540fd0b9-31bd-4d06-8fc5-537c215c5544": {
     "id": "540fd0b9-31bd-4d06-8fc5-537c215c5544",
     "prev": "90aee005-7675-4bff-9915-0946540634ac",
     "regions": {
      "1a602fbf-b1e8-4ef3-a6e6-0c886dbce1ae": {
       "attrs": {
        "height": 0.8,
        "width": 0.8,
        "x": 0.1,
        "y": 0.1
       },
       "content": {
        "cell": "0e22120e-94e3-451b-a86e-4ab0baf3bea5",
        "part": "whole"
       },
       "id": "1a602fbf-b1e8-4ef3-a6e6-0c886dbce1ae"
      },
      "3e363a43-810f-4fe3-86d9-505724a4bf1b": {
       "attrs": {
        "height": 0.4,
        "width": 0.8,
        "x": 0.1,
        "y": 0.5
       },
       "content": {
        "cell": "6dde5912-2808-40e8-92aa-a7bc364b2151",
        "part": "whole"
       },
       "id": "3e363a43-810f-4fe3-86d9-505724a4bf1b"
      }
     }
    },
    "54b48269-1f5e-442c-88dd-ea758d70cf86": {
     "id": "54b48269-1f5e-442c-88dd-ea758d70cf86",
     "prev": "120aa5ea-38ae-43a8-b7c9-576a92b7c0fa",
     "regions": {
      "c5e636a6-7bcb-4701-ac2e-f2df9844c1c5": {
       "attrs": {
        "height": 0.8,
        "width": 0.8,
        "x": 0.1,
        "y": 0.1
       },
       "content": {
        "cell": "30b0fd11-df66-425a-bf32-8f7594f78114",
        "part": "whole"
       },
       "id": "c5e636a6-7bcb-4701-ac2e-f2df9844c1c5"
      }
     }
    },
    "54d28a82-4118-4a28-952b-778aa21801e3": {
     "id": "54d28a82-4118-4a28-952b-778aa21801e3",
     "prev": "2ba2f0fe-7431-4470-8eab-e7270630c5bb",
     "regions": {
      "00e54afc-dd79-4d68-9519-13967534b933": {
       "attrs": {
        "height": 0.8,
        "width": 0.8,
        "x": 0.1,
        "y": 0.1
       },
       "content": {
        "cell": "44c8f9d6-3f80-467d-859e-0ccf2fb51de4",
        "part": "whole"
       },
       "id": "00e54afc-dd79-4d68-9519-13967534b933"
      }
     }
    },
    "5513e5a6-9a16-4c96-9bb6-ce7d2b5424ac": {
     "id": "5513e5a6-9a16-4c96-9bb6-ce7d2b5424ac",
     "prev": "d51dbcb3-4675-4ae8-9f49-27c2e8f45942",
     "regions": {
      "8b384d73-f285-490d-9b1d-2382b51334f0": {
       "attrs": {
        "height": 0.8,
        "width": 0.8,
        "x": 0.1,
        "y": 0.1
       },
       "content": {
        "cell": "ee657409-be6f-4016-9f3c-ddb1a61ced5b",
        "part": "whole"
       },
       "id": "8b384d73-f285-490d-9b1d-2382b51334f0"
      }
     }
    },
    "57e3ef86-b80a-4a77-81d0-d59054bd563e": {
     "id": "57e3ef86-b80a-4a77-81d0-d59054bd563e",
     "prev": "45fcba4c-284a-4c08-bae3-add20445426b",
     "regions": {
      "6481d0c0-7774-41e7-ba2a-62efc9701510": {
       "attrs": {
        "height": 0.8,
        "width": 0.8,
        "x": 0.1,
        "y": 0.1
       },
       "content": {
        "cell": "1c9cd1e4-eb21-45b7-a713-2e46e2f835cf",
        "part": "whole"
       },
       "id": "6481d0c0-7774-41e7-ba2a-62efc9701510"
      },
      "9a2e7fcf-23d0-4a73-b030-cea047313406": {
       "attrs": {
        "height": 0.4,
        "width": 0.8,
        "x": 0.1,
        "y": 0.5
       },
       "content": {
        "cell": "49ada409-bdb4-4032-b166-32a46aa8f2d2",
        "part": "whole"
       },
       "id": "9a2e7fcf-23d0-4a73-b030-cea047313406"
      }
     }
    },
    "580c438b-4673-4511-9606-34b1976caea7": {
     "id": "580c438b-4673-4511-9606-34b1976caea7",
     "prev": "216cf553-31ad-4f7b-be7e-33d62644d5a4",
     "regions": {
      "d2f31ec1-aea9-47fd-8e64-95a5e9d10f0b": {
       "attrs": {
        "height": 0.4,
        "width": 0.8,
        "x": 0.1,
        "y": 0.5
       },
       "content": {
        "cell": "03f97450-13f1-4b5e-ab18-42a1638ceea8",
        "part": "whole"
       },
       "id": "d2f31ec1-aea9-47fd-8e64-95a5e9d10f0b"
      },
      "f8373b84-59b7-40af-8471-5cb8ce1e0ed6": {
       "attrs": {
        "height": 0.8,
        "width": 0.8,
        "x": 0.1,
        "y": 0.1
       },
       "content": {
        "cell": "129b6b78-abe1-4cd6-be4b-4c62d5e74652",
        "part": "whole"
       },
       "id": "f8373b84-59b7-40af-8471-5cb8ce1e0ed6"
      }
     }
    },
    "5b1b1f13-2f47-4e54-b94b-b751800c3ee1": {
     "id": "5b1b1f13-2f47-4e54-b94b-b751800c3ee1",
     "prev": "02b154d8-dfa9-4350-988c-b677a0ce0373",
     "regions": {
      "ce73b1e6-0540-4dee-88bd-1c13b853b0d2": {
       "attrs": {
        "height": 0.8,
        "width": 0.8,
        "x": 0.1,
        "y": 0.1
       },
       "content": {
        "cell": "9b56c23d-fd16-4e07-a9de-c51342129c00",
        "part": "whole"
       },
       "id": "ce73b1e6-0540-4dee-88bd-1c13b853b0d2"
      }
     }
    },
    "6023529d-6727-4c3f-bcd5-c3fc1a8912d2": {
     "id": "6023529d-6727-4c3f-bcd5-c3fc1a8912d2",
     "prev": "b8a593fe-d837-404a-9a92-ed57b6379651",
     "regions": {
      "48262a45-fad6-4080-badf-e35161f96780": {
       "attrs": {
        "height": 0.8,
        "width": 0.8,
        "x": 0.1,
        "y": 0.1
       },
       "content": {
        "cell": "94460412-c964-440e-902b-9762f8e658d8",
        "part": "whole"
       },
       "id": "48262a45-fad6-4080-badf-e35161f96780"
      }
     }
    },
    "6082ad74-2a6a-416a-ade7-637bdcf070d2": {
     "id": "6082ad74-2a6a-416a-ade7-637bdcf070d2",
     "prev": "183be291-f97f-497c-90bb-3ed68a8b1422",
     "regions": {
      "7f81a12b-a51e-4c1f-915a-9d074691ccc3": {
       "attrs": {
        "height": 0.8,
        "width": 0.8,
        "x": 0.1,
        "y": 0.1
       },
       "content": {
        "cell": "03a3e9c3-5f3e-4c42-81ea-43901f3f1cd6",
        "part": "whole"
       },
       "id": "7f81a12b-a51e-4c1f-915a-9d074691ccc3"
      }
     }
    },
    "646ab546-edab-4031-8ad1-aa96c6cf3587": {
     "id": "646ab546-edab-4031-8ad1-aa96c6cf3587",
     "prev": "69166bde-9a08-4294-ad66-8864bb072b42",
     "regions": {
      "0d7a4ac7-ccad-43aa-b20f-073cf356bf30": {
       "attrs": {
        "height": 0.4,
        "width": 0.8,
        "x": 0.1,
        "y": 0.5
       },
       "content": {
        "cell": "6d91e5aa-3d87-4a61-8b08-a74445949f08",
        "part": "whole"
       },
       "id": "0d7a4ac7-ccad-43aa-b20f-073cf356bf30"
      },
      "7fd70e2e-cd9a-4630-a7e1-5a696f80d6e0": {
       "attrs": {
        "height": 0.8,
        "width": 0.8,
        "x": 0.1,
        "y": 0.1
       },
       "content": {
        "cell": "2e28c9f2-5dee-4683-b8b2-6e06a5513aef",
        "part": "whole"
       },
       "id": "7fd70e2e-cd9a-4630-a7e1-5a696f80d6e0"
      }
     }
    },
    "6888c00d-bc96-4110-a995-e24c5018e149": {
     "id": "6888c00d-bc96-4110-a995-e24c5018e149",
     "prev": "46bdcbab-0d21-46ca-8912-181a27a12f34",
     "regions": {
      "29aeeb8e-0348-4289-96f3-0758812bd0d4": {
       "attrs": {
        "height": 0.8,
        "width": 0.8,
        "x": 0.1,
        "y": 0.1
       },
       "content": {
        "cell": "41e8cf33-15da-46ea-946e-0e1a109c499d",
        "part": "whole"
       },
       "id": "29aeeb8e-0348-4289-96f3-0758812bd0d4"
      }
     }
    },
    "68ed4b91-32e7-4ac7-a25a-8cf3353df917": {
     "id": "68ed4b91-32e7-4ac7-a25a-8cf3353df917",
     "prev": "54b48269-1f5e-442c-88dd-ea758d70cf86",
     "regions": {
      "57907efd-9796-4a99-9452-d2e2c7b5049e": {
       "attrs": {
        "height": 0.8,
        "width": 0.8,
        "x": 0.1,
        "y": 0.1
       },
       "content": {
        "cell": "33328a49-40d5-4a69-b902-c768828a0b09",
        "part": "whole"
       },
       "id": "57907efd-9796-4a99-9452-d2e2c7b5049e"
      }
     }
    },
    "68f87f4b-5267-4b9d-87d1-10d7cf9b7e49": {
     "id": "68f87f4b-5267-4b9d-87d1-10d7cf9b7e49",
     "prev": "2c98a786-d491-47b3-ae27-639f57fc0959",
     "regions": {
      "2988424b-637f-49c9-a663-37317f9b596d": {
       "attrs": {
        "height": 0.8,
        "width": 0.8,
        "x": 0.1,
        "y": 0.1
       },
       "content": {
        "cell": "62cff82a-a74f-4a77-99aa-6357a43d11e2",
        "part": "whole"
       },
       "id": "2988424b-637f-49c9-a663-37317f9b596d"
      },
      "7bdf36ed-a178-498d-80b8-1d3b1c41767d": {
       "attrs": {
        "height": 0.4,
        "width": 0.8,
        "x": 0.1,
        "y": 0.5
       },
       "content": {
        "cell": "13b318f6-089c-4a43-9d3d-36777f1f99ac",
        "part": "whole"
       },
       "id": "7bdf36ed-a178-498d-80b8-1d3b1c41767d"
      }
     }
    },
    "68fc905d-7577-432b-b68f-70c945255951": {
     "id": "68fc905d-7577-432b-b68f-70c945255951",
     "prev": "6888c00d-bc96-4110-a995-e24c5018e149",
     "regions": {
      "4537b76d-275f-42b8-ad10-5d85b8b21e3c": {
       "attrs": {
        "height": 0.4,
        "width": 0.8,
        "x": 0.1,
        "y": 0.5
       },
       "content": {
        "cell": "e3ac6ab8-d433-4b68-9bf8-6d7fc193d1b1",
        "part": "whole"
       },
       "id": "4537b76d-275f-42b8-ad10-5d85b8b21e3c"
      },
      "644d092c-6f18-41c2-82f8-492af190d694": {
       "attrs": {
        "height": 0.8,
        "width": 0.8,
        "x": 0.1,
        "y": 0.1
       },
       "content": {
        "cell": "58cb97f0-2bb9-4d7e-8f00-0c82e0117ff2",
        "part": "whole"
       },
       "id": "644d092c-6f18-41c2-82f8-492af190d694"
      }
     }
    },
    "69166bde-9a08-4294-ad66-8864bb072b42": {
     "id": "69166bde-9a08-4294-ad66-8864bb072b42",
     "prev": "3e1e4c99-f03c-4481-90a8-bfa873f6fe5f",
     "regions": {
      "ded4dd8d-2146-4fe2-9e7e-e982a6247fb2": {
       "attrs": {
        "height": 0.8,
        "width": 0.8,
        "x": 0.1,
        "y": 0.1
       },
       "content": {
        "cell": "91095b1a-7d1b-4fc9-af36-5c9e0b9cade7",
        "part": "whole"
       },
       "id": "ded4dd8d-2146-4fe2-9e7e-e982a6247fb2"
      }
     }
    },
    "7311fe87-b148-4907-a5cc-d8fdc5ab1da4": {
     "id": "7311fe87-b148-4907-a5cc-d8fdc5ab1da4",
     "prev": "9cf5a43b-8364-4226-8419-3e0dbd88f3e7",
     "regions": {
      "615cebe8-2771-43bb-8e59-798370a76ae7": {
       "attrs": {
        "height": 0.8,
        "width": 0.8,
        "x": 0.1,
        "y": 0.1
       },
       "content": {
        "cell": "2851b5a4-030b-465b-bdae-bb14f82d5463",
        "part": "whole"
       },
       "id": "615cebe8-2771-43bb-8e59-798370a76ae7"
      }
     }
    },
    "751d4ecc-4002-4737-8eee-3063b83985b6": {
     "id": "751d4ecc-4002-4737-8eee-3063b83985b6",
     "prev": "54d28a82-4118-4a28-952b-778aa21801e3",
     "regions": {
      "40dc5e3a-529c-4ce0-81aa-3c90ed5c67e9": {
       "attrs": {
        "height": 0.8,
        "width": 0.8,
        "x": 0.1,
        "y": 0.1
       },
       "content": {
        "cell": "6d3a5c65-5216-499d-86b0-8536eca4a7b7",
        "part": "whole"
       },
       "id": "40dc5e3a-529c-4ce0-81aa-3c90ed5c67e9"
      }
     }
    },
    "7ccbca95-3432-44d8-be32-65f19fe966dd": {
     "id": "7ccbca95-3432-44d8-be32-65f19fe966dd",
     "prev": "ddf75f89-442c-4847-886e-cdaa7cfa62a7",
     "regions": {
      "78c36086-f576-4c39-b28b-a87b940fd671": {
       "attrs": {
        "height": 0.8,
        "width": 0.8,
        "x": 0.1,
        "y": 0.1
       },
       "content": {
        "cell": "9ed1d192-992d-45d8-a070-bbedb351e297",
        "part": "whole"
       },
       "id": "78c36086-f576-4c39-b28b-a87b940fd671"
      }
     }
    },
    "7eb0c105-72fd-4035-a240-70eca923af0d": {
     "id": "7eb0c105-72fd-4035-a240-70eca923af0d",
     "prev": "ec9c824e-2952-4e83-9216-860f44eed86b",
     "regions": {
      "3a9804a2-7863-4580-bc59-80e994266df5": {
       "attrs": {
        "height": 0.4,
        "width": 0.8,
        "x": 0.1,
        "y": 0.5
       },
       "content": {
        "cell": "05de8931-8328-46ef-a417-1b3aeae22bbc",
        "part": "whole"
       },
       "id": "3a9804a2-7863-4580-bc59-80e994266df5"
      },
      "3d6e70fa-26fc-4304-8ec0-3a3bcf3f0d8e": {
       "attrs": {
        "height": 0.8,
        "width": 0.8,
        "x": 0.1,
        "y": 0.1
       },
       "content": {
        "cell": "8fd9ab7d-100d-4d83-b860-991bc9d61811",
        "part": "whole"
       },
       "id": "3d6e70fa-26fc-4304-8ec0-3a3bcf3f0d8e"
      }
     }
    },
    "7f9f3f99-646e-45f2-b46d-104afb3daa6c": {
     "id": "7f9f3f99-646e-45f2-b46d-104afb3daa6c",
     "prev": "fa61e99c-d8c5-4238-ac40-d8e5512c9ce7",
     "regions": {
      "7813aec4-8da0-4176-ba85-dffb5bbbd29d": {
       "attrs": {
        "height": 0.8,
        "width": 0.8,
        "x": 0.1,
        "y": 0.1
       },
       "content": {
        "cell": "5c555e14-e412-4a80-9d1c-d2eabf619d35",
        "part": "whole"
       },
       "id": "7813aec4-8da0-4176-ba85-dffb5bbbd29d"
      }
     }
    },
    "808ab22d-d6ef-426b-bf95-cfe2004a61c4": {
     "id": "808ab22d-d6ef-426b-bf95-cfe2004a61c4",
     "prev": "5513e5a6-9a16-4c96-9bb6-ce7d2b5424ac",
     "regions": {
      "16ec87b7-5dc4-4643-ac8b-38ef99ee92df": {
       "attrs": {
        "height": 0.8,
        "width": 0.8,
        "x": 0.1,
        "y": 0.1
       },
       "content": {
        "cell": "43b15e88-1258-4922-86cb-10b62dea10e3",
        "part": "whole"
       },
       "id": "16ec87b7-5dc4-4643-ac8b-38ef99ee92df"
      }
     }
    },
    "8156d7ea-ec2a-4573-98e9-9bc66e00c15a": {
     "id": "8156d7ea-ec2a-4573-98e9-9bc66e00c15a",
     "prev": "02315af7-8dd6-4fca-a08e-960c2796391a",
     "regions": {
      "3ca76b70-e218-4d0a-879e-129a3e9f3cc7": {
       "attrs": {
        "height": 0.8,
        "width": 0.8,
        "x": 0.1,
        "y": 0.1
       },
       "content": {
        "cell": "e17c02ec-f163-48d0-91f3-dea2bb661dc6",
        "part": "whole"
       },
       "id": "3ca76b70-e218-4d0a-879e-129a3e9f3cc7"
      }
     }
    },
    "83971da5-460f-4ea4-93a9-7c29555217ac": {
     "id": "83971da5-460f-4ea4-93a9-7c29555217ac",
     "prev": "c8065de6-f555-4c14-8c61-cb62d2d02af7",
     "regions": {
      "1570d5c7-5877-45f7-b4c1-e32ac7c87256": {
       "attrs": {
        "height": 0.4,
        "width": 0.8,
        "x": 0.1,
        "y": 0.5
       },
       "content": {
        "cell": "9a38c4b6-b3ec-4f00-94f0-f19085e69b69",
        "part": "whole"
       },
       "id": "1570d5c7-5877-45f7-b4c1-e32ac7c87256"
      },
      "cf6ae39f-4002-400e-bff5-161c6d56474d": {
       "attrs": {
        "height": 0.8,
        "width": 0.8,
        "x": 0.1,
        "y": 0.1
       },
       "content": {
        "cell": "7e602bd1-4244-44b7-93db-930c9a922fee",
        "part": "whole"
       },
       "id": "cf6ae39f-4002-400e-bff5-161c6d56474d"
      }
     }
    },
    "868e85ff-bef9-438b-af3b-eb6c8046eda7": {
     "id": "868e85ff-bef9-438b-af3b-eb6c8046eda7",
     "prev": "982c5468-d095-41a9-92d8-14a34c8ce060",
     "regions": {
      "344d6000-4640-4ef3-b3d1-6eeb36aab87e": {
       "attrs": {
        "height": 0.8,
        "width": 0.8,
        "x": 0.1,
        "y": 0.1
       },
       "content": {
        "cell": "d1a70a49-520a-4050-8a2e-ff30798133cc",
        "part": "whole"
       },
       "id": "344d6000-4640-4ef3-b3d1-6eeb36aab87e"
      }
     }
    },
    "88a4b8a1-2ccf-4b9e-abc6-8ee56358c13c": {
     "id": "88a4b8a1-2ccf-4b9e-abc6-8ee56358c13c",
     "prev": "17542151-0290-462c-8148-1786db7c3cc2",
     "regions": {
      "9c673100-4175-4400-b285-a75c607dbbe0": {
       "attrs": {
        "height": 0.8,
        "width": 0.8,
        "x": 0.1,
        "y": 0.1
       },
       "content": {
        "cell": "8b9defbc-a6cf-455f-8415-ad3c41ecb9c9",
        "part": "whole"
       },
       "id": "9c673100-4175-4400-b285-a75c607dbbe0"
      }
     }
    },
    "897b59ed-dde3-431b-9cdf-b50166769439": {
     "id": "897b59ed-dde3-431b-9cdf-b50166769439",
     "prev": "f84c9d06-f0c2-4cb2-9766-ef948dbd4477",
     "regions": {
      "af71b8ec-7e26-4c3c-9041-74a36acee98e": {
       "attrs": {
        "height": 0.8,
        "width": 0.8,
        "x": 0.1,
        "y": 0.1
       },
       "content": {
        "cell": "6e6b344e-2378-4779-a7e4-83ea59a026ba",
        "part": "whole"
       },
       "id": "af71b8ec-7e26-4c3c-9041-74a36acee98e"
      }
     }
    },
    "89cced36-d602-445c-9e31-898f61b8bc21": {
     "id": "89cced36-d602-445c-9e31-898f61b8bc21",
     "prev": "14e763bd-6647-41d8-841e-2714984a4d41",
     "regions": {
      "8ddcf2a8-6469-4325-a25b-15f7a40d8a41": {
       "attrs": {
        "height": 0.8,
        "width": 0.8,
        "x": 0.1,
        "y": 0.1
       },
       "content": {
        "cell": "d232b12b-72bb-4e0a-9736-1d230c3555b8",
        "part": "whole"
       },
       "id": "8ddcf2a8-6469-4325-a25b-15f7a40d8a41"
      },
      "b34b5231-89e1-49e7-a3c5-061745d1939b": {
       "attrs": {
        "height": 0.4,
        "width": 0.8,
        "x": 0.1,
        "y": 0.5
       },
       "content": {
        "cell": "a445a3a5-e716-4da4-9258-8fe26286447a",
        "part": "whole"
       },
       "id": "b34b5231-89e1-49e7-a3c5-061745d1939b"
      }
     }
    },
    "8ac9afab-3afb-4745-a637-7d2d75eecc32": {
     "id": "8ac9afab-3afb-4745-a637-7d2d75eecc32",
     "prev": "1691f281-9c57-425b-a576-101498409e19",
     "regions": {
      "39ae84d4-20b0-4678-bacf-cf4eabfca6b2": {
       "attrs": {
        "height": 0.8,
        "width": 0.8,
        "x": 0.1,
        "y": 0.1
       },
       "content": {
        "cell": "29029548-e2c7-4a7b-b5a4-2c668aad1d38",
        "part": "whole"
       },
       "id": "39ae84d4-20b0-4678-bacf-cf4eabfca6b2"
      }
     }
    },
    "8b03883a-0a65-4cfa-bc9f-f91ec590e880": {
     "id": "8b03883a-0a65-4cfa-bc9f-f91ec590e880",
     "prev": "11cce497-ab40-4725-b21b-90e2060ad2d1",
     "regions": {
      "02c4034d-15f1-4671-be39-7849fa1773f7": {
       "attrs": {
        "height": 0.4,
        "width": 0.8,
        "x": 0.1,
        "y": 0.5
       },
       "content": {
        "cell": "04f2987c-6f8a-4daa-8ed0-c5ce0499219f",
        "part": "whole"
       },
       "id": "02c4034d-15f1-4671-be39-7849fa1773f7"
      },
      "3ff6169d-1bda-4d17-a797-bf41f6bf433c": {
       "attrs": {
        "height": 0.8,
        "width": 0.8,
        "x": 0.1,
        "y": 0.1
       },
       "content": {
        "cell": "d1286446-6f83-4dd1-8384-94568cd3ac0a",
        "part": "whole"
       },
       "id": "3ff6169d-1bda-4d17-a797-bf41f6bf433c"
      }
     }
    },
    "8ee8cb3c-5ddd-45dd-af26-49dec60482d3": {
     "id": "8ee8cb3c-5ddd-45dd-af26-49dec60482d3",
     "prev": "1a921f87-32f0-4b52-a789-98eff6cdb481",
     "regions": {
      "09918e76-3caa-4207-b190-2fc8110821e5": {
       "attrs": {
        "height": 0.8,
        "width": 0.8,
        "x": 0.1,
        "y": 0.1
       },
       "content": {
        "cell": "8ba5e283-5d90-41fe-b38b-38878d3d3e81",
        "part": "whole"
       },
       "id": "09918e76-3caa-4207-b190-2fc8110821e5"
      }
     }
    },
    "90914217-e33c-4fe4-aace-d4df1cd572aa": {
     "id": "90914217-e33c-4fe4-aace-d4df1cd572aa",
     "prev": "6082ad74-2a6a-416a-ade7-637bdcf070d2",
     "regions": {
      "65880d27-8f6d-432e-8afc-d6397149b33f": {
       "attrs": {
        "height": 0.8,
        "width": 0.8,
        "x": 0.1,
        "y": 0.1
       },
       "content": {
        "cell": "8727624b-4dda-42e3-8ce0-4edfd9715f1f",
        "part": "whole"
       },
       "id": "65880d27-8f6d-432e-8afc-d6397149b33f"
      }
     }
    },
    "90aee005-7675-4bff-9915-0946540634ac": {
     "id": "90aee005-7675-4bff-9915-0946540634ac",
     "prev": "68ed4b91-32e7-4ac7-a25a-8cf3353df917",
     "regions": {
      "2cefc506-c52a-4abe-a42a-439f801927c7": {
       "attrs": {
        "height": 0.4,
        "width": 0.8,
        "x": 0.1,
        "y": 0.5
       },
       "content": {
        "cell": "053587f0-885e-4cf6-975a-7d45df178f8f",
        "part": "whole"
       },
       "id": "2cefc506-c52a-4abe-a42a-439f801927c7"
      },
      "39c0d640-bf3f-4ae1-b50c-e70181d291c6": {
       "attrs": {
        "height": 0.8,
        "width": 0.8,
        "x": 0.1,
        "y": 0.1
       },
       "content": {
        "cell": "a253f229-7925-466c-a8a0-beaadacebe64",
        "part": "whole"
       },
       "id": "39c0d640-bf3f-4ae1-b50c-e70181d291c6"
      }
     }
    },
    "91015590-1d95-445d-b935-a662fedbd4a6": {
     "id": "91015590-1d95-445d-b935-a662fedbd4a6",
     "prev": "08d46a34-d31e-435e-a3b8-ea6824673941",
     "regions": {
      "b3c94e7d-8e33-44b8-a8d3-1f7a1165a0da": {
       "attrs": {
        "height": 0.8,
        "width": 0.8,
        "x": 0.1,
        "y": 0.1
       },
       "content": {
        "cell": "38911e83-ff5d-4be8-8d25-dcaee40d15fc",
        "part": "whole"
       },
       "id": "b3c94e7d-8e33-44b8-a8d3-1f7a1165a0da"
      }
     }
    },
    "917f299d-3300-4d21-8dc7-18fe5ddbb3b2": {
     "id": "917f299d-3300-4d21-8dc7-18fe5ddbb3b2",
     "prev": "16473f82-734e-4f9b-8258-730548e25270",
     "regions": {
      "595937c6-9926-4b7f-a06d-db33979bb392": {
       "attrs": {
        "height": 0.8,
        "width": 0.8,
        "x": 0.1,
        "y": 0.1
       },
       "content": {
        "cell": "2877765d-22ad-4281-b8a0-c3b1142e611a",
        "part": "whole"
       },
       "id": "595937c6-9926-4b7f-a06d-db33979bb392"
      }
     }
    },
    "918432c7-3108-46a7-a5c4-3641b0998c3a": {
     "id": "918432c7-3108-46a7-a5c4-3641b0998c3a",
     "prev": "cdb33907-735a-4941-a114-7717d4f0b75b",
     "regions": {
      "ff2f62ff-7011-48cd-92bf-a20d9d6fca6b": {
       "attrs": {
        "height": 0.8,
        "width": 0.8,
        "x": 0.1,
        "y": 0.1
       },
       "content": {
        "cell": "864602d6-3ed7-4868-b48d-1838336d60e8",
        "part": "whole"
       },
       "id": "ff2f62ff-7011-48cd-92bf-a20d9d6fca6b"
      }
     }
    },
    "91b3efbb-8845-42b0-9531-4d87a7c0d093": {
     "id": "91b3efbb-8845-42b0-9531-4d87a7c0d093",
     "prev": "dd69e544-2ee8-43df-8ac4-891c2965464b",
     "regions": {
      "c41bf8e1-375c-4ff0-9eee-5f957987517c": {
       "attrs": {
        "height": 0.8,
        "width": 0.8,
        "x": 0.1,
        "y": 0.1
       },
       "content": {
        "cell": "033f2882-b214-4d6e-961f-637cb1d1f623",
        "part": "whole"
       },
       "id": "c41bf8e1-375c-4ff0-9eee-5f957987517c"
      }
     }
    },
    "9379c556-2c96-4d59-be7a-6c8083e9a259": {
     "id": "9379c556-2c96-4d59-be7a-6c8083e9a259",
     "prev": "751d4ecc-4002-4737-8eee-3063b83985b6",
     "regions": {
      "9efc2051-bace-4148-93ef-8b52ea6e725f": {
       "attrs": {
        "height": 0.8,
        "width": 0.8,
        "x": 0.1,
        "y": 0.1
       },
       "content": {
        "cell": "e8f264e2-8536-453d-8021-42be069f4586",
        "part": "whole"
       },
       "id": "9efc2051-bace-4148-93ef-8b52ea6e725f"
      }
     }
    },
    "9745ba15-64b3-4ad8-ad7c-76d9eca7ec40": {
     "id": "9745ba15-64b3-4ad8-ad7c-76d9eca7ec40",
     "prev": "7ccbca95-3432-44d8-be32-65f19fe966dd",
     "regions": {
      "6c0dc23b-bc07-4177-b1db-398995db0379": {
       "attrs": {
        "height": 0.8,
        "width": 0.8,
        "x": 0.1,
        "y": 0.1
       },
       "content": {
        "cell": "96cfb3ab-5735-4537-aceb-1179fded7843",
        "part": "whole"
       },
       "id": "6c0dc23b-bc07-4177-b1db-398995db0379"
      }
     }
    },
    "982c5468-d095-41a9-92d8-14a34c8ce060": {
     "id": "982c5468-d095-41a9-92d8-14a34c8ce060",
     "prev": "897b59ed-dde3-431b-9cdf-b50166769439",
     "regions": {
      "888fb639-c92f-4789-ab57-552190f5124b": {
       "attrs": {
        "height": 0.8,
        "width": 0.8,
        "x": 0.1,
        "y": 0.1
       },
       "content": {
        "cell": "e9b4b9c7-1055-4af1-be53-33572a353758",
        "part": "whole"
       },
       "id": "888fb639-c92f-4789-ab57-552190f5124b"
      }
     }
    },
    "9cf5a43b-8364-4226-8419-3e0dbd88f3e7": {
     "id": "9cf5a43b-8364-4226-8419-3e0dbd88f3e7",
     "prev": "b8543e66-4eb5-4a5f-9d0b-b1783b466eea",
     "regions": {
      "b0a5f535-97e8-498a-96ef-b678cf047135": {
       "attrs": {
        "height": 0.8,
        "width": 0.8,
        "x": 0.1,
        "y": 0.1
       },
       "content": {
        "cell": "4536f8fb-3762-4897-9aec-5b64692ca930",
        "part": "whole"
       },
       "id": "b0a5f535-97e8-498a-96ef-b678cf047135"
      }
     }
    },
    "a280794e-eeef-442d-98a7-a7ebead97cdc": {
     "id": "a280794e-eeef-442d-98a7-a7ebead97cdc",
     "prev": "0e8d679b-9286-41ed-8790-14a0f1464c6d",
     "regions": {
      "7faaaced-bbc8-47c6-89cd-92619e69c132": {
       "attrs": {
        "height": 0.8,
        "width": 0.8,
        "x": 0.1,
        "y": 0.1
       },
       "content": {
        "cell": "cc8a3096-5c06-4b30-87d6-3fb63d116814",
        "part": "whole"
       },
       "id": "7faaaced-bbc8-47c6-89cd-92619e69c132"
      }
     }
    },
    "a42c0bff-219c-444c-ab5d-d966427753c9": {
     "id": "a42c0bff-219c-444c-ab5d-d966427753c9",
     "prev": "d3a026b5-0010-4eea-b98d-1c22c05706bb",
     "regions": {
      "5c4c770c-42dd-4b86-ab83-4ea9973d445a": {
       "attrs": {
        "height": 0.8,
        "width": 0.8,
        "x": 0.1,
        "y": 0.1
       },
       "content": {
        "cell": "02513e74-3832-4527-882c-424935a9f805",
        "part": "whole"
       },
       "id": "5c4c770c-42dd-4b86-ab83-4ea9973d445a"
      }
     }
    },
    "a6e87a7b-3d94-49ab-a291-dbcaae7019f1": {
     "id": "a6e87a7b-3d94-49ab-a291-dbcaae7019f1",
     "prev": "5b1b1f13-2f47-4e54-b94b-b751800c3ee1",
     "regions": {
      "e95db3f1-7c69-4be8-8e26-8399645049c5": {
       "attrs": {
        "height": 0.8,
        "width": 0.8,
        "x": 0.1,
        "y": 0.1
       },
       "content": {
        "cell": "d6c0dacd-2ac7-4bd4-9287-1f0f6a0fdac1",
        "part": "whole"
       },
       "id": "e95db3f1-7c69-4be8-8e26-8399645049c5"
      }
     }
    },
    "a940ea0e-eec7-45a0-9010-07221f9ea67d": {
     "id": "a940ea0e-eec7-45a0-9010-07221f9ea67d",
     "prev": "9745ba15-64b3-4ad8-ad7c-76d9eca7ec40",
     "regions": {
      "65d0d98e-8cd7-43fe-8441-cc77478a415f": {
       "attrs": {
        "height": 0.8,
        "width": 0.8,
        "x": 0.1,
        "y": 0.1
       },
       "content": {
        "cell": "a1a26c25-dbba-4471-b0c4-3c443434b433",
        "part": "whole"
       },
       "id": "65d0d98e-8cd7-43fe-8441-cc77478a415f"
      }
     }
    },
    "accdee73-3f36-4592-a65b-9c4937c738a2": {
     "id": "accdee73-3f36-4592-a65b-9c4937c738a2",
     "prev": "13f42f26-2a6d-4210-8d95-3b633ce304a6",
     "regions": {
      "b5aa6e45-dc51-4eab-bea1-4aca18a007f0": {
       "attrs": {
        "height": 0.8,
        "width": 0.8,
        "x": 0.1,
        "y": 0.1
       },
       "content": {
        "cell": "18e7b20c-d558-40b7-a33a-154ae9d3c0ec",
        "part": "whole"
       },
       "id": "b5aa6e45-dc51-4eab-bea1-4aca18a007f0"
      }
     }
    },
    "b12bdcdb-501d-4c38-9657-f850ba86faae": {
     "id": "b12bdcdb-501d-4c38-9657-f850ba86faae",
     "prev": "40e972e5-73d1-462a-9d6f-5c3e54dc87de",
     "regions": {
      "650d36df-2a17-4929-b7ec-8b7f713caedd": {
       "attrs": {
        "height": 0.8,
        "width": 0.8,
        "x": 0.1,
        "y": 0.1
       },
       "content": {
        "cell": "37111a2b-12ce-4e75-8f8b-8e25c5f372af",
        "part": "whole"
       },
       "id": "650d36df-2a17-4929-b7ec-8b7f713caedd"
      }
     }
    },
    "b4d83d89-b0a2-4847-9203-9136071ca2fc": {
     "id": "b4d83d89-b0a2-4847-9203-9136071ca2fc",
     "prev": "b12bdcdb-501d-4c38-9657-f850ba86faae",
     "regions": {
      "16021b1a-3fcd-4e7f-80e6-ace35f4e0388": {
       "attrs": {
        "height": 0.4,
        "width": 0.8,
        "x": 0.1,
        "y": 0.5
       },
       "content": {
        "cell": "a9fbb70d-4e7c-4f91-aa77-9e61d18941a1",
        "part": "whole"
       },
       "id": "16021b1a-3fcd-4e7f-80e6-ace35f4e0388"
      },
      "717b4ca5-f961-482e-97eb-7237941dd939": {
       "attrs": {
        "height": 0.8,
        "width": 0.8,
        "x": 0.1,
        "y": 0.1
       },
       "content": {
        "cell": "396afa77-a976-4656-bfc0-838e8884ee34",
        "part": "whole"
       },
       "id": "717b4ca5-f961-482e-97eb-7237941dd939"
      }
     }
    },
    "b8119acb-c172-430d-b5fc-db61731ce23f": {
     "id": "b8119acb-c172-430d-b5fc-db61731ce23f",
     "prev": "7311fe87-b148-4907-a5cc-d8fdc5ab1da4",
     "regions": {
      "ae9c25e1-db7b-445b-9375-92caf79137a0": {
       "attrs": {
        "height": 0.8,
        "width": 0.8,
        "x": 0.1,
        "y": 0.1
       },
       "content": {
        "cell": "b898ac57-83d2-495c-afaf-e484c00f4f0a",
        "part": "whole"
       },
       "id": "ae9c25e1-db7b-445b-9375-92caf79137a0"
      }
     }
    },
    "b8543e66-4eb5-4a5f-9d0b-b1783b466eea": {
     "id": "b8543e66-4eb5-4a5f-9d0b-b1783b466eea",
     "prev": "9379c556-2c96-4d59-be7a-6c8083e9a259",
     "regions": {
      "f4d4a884-498d-43c2-9d18-ad4725ae5162": {
       "attrs": {
        "height": 0.8,
        "width": 0.8,
        "x": 0.1,
        "y": 0.1
       },
       "content": {
        "cell": "8ecad3dd-b551-4e6d-a4f7-d2dc4f1b14fe",
        "part": "whole"
       },
       "id": "f4d4a884-498d-43c2-9d18-ad4725ae5162"
      }
     }
    },
    "b8a593fe-d837-404a-9a92-ed57b6379651": {
     "id": "b8a593fe-d837-404a-9a92-ed57b6379651",
     "prev": "e2ee91ac-6685-41a7-917b-e5208605b92e",
     "regions": {
      "2e927a7d-aab3-4db4-a634-5c1e4aad19e8": {
       "attrs": {
        "height": 0.8,
        "width": 0.8,
        "x": 0.1,
        "y": 0.1
       },
       "content": {
        "cell": "e6d027fe-e642-47d8-8f6f-243cd9cd27b8",
        "part": "whole"
       },
       "id": "2e927a7d-aab3-4db4-a634-5c1e4aad19e8"
      },
      "904c24d9-2985-4343-bbd8-ebab77d5d0ad": {
       "attrs": {
        "height": 0.4,
        "width": 0.8,
        "x": 0.1,
        "y": 0.5
       },
       "content": {
        "cell": "49555298-9bfd-4520-b32e-c60ae60f62f2",
        "part": "whole"
       },
       "id": "904c24d9-2985-4343-bbd8-ebab77d5d0ad"
      }
     }
    },
    "bac508b8-0f65-4c88-a014-0cb3f4179b06": {
     "id": "bac508b8-0f65-4c88-a014-0cb3f4179b06",
     "prev": "cb5ee7c9-b9ec-4102-9eb8-d9c002df5074",
     "regions": {
      "2d1d57df-df13-42ae-a308-fcd8c6e98db7": {
       "attrs": {
        "height": 0.8,
        "width": 0.8,
        "x": 0.1,
        "y": 0.1
       },
       "content": {
        "cell": "db5929e4-d8ee-4e7d-8428-e2577467950e",
        "part": "whole"
       },
       "id": "2d1d57df-df13-42ae-a308-fcd8c6e98db7"
      }
     }
    },
    "bee36a97-45b9-4624-9f0e-349e13a67343": {
     "id": "bee36a97-45b9-4624-9f0e-349e13a67343",
     "prev": "bac508b8-0f65-4c88-a014-0cb3f4179b06",
     "regions": {
      "52e42663-2456-4686-afd9-3c96998b26ef": {
       "attrs": {
        "height": 0.8,
        "width": 0.8,
        "x": 0.1,
        "y": 0.1
       },
       "content": {
        "cell": "480b88de-9b43-4207-a9e8-ee9d900eedb2",
        "part": "whole"
       },
       "id": "52e42663-2456-4686-afd9-3c96998b26ef"
      }
     }
    },
    "c453bb5b-5abc-4318-945e-7d4ef085ae62": {
     "id": "c453bb5b-5abc-4318-945e-7d4ef085ae62",
     "prev": "bee36a97-45b9-4624-9f0e-349e13a67343",
     "regions": {
      "fd2a5eb4-9eef-4964-9b67-aa6a03a6a900": {
       "attrs": {
        "height": 0.8,
        "width": 0.8,
        "x": 0.1,
        "y": 0.1
       },
       "content": {
        "cell": "c773905a-2733-4003-bfc0-3f7e20624402",
        "part": "whole"
       },
       "id": "fd2a5eb4-9eef-4964-9b67-aa6a03a6a900"
      }
     }
    },
    "c8065de6-f555-4c14-8c61-cb62d2d02af7": {
     "id": "c8065de6-f555-4c14-8c61-cb62d2d02af7",
     "prev": "91b3efbb-8845-42b0-9531-4d87a7c0d093",
     "regions": {
      "1f3e01f5-0d44-4f3c-9f94-fb1165dbae63": {
       "attrs": {
        "height": 0.8,
        "width": 0.8,
        "x": 0.1,
        "y": 0.1
       },
       "content": {
        "cell": "f2d97d89-5d4c-478a-a180-23fe11d6f6a7",
        "part": "whole"
       },
       "id": "1f3e01f5-0d44-4f3c-9f94-fb1165dbae63"
      }
     }
    },
    "c8f25110-b889-423e-ba5b-5f8befeb2777": {
     "id": "c8f25110-b889-423e-ba5b-5f8befeb2777",
     "prev": "e001d1a5-b017-4132-b4bf-4b126e062a38",
     "regions": {
      "39e5094f-a94e-4452-a5b8-2070892495a6": {
       "attrs": {
        "height": 0.8,
        "width": 0.8,
        "x": 0.1,
        "y": 0.1
       },
       "content": {
        "cell": "f36bb11e-2bd7-4e53-b0a9-d15ab44f3ae6",
        "part": "whole"
       },
       "id": "39e5094f-a94e-4452-a5b8-2070892495a6"
      },
      "a9718794-069b-4aed-85a9-a9ff0103fc7b": {
       "attrs": {
        "height": 0.4,
        "width": 0.8,
        "x": 0.1,
        "y": 0.5
       },
       "content": {
        "cell": "d624f631-f973-42e3-9bd7-0ade24e9a0b9",
        "part": "whole"
       },
       "id": "a9718794-069b-4aed-85a9-a9ff0103fc7b"
      }
     }
    },
    "cb5ee7c9-b9ec-4102-9eb8-d9c002df5074": {
     "id": "cb5ee7c9-b9ec-4102-9eb8-d9c002df5074",
     "prev": "1bcfbbae-fb98-4623-9e1c-61610c41b063",
     "regions": {
      "59cb81a2-6f19-49e5-aa14-957a0f84e3e5": {
       "attrs": {
        "height": 0.8,
        "width": 0.8,
        "x": 0.1,
        "y": 0.1
       },
       "content": {
        "cell": "6d0b6b6f-a874-494d-8106-4c40cbcbc6c9",
        "part": "whole"
       },
       "id": "59cb81a2-6f19-49e5-aa14-957a0f84e3e5"
      }
     }
    },
    "cdb33907-735a-4941-a114-7717d4f0b75b": {
     "id": "cdb33907-735a-4941-a114-7717d4f0b75b",
     "prev": "389774db-36dd-4eaf-9df6-97c45009e8bd",
     "regions": {
      "a1db3b2c-ef7e-4a90-b3f5-30a92f4ad288": {
       "attrs": {
        "height": 0.8,
        "width": 0.8,
        "x": 0.1,
        "y": 0.1
       },
       "content": {
        "cell": "0a215ad3-2767-4599-a008-f8f9fe0233f2",
        "part": "whole"
       },
       "id": "a1db3b2c-ef7e-4a90-b3f5-30a92f4ad288"
      }
     }
    },
    "d3a026b5-0010-4eea-b98d-1c22c05706bb": {
     "id": "d3a026b5-0010-4eea-b98d-1c22c05706bb",
     "prev": "646ab546-edab-4031-8ad1-aa96c6cf3587",
     "regions": {
      "8271fb04-37c0-4f04-b049-52625b6b241b": {
       "attrs": {
        "height": 0.4,
        "width": 0.8,
        "x": 0.1,
        "y": 0.5
       },
       "content": {
        "cell": "7e3830eb-9b3f-4038-9b12-3ab062ddcc77",
        "part": "whole"
       },
       "id": "8271fb04-37c0-4f04-b049-52625b6b241b"
      },
      "8713cb01-40be-42d7-8b3d-e0c6ace7050f": {
       "attrs": {
        "height": 0.8,
        "width": 0.8,
        "x": 0.1,
        "y": 0.1
       },
       "content": {
        "cell": "cfd7101c-f182-4a3a-be5c-516fbc806c1e",
        "part": "whole"
       },
       "id": "8713cb01-40be-42d7-8b3d-e0c6ace7050f"
      }
     }
    },
    "d51dbcb3-4675-4ae8-9f49-27c2e8f45942": {
     "id": "d51dbcb3-4675-4ae8-9f49-27c2e8f45942",
     "prev": "7f9f3f99-646e-45f2-b46d-104afb3daa6c",
     "regions": {
      "c3a9b635-bb91-4541-a932-4fc435d8ab7d": {
       "attrs": {
        "height": 0.8,
        "width": 0.8,
        "x": 0.1,
        "y": 0.1
       },
       "content": {
        "cell": "fbe00784-97d6-40c7-9958-3b5ccbf5ef33",
        "part": "whole"
       },
       "id": "c3a9b635-bb91-4541-a932-4fc435d8ab7d"
      }
     }
    },
    "d96c4385-613b-430a-beb4-e8342990642d": {
     "id": "d96c4385-613b-430a-beb4-e8342990642d",
     "prev": "29b18b00-1f17-4a54-a692-55c0cd416f72",
     "regions": {
      "a010ce6f-e047-44f9-b91e-c0a4f9aadc86": {
       "attrs": {
        "height": 0.8,
        "width": 0.8,
        "x": 0.1,
        "y": 0.1
       },
       "content": {
        "cell": "32903955-1676-4a3d-9010-91218e34499e",
        "part": "whole"
       },
       "id": "a010ce6f-e047-44f9-b91e-c0a4f9aadc86"
      }
     }
    },
    "db34b9c1-8486-48ff-81d4-6ab1a39dfd55": {
     "id": "db34b9c1-8486-48ff-81d4-6ab1a39dfd55",
     "prev": "68fc905d-7577-432b-b68f-70c945255951",
     "regions": {
      "e3fb4bd6-f13a-4f9f-ac2d-0269be62cdb7": {
       "attrs": {
        "height": 0.8,
        "width": 0.8,
        "x": 0.1,
        "y": 0.1
       },
       "content": {
        "cell": "e75a4c71-14ef-47b5-b8f9-2d4abb50f0b7",
        "part": "whole"
       },
       "id": "e3fb4bd6-f13a-4f9f-ac2d-0269be62cdb7"
      }
     }
    },
    "dd4e0eaf-05cc-473c-b921-4adc12a4edf6": {
     "id": "dd4e0eaf-05cc-473c-b921-4adc12a4edf6",
     "prev": "526556c0-f374-4613-83fa-73796a146b0d",
     "regions": {
      "651b1340-fc87-43f8-9565-1f50e097ff31": {
       "attrs": {
        "height": 0.8,
        "width": 0.8,
        "x": 0.1,
        "y": 0.1
       },
       "content": {
        "cell": "96b25b22-646e-4f03-b7bf-0ca74237f549",
        "part": "whole"
       },
       "id": "651b1340-fc87-43f8-9565-1f50e097ff31"
      }
     }
    },
    "dd69e544-2ee8-43df-8ac4-891c2965464b": {
     "id": "dd69e544-2ee8-43df-8ac4-891c2965464b",
     "prev": "511ad508-2a5b-4c34-94ec-1fe1ad877546",
     "regions": {
      "f28aa825-fbba-4718-8be4-e8fe409b5e68": {
       "attrs": {
        "height": 0.8,
        "width": 0.8,
        "x": 0.1,
        "y": 0.1
       },
       "content": {
        "cell": "500ea757-adb6-4f48-918e-250c60a87d38",
        "part": "whole"
       },
       "id": "f28aa825-fbba-4718-8be4-e8fe409b5e68"
      }
     }
    },
    "ddf75f89-442c-4847-886e-cdaa7cfa62a7": {
     "id": "ddf75f89-442c-4847-886e-cdaa7cfa62a7",
     "prev": "2103e7d8-3faf-4306-b21e-f4e95ef12d03",
     "regions": {
      "a1e5b238-57a7-4644-a0c5-da380c62175e": {
       "attrs": {
        "height": 0.8,
        "width": 0.8,
        "x": 0.1,
        "y": 0.1
       },
       "content": {
        "cell": "5a639fab-9cc1-4dd2-9a5f-a48d8905472e",
        "part": "whole"
       },
       "id": "a1e5b238-57a7-4644-a0c5-da380c62175e"
      }
     }
    },
    "e001d1a5-b017-4132-b4bf-4b126e062a38": {
     "id": "e001d1a5-b017-4132-b4bf-4b126e062a38",
     "prev": "357bf776-f5c1-48ee-9e3a-f6339436f602",
     "regions": {
      "a90118fe-f84e-407c-ac83-ff526b5f3866": {
       "attrs": {
        "height": 0.8,
        "width": 0.8,
        "x": 0.1,
        "y": 0.1
       },
       "content": {
        "cell": "c502781b-a7d0-454a-a083-043b76a9dda7",
        "part": "whole"
       },
       "id": "a90118fe-f84e-407c-ac83-ff526b5f3866"
      }
     }
    },
    "e2ee91ac-6685-41a7-917b-e5208605b92e": {
     "id": "e2ee91ac-6685-41a7-917b-e5208605b92e",
     "prev": "91015590-1d95-445d-b935-a662fedbd4a6",
     "regions": {
      "e3a990dd-e567-45d3-bf66-9e0ab89781bc": {
       "attrs": {
        "height": 0.8,
        "width": 0.8,
        "x": 0.1,
        "y": 0.1
       },
       "content": {
        "cell": "e321209d-9877-42a7-8144-ec817e72728a",
        "part": "whole"
       },
       "id": "e3a990dd-e567-45d3-bf66-9e0ab89781bc"
      }
     }
    },
    "ec9c824e-2952-4e83-9216-860f44eed86b": {
     "id": "ec9c824e-2952-4e83-9216-860f44eed86b",
     "prev": "f04cd67c-7bbd-4e67-83f4-87c686995bdf",
     "regions": {
      "660cbcf8-708b-49e1-908d-3e1da472c20f": {
       "attrs": {
        "height": 0.8,
        "width": 0.8,
        "x": 0.1,
        "y": 0.1
       },
       "content": {
        "cell": "f773c535-4ce7-47ef-9050-40c73d464193",
        "part": "whole"
       },
       "id": "660cbcf8-708b-49e1-908d-3e1da472c20f"
      },
      "b9931e8d-3f5a-48e2-868a-1d8a83220265": {
       "attrs": {
        "height": 0.4,
        "width": 0.8,
        "x": 0.1,
        "y": 0.5
       },
       "content": {
        "cell": "f7b9ee78-c173-4ad3-9ae9-4aa3384cbc86",
        "part": "whole"
       },
       "id": "b9931e8d-3f5a-48e2-868a-1d8a83220265"
      }
     }
    },
    "f04cd67c-7bbd-4e67-83f4-87c686995bdf": {
     "id": "f04cd67c-7bbd-4e67-83f4-87c686995bdf",
     "prev": "f8d57e4c-c6fa-4621-8867-961906f5176f",
     "regions": {
      "1fe8bfc9-ff2a-417a-904e-6cced0564541": {
       "attrs": {
        "height": 0.4,
        "width": 0.8,
        "x": 0.1,
        "y": 0.5
       },
       "content": {
        "cell": "4195da64-87e9-4e34-bd17-2ffeb981cdb7",
        "part": "whole"
       },
       "id": "1fe8bfc9-ff2a-417a-904e-6cced0564541"
      },
      "62b23723-ff92-4dc8-887c-cfa5dd0b650e": {
       "attrs": {
        "height": 0.8,
        "width": 0.8,
        "x": 0.1,
        "y": 0.1
       },
       "content": {
        "cell": "8e15ab2c-be59-4fd5-833c-10d66f4461ff",
        "part": "whole"
       },
       "id": "62b23723-ff92-4dc8-887c-cfa5dd0b650e"
      }
     }
    },
    "f17499d9-88d3-4814-807a-1a637f3e9bb8": {
     "id": "f17499d9-88d3-4814-807a-1a637f3e9bb8",
     "prev": "f728760f-77ae-4919-8f4e-27a4fa43e261",
     "regions": {
      "cbbfb1d4-b3da-45a0-8513-0d150859da48": {
       "attrs": {
        "height": 0.8,
        "width": 0.8,
        "x": 0.1,
        "y": 0.1
       },
       "content": {
        "cell": "4d438fb2-16b7-4f6a-8738-7d0122f14c80",
        "part": "whole"
       },
       "id": "cbbfb1d4-b3da-45a0-8513-0d150859da48"
      }
     }
    },
    "f5fbdfe8-4352-4d87-a332-739f459703af": {
     "id": "f5fbdfe8-4352-4d87-a332-739f459703af",
     "prev": "1b32dcb5-c181-45a9-96a8-3d61b390524d",
     "regions": {
      "f6a5c8fe-c90e-46ca-99bf-641f437cdaa4": {
       "attrs": {
        "height": 0.8,
        "width": 0.8,
        "x": 0.1,
        "y": 0.1
       },
       "content": {
        "cell": "d69a7f82-516c-4d5d-9d79-b11a3757b874",
        "part": "whole"
       },
       "id": "f6a5c8fe-c90e-46ca-99bf-641f437cdaa4"
      }
     }
    },
    "f728760f-77ae-4919-8f4e-27a4fa43e261": {
     "id": "f728760f-77ae-4919-8f4e-27a4fa43e261",
     "prev": "8b03883a-0a65-4cfa-bc9f-f91ec590e880",
     "regions": {
      "66ec3ae1-53f1-418d-bab3-8e1191c08a2e": {
       "attrs": {
        "height": 0.8,
        "width": 0.8,
        "x": 0.1,
        "y": 0.1
       },
       "content": {
        "cell": "e390ba64-3bdf-42fb-bd7e-d8b771be356a",
        "part": "whole"
       },
       "id": "66ec3ae1-53f1-418d-bab3-8e1191c08a2e"
      },
      "b7fb0404-4e5f-4ba1-92bf-59f571068111": {
       "attrs": {
        "height": 0.4,
        "width": 0.8,
        "x": 0.1,
        "y": 0.5
       },
       "content": {
        "cell": "e59e98c6-2427-4d83-b04a-06549cb808af",
        "part": "whole"
       },
       "id": "b7fb0404-4e5f-4ba1-92bf-59f571068111"
      }
     }
    },
    "f84c9d06-f0c2-4cb2-9766-ef948dbd4477": {
     "id": "f84c9d06-f0c2-4cb2-9766-ef948dbd4477",
     "prev": "c8f25110-b889-423e-ba5b-5f8befeb2777",
     "regions": {
      "2e058be4-c4b4-4ca2-ba39-a57439e064cb": {
       "attrs": {
        "height": 0.8,
        "width": 0.8,
        "x": 0.1,
        "y": 0.1
       },
       "content": {
        "cell": "655c3052-dd92-43b8-8dc2-a37c50ddbfc5",
        "part": "whole"
       },
       "id": "2e058be4-c4b4-4ca2-ba39-a57439e064cb"
      }
     }
    },
    "f8d57e4c-c6fa-4621-8867-961906f5176f": {
     "id": "f8d57e4c-c6fa-4621-8867-961906f5176f",
     "prev": "a6e87a7b-3d94-49ab-a291-dbcaae7019f1",
     "regions": {
      "6897c182-39c5-4f6e-82e3-352fe9cad4ee": {
       "attrs": {
        "height": 0.8,
        "width": 0.8,
        "x": 0.1,
        "y": 0.1
       },
       "content": {
        "cell": "6609881b-85d4-4522-94c3-9f0d151a27d2",
        "part": "whole"
       },
       "id": "6897c182-39c5-4f6e-82e3-352fe9cad4ee"
      }
     }
    },
    "fa61e99c-d8c5-4238-ac40-d8e5512c9ce7": {
     "id": "fa61e99c-d8c5-4238-ac40-d8e5512c9ce7",
     "prev": "868e85ff-bef9-438b-af3b-eb6c8046eda7",
     "regions": {
      "90c4c9c1-6589-45aa-9539-c7f017f05040": {
       "attrs": {
        "height": 0.8,
        "width": 0.8,
        "x": 0.1,
        "y": 0.1
       },
       "content": {
        "cell": "9e531ed3-591c-4ce5-a61c-9ecc66e2afbe",
        "part": "whole"
       },
       "id": "90c4c9c1-6589-45aa-9539-c7f017f05040"
      },
      "c8049379-922f-4920-afa8-b43cc772f034": {
       "attrs": {
        "height": 0.4,
        "width": 0.8,
        "x": 0.1,
        "y": 0.5
       },
       "content": {
        "cell": "7631c399-81d8-4319-b32c-87e89a61112b",
        "part": "whole"
       },
       "id": "c8049379-922f-4920-afa8-b43cc772f034"
      }
     }
    }
   },
   "themes": {
    "default": "c411e6c9-b092-4e17-9dd5-47da8a2fed94",
    "theme": {
     "5323eaf8-c0d8-4d63-8f9e-12f80a8aee63": {
      "id": "5323eaf8-c0d8-4d63-8f9e-12f80a8aee63",
      "palette": {
       "19cc588f-0593-49c9-9f4b-e4d7cc113b1c": {
        "id": "19cc588f-0593-49c9-9f4b-e4d7cc113b1c",
        "rgb": [
         252,
         252,
         252
        ]
       },
       "31af15d2-7e15-44c5-ab5e-e04b16a89eff": {
        "id": "31af15d2-7e15-44c5-ab5e-e04b16a89eff",
        "rgb": [
         68,
         68,
         68
        ]
       },
       "50f92c45-a630-455b-aec3-788680ec7410": {
        "id": "50f92c45-a630-455b-aec3-788680ec7410",
        "rgb": [
         155,
         177,
         192
        ]
       },
       "c5cc3653-2ee1-402a-aba2-7caae1da4f6c": {
        "id": "c5cc3653-2ee1-402a-aba2-7caae1da4f6c",
        "rgb": [
         43,
         126,
         184
        ]
       },
       "efa7f048-9acb-414c-8b04-a26811511a21": {
        "id": "efa7f048-9acb-414c-8b04-a26811511a21",
        "rgb": [
         25.118061674008803,
         73.60176211453744,
         107.4819383259912
        ]
       }
      },
      "rules": {
       "blockquote": {
        "color": "50f92c45-a630-455b-aec3-788680ec7410"
       },
       "code": {
        "font-family": "Anonymous Pro"
       },
       "h1": {
        "color": "c5cc3653-2ee1-402a-aba2-7caae1da4f6c",
        "font-family": "Lato",
        "font-size": 8
       },
       "h2": {
        "color": "c5cc3653-2ee1-402a-aba2-7caae1da4f6c",
        "font-family": "Lato",
        "font-size": 6
       },
       "h3": {
        "color": "50f92c45-a630-455b-aec3-788680ec7410",
        "font-family": "Lato",
        "font-size": 5.5
       },
       "h4": {
        "color": "c5cc3653-2ee1-402a-aba2-7caae1da4f6c",
        "font-family": "Lato",
        "font-size": 5
       },
       "h5": {
        "font-family": "Lato"
       },
       "h6": {
        "font-family": "Lato"
       },
       "h7": {
        "font-family": "Lato"
       },
       "pre": {
        "font-family": "Anonymous Pro",
        "font-size": 4
       }
      },
      "text-base": {
       "font-family": "Merriweather",
       "font-size": 4
      }
     }
    }
   }
  }
 },
 "nbformat": 4,
 "nbformat_minor": 1
}
